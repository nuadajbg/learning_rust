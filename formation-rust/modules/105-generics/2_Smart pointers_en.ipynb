{
 "cells": [
  {
   "cell_type": "markdown",
   "metadata": {},
   "source": [
    "# Smart pointers"
   ]
  },
  {
   "cell_type": "markdown",
   "metadata": {},
   "source": [
    "A pointer is a general concept for a variable that contains an address in memory. This address refers to, or “points at,” some other data. The most common kind of pointer in Rust is a *reference*. \n",
    "\n",
    "**Smart pointers**, on the other hand, are data structures that not only act like a pointer but also have additional metadata and capabilities. References are pointers that only borrow data; in contrast, in many cases, smart pointers own the data they point to. Strings and vectors are exmples of smart pointers. "
   ]
  },
  {
   "cell_type": "markdown",
   "metadata": {},
   "source": [
    "Smart pointers are usually implemented using structs. The characteristic that distinguishes a smart pointer from an ordinary struct is that smart pointers implement the **`Deref`** and **`Drop`** traits. "
   ]
  },
  {
   "cell_type": "markdown",
   "metadata": {},
   "source": [
    "Many libraries have their own smart pointers, and you can even write your own. The most common smart pointers in the standard library are:\n",
    "\n",
    "\n",
    "* `Box<T>` for allocating values on the heap\n",
    "* `Rc<T>`, a reference counting type that enables multiple ownership\n",
    "* `Ref<T>` and `RefMut<T>`, accessed through `RefCell<T>`, a type that enforces the borrowing rules at runtime instead of compile time\n"
   ]
  },
  {
   "cell_type": "markdown",
   "metadata": {},
   "source": [
    "## `Box<T>`"
   ]
  },
  {
   "cell_type": "markdown",
   "metadata": {},
   "source": [
    "Boxes allow you to store data on the heap rather than the stack. What remains on the stack is the pointer to the heap data. \n",
    "\n",
    "You’ll use them most often in these situations:\n",
    "\n",
    " *   When you have a type whose size can’t be known at compile time and you want to use a value of that type in a context that requires an exact size\n",
    " *   When you have a large amount of data and you want to transfer ownership but ensure the data won’t be copied when you do so\n",
    " *   When you want to own a value and you care only that it’s a type that implements a particular trait rather than being of a specific type\n"
   ]
  },
  {
   "cell_type": "code",
   "execution_count": null,
   "metadata": {},
   "outputs": [],
   "source": [
    "fn main() {\n",
    "    let b = Box::new(5); // store an i32 value on the heap\n",
    "    println!(\"b = {}\", b);\n",
    "} // box is deallocated here, because it becomes out of scope"
   ]
  },
  {
   "cell_type": "markdown",
   "metadata": {},
   "source": [
    "At compile time, Rust needs to know how much space a type takes up. One type whose size can’t be known at compile time is a recursive type, where a value can have as part of itself another value of the same type. Because this nesting of values could theoretically continue infinitely, Rust doesn’t know how much space a value of a recursive type needs. However, boxes have a known size, so by inserting a box in a recursive type definition, you can have recursive types."
   ]
  },
  {
   "cell_type": "markdown",
   "metadata": {},
   "source": [
    "__The *cons list* data type__\n",
    "\n",
    "Each item in a **cons list** contains two elements: the value of the current item and the next item. The last item in the list contains only a value called Nil without a next item. A cons list is produced by recursively calling the cons function. "
   ]
  },
  {
   "cell_type": "markdown",
   "metadata": {},
   "source": [
    "```rust\n",
    "// Wrong example of a recursive List definition because the size would be infinite\n",
    "enum List {\n",
    "    Cons(i32, List),\n",
    "    Nil,\n",
    "}\n",
    "```"
   ]
  },
  {
   "cell_type": "code",
   "execution_count": null,
   "metadata": {},
   "outputs": [],
   "source": [
    "enum List {\n",
    "    Cons(i32, Box<List>), // the size of an i32 plus the space to store the box’s pointer data\n",
    "    Nil,\n",
    "}\n",
    "\n",
    "use crate::List::{Cons, Nil};\n",
    "\n",
    "fn main() {\n",
    "    let list = Cons(1,\n",
    "        Box::new(Cons(2,\n",
    "            Box::new(Cons(3,\n",
    "                Box::new(Nil))))));\n",
    "}"
   ]
  },
  {
   "cell_type": "markdown",
   "metadata": {},
   "source": [
    "___Treating smart pointers like regular references with the Deref trait___"
   ]
  },
  {
   "cell_type": "code",
   "execution_count": null,
   "metadata": {},
   "outputs": [],
   "source": [
    "fn main() {\n",
    "    let x = 5;\n",
    "    let y = &x;\n",
    "\n",
    "    println!(\"x = {}\", x);\n",
    "    println!(\"y points to the value: {}\", *y);\n",
    "}\n",
    "main();"
   ]
  },
  {
   "cell_type": "code",
   "execution_count": null,
   "metadata": {},
   "outputs": [],
   "source": [
    "fn main() {\n",
    "    let x = 5;\n",
    "    let y = Box::new(x); // using Box <T> like a reference\n",
    "\n",
    "    println!(\"x = {}\", x);\n",
    "    println!(\"y points to the value: {}\", *y); // it works because Box implements the Deref trait\n",
    "}\n",
    "main();"
   ]
  },
  {
   "cell_type": "markdown",
   "metadata": {},
   "source": [
    "Define your smart pointer\n",
    "---"
   ]
  },
  {
   "cell_type": "code",
   "execution_count": null,
   "metadata": {},
   "outputs": [],
   "source": [
    "use std::ops::Deref;\n",
    "\n",
    "fn main() {\n",
    "    // The MyBox type is a tuple struct with one element of type T\n",
    "    struct MyBox<T>(T); // can hold values of any type\n",
    "\n",
    "    impl<T> MyBox<T> {\n",
    "        fn new(x: T) -> MyBox<T> {\n",
    "            MyBox(x)\n",
    "        }\n",
    "    }\n",
    "\n",
    "    impl<T> Deref for MyBox<T> {\n",
    "        type Target = T;  // defines an associated type for the Deref trait to use\n",
    "\n",
    "        fn deref(&self) -> &T {\n",
    "            &self.0\n",
    "        }\n",
    "    }\n",
    "    let x = 5;\n",
    "    let y = MyBox::new(x);\n",
    "\n",
    "    println!(\"x = {}\", x);\n",
    "    println!(\"y points to the value: {}\", *y); // Rust runs the code: *(y.deref())\n",
    "}\n",
    "main();"
   ]
  },
  {
   "cell_type": "markdown",
   "metadata": {},
   "source": [
    "Without the `Deref` trait, the compiler can only dereference `&` references. The `deref` method gives the compiler the ability to take a value of any type that implements `Deref` and call the `deref` method to get a `&` reference that it knows how to dereference."
   ]
  },
  {
   "cell_type": "markdown",
   "metadata": {},
   "source": [
    "___Implicit Deref coercions with functions and methods___"
   ]
  },
  {
   "cell_type": "markdown",
   "metadata": {},
   "source": [
    "***`Deref` coercion** is a convenience that Rust performs on arguments to functions and methods. `Deref` coercion converts a reference to a type that implements `Deref` into a reference to a type that `Deref` can convert the original type into. `Deref` coercion happens automatically when we pass a reference to a particular type’s value as an argument to a function or method that doesn’t match the parameter type in the function or method definition. A sequence of calls to the `deref` method converts the type we provided into the type the parameter needs."
   ]
  },
  {
   "cell_type": "code",
   "execution_count": null,
   "metadata": {},
   "outputs": [],
   "source": [
    "use std::ops::Deref;\n",
    "\n",
    "fn hello(name: &str) {\n",
    "    println!(\"Hello, {}!\", name);\n",
    "}\n",
    "\n",
    "fn main() {\n",
    "    struct MyBox<T>(T);\n",
    "\n",
    "    impl<T> MyBox<T> {\n",
    "        fn new(x: T) -> MyBox<T> {\n",
    "            MyBox(x)\n",
    "        }\n",
    "    }\n",
    "\n",
    "    impl<T> Deref for MyBox<T> {\n",
    "        type Target = T;\n",
    "\n",
    "        fn deref(&self) -> &T {\n",
    "            &self.0\n",
    "        }\n",
    "    }\n",
    "    let m = MyBox::new(String::from(\"Rust\"));\n",
    "    hello(&m); // otherwise, we should write: hello(&(*m)[..]);\n",
    "}\n",
    "main();"
   ]
  },
  {
   "cell_type": "markdown",
   "metadata": {},
   "source": [
    "Here we’re calling the `hello` function with the argument `&m`, which is a reference to a `MyBox<String>` value. Because we implemented the `Deref` trait on `MyBox<T>`, Rust can turn `&MyBox<String>` into `&String` by calling `deref`. The standard library provides an implementation of `Deref` on `String` that returns a string slice. Rust calls `deref` again to turn the `&String` into `&str`, which matches the `hello` function’s definition."
   ]
  },
  {
   "cell_type": "markdown",
   "metadata": {},
   "source": [
    "Rust does deref coercion when it finds types and trait implementations in three cases:\n",
    "\n",
    " *   From `&T` to `&U` when `T: Deref<Target=U>`\n",
    " *   From `&mut T` to `&mut U` when `T: DerefMut<Target=U>`\n",
    " *   From `&mut T` to `&U` when `T: Deref<Target=U>`\n"
   ]
  },
  {
   "cell_type": "markdown",
   "metadata": {},
   "source": [
    "Rust will also coerce a mutable reference to an immutable one. But the reverse is not possible: immutable references will never coerce to mutable references. "
   ]
  },
  {
   "cell_type": "code",
   "execution_count": null,
   "metadata": {},
   "outputs": [],
   "source": [
    "use std::ops::Deref;\n",
    "use std::fmt::Debug;\n",
    "\n",
    "fn hello(name: &str) {\n",
    "    println!(\"Hello, {}!\", name);\n",
    "}\n",
    "\n",
    "fn main() {\n",
    "    struct MyBox<T: Debug>(T);\n",
    "\n",
    "    impl<T> MyBox<T> \n",
    "    where T: Debug {\n",
    "        fn new(x: T) -> MyBox<T> {\n",
    "            MyBox(x)\n",
    "        }\n",
    "    }\n",
    "\n",
    "    impl<T> Deref for MyBox<T> \n",
    "    where T: Debug {\n",
    "        type Target = T;\n",
    "\n",
    "        fn deref(&self) -> &T {\n",
    "            &self.0\n",
    "        }\n",
    "    }\n",
    "\n",
    "    impl<T> Drop for MyBox<T> \n",
    "    where T: Debug {\n",
    "        fn drop(&mut self) {\n",
    "            println!(\"Dropping pointer with data `{:?}`!\", self.0);\n",
    "        }\n",
    "    }\n",
    "    let m = MyBox::new(String::from(\"Rust\"));\n",
    "    hello(&m);\n",
    "}\n",
    "main();"
   ]
  },
  {
   "cell_type": "markdown",
   "metadata": {},
   "source": [
    "## `Rc<T>`, the reference counted smart pointer"
   ]
  },
  {
   "cell_type": "markdown",
   "metadata": {},
   "source": [
    "In the majority of cases, ownership is clear: you know exactly which variable owns a given value. However, there are cases when a single value might have multiple owners. For example, in graph data structures, multiple edges might point to the same node, and that node is conceptually owned by all of the edges that point to it. A node shouldn’t be cleaned up unless it doesn’t have any edges pointing to it.\n",
    "\n",
    "To enable multiple ownership, Rust has a type called `Rc<T>`, which is an abbreviation for *reference counting*. The `Rc<T>` type keeps track of the number of references to a value which determines whether or not a value is still in use. If there are zero references to a value, the value can be cleaned up without any references becoming invalid."
   ]
  },
  {
   "cell_type": "markdown",
   "metadata": {},
   "source": [
    "We use the **`Rc<T>`** type when we want to allocate some data on the heap for multiple parts of our program to read and we can’t determine at compile time which part will finish using the data last.\n",
    "Note that `Rc<T>` is only for use in single-threaded scenarios. \n",
    "\n",
    "Consider the example bellow:"
   ]
  },
  {
   "cell_type": "markdown",
   "metadata": {},
   "source": [
    "<img src=\"smartpointers-01.jpg\" width=\"350\" heigh=\"350\"/>"
   ]
  },
  {
   "cell_type": "code",
   "execution_count": null,
   "metadata": {},
   "outputs": [],
   "source": [
    "enum List {\n",
    "    Cons(i32, Rc<List>),\n",
    "    Nil,\n",
    "}\n",
    "\n",
    "use crate::List::{Cons, Nil};\n",
    "use std::rc::Rc;\n",
    "\n",
    "fn main() {\n",
    "    let a = Rc::new(Cons(5, Rc::new(Cons(10, Rc::new(Nil)))));\n",
    "    // increase the number of references from one to two and let a and b share ownership of the data in that Rc<List>\n",
    "    let b = Cons(3, Rc::clone(&a));\n",
    "    // increase the number of references to three\n",
    "    let c = Cons(4, Rc::clone(&a));\n",
    "}\n",
    "main();"
   ]
  },
  {
   "cell_type": "markdown",
   "metadata": {},
   "source": [
    "When we create b, instead of taking ownership of a, we’ll clone the `Rc<List>` that a is holding, thereby increasing the number of references from one to two and letting a and b share ownership of the data in that `Rc<List>`. We’ll also clone a when creating c, increasing the number of references from two to three. Every time we call `Rc::clone`, the reference count to the data within the `Rc<List>` will increase, and the data won’t be cleaned up unless there are zero references to it."
   ]
  },
  {
   "cell_type": "markdown",
   "metadata": {},
   "source": [
    "In the following example, we can see the reference counts changing as we create and drop references to the Rc<List> in a:"
   ]
  },
  {
   "cell_type": "code",
   "execution_count": null,
   "metadata": {},
   "outputs": [],
   "source": [
    "enum List {\n",
    "    Cons(i32, Rc<List>),\n",
    "    Nil,\n",
    "}\n",
    "\n",
    "use crate::List::{Cons, Nil};\n",
    "use std::rc::Rc;\n",
    "\n",
    "fn main() {\n",
    "    let a = Rc::new(Cons(5, Rc::new(Cons(10, Rc::new(Nil)))));\n",
    "    println!(\"count after creating a = {}\", Rc::strong_count(&a));\n",
    "    let b = Cons(3, Rc::clone(&a));\n",
    "    println!(\"count after creating b = {}\", Rc::strong_count(&a));\n",
    "    {   // inner scope around list c\n",
    "        let c = Cons(4, Rc::clone(&a));\n",
    "        println!(\"count after creating c = {}\", Rc::strong_count(&a));\n",
    "    }\n",
    "    println!(\"count after c goes out of scope = {}\", Rc::strong_count(&a));\n",
    "}\n",
    "main();"
   ]
  },
  {
   "cell_type": "markdown",
   "metadata": {},
   "source": [
    "## `RefCell<T>` and the Interior Mutability Pattern"
   ]
  },
  {
   "cell_type": "markdown",
   "metadata": {},
   "source": [
    "**Interior mutability** is a design pattern in Rust that allows you to *mutate data even when there are immutable references to that data*; normally, this action is disallowed by the borrowing rules. "
   ]
  },
  {
   "cell_type": "markdown",
   "metadata": {},
   "source": [
    "With references and `Box<T>`, the borrowing rules’ invariants are enforced at *compile time*. With `RefCell<T>`, these invariants are enforced at *runtime*. The `RefCell<T>` type is useful when you’re sure your code follows the borrowing rules but the compiler is unable to understand and guarantee that.\n",
    "`RefCell<T>` is only for use in single-threaded scenarios."
   ]
  },
  {
   "cell_type": "code",
   "execution_count": null,
   "metadata": {},
   "outputs": [],
   "source": [
    "use std::cell::RefCell;\n",
    "fn main() {   \n",
    "   let c = RefCell::new(5);\n",
    "   let m = c.borrow();\n",
    "   println!(\"{}\", *c.borrow());\n",
    "   // multiple immutable borrows are allowed\n",
    "   // a reference count is increased at each immutable borrow\n",
    "   let p = c.borrow();\n",
    "}\n",
    "main();"
   ]
  },
  {
   "cell_type": "code",
   "execution_count": null,
   "metadata": {},
   "outputs": [],
   "source": [
    "use std::cell::RefCell;\n",
    "fn main() {   \n",
    "   let c = RefCell::new(5);\n",
    "   // the reference count is set to 0 when mutably borrowed\n",
    "   let k = c.borrow_mut();\n",
    "   // only one mutable borrow allowed at any point in time\n",
    "   // next line would cause a panic\n",
    "   let l = c.borrow(); \n",
    "}\n",
    "main();"
   ]
  },
  {
   "cell_type": "code",
   "execution_count": null,
   "metadata": {
    "scrolled": true
   },
   "outputs": [],
   "source": [
    "fn main() {\n",
    "    let x = RefCell::new(vec![1,2,3,4]);\n",
    "\n",
    "    let v = x.borrow();\n",
    "    println!(\"{:?}\", *v);\n",
    "\n",
    "    let mut my_ref = x.borrow_mut(); // cannot borrow as mutable, the thread panics\n",
    "    my_ref.push(1);\n",
    "}\n",
    "main();"
   ]
  },
  {
   "cell_type": "markdown",
   "metadata": {},
   "source": [
    "With `RefCell<T>`, we use the **`borrow`** and **`borrow_mut`** methods, which are part of the safe API that belongs to `RefCell<T>`. The `borrow` method returns the smart pointer type **`Ref<T>`**, and `borrow_mut` returns the smart pointer type **`RefMut<T>`**. Both types implement `Deref`, so we can treat them like regular references.\n",
    "\n",
    "The `RefCell<T>` keeps track of how many `Ref<T>` and `RefMut<T>` smart pointers are currently active. Every time we call `borrow`, the `RefCell<T>` increases its count of how many immutable borrows are active. When a `Ref<T>` value goes out of scope, the count of immutable borrows goes down by one. Just like the compile-time borrowing rules, `RefCell<T>` lets us have many immutable borrows or one mutable borrow at any point in time."
   ]
  },
  {
   "cell_type": "markdown",
   "metadata": {},
   "source": [
    "**Exercise 1:** Which statement applies to which data type (Box, Rc, RefCell) ?\n",
    "* enables multiple owners of the same data\n",
    "* has single owner\n",
    "* allows immutable borrows checked at compile time\n",
    "* allows mutable borrows checked at compile time\n",
    "* allows immutable borrows checked at runtime\n",
    "* allows mutable borrows checked at runtime"
   ]
  },
  {
   "cell_type": "markdown",
   "metadata": {
    "hide_input": true
   },
   "source": [
    "**Solution:**"
   ]
  },
  {
   "cell_type": "markdown",
   "metadata": {
    "hide_input": true
   },
   "source": [
    "Here is a recap of the reasons to choose `Box<T>`, `Rc<T>`, or `RefCell<T>`:\n",
    "\n",
    "* `Rc<T>` enables multiple owners of the same data; `Box<T>` and `RefCell<T>` have single owners.\n",
    "* `Box<T>` allows immutable or mutable borrows checked at compile time; `Rc<T>` allows only immutable borrows checked at compile time; `RefCell<T>` allows immutable or mutable borrows checked at runtime.\n",
    "* Because `RefCell<T>` allows mutable borrows checked at runtime, you can mutate the value inside the `RefCell<T>` even when the `RefCell<T>` is immutable.\n"
   ]
  }
 ],
 "metadata": {
  "kernelspec": {
   "display_name": "Rust",
   "language": "rust",
   "name": "rust"
  },
  "language_info": {
   "codemirror_mode": "rust",
   "file_extension": ".rs",
   "mimetype": "text/rust",
   "name": "Rust",
   "pygment_lexer": "rust",
   "version": ""
  }
 },
 "nbformat": 4,
 "nbformat_minor": 2
}
