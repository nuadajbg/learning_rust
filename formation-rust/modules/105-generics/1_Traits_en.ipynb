{
 "cells": [
  {
   "cell_type": "markdown",
   "metadata": {},
   "source": [
    "# Traits"
   ]
  },
  {
   "cell_type": "markdown",
   "metadata": {},
   "source": [
    "A trait tells the Rust compiler about functionality a particular type has and can share with other types. We can use traits to define shared behavior in an abstract way. We can use trait bounds to specify that a generic can be any type that has certain behavior.  \n",
    "\n",
    "A type’s behavior consists of the methods we can call on that type. Different types share the same behavior if we can call the same methods on all of those types. Trait definitions are a way to group method signatures together to define a set of behaviors necessary to accomplish some purpose."
   ]
  },
  {
   "cell_type": "code",
   "execution_count": null,
   "metadata": {},
   "outputs": [],
   "source": [
    "trait Summary {\n",
    "    fn summarize(&self) -> String;\n",
    "}"
   ]
  },
  {
   "cell_type": "markdown",
   "metadata": {},
   "source": [
    "A trait can have multiple methods in its body: the method signatures are listed one per line and each line ends in a semicolon."
   ]
  },
  {
   "cell_type": "markdown",
   "metadata": {},
   "source": [
    "Implementing a trait on a type\n",
    "---"
   ]
  },
  {
   "cell_type": "code",
   "execution_count": null,
   "metadata": {},
   "outputs": [],
   "source": [
    "fn main() {\n",
    "    trait Summary {\n",
    "        fn summarize(&self) -> String;\n",
    "    }\n",
    "    \n",
    "    struct NewsArticle {\n",
    "        headline: String,\n",
    "        location: String,\n",
    "        author: String,\n",
    "        content: String,\n",
    "    }\n",
    "    \n",
    "    impl Summary for NewsArticle {\n",
    "        fn summarize(&self) -> String {\n",
    "            format!(\"{}, by {} ({})\", self.headline, self.author, self.location)\n",
    "        }\n",
    "    }\n",
    "    \n",
    "    struct Tweet {\n",
    "        username: String,\n",
    "        content: String,\n",
    "        reply: bool,\n",
    "        retweet: bool,\n",
    "    }\n",
    "    \n",
    "    impl Summary for Tweet {\n",
    "        fn summarize(&self) -> String {\n",
    "            format!(\"{}: {}\", self.username, self.content)\n",
    "        }\n",
    "    }\n",
    "\n",
    "    let tweet = Tweet {\n",
    "        username: String::from(\"horse_ebooks\"),\n",
    "        content: String::from(\"of course, as you probably already know, people\"),\n",
    "        reply: false,\n",
    "        retweet: false,\n",
    "    };\n",
    "\n",
    "    println!(\"1 new tweet: {}\", tweet.summarize());\n",
    "}\n",
    "main();"
   ]
  },
  {
   "cell_type": "markdown",
   "metadata": {},
   "source": [
    "One restriction to note with trait implementations is that we can implement a trait on a type only if either the trait or the type is local to our crate (package). This restriction is part of a property of programs called coherence, and more specifically the orphan rule, so named because the parent type is not present. This rule ensures that other people’s code can’t break your code and vice versa. Without the rule, two crates could implement the same trait for the same type, and Rust wouldn’t know which implementation to use."
   ]
  },
  {
   "cell_type": "markdown",
   "metadata": {},
   "source": [
    "Default implementations\n",
    "---"
   ]
  },
  {
   "cell_type": "markdown",
   "metadata": {},
   "source": [
    "Sometimes it’s useful to have default behavior for some or all of the methods in a trait instead of requiring implementations for all methods on every type. Then, as we implement the trait on a particular type, we can keep or override each method’s default behavior."
   ]
  },
  {
   "cell_type": "code",
   "execution_count": null,
   "metadata": {},
   "outputs": [],
   "source": [
    "fn main() {\n",
    "    trait Summary {\n",
    "        fn summarize_author(&self) -> String;\n",
    "    \n",
    "        fn summarize(&self) -> String {\n",
    "            // Default implementations can call other methods in the same trait, \n",
    "            // even if those other methods don’t have a default implementation. \n",
    "            format!(\"(Read more from {}...)\", self.summarize_author())\n",
    "        }\n",
    "    }\n",
    "    \n",
    "    struct Tweet {\n",
    "        username: String,\n",
    "        content: String,\n",
    "        reply: bool,\n",
    "        retweet: bool,\n",
    "    }\n",
    "    \n",
    "    // we only need to define summarize_author when we implement the trait on a type\n",
    "    impl Summary for Tweet {\n",
    "        fn summarize_author(&self) -> String {\n",
    "            format!(\"@{}\", self.username)\n",
    "        }\n",
    "    }\n",
    "\n",
    "    let tweet = Tweet {\n",
    "        username: String::from(\"horse_ebooks\"),\n",
    "        content: String::from(\"of course, as you probably already know, people\"),\n",
    "        reply: false,\n",
    "        retweet: false,\n",
    "    };\n",
    "\n",
    "    println!(\"1 new tweet: {}\", tweet.summarize());\n",
    "}\n",
    "main();"
   ]
  },
  {
   "cell_type": "markdown",
   "metadata": {},
   "source": [
    "Trait Bound Syntax\n",
    "---"
   ]
  },
  {
   "cell_type": "markdown",
   "metadata": {},
   "source": [
    "Rust allows type definitions to have type parameters. In fact we already have seen some of these. The `Option<T>` and `Result<T,E>` types are good examples. These two types do not place constraints on their parameters but it is possible to do so :"
   ]
  },
  {
   "cell_type": "code",
   "execution_count": null,
   "metadata": {},
   "outputs": [],
   "source": [
    "fn main() {\n",
    "    trait Summary {\n",
    "        fn summarize(&self) -> String;\n",
    "    }\n",
    "\n",
    "    struct Tweet {\n",
    "        username: String,\n",
    "        content: String,\n",
    "        reply: bool,\n",
    "        retweet: bool,\n",
    "    }\n",
    "    \n",
    "    impl Summary for Tweet {\n",
    "        fn summarize(&self) -> String {\n",
    "            format!(\"{}: {}\", self.username, self.content)\n",
    "        }\n",
    "    }\n",
    "\n",
    "    struct Content<T: Summary> { // The type argument T must implement Summary\n",
    "        inner: T\n",
    "    }\n",
    "    \n",
    "    impl <T: Summary> Content<T> { // same constraint for this implementation\n",
    "        fn print_summary(&self) {\n",
    "            println!(\"{}\", self.inner.summarize());\n",
    "        }\n",
    "    }\n",
    "\n",
    "    let my_content = Content {\n",
    "        inner: Tweet {\n",
    "            username: String::from(\"horse_ebooks\"),\n",
    "            content: String::from(\"of course, as you probably already know, people\"),\n",
    "            reply: false,\n",
    "            retweet: false,\n",
    "        }\n",
    "    };\n",
    "    my_content.print_summary();\n",
    "}\n",
    "main();"
   ]
  },
  {
   "cell_type": "markdown",
   "metadata": {},
   "source": [
    "Trait bounds can also be placed on functions :"
   ]
  },
  {
   "cell_type": "code",
   "execution_count": null,
   "metadata": {},
   "outputs": [],
   "source": [
    "fn notify<T: Summary>(item: T) {\n",
    "    println!(\"Breaking news! {}\", item.summarize());\n",
    "}\n",
    "\n",
    "fn notify2(item: impl Summary) { // <- syntactic sugar for generics\n",
    "    println!(\"Breaking news! {}\", item.summarize());\n",
    "}"
   ]
  },
  {
   "cell_type": "markdown",
   "metadata": {},
   "source": [
    "Multiple trait bounds can be specified with the *+* syntax"
   ]
  },
  {
   "cell_type": "code",
   "execution_count": null,
   "metadata": {},
   "outputs": [],
   "source": [
    "fn notify<T: Summary + Copy>(item: T) {\n",
    "    println!(\"Breaking news! {}\", item.summarize());\n",
    "}"
   ]
  },
  {
   "cell_type": "markdown",
   "metadata": {},
   "source": [
    "In the examples above, the `notify` functions take ownership of their `item` parameters. We could rewrite them to only take references :"
   ]
  },
  {
   "cell_type": "code",
   "execution_count": null,
   "metadata": {},
   "outputs": [],
   "source": [
    "fn notify<T: Summary>(item: &T) {\n",
    "    println!(\"Breaking news! {}\", item.summarize());\n",
    "}"
   ]
  },
  {
   "cell_type": "markdown",
   "metadata": {},
   "source": [
    "Rust provides handy short syntexes for simple cases like these :"
   ]
  },
  {
   "cell_type": "code",
   "execution_count": null,
   "metadata": {},
   "outputs": [],
   "source": [
    "fn notify2(item: &dyn Summary) { // dyn keyword\n",
    "    println!(\"Breaking news! {}\", item.summarize());\n",
    "}\n",
    "\n",
    "fn main() {\n",
    "    let tweet = Tweet {\n",
    "        username: String::from(\"horse_ebooks\"),\n",
    "        content: String::from(\"of course, as you probably already know, people\"),\n",
    "        reply: false,\n",
    "        retweet: false,\n",
    "    };\n",
    "    notify1(&tweet);\n",
    "    notify2(&tweet);\n",
    "}\n",
    "main();"
   ]
  },
  {
   "cell_type": "markdown",
   "metadata": {},
   "source": [
    "We can also use the `impl Trait` syntax in the return position to return a value of some type that implements a trait, as shown here:"
   ]
  },
  {
   "cell_type": "code",
   "execution_count": null,
   "metadata": {},
   "outputs": [],
   "source": [
    "fn returns_summarizable() -> impl Summary {\n",
    "    Tweet {\n",
    "        username: String::from(\"horse_ebooks\"),\n",
    "        content: String::from(\"of course, as you probably already know, people\"),\n",
    "        reply: false,\n",
    "        retweet: false,\n",
    "    }\n",
    "}"
   ]
  },
  {
   "cell_type": "markdown",
   "metadata": {},
   "source": [
    "By using `impl Summary` for the return type, we specify that the `returns_summarizable` function returns some type that implements the `Summary` trait without naming the concrete type. "
   ]
  },
  {
   "cell_type": "markdown",
   "metadata": {},
   "source": [
    "The ability to return a type that is only specified by the trait it implements is especially useful in the context of closures and iterators. Closures and iterators create types that only the compiler knows or types that are very long to specify.  \n",
    "\n",
    "However, you can only use `impl Trait` if you’re returning a single type. For example, in the previous code, you could not return either a `NewsArticle` or a `Tweet`."
   ]
  },
  {
   "cell_type": "markdown",
   "metadata": {},
   "source": [
    "When the trait bounds become complex, they can be put in a `where` clause in the function's signature :"
   ]
  },
  {
   "cell_type": "code",
   "execution_count": null,
   "metadata": {},
   "outputs": [],
   "source": [
    "use std::fmt::Display;\n",
    "use std::fmt::Debug;\n",
    "\n",
    "fn some_function<T, U>(t: T, u: U) -> i32\n",
    "    where T: Display + Clone,  // <-- where clause\n",
    "          U: Clone + Debug\n",
    "{ 0 }"
   ]
  },
  {
   "cell_type": "markdown",
   "metadata": {},
   "source": [
    "Using trait bounds to conditionally implement methods\n",
    "----"
   ]
  },
  {
   "cell_type": "markdown",
   "metadata": {},
   "source": [
    "By using a trait bound with an `impl` block that uses generic type parameters, we can implement methods conditionally for types that implement the specified traits."
   ]
  },
  {
   "cell_type": "code",
   "execution_count": null,
   "metadata": {},
   "outputs": [],
   "source": [
    "use std::fmt::Display;\n",
    "\n",
    "struct Pair<T> {\n",
    "    x: T,\n",
    "    y: T,\n",
    "}\n",
    "\n",
    "impl<T> Pair<T> { // <-- no constraint on T\n",
    "    fn new(x: T, y: T) -> Self {\n",
    "        Self {\n",
    "            x,\n",
    "            y,\n",
    "        }\n",
    "    }\n",
    "}\n",
    "\n",
    "impl<T: Display + PartialOrd> Pair<T> { // <-- methods in this impl are only defined\n",
    "                                        // <-- if T implements Display and PartialOrd\n",
    "    fn cmp_display(&self) {\n",
    "        if self.x >= self.y {\n",
    "            println!(\"The largest member is x = {}\", self.x);\n",
    "        } else {\n",
    "            println!(\"The largest member is y = {}\", self.y);\n",
    "        }\n",
    "    }\n",
    "}"
   ]
  },
  {
   "cell_type": "markdown",
   "metadata": {},
   "source": [
    "Standard traits\n",
    "---"
   ]
  },
  {
   "cell_type": "markdown",
   "metadata": {},
   "source": [
    "We can also conditionally implement a trait for any type that implements another trait. For example, the standard library implements the ToString trait on any type that implements the Display trait. The impl block in the standard library looks similar to this code:"
   ]
  },
  {
   "cell_type": "markdown",
   "metadata": {},
   "source": [
    "```rust\n",
    "impl<T: Display> ToString for T {\n",
    "    // --snip--\n",
    "}\n",
    "```"
   ]
  },
  {
   "cell_type": "markdown",
   "metadata": {},
   "source": [
    "Therefore, we can call the `to_string` method defined by the `ToString` trait on any type that implements the `Display` trait. For example, we can turn integers into their corresponding `String` values like this because integers implement `Display`:"
   ]
  },
  {
   "cell_type": "code",
   "execution_count": null,
   "metadata": {},
   "outputs": [],
   "source": [
    "let s = 3.to_string();"
   ]
  },
  {
   "cell_type": "markdown",
   "metadata": {},
   "source": [
    "Operator overloading\n",
    "---"
   ]
  },
  {
   "cell_type": "markdown",
   "metadata": {},
   "source": [
    "In Rust, many of the operators can be overloaded via traits. That is, some operators can be used to accomplish different tasks based on their input arguments. This is possible because operators are syntactic sugar for method calls. For example, the `+` operator in `a + b` calls the `add` method (as in `a.add(b)`). This `add` method is part of the `Add` trait. Hence, the `+` operator can be used by any implementor of the `Add` trait."
   ]
  },
  {
   "cell_type": "code",
   "execution_count": null,
   "metadata": {},
   "outputs": [],
   "source": [
    "use std::ops;\n",
    "\n",
    "#[derive(Debug)]\n",
    "struct Point {\n",
    "    x: i32,\n",
    "    y: i32,\n",
    "}\n",
    "\n",
    "impl ops::Add<Point> for Point {\n",
    "    type Output = Point;\n",
    "\n",
    "    fn add(self, p: Point) -> Point {\n",
    "        Point{\n",
    "           x: self.x + p.x,\n",
    "           y: self.y + p.y,\n",
    "        }\n",
    "    }\n",
    "}\n",
    "\n",
    "fn main() {\n",
    "    let a = Point{x: 10, y: 10};\n",
    "    let b = Point{x: 20, y: 20};\n",
    "    println!(\"Translated point = {:#?}\", a + b);\n",
    "}\n",
    "main();"
   ]
  },
  {
   "cell_type": "markdown",
   "metadata": {},
   "source": [
    "Exercises\n",
    "==="
   ]
  },
  {
   "cell_type": "markdown",
   "metadata": {},
   "source": [
    "**Exercise 1:** Create two structures *Rectangle* and *Triangle*, having each a length and a height of type float. Write the code that calculates the area for each structure. Decide whether to use traits/ generics or not. "
   ]
  },
  {
   "cell_type": "code",
   "execution_count": null,
   "metadata": {},
   "outputs": [],
   "source": [
    "fn main() {\n",
    "    \n",
    "}\n",
    "main();"
   ]
  },
  {
   "cell_type": "markdown",
   "metadata": {},
   "source": [
    "**Solution 1:**"
   ]
  },
  {
   "cell_type": "code",
   "execution_count": null,
   "metadata": {
    "hide_input": true
   },
   "outputs": [],
   "source": [
    "struct Rectangle { \n",
    "    length: f64, \n",
    "    height: f64 \n",
    "}\n",
    "\n",
    "struct Triangle { \n",
    "    length: f64, \n",
    "    height: f64 \n",
    "}\n",
    "\n",
    "trait HasArea {\n",
    "    fn area(&self) -> f64;\n",
    "}\n",
    "\n",
    "impl HasArea for Rectangle {\n",
    "    fn area(&self) -> f64 { self.length * self.height }\n",
    "}\n",
    "\n",
    "impl HasArea for Triangle {\n",
    "    fn area(&self) -> f64 { self.length * self.height / 2.0}\n",
    "}\n",
    "\n",
    "fn print_shape_area_static<T: HasArea>(shape: &T) {\n",
    "    println!(\"area = {}\", shape.area());\n",
    "}\n",
    "\n",
    "fn print_shape_area_dynamic(shape: &dyn HasArea) {\n",
    "    println!(\"area = {}\", shape.area());\n",
    "}\n",
    "\n",
    "fn main() {\n",
    "    let rectangle = Rectangle { length: 5.0, height: 4.0 };\n",
    "    let triangle = Triangle  { length: 3.0, height: 4.0 };\n",
    "    print_shape_area_static(&rectangle);\n",
    "    print_shape_area_static(&triangle);\n",
    "    print_shape_area_dynamic(&rectangle);\n",
    "    print_shape_area_dynamic(&triangle);\n",
    "}\n",
    "main();"
   ]
  },
  {
   "cell_type": "markdown",
   "metadata": {},
   "source": [
    "**Exercice 2:** Simplify the code below to use a generic approach"
   ]
  },
  {
   "cell_type": "code",
   "execution_count": null,
   "metadata": {},
   "outputs": [],
   "source": [
    "fn largest_i32(list: &[i32]) -> i32 {  // find the largest i32 in a slice\n",
    "    let mut largest = list[0];\n",
    "\n",
    "    for &item in list.iter() {\n",
    "        if item > largest {\n",
    "            largest = item;\n",
    "        }\n",
    "    }\n",
    "\n",
    "    largest\n",
    "}\n",
    "\n",
    "fn largest_char(list: &[char]) -> char { // find the largest char in a slice\n",
    "    let mut largest = list[0];\n",
    "\n",
    "    for &item in list.iter() {\n",
    "        if item > largest {\n",
    "            largest = item;\n",
    "        }\n",
    "    }\n",
    "\n",
    "    largest\n",
    "}\n",
    "\n",
    "fn main() {\n",
    "    let number_list = vec![34, 50, 25, 100, 65];\n",
    "\n",
    "    let result = largest_i32(&number_list);\n",
    "    println!(\"The largest number is {}\", result);\n",
    "\n",
    "    let char_list = vec!['y', 'm', 'a', 'q'];\n",
    "\n",
    "    let result = largest_char(&char_list);\n",
    "    println!(\"The largest char is {}\", result);\n",
    "}\n",
    "main();"
   ]
  },
  {
   "cell_type": "markdown",
   "metadata": {},
   "source": [
    "> **Tip:** : Use the trait [`std::cmp::Ord`](https://doc.rust-lang.org/std/cmp/trait.Ord.html) and [`std::marker::Copy`](https://doc.rust-lang.org/std/marker/trait.Copy.html)."
   ]
  },
  {
   "cell_type": "markdown",
   "metadata": {},
   "source": [
    "**Solution :**"
   ]
  },
  {
   "cell_type": "code",
   "execution_count": null,
   "metadata": {
    "hide_input": true
   },
   "outputs": [],
   "source": [
    "use std::cmp::Ord;\n",
    "\n",
    "fn largest<T: Copy + Ord>(list: &[T]) -> T {\n",
    "    let mut largest = list[0];\n",
    "\n",
    "    for &item in list.iter() {\n",
    "        if item > largest {\n",
    "            largest = item;\n",
    "        }\n",
    "    }\n",
    "\n",
    "    largest\n",
    "}\n",
    "\n",
    "fn largest_idiomatic<T: Copy + Ord + Default>(list: &[T]) -> T {\n",
    "    list.iter().copied().max().unwrap_or_default()\n",
    "}\n",
    "\n",
    "fn main() {\n",
    "    let number_list = vec![34, 50, 25, 100, 65];\n",
    "\n",
    "    let result = largest_idiomatic(&number_list);\n",
    "    println!(\"The largest number is {}\", result);\n",
    "\n",
    "    let char_list = vec!['y', 'm', 'a', 'q'];\n",
    "\n",
    "    let result = largest_idiomatic(&char_list);\n",
    "    println!(\"The largest char is {}\", result);\n",
    "}\n",
    "main();"
   ]
  }
 ],
 "metadata": {
  "kernelspec": {
   "display_name": "Rust",
   "language": "rust",
   "name": "rust"
  },
  "language_info": {
   "codemirror_mode": "rust",
   "file_extension": ".rs",
   "mimetype": "text/rust",
   "name": "Rust",
   "pygment_lexer": "rust",
   "version": ""
  }
 },
 "nbformat": 4,
 "nbformat_minor": 2
}
