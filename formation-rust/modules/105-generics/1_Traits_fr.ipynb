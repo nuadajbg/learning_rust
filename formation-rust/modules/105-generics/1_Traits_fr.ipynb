{
 "cells": [
  {
   "cell_type": "markdown",
   "metadata": {},
   "source": [
    "# Traits"
   ]
  },
  {
   "cell_type": "markdown",
   "metadata": {},
   "source": [
    "Un `trait` permet de spécifier au compilateur un ensemble de fonctionnalités qui est partagé par plusieurs types.\n",
    "Les traits permettent de partager un comportement à un niveau abstrait.\n",
    "Ensuite, les bornes de trait (*trait bounds*) peuvent être utiliser pour spécifier qu'un paramètre de type possède un certain comportement.\n",
    "\n",
    "Ce comportement consiste en un ensemble de méthodes qui peuvent être appelées sur un type.\n",
    "Des types différents peuvent partager le même comportement si il est possible d'appeler les mêmes méthodes dessus.\n",
    "Les traits sont un moyens de grouper la signature de ces méthodes en ce sens."
   ]
  },
  {
   "cell_type": "code",
   "execution_count": null,
   "metadata": {},
   "outputs": [],
   "source": [
    "trait Summary {\n",
    "    fn summarize(&self) -> String;\n",
    "}"
   ]
  },
  {
   "cell_type": "markdown",
   "metadata": {},
   "source": [
    "Un trait peut déclarer plusieurs méthodes, les signatures sont simplements listées les unes à la suite des autres. Chaque signature se termine par un point-virgule."
   ]
  },
  {
   "cell_type": "markdown",
   "metadata": {},
   "source": [
    "Implémenter un trait pour un type\n",
    "---"
   ]
  },
  {
   "cell_type": "code",
   "execution_count": null,
   "metadata": {},
   "outputs": [],
   "source": [
    "fn main() {\n",
    "    trait Summary {\n",
    "        fn summarize(&self) -> String;\n",
    "    }\n",
    "\n",
    "    struct NewsArticle {\n",
    "        headline: String,\n",
    "        location: String,\n",
    "        author: String,\n",
    "        content: String,\n",
    "    }\n",
    "\n",
    "    impl Summary for NewsArticle {\n",
    "        fn summarize(&self) -> String {\n",
    "            format!(\"{}, by {} ({})\", self.headline, self.author, self.location)\n",
    "        }\n",
    "    }\n",
    "\n",
    "    struct Tweet {\n",
    "        username: String,\n",
    "        content: String,\n",
    "        reply: bool,\n",
    "        retweet: bool,\n",
    "    }\n",
    "\n",
    "    impl Summary for Tweet {\n",
    "        fn summarize(&self) -> String {\n",
    "            format!(\"{}: {}\", self.username, self.content)\n",
    "        }\n",
    "    }\n",
    "\n",
    "    let tweet = Tweet {\n",
    "        username: String::from(\"horse_ebooks\"),\n",
    "        content: String::from(\"of course, as you probably already know, people\"),\n",
    "        reply: false,\n",
    "        retweet: false,\n",
    "    };\n",
    "\n",
    "    println!(\"1 new tweet: {}\", tweet.summarize());\n",
    "}\n",
    "main();"
   ]
  },
  {
   "cell_type": "markdown",
   "metadata": {},
   "source": [
    "Une restriction à connaitre sur les traits, est qu'un n'est possible d'implémenter un trait pour type donné que si soit le trait lui-même, soit le type est initialement déclaré dans ce paquet (*crate*).\n",
    "Cette propriété s'appele la *orphan rule*, nommée ainsi parce que le type parent n'est pas présent.\n",
    "Cette règle assure ainsi que un paquet tiers ne peut pas casser le code d'un autre en implémentant un trait extérieur. Sans cette règle, deux paquets pourraient implémenter le même trait pour le même type de deux manières différentes."
   ]
  },
  {
   "cell_type": "markdown",
   "metadata": {},
   "source": [
    "Implémentations par défaut\n",
    "---"
   ]
  },
  {
   "cell_type": "markdown",
   "metadata": {},
   "source": [
    "Parfois il est utile de pouvoir définir un comportement par défaut pour quelques unes (ou toutes) les méthodes d'un trait, au lieu de laisser le champ livre à chaque implémentation pour chaque type.\n",
    "Il est toujours possible de remplacer l'implémentation par défaut par un autre plus spécifique lorsque le trait est implémenté pour un type précis."
   ]
  },
  {
   "cell_type": "code",
   "execution_count": null,
   "metadata": {},
   "outputs": [],
   "source": [
    "fn main() {\n",
    "    trait Summary {\n",
    "        fn summarize_author(&self) -> String;\n",
    "\n",
    "        fn summarize(&self) -> String {\n",
    "            // implémentation par défaut, on peut appeler summarize_author ici\n",
    "            // même si la définition exacte n'est pas encore connue\n",
    "            format!(\"(Read more from {}...)\", self.summarize_author())\n",
    "        }\n",
    "    }\n",
    "\n",
    "    struct Tweet {\n",
    "        username: String,\n",
    "        content: String,\n",
    "        reply: bool,\n",
    "        retweet: bool,\n",
    "    }\n",
    "\n",
    "    // seule summarize_author doit être implémentée\n",
    "    // summarize est l'implémentation par défaut\n",
    "    impl Summary for Tweet {\n",
    "        fn summarize_author(&self) -> String {\n",
    "            format!(\"@{}\", self.username)\n",
    "        }\n",
    "    }\n",
    "\n",
    "    let tweet = Tweet {\n",
    "        username: String::from(\"horse_ebooks\"),\n",
    "        content: String::from(\"of course, as you probably already know, people\"),\n",
    "        reply: false,\n",
    "        retweet: false,\n",
    "    };\n",
    "\n",
    "    println!(\"1 new tweet: {}\", tweet.summarize());\n",
    "}\n",
    "main();"
   ]
  },
  {
   "cell_type": "markdown",
   "metadata": {},
   "source": [
    "Syntaxe des bornes de trait\n",
    "---"
   ]
  },
  {
   "cell_type": "markdown",
   "metadata": {},
   "source": [
    "En Rust, la définition de types peut être paramétrée avec des paramètres de type.\n",
    "Nous avons déjà vu quelques exemples: `Option<T>` et `Result<T,E>`.\n",
    "Ces deux types en particulier n'imposent pas de contraintes sur leurs paramètres `T` et `E`, mais il est possible de le faire :"
   ]
  },
  {
   "cell_type": "code",
   "execution_count": null,
   "metadata": {},
   "outputs": [],
   "source": [
    "fn main() {\n",
    "    trait Summary {\n",
    "        fn summarize(&self) -> String;\n",
    "    }\n",
    "\n",
    "    struct Tweet {\n",
    "        username: String,\n",
    "        content: String,\n",
    "        reply: bool,\n",
    "        retweet: bool,\n",
    "    }\n",
    "    \n",
    "    impl Summary for Tweet {\n",
    "        fn summarize(&self) -> String {\n",
    "            format!(\"{}: {}\", self.username, self.content)\n",
    "        }\n",
    "    }\n",
    "\n",
    "    struct Content<T: Summary> { // le paramètre T doit implémenter le trait Summary\n",
    "        inner: T\n",
    "    }\n",
    "\n",
    "    impl <T: Summary> Content<T> {    // Même contrainte pour cette implémentation\n",
    "        fn print_summary(&self) {\n",
    "            println!(\"{}\", self.inner.summarize());\n",
    "        }\n",
    "    }\n",
    "\n",
    "    let my_content = Content {\n",
    "        inner: Tweet {\n",
    "            username: String::from(\"horse_ebooks\"),\n",
    "            content: String::from(\"of course, as you probably already know, people\"),\n",
    "            reply: false,\n",
    "            retweet: false,\n",
    "        }\n",
    "    };\n",
    "    my_content.print_summary();\n",
    "}\n",
    "main();"
   ]
  },
  {
   "cell_type": "markdown",
   "metadata": {},
   "source": [
    "Il possible de faire de même pour une fonction générique :"
   ]
  },
  {
   "cell_type": "code",
   "execution_count": null,
   "metadata": {},
   "outputs": [],
   "source": [
    "fn notify<T: Summary>(item: T) {\n",
    "    println!(\"Breaking news! {}\", item.summarize());\n",
    "}\n",
    "\n",
    "fn notify2(item: impl Summary) { // <- sucre syntaxique pour la généricité\n",
    "    println!(\"Breaking news! {}\", item.summarize());\n",
    "}"
   ]
  },
  {
   "cell_type": "markdown",
   "metadata": {},
   "source": [
    "Plusieurs contraintes peuvent être spécifiées, pour indiquer qu'un paramètre de type doit implémenter plusieurs traits :"
   ]
  },
  {
   "cell_type": "code",
   "execution_count": null,
   "metadata": {},
   "outputs": [],
   "source": [
    "/// T doit implémenter Summary ET Copy\n",
    "fn notify<T: Summary + Copy>(item: T) {\n",
    "    println!(\"Breaking news! {}\", item.summarize());\n",
    "}"
   ]
  },
  {
   "cell_type": "markdown",
   "metadata": {},
   "source": [
    "Dans ces examples, la fonction `notify` prend possession (*ownership*) du paramètre `item`.\n",
    "Nous pourrions ré-écrire cet exemple avec une référence à la place :"
   ]
  },
  {
   "cell_type": "code",
   "execution_count": null,
   "metadata": {},
   "outputs": [],
   "source": [
    "fn notify<T: Summary>(item: &T) {\n",
    "    println!(\"Breaking news! {}\", item.summarize());\n",
    "}"
   ]
  },
  {
   "cell_type": "markdown",
   "metadata": {},
   "source": [
    "Dans un tel cas, Rust fournit un syntaxe abrégée :"
   ]
  },
  {
   "cell_type": "code",
   "execution_count": null,
   "metadata": {},
   "outputs": [],
   "source": [
    "/// item est une référence sur quelque chose qui implémente Summary\n",
    "fn notify2(item: &dyn Summary) { // <-- mot clé dyn\n",
    "    println!(\"Breaking news! {}\", item.summarize());\n",
    "}\n",
    "\n",
    "fn main() {\n",
    "    let tweet = Tweet {\n",
    "        username: String::from(\"horse_ebooks\"),\n",
    "        content: String::from(\"of course, as you probably already know, people\"),\n",
    "        reply: false,\n",
    "        retweet: false,\n",
    "    };\n",
    "    notify1(&tweet);\n",
    "    notify2(&tweet);\n",
    "}\n",
    "main();"
   ]
  },
  {
   "cell_type": "markdown",
   "metadata": {},
   "source": [
    "La forme `impl Trait` peut aussi être utilisé pour le type de retour de la fonction pour spécifier que le type implémente un trait, mais sans spécifier exactement lequel."
   ]
  },
  {
   "cell_type": "code",
   "execution_count": null,
   "metadata": {},
   "outputs": [],
   "source": [
    "fn returns_summarizable() -> impl Summary {\n",
    "    Tweet {\n",
    "        username: String::from(\"horse_ebooks\"),\n",
    "        content: String::from(\"of course, as you probably already know, people\"),\n",
    "        reply: false,\n",
    "        retweet: false,\n",
    "    }\n",
    "}"
   ]
  },
  {
   "cell_type": "markdown",
   "metadata": {},
   "source": [
    "En utilisant `impl Summary` comme type de retour, la fonction `returns_summarizable` spécifie que la valeur retournée par la fonction doit nécessairement implémenter ce trait, mais sans spécifier exactement le type concret."
   ]
  },
  {
   "cell_type": "markdown",
   "metadata": {},
   "source": [
    "Cette fonctionnalité est particulièrement utile dans le cas de fonctions qui renvoie des fermetures (*closure*) ou des iterateurs, auquel cas le type concret n'est pas forcément exprimable. En effet, les fermetures et les itérateurs produisent des types connus du compilateur seul et/ou très longs à specifier.\n",
    "\n",
    "Une contrainte importante est que avec cette syntaxe, la fonction toujours cependant renvoyer le même type concret. Dans notre exemple, il n'est pas possible pour la fonction de renvoyer soit `NewsArticle`, soit `Tweet`.\n",
    "Il faut que cela soit toujours le même type. Le compilateur doit en effet pouvoir connaitre le type concret à la compilation."
   ]
  },
  {
   "cell_type": "markdown",
   "metadata": {},
   "source": [
    "Lorsque les contraintes deviennent complexes, il est possible de les spécifier dans une clause `where` à la fin de la signature de la fonction :"
   ]
  },
  {
   "cell_type": "code",
   "execution_count": null,
   "metadata": {},
   "outputs": [],
   "source": [
    "use std::fmt::Display;\n",
    "use std::fmt::Debug;\n",
    "\n",
    "fn some_function<T, U>(t: T, u: U) -> i32\n",
    "    where T: Display + Clone,     // <-- clause where\n",
    "          U: Clone + Debug\n",
    "{ 0 }"
   ]
  },
  {
   "cell_type": "markdown",
   "metadata": {},
   "source": [
    "Utiliser les bornes pour implémenter de manière conditionnelle\n",
    "----"
   ]
  },
  {
   "cell_type": "markdown",
   "metadata": {},
   "source": [
    "Comme déjà vu un peu plus haut, il est possible de spécifier des contraintes sur les paramètres de type des blocks `impl`.\n",
    "Ce mécanisme peut être utilisé pour implémenter de manière conditionnelle des méthodes en fonction des contraintes sur ces paramètres de type."
   ]
  },
  {
   "cell_type": "code",
   "execution_count": null,
   "metadata": {},
   "outputs": [],
   "source": [
    "use std::fmt::Display;\n",
    "\n",
    "struct Pair<T> {\n",
    "    x: T,\n",
    "    y: T,\n",
    "}\n",
    "\n",
    "impl<T> Pair<T> {  // <-- pas de contrainte sur T\n",
    "    fn new(x: T, y: T) -> Self {\n",
    "        Self {\n",
    "            x,\n",
    "            y,\n",
    "        }\n",
    "    }\n",
    "}\n",
    "\n",
    "impl<T: Display + PartialOrd> Pair<T> { // <-- les méthodes ici ne sont définies pour Pair<T>\n",
    "                                        // <-- seulement si T implémente Display et PartialOrd\n",
    "    fn cmp_display(&self) {\n",
    "        if self.x >= self.y {\n",
    "            println!(\"The largest member is x = {}\", self.x);\n",
    "        } else {\n",
    "            println!(\"The largest member is y = {}\", self.y);\n",
    "        }\n",
    "    }\n",
    "}"
   ]
  },
  {
   "cell_type": "markdown",
   "metadata": {},
   "source": [
    "Traits standards\n",
    "---"
   ]
  },
  {
   "cell_type": "markdown",
   "metadata": {},
   "source": [
    "De même, il est possible de n'implémenter un trait pour un type que si certaines contraintes sont respectées.\n",
    "Par exemple, dans la librairie standard, le trait `ToString` est implémenté pour tout les types `T` tel que `T` implémente déjà `Display`."
   ]
  },
  {
   "cell_type": "markdown",
   "metadata": {},
   "source": [
    "```rust\n",
    "impl<T: Display> ToString for T {\n",
    "    // --snip--\n",
    "}\n",
    "```"
   ]
  },
  {
   "cell_type": "markdown",
   "metadata": {},
   "source": [
    "Ainsi, nous pouvons appeler la méthode `to_string` définie par le trait `ToString` sur n'importe quel type qui implémente `Display`. Par exemple il est possible de transformer en `String` n'importe quel nombre entier comme ils implémentent `Display`."
   ]
  },
  {
   "cell_type": "code",
   "execution_count": null,
   "metadata": {},
   "outputs": [],
   "source": [
    "let s = 3.to_string();"
   ]
  },
  {
   "cell_type": "markdown",
   "metadata": {},
   "source": [
    "Surcharge d'opérateurs\n",
    "---"
   ]
  },
  {
   "cell_type": "markdown",
   "metadata": {},
   "source": [
    "En Rust, beaucoup d'opérateurs peuvent être surchargées par l'implémentation de traits particuliers.\n",
    "Comme dans d'autres langages, ces opérateurs peuvent réaliser des opérations sur des types utilisateurs dès lors qu'ils implémentent ces traits.\n",
    "Ceci est possible car les opérateurs en Rust ne sont que du sucre syntaxique pour l'appel à des méthodes.\n",
    "Par exemple, l'opérateur `+` dans l'expression `a + b` appele en réalité la méthode `add` (`a.add(b)`).\n",
    "La méthode `add` est définie par le trait `Add`.\n",
    "Ainsi l'opérateur `+` peut être utilisé pour tout type qui implémente le trait `Add`."
   ]
  },
  {
   "cell_type": "code",
   "execution_count": null,
   "metadata": {},
   "outputs": [],
   "source": [
    "use std::ops;\n",
    "\n",
    "#[derive(Debug)]\n",
    "struct Point {\n",
    "    x: i32,\n",
    "    y: i32,\n",
    "}\n",
    "\n",
    "impl ops::Add<Point> for Point {\n",
    "    type Output = Point;\n",
    "\n",
    "    fn add(self, p: Point) -> Point {\n",
    "        Point{\n",
    "           x: self.x + p.x,\n",
    "           y: self.y + p.y,\n",
    "        }\n",
    "    }\n",
    "}\n",
    "\n",
    "fn main() {\n",
    "    let a = Point{x: 10, y: 10};\n",
    "    let b = Point{x: 20, y: 20};\n",
    "    println!(\"Translated point = {:#?}\", a + b);\n",
    "}\n",
    "main();"
   ]
  },
  {
   "cell_type": "markdown",
   "metadata": {},
   "source": [
    "Exercises\n",
    "==="
   ]
  },
  {
   "cell_type": "markdown",
   "metadata": {},
   "source": [
    "**Exercise 1:** Créez deux structure *Rectangle* et *Triangle*, chacun avec une longueur et une hauteur de type `f32`. Ecrivez le code pour calculer l'aire de chacune.\n",
    "Décidez sur l'utilisation de trait et/ou de généricité."
   ]
  },
  {
   "cell_type": "code",
   "execution_count": null,
   "metadata": {},
   "outputs": [],
   "source": [
    "fn main() {\n",
    "    \n",
    "}\n",
    "main();"
   ]
  },
  {
   "cell_type": "markdown",
   "metadata": {},
   "source": [
    "**Solution 1:**"
   ]
  },
  {
   "cell_type": "code",
   "execution_count": null,
   "metadata": {
    "hide_input": true
   },
   "outputs": [],
   "source": [
    "struct Rectangle { \n",
    "    length: f64, \n",
    "    height: f64 \n",
    "}\n",
    "\n",
    "struct Triangle { \n",
    "    length: f64, \n",
    "    height: f64 \n",
    "}\n",
    "\n",
    "trait HasArea {\n",
    "    fn area(&self) -> f64;\n",
    "}\n",
    "\n",
    "impl HasArea for Rectangle {\n",
    "    fn area(&self) -> f64 { self.length * self.height }\n",
    "}\n",
    "\n",
    "impl HasArea for Triangle {\n",
    "    fn area(&self) -> f64 { self.length * self.height / 2.0}\n",
    "}\n",
    "\n",
    "fn print_shape_area_static<T: HasArea>(shape: &T) {\n",
    "    println!(\"area = {}\", shape.area());\n",
    "}\n",
    "\n",
    "fn print_shape_area_dynamic(shape: &dyn HasArea) {\n",
    "    println!(\"area = {}\", shape.area());\n",
    "}\n",
    "\n",
    "fn main() {\n",
    "    let rectangle = Rectangle { length: 5.0, height: 4.0 };\n",
    "    let triangle = Triangle  { length: 3.0, height: 4.0 };\n",
    "    print_shape_area_static(&rectangle);\n",
    "    print_shape_area_static(&triangle);\n",
    "    print_shape_area_dynamic(&rectangle);\n",
    "    print_shape_area_dynamic(&triangle);\n",
    "}\n",
    "main();"
   ]
  },
  {
   "cell_type": "markdown",
   "metadata": {},
   "source": [
    "**Exercice 2:** Simplifiez le code suivant en utilisant de la généricité"
   ]
  },
  {
   "cell_type": "code",
   "execution_count": null,
   "metadata": {},
   "outputs": [],
   "source": [
    "fn largest_i32(list: &[i32]) -> i32 {  // trouve le plus grand i32 dans la slice\n",
    "    let mut largest = list[0];\n",
    "\n",
    "    for &item in list.iter() {\n",
    "        if item > largest {\n",
    "            largest = item;\n",
    "        }\n",
    "    }\n",
    "\n",
    "    largest\n",
    "}\n",
    "\n",
    "fn largest_char(list: &[char]) -> char { // trouve le plus grand char dans la slice\n",
    "    let mut largest = list[0];\n",
    "\n",
    "    for &item in list.iter() {\n",
    "        if item > largest {\n",
    "            largest = item;\n",
    "        }\n",
    "    }\n",
    "\n",
    "    largest\n",
    "}\n",
    "\n",
    "fn main() {\n",
    "    let number_list = vec![34, 50, 25, 100, 65];\n",
    "\n",
    "    let result = largest_i32(&number_list);\n",
    "    println!(\"The largest number is {}\", result);\n",
    "\n",
    "    let char_list = vec!['y', 'm', 'a', 'q'];\n",
    "\n",
    "    let result = largest_char(&char_list);\n",
    "    println!(\"The largest char is {}\", result);\n",
    "}\n",
    "main();"
   ]
  },
  {
   "cell_type": "markdown",
   "metadata": {},
   "source": [
    "> **Astuce:** : Utilisez les traits [`std::cmp::Ord`](https://doc.rust-lang.org/std/cmp/trait.Ord.html) et [`std::marker::Copy`](https://doc.rust-lang.org/std/marker/trait.Copy.html)."
   ]
  },
  {
   "cell_type": "markdown",
   "metadata": {},
   "source": [
    "**Solution :**"
   ]
  },
  {
   "cell_type": "code",
   "execution_count": null,
   "metadata": {
    "hide_input": true
   },
   "outputs": [],
   "source": [
    "use std::cmp::Ord;\n",
    "\n",
    "fn largest<T: Copy + Ord>(list: &[T]) -> T {\n",
    "    let mut largest = list[0];\n",
    "\n",
    "    for &item in list.iter() {\n",
    "        if item > largest {\n",
    "            largest = item;\n",
    "        }\n",
    "    }\n",
    "\n",
    "    largest\n",
    "}\n",
    "\n",
    "fn largest_idiomatic<T: Copy + Ord + Default>(list: &[T]) -> T {\n",
    "    list.iter().copied().max().unwrap_or_default()\n",
    "}\n",
    "\n",
    "fn main() {\n",
    "    let number_list = vec![34, 50, 25, 100, 65];\n",
    "\n",
    "    let result = largest_idiomatic(&number_list);\n",
    "    println!(\"The largest number is {}\", result);\n",
    "\n",
    "    let char_list = vec!['y', 'm', 'a', 'q'];\n",
    "\n",
    "    let result = largest_idiomatic(&char_list);\n",
    "    println!(\"The largest char is {}\", result);\n",
    "}\n",
    "main();"
   ]
  }
 ],
 "metadata": {
  "kernelspec": {
   "display_name": "Rust",
   "language": "rust",
   "name": "rust"
  },
  "language_info": {
   "codemirror_mode": "rust",
   "file_extension": ".rs",
   "mimetype": "text/rust",
   "name": "Rust",
   "pygment_lexer": "rust",
   "version": ""
  }
 },
 "nbformat": 4,
 "nbformat_minor": 2
}
