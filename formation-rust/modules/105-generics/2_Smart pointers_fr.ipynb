{
 "cells": [
  {
   "cell_type": "markdown",
   "metadata": {
    "deletable": false,
    "editable": true
   },
   "source": [
    "# Smart pointers"
   ]
  },
  {
   "cell_type": "markdown",
   "metadata": {
    "deletable": false,
    "editable": true
   },
   "source": [
    "Un pointeur est un concept général pour une variable qui contient une adresse mémoire.\n",
    "Cette adresse, réfère à (ou pointe vers) d'autres données.\n",
    "Le type de pointeur le plus courant en Rust est la *référence*.\n",
    "\n",
    "Les pointeurs intelligents (*smart pointers*), à l'inverse, sont des structures de données qui se comportent comme des pointeurs mais portent égalements des métadonnées et/ou ont des capacités, propriétés supplémentaires.\n",
    "En Rust, les références sont des pointeurs qui ne font que emprunter (*borrow*) de la donnée.\n",
    "A l'inverse, dans bien des cas, les smart pointers possèdent (*own*) les données sur lesquelles ils pointent.\n",
    "Les objets `String` et `Vec` sont déjà des pointeurs intelligents dans cette définition."
   ]
  },
  {
   "cell_type": "markdown",
   "metadata": {
    "deletable": false,
    "editable": true
   },
   "source": [
    "Les pointeurs intelligents sont généralement implémentés sous la forme de structure.\n",
    "Une caractéristique qui les différencie des autres structure est leur implémentation des traits `Deref` et `Drop`."
   ]
  },
  {
   "cell_type": "markdown",
   "metadata": {
    "deletable": false,
    "editable": true
   },
   "source": [
    "Beaucoup de librairies définissent leurs propres types de pointeurs intelligents, et vous pouvez également écrire les votres.\n",
    "Les usages les plus courants sont cependant supportés directement par la librairie standard.\n",
    "\n",
    "* `Box<T>` pour allouer sur le tas (*heap*)\n",
    "* `Rc<T>` pour *reference counted* qui permet un système de propriétaires multiples.\n",
    "* `Ref<T>` et `RefMut<T>`, accédés à travers `RefCell<T>`, un type qui implémente les règles d'emprunt (*borrow*), mais à l'excution"
   ]
  },
  {
   "cell_type": "markdown",
   "metadata": {
    "deletable": false,
    "editable": true
   },
   "source": [
    "## `Box<T>`"
   ]
  },
  {
   "cell_type": "markdown",
   "metadata": {
    "deletable": false,
    "editable": true
   },
   "source": [
    "`Box` (boîte) permet de stocke le contenu sur le tas (*heap*) au lieu de sur le pile (*stack*). Ce qui reste sur la pile est le pointeur vers les données sur le tas.\n",
    "\n",
    "Ce type est très utile dans les situations suivantes :\n",
    "\n",
    " * Lorsqu'un type n'a pas une taille connue à la compilation mais que l'on veut utiliser une valeur de ce type dans un contexte où un taille exacte est attendue (par exemple passer une fermeture (*closure*) par valeur).\n",
    " * Lorsque l'on a un grand volume de données dont on a la propriété et que l'on veut transférer la propriété (*ownership*), en s'assurant qu'il n'y aura pas d'opération de copie.\n",
    " * Lorsque l'on a la propriété (*ownership*) d'une valeur, mais que l'on ne veut pas connaitre le type exacte, juste qu'il implémente une trait particulier."
   ]
  },
  {
   "cell_type": "code",
   "execution_count": null,
   "metadata": {
    "deletable": false,
    "editable": true,
    "vscode": {
     "languageId": "rust"
    }
   },
   "outputs": [],
   "source": [
    "fn main() {\n",
    "    let b = Box::new(5); // stocke la valeur 5 sur le tas\n",
    "    println!(\"b = {}\", b);\n",
    "} // box est désallouée lorsque l'on sort du contexte (scope)"
   ]
  },
  {
   "cell_type": "markdown",
   "metadata": {
    "deletable": false,
    "editable": true
   },
   "source": [
    "A la compilation, Rust doit connaitre la taille exacte en mémoire des types.\n",
    "Un exemple de type dont la taille ne peut pas être connu à la compilation est un type récursif, qui peut contenir pour une part un autre instance de lui-même ainsi que d'autres données.\n",
    "Comme cette imbrication peut potentiellement continuer à l'infini, la taille du type ne peut pas être connue.\n",
    "Mais `Box` a toujours une taille connue.\n",
    "En l'insérant dans la définition de notre type récursif, le problème est résolu."
   ]
  },
  {
   "cell_type": "markdown",
   "metadata": {
    "deletable": false,
    "editable": true
   },
   "source": [
    "__Le type  *cons list*__\n",
    "\n",
    "Chaque élément dans une **cons list** contient deux éléments : la valeur de l'élément courant et l'élément suivant.\n",
    "Le dernier élément de la liste ne contient qu'une valeur spéciale (`Nil`).\n",
    "\n",
    "```rust\n",
    "// Mauvais exemple de définition de la liste, ne compile pas\n",
    "// ce type est directement récursif\n",
    "enum List {\n",
    "    Cons(i32, List),\n",
    "    Nil,\n",
    "}\n",
    "```"
   ]
  },
  {
   "cell_type": "code",
   "execution_count": null,
   "metadata": {
    "deletable": false,
    "editable": true,
    "vscode": {
     "languageId": "rust"
    }
   },
   "outputs": [],
   "source": [
    "// Définition correct de la liste, indirectement récursive avec `Box`.\n",
    "enum List {\n",
    "    Cons(i32, Box<List>), // la taille d'un i32 plus l'espace pour stocker le pointeur de `Box`\n",
    "    Nil,\n",
    "}\n",
    "\n",
    "use crate::List::{Cons, Nil};\n",
    "\n",
    "fn main() {\n",
    "    let list = Cons(1,\n",
    "        Box::new(Cons(2,\n",
    "            Box::new(Cons(3,\n",
    "                Box::new(Nil))))));\n",
    "}"
   ]
  },
  {
   "cell_type": "markdown",
   "metadata": {
    "deletable": false,
    "editable": true
   },
   "source": [
    "___utilisation des pointeurs intelligents comme des références avec `Deref`___"
   ]
  },
  {
   "cell_type": "code",
   "execution_count": null,
   "metadata": {
    "deletable": false,
    "editable": true,
    "vscode": {
     "languageId": "rust"
    }
   },
   "outputs": [],
   "source": [
    "fn main() {\n",
    "    let x = 5;\n",
    "    let y = &x;\n",
    "\n",
    "    println!(\"x = {}\", x);\n",
    "    println!(\"y points to the value: {}\", *y);\n",
    "}\n",
    "main();"
   ]
  },
  {
   "cell_type": "code",
   "execution_count": null,
   "metadata": {
    "deletable": false,
    "editable": true,
    "vscode": {
     "languageId": "rust"
    }
   },
   "outputs": [],
   "source": [
    "fn main() {\n",
    "    let x = 5;\n",
    "    let y = Box::new(x); // Box<T> s'utilise comme une référence\n",
    "\n",
    "    println!(\"x = {}\", x);\n",
    "    println!(\"y points to the value: {}\", *y); // fonctionne car `Box` implémente `Deref`\n",
    "}\n",
    "main();"
   ]
  },
  {
   "cell_type": "markdown",
   "metadata": {
    "deletable": false,
    "editable": true
   },
   "source": [
    "Définition de pointeurs intelligents\n",
    "---"
   ]
  },
  {
   "cell_type": "code",
   "execution_count": null,
   "metadata": {
    "deletable": false,
    "editable": true,
    "vscode": {
     "languageId": "rust"
    }
   },
   "outputs": [],
   "source": [
    "use std::ops::Deref;\n",
    "\n",
    "fn main() {\n",
    "    // MyBox est un tuple struct qui contient un T\n",
    "    struct MyBox<T>(T); // T peut être n'importe quoi\n",
    "\n",
    "    impl<T> MyBox<T> {\n",
    "        fn new(x: T) -> MyBox<T> {\n",
    "            MyBox(x)\n",
    "        }\n",
    "    }\n",
    "\n",
    "    // implémente Deref pour utiliser MyBox comme une référence classique\n",
    "    impl<T> Deref for MyBox<T> {\n",
    "        type Target = T;  // type associé à Deref\n",
    "\n",
    "        fn deref(&self) -> &T {\n",
    "            &self.0\n",
    "        }\n",
    "    }\n",
    "    let x = 5;\n",
    "    let y = MyBox::new(x);\n",
    "\n",
    "    println!(\"x = {}\", x);\n",
    "    println!(\"y points to the value: {}\", *y); // Rust execute ce code: *(y.deref())\n",
    "}\n",
    "main();"
   ]
  },
  {
   "cell_type": "markdown",
   "metadata": {
    "deletable": false,
    "editable": true
   },
   "source": [
    "Sans le trait `Deref`, le compilateur ne sait déréférencer que des références classiques (`&T`).\n",
    "La méthode `deref` donne au compilateur la capacité à déréférencer n'importe quel pointeurs intelligent."
   ]
  },
  {
   "cell_type": "markdown",
   "metadata": {
    "deletable": false,
    "editable": true
   },
   "source": [
    "___Coercion implicite avec `Deref`___"
   ]
  },
  {
   "cell_type": "markdown",
   "metadata": {
    "deletable": false,
    "editable": true
   },
   "source": [
    "La coercion implicite avec `Deref` est une facilité offerte par Rst sur les arguments passés aux fonctions et méthodes.\n",
    "La coercion implicite avec `Deref` permet la convertion implicite d'un type qui implémente `Deref` vers le type cible de l'implémentation.\n",
    "Cette convertion est automatique lorsque la valeur est passée en argument d'une fonction ou d'une méthode.\n",
    "Une séquence d'appels à `deref` est alors générée pout convertir le type réel passé en type attendu par la fonction ou la méthode."
   ]
  },
  {
   "cell_type": "code",
   "execution_count": null,
   "metadata": {
    "deletable": false,
    "editable": true,
    "vscode": {
     "languageId": "rust"
    }
   },
   "outputs": [],
   "source": [
    "use std::ops::Deref;\n",
    "\n",
    "fn hello(name: &str) {\n",
    "    println!(\"Hello, {}!\", name);\n",
    "}\n",
    "\n",
    "fn main() {\n",
    "    struct MyBox<T>(T);\n",
    "\n",
    "    impl<T> MyBox<T> {\n",
    "        fn new(x: T) -> MyBox<T> {\n",
    "            MyBox(x)\n",
    "        }\n",
    "    }\n",
    "\n",
    "    impl<T> Deref for MyBox<T> {\n",
    "        type Target = T;\n",
    "\n",
    "        fn deref(&self) -> &T {\n",
    "            &self.0\n",
    "        }\n",
    "    }\n",
    "    let m = MyBox::new(String::from(\"Rust\"));\n",
    "    hello(&m); // autrement il aurait fallu écrire: hello(&(*m)[..]);\n",
    "}\n",
    "main();"
   ]
  },
  {
   "cell_type": "markdown",
   "metadata": {
    "deletable": false,
    "editable": true
   },
   "source": [
    "Dans cet exemple, nous appelons la fonction `hello` en passant `&m` comme argument.\n",
    "Le type de `m` est `MyBox<String>`.\n",
    "Comme le trait `Deref<Target=T>` est implémenté pour le type `MyBox<T>`, Rust peut transformer la référence `&MyBox<String>` en `&String` en appelant `deref`.\n",
    "De plus, la librairie standard fournit une implémentation de `Deref<Target=&str>` pour `String`, retournant ainsi une valeur `&str` (slice de chaîne de caractères).\n",
    "Rust peut alors appeler `deref` une nouvelle fois pour transformer `&String` en `&str`, ce qui correspond au type attendu par la fonction `hello`."
   ]
  },
  {
   "cell_type": "markdown",
   "metadata": {
    "deletable": false,
    "editable": true
   },
   "source": [
    "Rust effectue automatiquement une coercion avec `deref` dans les cas suivants :\n",
    "\n",
    " *   De `&T` vers `&U` quand `T: Deref<Target=U>`\n",
    " *   De `&mut T` vers `&mut U` quand `T: DerefMut<Target=U>`\n",
    " *   De `&mut T` vers `&U` quand `T: Deref<Target=U>`\n"
   ]
  },
  {
   "cell_type": "markdown",
   "metadata": {
    "deletable": false,
    "editable": true
   },
   "source": [
    "Rust peut aussi automatiquement utiliser la coercion pour convertir une référence mutable en référence non-mutable. (l'inverse n'est pas possible)."
   ]
  },
  {
   "cell_type": "code",
   "execution_count": null,
   "metadata": {
    "deletable": false,
    "editable": true,
    "vscode": {
     "languageId": "rust"
    }
   },
   "outputs": [],
   "source": [
    "use std::ops::Deref;\n",
    "use std::fmt::Debug;\n",
    "\n",
    "fn hello(name: &str) {\n",
    "    println!(\"Hello, {}!\", name);\n",
    "}\n",
    "\n",
    "fn main() {\n",
    "    struct MyBox<T: Debug>(T);\n",
    "\n",
    "    impl<T> MyBox<T> \n",
    "    where T: Debug {\n",
    "        fn new(x: T) -> MyBox<T> {\n",
    "            MyBox(x)\n",
    "        }\n",
    "    }\n",
    "\n",
    "    impl<T> Deref for MyBox<T> \n",
    "    where T: Debug {\n",
    "        type Target = T;\n",
    "\n",
    "        fn deref(&self) -> &T {\n",
    "            &self.0\n",
    "        }\n",
    "    }\n",
    "\n",
    "    impl<T> Drop for MyBox<T> \n",
    "    where T: Debug {\n",
    "        fn drop(&mut self) {\n",
    "            println!(\"Dropping pointer with data `{:?}`!\", self.0);\n",
    "        }\n",
    "    }\n",
    "    let m = MyBox::new(String::from(\"Rust\"));\n",
    "    hello(&m);\n",
    "}\n",
    "main();"
   ]
  },
  {
   "cell_type": "markdown",
   "metadata": {
    "deletable": false,
    "editable": true
   },
   "source": [
    "## `Rc<T>`, le pointeur intelligent avec compteur de références"
   ]
  },
  {
   "cell_type": "markdown",
   "metadata": {
    "deletable": false,
    "editable": true
   },
   "source": [
    "Dans la majorité des cas, le propriétaire d'une valeur est clair (*ownership*) : on sait exactement quelle variable est propriétaire d'une valeur.\n",
    "Il existe cependant des cas où une valeur peut avoir plusieurs propriétaires (*owner*).\n",
    "Par exemple, dans une structure de données sous forme de graph, plusieurs arrêtes peuvent pointer sur le même noeud et celui-ci appartient conceptuellement à toutes ces arrêtes en même temps.\n",
    "Un noeud ne devrait pas être collecté (libérer la mémoire) tant qu'au moins une arrête pointe sur lui.\n",
    "\n",
    "Pour supporter ce cas de propriétaires multiples, Rust fournit le type `Rc<T>`, une abbréviation de *reference counting*.\n",
    "Le type `Rc<T>` garde la trace du nombre de références sur la valeur, ce qui détermine si celle-ci est toujours utilisée.\n",
    "Lorsque ce nombre atteint zéro, la valeur peut être désallouée sans qu'aucune référence ne devienne invalide."
   ]
  },
  {
   "cell_type": "markdown",
   "metadata": {
    "deletable": false,
    "editable": true
   },
   "source": [
    "Nous utilisons le type `Rc<T>` lorsque nous voulons allouer sur le tas de la donnée qui sera utilisée par plusieurs partie de notre programme, mais nous ne savons pas à la compilation quelle partie finira son usage le premier.\n",
    "\n",
    "Considérons l'exemple suivant :"
   ]
  },
  {
   "cell_type": "markdown",
   "metadata": {
    "deletable": false,
    "editable": true
   },
   "source": [
    "<img src=\"smartpointers-01.jpg\" width=\"350\" heigh=\"350\"/>"
   ]
  },
  {
   "cell_type": "code",
   "execution_count": null,
   "metadata": {
    "deletable": false,
    "editable": true,
    "vscode": {
     "languageId": "rust"
    }
   },
   "outputs": [],
   "source": [
    "enum List {\n",
    "    Cons(i32, Rc<List>),\n",
    "    Nil,\n",
    "}\n",
    "\n",
    "use crate::List::{Cons, Nil};\n",
    "use std::rc::Rc;\n",
    "\n",
    "fn main() {\n",
    "    let a = Rc::new(Cons(5, Rc::new(Cons(10, Rc::new(Nil)))));\n",
    "    // augmente le nombre de référence de 1 à 2, a et b partagent la propriété de la donnée dans Rc<List>\n",
    "    let b = Cons(3, Rc::clone(&a));\n",
    "    // augment le nombre de référence à 3\n",
    "    let c = Cons(4, Rc::clone(&a));\n",
    "}\n",
    "main();"
   ]
  },
  {
   "cell_type": "markdown",
   "metadata": {
    "deletable": false,
    "editable": true
   },
   "source": [
    "Lorsque nous créons `b`, au lieu de prendre la propriété (*ownership*) de `a`, nous clonons la valeur `Rc<List>` que `a` contient, et se faisant, nous augmentons le nombre de références vers la liste et laissons `a` et `b` partager la propriété des données.\n",
    "Nous clonons aussi à la création de `c`, augmentant encore de 1 le  nombre de références.\n",
    "A chaque fois que nous utilisons `Rc::clone`, le compteur de références s'incrémente."
   ]
  },
  {
   "cell_type": "markdown",
   "metadata": {
    "deletable": false,
    "editable": true
   },
   "source": [
    "Dans l'exemple suivant, nous affichons le nombre de références à chaque changement :"
   ]
  },
  {
   "cell_type": "code",
   "execution_count": null,
   "metadata": {
    "deletable": false,
    "editable": true,
    "vscode": {
     "languageId": "rust"
    }
   },
   "outputs": [],
   "source": [
    "enum List {\n",
    "    Cons(i32, Rc<List>),\n",
    "    Nil,\n",
    "}\n",
    "\n",
    "use crate::List::{Cons, Nil};\n",
    "use std::rc::Rc;\n",
    "\n",
    "fn main() {\n",
    "    let a = Rc::new(Cons(5, Rc::new(Cons(10, Rc::new(Nil)))));\n",
    "    println!(\"compte après la création de a = {}\", Rc::strong_count(&a));\n",
    "    let b = Cons(3, Rc::clone(&a));\n",
    "    println!(\"compte après la création de b = {}\", Rc::strong_count(&a));\n",
    "    {   // inner scope around list c\n",
    "        let c = Cons(4, Rc::clone(&a));\n",
    "        println!(\"compte après la création de c = {}\", Rc::strong_count(&a));\n",
    "    }\n",
    "    println!(\"compte après que le contexte de c se termine = {}\", Rc::strong_count(&a));\n",
    "}\n",
    "main();"
   ]
  },
  {
   "cell_type": "markdown",
   "metadata": {
    "deletable": false,
    "editable": true
   },
   "source": [
    "## `RefCell<T>` et le pattern de mutabilité interne"
   ]
  },
  {
   "cell_type": "markdown",
   "metadata": {
    "deletable": false,
    "editable": true
   },
   "source": [
    "La mutabilité interne (*interior mutability*) est un patron de conception (*design pattern*) en Rust dans lequel nous autorisons la mutation de données alors même qu'il existe des références non-mutables sur celles-ci; une action normalement interdite par les règles d'emprunt (*borrowing*)."
   ]
  },
  {
   "cell_type": "markdown",
   "metadata": {
    "deletable": false,
    "editable": true
   },
   "source": [
    "Avec le type `Box<T>`, les invariants des règles d'emprunt sont vérifiés à la *compilation*.\n",
    "Avec le type `RefCell<T>`, ces invariants sont vérifiés à l'*exécution*.\n",
    "Le type `RefCell<T>` est utile lorsque vous êtes sûr que le code vérifie ces invariants mais que le compilateur ne peut pas le prouver.\n",
    "`RefCell<T>` ne s'utilise que dans le contexte d'un seul fil d'exécution (*single thread*)."
   ]
  },
  {
   "cell_type": "code",
   "execution_count": null,
   "metadata": {
    "deletable": false,
    "editable": true,
    "vscode": {
     "languageId": "rust"
    }
   },
   "outputs": [],
   "source": [
    "use std::cell::RefCell;\n",
    "fn main() {   \n",
    "   let c = RefCell::new(5);\n",
    "   let m = c.borrow();\n",
    "   println!(\"{}\", *c.borrow());\n",
    "   // plusieurs emprunts non-mutables sont autorisés\n",
    "   // un nombre de référence non-mutables est maintenu à chaque nouvel emprunt\n",
    "   let p = c.borrow();\n",
    "}\n",
    "main();"
   ]
  },
  {
   "cell_type": "code",
   "execution_count": null,
   "metadata": {
    "deletable": false,
    "editable": true,
    "vscode": {
     "languageId": "rust"
    }
   },
   "outputs": [],
   "source": [
    "use std::cell::RefCell;\n",
    "fn main() {   \n",
    "   let c = RefCell::new(5);\n",
    "   // le nombre de références doit être 0 lors d'un emprunt mutable\n",
    "   let k = c.borrow_mut();\n",
    "   // un seul emprunt mutable est autorisé\n",
    "   // la ligne suivante produit une erreur à l'exécution\n",
    "   let l = c.borrow();   \n",
    "}\n",
    "main();"
   ]
  },
  {
   "cell_type": "code",
   "execution_count": null,
   "metadata": {
    "deletable": false,
    "editable": true,
    "scrolled": true,
    "vscode": {
     "languageId": "rust"
    }
   },
   "outputs": [],
   "source": [
    "fn main() {\n",
    "    let x = RefCell::new(vec![1,2,3,4]);\n",
    "\n",
    "    let v = x.borrow();\n",
    "    println!(\"{:?}\", *v);\n",
    "\n",
    "    let mut my_ref = x.borrow_mut(); // impossible d'emprunter de manière mutable\n",
    "    my_ref.push(1);\n",
    "}\n",
    "main();"
   ]
  },
  {
   "cell_type": "markdown",
   "metadata": {
    "deletable": false,
    "editable": true
   },
   "source": [
    "Avec `RefCell<T>`, nous utilisons les méthodes `borrow` et `borrow_mut`, qui font partie de la partie sûre (*safe*) de l'API de `RefCell<T>`.\n",
    "La méthode `borrow` retourne un pointeur intelligent de type `Ref<T>`, alors que la méthode `borrow_mut` retourne un pointeur intelligent de type `RefMut<T>`.\n",
    "Ces deux types implémentent tous deux `Deref` et peuvent donc être traités comme des références normales.\n",
    "\n",
    "`RefCell<T>` garde le compte du nombre de `Ref<T>` et `RefMut` actifs.\n",
    "A chaque appel à `borrow`, `RefCell<T>` augment le nombre d'emprunts non-mutables.\n",
    "De même que les règles d'emprunt vérifiées à la *compilation*, `RefCell<T>` nous laisse prendre plusieurs références non-mutables en même temps, mais une seule référence mutable à l'exclusion de toutes les autres."
   ]
  },
  {
   "cell_type": "markdown",
   "metadata": {
    "deletable": false,
    "editable": true
   },
   "source": [
    "**Exercise 1:** Quelles assertions s'appliquent à quels types (Box, Rc, RefCell) ?\n",
    "\n",
    "* autorise plusieurs propriétaires pour la même donnée\n",
    "* a un seul propriétaire\n",
    "* permet un emprunt non-mutable vérifié à la *compilation*\n",
    "* permet un emprunt mutable vérifié à la *compilation*\n",
    "* permet un emprunt non-mutable vérifié à l'*exécution*\n",
    "* permet un emprunt mutable vérifié à l'*exécution*"
   ]
  },
  {
   "cell_type": "markdown",
   "metadata": {
    "deletable": false,
    "editable": true,
    "hide_input": true
   },
   "source": [
    "**Solution:**"
   ]
  },
  {
   "cell_type": "markdown",
   "metadata": {
    "deletable": false,
    "editable": true,
    "hide_input": true
   },
   "source": [
    "Petit résumé pour bien choisir entre `Box<T>`, `Rc<T>`, et `RefCell<T>`:\n",
    "\n",
    "* `Rc<T>` permet d'avoir plusieurs propriétaires, `Box<T>` et `RefCell<T>` n'en ont qu'un seul.\n",
    "* `Box<T>` permet de vérifier à la compilation les emprunts non-mutables et mutables; `Rc<T>` permet uniquement les emprunts non-mutables vérifiés à la compilation; `RefCell<T>` permet les emprunts non-mutables et mutables vérifiés à l'exécution.\n",
    "* Comme `RefCell<T>` permet les emprunts mutables vérifiés à l'exécution, il est possible de muter la valeur à l'intérieur de `RefCell<T>`, alors même que l'objet `RefCell<T>` est lui-même immutable.\n"
   ]
  }
 ],
 "metadata": {
  "kernelspec": {
   "display_name": "Rust",
   "language": "rust",
   "name": "rust"
  },
  "language_info": {
   "codemirror_mode": "rust",
   "file_extension": ".rs",
   "mimetype": "text/rust",
   "name": "Rust",
   "pygment_lexer": "rust",
   "version": ""
  }
 },
 "nbformat": 4,
 "nbformat_minor": 2
}
