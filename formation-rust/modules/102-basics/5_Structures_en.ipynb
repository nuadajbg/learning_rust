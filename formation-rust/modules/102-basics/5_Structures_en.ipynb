{
 "cells": [
  {
   "cell_type": "markdown",
   "metadata": {},
   "source": [
    "# Structures"
   ]
  },
  {
   "cell_type": "markdown",
   "metadata": {},
   "source": [
    "A struct, or structure, is a custom data type that lets you name and package together multiple related values that make up a meaningful group. Structs and enums are the building blocks for creating new types in your program’s domain to take full advantage of Rust’s compile time type checking.\n",
    "\n",
    "Like tuples, the pieces of a struct can be different types. Unlike with tuples, you’ll name each piece of data so it’s clear what the values mean. As a result of these names, structs are more flexible than tuples: you don’t have to rely on the order of the data to specify or access the values of an instance."
   ]
  },
  {
   "cell_type": "code",
   "execution_count": null,
   "metadata": {
    "vscode": {
     "languageId": "rust"
    }
   },
   "outputs": [],
   "source": [
    "fn main() {\n",
    "    struct User { \n",
    "        username: String,  // this is a field\n",
    "        email: String,\n",
    "        sign_in_count: u64,\n",
    "        active: bool,\n",
    "    }\n",
    "\n",
    "    let user1 = User { // this is an instance of the \"User\" struct\n",
    "        email: String::from(\"someone@example.com\"),\n",
    "        username: String::from(\"someusername123\"),\n",
    "        active: true,\n",
    "        sign_in_count: 1,\n",
    "    };\n",
    "}\n",
    "main();"
   ]
  },
  {
   "cell_type": "markdown",
   "metadata": {},
   "source": [
    "To get a specific value from a struct, we can use dot notation. If the instance is mutable, we can change a value by using the dot notation and assigning into a particular field."
   ]
  },
  {
   "cell_type": "markdown",
   "metadata": {},
   "source": [
    ">**Note:** the entire instance must be mutable; Rust doesn’t allow us to mark only certain fields as mutable. "
   ]
  },
  {
   "cell_type": "code",
   "execution_count": null,
   "metadata": {
    "vscode": {
     "languageId": "rust"
    }
   },
   "outputs": [],
   "source": [
    "fn main() {\n",
    "    struct User { \n",
    "        username: String,  // this is a field\n",
    "        email: String,\n",
    "        sign_in_count: u64,\n",
    "        active: bool,\n",
    "    }\n",
    "\n",
    "    let mut user1 = User { // <-- user1 is mutable\n",
    "        email: String::from(\"someone@example.com\"),\n",
    "        username: String::from(\"someusername123\"),\n",
    "        active: true,\n",
    "        sign_in_count: 1,\n",
    "    };\n",
    "    // mutate email in user1\n",
    "    user1.email = String::from(\"anotheremail@example.com\");\n",
    "}\n",
    "main();"
   ]
  },
  {
   "cell_type": "markdown",
   "metadata": {},
   "source": [
    "As with any expression, we can construct a new instance of the struct as the last expression in the function body to implicitly return that new instance."
   ]
  },
  {
   "cell_type": "code",
   "execution_count": null,
   "metadata": {
    "vscode": {
     "languageId": "rust"
    }
   },
   "outputs": [],
   "source": [
    "fn main() {\n",
    "    struct User { \n",
    "        username: String,  // this is a field\n",
    "        email: String,\n",
    "        sign_in_count: u64,\n",
    "        active: bool,\n",
    "    }\n",
    "\n",
    "    fn build_user(email: String, username: String) -> User {\n",
    "        User { // <-- last expression of  the build_user function\n",
    "            email: email,\n",
    "            username: username,\n",
    "            active: true,\n",
    "            sign_in_count: 1,\n",
    "        }\n",
    "    }\n",
    "}\n",
    "main();"
   ]
  },
  {
   "cell_type": "markdown",
   "metadata": {},
   "source": [
    "When the parameter names and the struct field names are exactly the same in this example, we can use the *field init shorthand syntax* to rewrite build_user so that it behaves exactly the same but doesn’t have the repetition of email and username."
   ]
  },
  {
   "cell_type": "code",
   "execution_count": null,
   "metadata": {
    "vscode": {
     "languageId": "rust"
    }
   },
   "outputs": [],
   "source": [
    "fn main() {\n",
    "    struct User { \n",
    "        username: String,  // this is a field\n",
    "        email: String,\n",
    "        sign_in_count: u64,\n",
    "        active: bool,\n",
    "    }\n",
    "\n",
    "    fn build_user(email: String, username: String) -> User {\n",
    "        User {\n",
    "            email,        // <-- shorthand instead of email: email\n",
    "            username,     // <-- same\n",
    "            active: true,\n",
    "            sign_in_count: 1,\n",
    "        }\n",
    "    }\n",
    "}\n",
    "main();"
   ]
  },
  {
   "cell_type": "markdown",
   "metadata": {},
   "source": [
    "Creating instances from other instances\n",
    "---"
   ]
  },
  {
   "cell_type": "markdown",
   "metadata": {},
   "source": [
    "To create an instance from another instance without struct update syntax:"
   ]
  },
  {
   "cell_type": "code",
   "execution_count": null,
   "metadata": {
    "vscode": {
     "languageId": "rust"
    }
   },
   "outputs": [],
   "source": [
    "fn main() {\n",
    "        struct User { \n",
    "                username: String,  // this is a field\n",
    "                email: String,\n",
    "                sign_in_count: u64,\n",
    "                active: bool,\n",
    "        };\n",
    "\n",
    "        let user1 = User {\n",
    "                email: String::from(\"someone@example.com\"),\n",
    "                username: String::from(\"someusername123\"),\n",
    "                active: true,\n",
    "                sign_in_count: 1,\n",
    "        };\n",
    "        let user2 = User { // without the struct update syntax\n",
    "                email: String::from(\"another@example.com\"),\n",
    "                username: String::from(\"anotherusername567\"),\n",
    "                active: user1.active,\n",
    "                sign_in_count: user1.sign_in_count,\n",
    "        };\n",
    "        println!(\"user2: {}\", user2.username);\n",
    "        let user3 = User { // update syntax\n",
    "                email: String::from(\"yet_another@example.com\"),\n",
    "                username: String::from(\"username456\"),\n",
    "                ..user1  // <-- rest of the members will be taken from user1\n",
    "        };\n",
    "        println!(\"user3: {}\", user3.username);\n",
    "}\n",
    "main();"
   ]
  },
  {
   "cell_type": "markdown",
   "metadata": {},
   "source": [
    "Using Tuple Structs without Named Fields to Create Different Types\n",
    "---"
   ]
  },
  {
   "cell_type": "markdown",
   "metadata": {},
   "source": [
    "You can also define structs that look similar to tuples, called tuple structs. Tuple structs have the added meaning the struct name provides but don’t have names associated with their fields; rather, they just have the types of the fields. Tuple structs are useful when you want to give the whole tuple a name and make the tuple be a different type than other tuples, and naming each field as in a regular struct would be verbose or redundant."
   ]
  },
  {
   "cell_type": "code",
   "execution_count": null,
   "metadata": {
    "vscode": {
     "languageId": "rust"
    }
   },
   "outputs": [],
   "source": [
    "fn main() {\n",
    "    struct Color(i32, i32, i32);\n",
    "    struct Point(i32, i32, i32);\n",
    "\n",
    "    let black = Color(0, 0, 0);\n",
    "    let origin = Point(0, 0, 0);\n",
    "\n",
    "    println!(\"black = ({}, {}, {})\", black.0, black.1, black.2);\n",
    "}\n",
    "main();"
   ]
  },
  {
   "cell_type": "markdown",
   "metadata": {},
   "source": [
    "> Note that the `black` and `origin` values are different types, because they’re instances of different tuple structs. Each struct you define is its own type, even though the fields within the struct have the same types. Tuple struct instances behave like tuples: you can destructure them into their individual pieces, you can use a **.** followed by the index to access an individual value, and so on."
   ]
  },
  {
   "cell_type": "markdown",
   "metadata": {},
   "source": [
    "Defining *methods*\n",
    "---"
   ]
  },
  {
   "cell_type": "markdown",
   "metadata": {},
   "source": [
    "**Methods** are similar to functions: they’re declared with the fn keyword and their name, they can have parameters and a return value, and they contain some code that is run when they’re called from somewhere else. However, methods are different from functions in that they’re defined within the context of a struct (or an enum or a trait object).\n",
    "\n",
    "When a method need to refer to the instance of the struct, their first parameter is always `self`, which represents the instance of the struct the method is being called on."
   ]
  },
  {
   "cell_type": "code",
   "execution_count": null,
   "metadata": {
    "vscode": {
     "languageId": "rust"
    }
   },
   "outputs": [],
   "source": [
    "fn main() {\n",
    "    struct Rectangle {\n",
    "        width: u32,\n",
    "        height: u32,\n",
    "    }\n",
    "    \n",
    "    impl Rectangle {\n",
    "        fn area(&self) -> u32 {\n",
    "            self.width * self.height\n",
    "        }\n",
    "    }\n",
    "    \n",
    "    let rect1 = Rectangle { width: 30, height: 50 };\n",
    "\n",
    "    println!(\n",
    "        \"The area of the rectangle is {} square pixels.\",\n",
    "        rect1.area()\n",
    "    );\n",
    "}\n",
    "main();"
   ]
  },
  {
   "cell_type": "markdown",
   "metadata": {},
   "source": [
    "`&self` is used as a parameter because we don’t want to take ownership, and we just want to read the data in the struct, not write to it. Having a method that takes ownership of the instance by using just `self` as the first parameter is rare; this technique is usually used when the method transforms `self` into something else and you want to prevent the caller from using the original instance after the transformation. Ownership is discussed later in another chapter."
   ]
  },
  {
   "cell_type": "markdown",
   "metadata": {},
   "source": [
    "It is possible to define methods without a `self` parameter, in which case they act as static methods for the type.\n",
    "\n",
    "In fact, this is exactly what is used in Rust as a convention for constructors. Did you notice that until this point we only used explicit construction of structures? The convention in Rust is to define a method named `new` that takes adequate arguments and return the initialized structure :"
   ]
  },
  {
   "cell_type": "markdown",
   "metadata": {},
   "source": [
    "> Note that despite being named `new`, the function has no special meaning in Rust. There is no `new` keyword. Using `new` as the name of a function to build an instance is a convention."
   ]
  },
  {
   "cell_type": "code",
   "execution_count": null,
   "metadata": {
    "vscode": {
     "languageId": "rust"
    }
   },
   "outputs": [],
   "source": [
    "fn main() {\n",
    "    struct Rectangle {\n",
    "        width: u32,\n",
    "        height: u32,\n",
    "    }\n",
    "    \n",
    "    impl Rectangle {\n",
    "        /// this is our constructor, the name new is nothing special\n",
    "        fn new(width: u32, height: u32) -> Rectangle {\n",
    "            Rectangle { width, height }\n",
    "        }\n",
    "    \n",
    "        fn area(&self) -> u32 {\n",
    "            self.width * self.height\n",
    "        }\n",
    "    }\n",
    "\n",
    "    let rect1 = Rectangle::new(30, 50);\n",
    "\n",
    "    println!(\n",
    "        \"The area of the rectangle is {} square pixels.\",\n",
    "        rect1.area()\n",
    "    );\n",
    "}\n",
    "main();"
   ]
  },
  {
   "cell_type": "markdown",
   "metadata": {},
   "source": [
    "Exercises\n",
    "==="
   ]
  },
  {
   "cell_type": "markdown",
   "metadata": {},
   "source": [
    "**Exercice 1:** Re-write the following code using struct."
   ]
  },
  {
   "cell_type": "code",
   "execution_count": null,
   "metadata": {
    "vscode": {
     "languageId": "rust"
    }
   },
   "outputs": [],
   "source": [
    "let width: u32 = 30; // the width of the rectangle\n",
    "let height: u32 = 50; // the height of the rectangle\n",
    "println!(\"The width of the rectangle is {} and the height is {}\", width, height);"
   ]
  },
  {
   "cell_type": "code",
   "execution_count": null,
   "metadata": {
    "vscode": {
     "languageId": "rust"
    }
   },
   "outputs": [],
   "source": [
    "// TO DO (1) Create a structure called Rectangle\n",
    "\n",
    "// TO DO (2) Initialize the structure\n",
    "\n",
    "\n",
    "// TO DO (3) Display the width and height\n"
   ]
  },
  {
   "cell_type": "markdown",
   "metadata": {},
   "source": [
    "**Solution:**"
   ]
  },
  {
   "cell_type": "code",
   "execution_count": null,
   "metadata": {
    "hide_input": true,
    "vscode": {
     "languageId": "rust"
    }
   },
   "outputs": [],
   "source": [
    "fn main() {\n",
    "    struct Rectangle {\n",
    "        width: u32,\n",
    "        height: u32,\n",
    "    }\n",
    "\n",
    "    impl Rectangle {\n",
    "        fn new(width: u32, height: u32) -> Rectangle {\n",
    "            Rectangle { width, height }\n",
    "        }\n",
    "\n",
    "        fn display(&self) {\n",
    "            println!(\"The width of the rectangle is {} and the height is {}\", self.width, self.height);\n",
    "        }\n",
    "    }\n",
    "\n",
    "    let rect1 = Rectangle::new(30, 50);\n",
    "    rect1.display();\n",
    "}\n",
    "main();"
   ]
  },
  {
   "cell_type": "markdown",
   "metadata": {},
   "source": [
    "What if we want to display the instance of a structure? (could be useful for debugging)"
   ]
  },
  {
   "cell_type": "code",
   "execution_count": null,
   "metadata": {
    "vscode": {
     "languageId": "rust"
    }
   },
   "outputs": [],
   "source": [
    "struct Rectangle {\n",
    "    width: u32,\n",
    "    height: u32,\n",
    "}\n",
    "\n",
    "let rect1 = Rectangle { width: 30, height: 50 };\n",
    "\n",
    "println!(\"rect1 is {}\", rect1);\n"
   ]
  },
  {
   "cell_type": "markdown",
   "metadata": {},
   "source": [
    "The `println!` macro can do many kinds of formatting, and by default, the curly brackets tell println! to use formatting known as `Display`: output intended for direct end user consumption. The primitive types we’ve seen so far implement Display by default, because there’s only one way you’d want to show a `1` or any other primitive type to a user. But with structs, the way `println!` should format the output is less clear because there are more display possibilities: Do you want commas or not? Do you want to print the curly brackets? Should all the fields be shown? Due to this ambiguity, Rust doesn’t try to guess what we want, and structs don’t have a provided implementation of `Display`."
   ]
  },
  {
   "cell_type": "markdown",
   "metadata": {},
   "source": [
    "Rust does include functionality to print out debugging information, but we have to explicitly opt in to make that functionality available for our struct. To do that, we add the annotation `#[derive(Debug)]` just before the struct definition."
   ]
  },
  {
   "cell_type": "code",
   "execution_count": null,
   "metadata": {
    "vscode": {
     "languageId": "rust"
    }
   },
   "outputs": [],
   "source": [
    "fn main() {\n",
    "    #[derive(Debug)]\n",
    "    struct Rectangle {\n",
    "        width: u32,\n",
    "        height: u32,\n",
    "    }\n",
    "    \n",
    "    \n",
    "    let rect1 = Rectangle { width: 30, height: 50 };\n",
    "    \n",
    "    println!(\"rect1 is {:?}\", rect1); // tell println! to use an output format called Debug\n",
    "}"
   ]
  },
  {
   "cell_type": "markdown",
   "metadata": {},
   "source": [
    "Putting the specifier **:?** inside the curly brackets tells `println!` we want to use an output format called `Debug`. The Debug **trait** enables us to print our struct in a way that is useful for developers so we can see its value while we’re debugging our code."
   ]
  },
  {
   "cell_type": "markdown",
   "metadata": {},
   "source": [
    ">*__Note:__\n",
    "Traits are similar to a feature often called interfaces in other languages, although with some differences.*"
   ]
  },
  {
   "cell_type": "markdown",
   "metadata": {},
   "source": [
    "When we have larger structs, it’s useful to have output that’s a bit easier to read; in those cases, we can use **{:#?}**."
   ]
  },
  {
   "cell_type": "markdown",
   "metadata": {},
   "source": [
    "**Exercise 2:** To see the result when using {:#?}, try it on the previous example."
   ]
  },
  {
   "cell_type": "markdown",
   "metadata": {},
   "source": [
    "**Exercise 3:** Define a structure *GeoCoordinate* containing a geographical *latitude* and *longitude* and implement the *to_degrees()* and *to_radians()* methods that transforms coordinates into degrees and radians respectively.\n",
    "Then define a GeoBoundingBox structure containing the min and max coordinates of a bounding box. Test your implementation."
   ]
  },
  {
   "cell_type": "markdown",
   "metadata": {},
   "source": [
    "**Sample test data:** latitude: 44.84, longitude: -0.58 "
   ]
  },
  {
   "cell_type": "markdown",
   "metadata": {},
   "source": [
    "> **Tips:** Open the documentation pages for the f64 primitive type, and look for the `to_degrees` and `to_radians` methods. https://doc.rust-lang.org/std/primitive.f64.html#method.to_degrees"
   ]
  },
  {
   "cell_type": "code",
   "execution_count": null,
   "metadata": {
    "vscode": {
     "languageId": "rust"
    }
   },
   "outputs": [],
   "source": [
    "// TO DO (1) Define the GeoCoordinate structure\n",
    "\n",
    "// TO DO (2) Implement for the GeoCoordinate structure the to_degrees and to_radians methods\n",
    "\n",
    "fn main() {\n",
    "    // TO DO (3) Test your implementation\n",
    "    \n",
    "}\n",
    "main();\n"
   ]
  },
  {
   "cell_type": "markdown",
   "metadata": {},
   "source": [
    "**Solution:**"
   ]
  },
  {
   "cell_type": "code",
   "execution_count": null,
   "metadata": {
    "hide_input": true,
    "vscode": {
     "languageId": "rust"
    }
   },
   "outputs": [],
   "source": [
    "#[derive(Debug)]\n",
    "struct GeoCoordinate {\n",
    "    /// The latitude\n",
    "    latitude: f64,\n",
    "    /// The longitude\n",
    "    longitude: f64\n",
    "}\n",
    "\n",
    "impl GeoCoordinate {\n",
    "    /// Transforms to values in degrees\n",
    "    fn to_degrees(&self) -> GeoCoordinate {\n",
    "        GeoCoordinate {\n",
    "            latitude: self.latitude.to_degrees(),\n",
    "            longitude: self.longitude.to_degrees()\n",
    "        }\n",
    "    }\n",
    "\n",
    "    /// Transforms to velues in radians\n",
    "    fn to_radians(&self) -> GeoCoordinate {\n",
    "        GeoCoordinate {\n",
    "            latitude: self.latitude.to_radians(),\n",
    "            longitude: self.longitude.to_radians()\n",
    "        }\n",
    "    }\n",
    "}\n",
    "\n",
    "fn main() {\n",
    "    let x = GeoCoordinate {latitude: 44.84, longitude: -0.58}; // coordonnées de la ville de Bordeaux \n",
    "    println!(\"{:#?}\", x.to_degrees());\n",
    "}\n",
    "main();"
   ]
  }
 ],
 "metadata": {
  "kernelspec": {
   "display_name": "Rust",
   "language": "rust",
   "name": "rust"
  },
  "language_info": {
   "codemirror_mode": "rust",
   "file_extension": ".rs",
   "mimetype": "text/rust",
   "name": "Rust",
   "pygment_lexer": "rust",
   "version": ""
  }
 },
 "nbformat": 4,
 "nbformat_minor": 2
}
