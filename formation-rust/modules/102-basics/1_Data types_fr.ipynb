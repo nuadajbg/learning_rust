{
 "cells": [
  {
   "cell_type": "markdown",
   "metadata": {
    "deletable": false,
    "editable": true
   },
   "source": [
    "# Types de données\n",
    "\n",
    "Toutes les valeurs en Rust ont un type de données, définissant pour Rust quelle sorte de donnée est spécifiée, de telle sorte que Rust sache l'utiliser. Nous utiliserons deux grands ensembles de types de données : les types **scalaires** et les types **composés**.\n",
    "\n",
    "Rust est un langage *à typage statique*, ce qui veut dire que Rust doit connaitre le type de toutes les variables à la compilation. Le compilateur peut dans certains cas inférer le type à partir de la façon dont une variable est initialisée et/ou utilisée."
   ]
  },
  {
   "cell_type": "markdown",
   "metadata": {
    "deletable": false,
    "editable": true
   },
   "source": [
    "Types scalaires\n",
    "=======\n",
    "\n",
    "Rust a quatre types scalaires primaires : les entiers, les nombre à virgule flottante, les booléens et les caractères.\n",
    "\n",
    "Nombres entiers\n",
    "---------------\n",
    "Le nom des types pour les entiers signés commencent par **i**, alor que les non-signés commencent par **u**. Le nombre de bits pour le type est explicitement indiqué dans le nom du type, à l'exception des types **isize** et **usize** dont le taille dépend de l'architecture cible (64 bits sur une architecture 64 bits, 32 bits sur une architecture 32 bits).\n",
    "\n",
    "Si vous n'êtes pas sûr de quel type d'entier utiliser, les choix par défaut de Rust sont en général bons. Le type d'entier par défaut est **i32**, qui est en général le plus rapide, y compris sur les systèmes 64 bits."
   ]
  },
  {
   "cell_type": "markdown",
   "metadata": {
    "deletable": false,
    "editable": true
   },
   "source": [
    "| Longueur\t |  Signé  |  Non-signé|\n",
    "-------- |----------|----------|\n",
    "| 8-bit\t |   i8\t    |   u8      |\n",
    "| 16-bit |   i16\t|   u16     |\n",
    "| 32-bit |   i32\t|   u32     |\n",
    "| 64-bit |   i64\t|   u64     |\n",
    "| 128-bit|   i128   |   u128    |\n",
    "| arch\t |   isize\t|   usize   |\n"
   ]
  },
  {
   "cell_type": "code",
   "execution_count": null,
   "metadata": {
    "deletable": false,
    "editable": true
   },
   "outputs": [],
   "source": [
    "let guess = 5; // i32 par défaut\n",
    "\n",
    "let y: u32 = 5; // annotation de type pour déclarer le type"
   ]
  },
  {
   "cell_type": "markdown",
   "metadata": {
    "deletable": false,
    "editable": true
   },
   "source": [
    "Une annotation de type est obligatoire lorsque plusieurs types sont possibles et que le compilateur de peut pas choisir."
   ]
  },
  {
   "cell_type": "code",
   "execution_count": null,
   "metadata": {
    "deletable": false,
    "editable": true
   },
   "outputs": [],
   "source": [
    "fn main() {\n",
    "    let guess: u32 = \"42\".parse().expect(\"Pas un nombre!\");\n",
    "    println!(\"Mon nombre est {}\", guess);\n",
    "}\n",
    "main();"
   ]
  },
  {
   "cell_type": "markdown",
   "metadata": {
    "deletable": false,
    "editable": true
   },
   "source": [
    "> Exercice: essayer d'enlever l'annotation de type sur `let guess: u32` dans le code ci-dessus et essayer de le ré-executer."
   ]
  },
  {
   "cell_type": "code",
   "execution_count": null,
   "metadata": {},
   "outputs": [],
   "source": [
    "fn main() {\n",
    "    // Integer addition\n",
    "    println!(\"1 + 2 = {}\", 1u32 + 2);\n",
    "\n",
    "    // Integer subtraction\n",
    "    // TO DO:\n",
    "    let x = 1i32 - 2; //short syntax: value followed by a type\n",
    "    println!(\"1 - 2 = {}\", x);\n",
    "    \n",
    "    // Syntax with underscore to improve readability\n",
    "    println!(\"One million is written as {}\", 1_000_000u32);\n",
    "}\n",
    "main();"
   ]
  },
  {
   "cell_type": "markdown",
   "metadata": {
    "deletable": false,
    "editable": true
   },
   "source": [
    "> Exercice : Essayez de changer `1i32` en `1u32` pour voir pourquoi le type est important"
   ]
  },
  {
   "cell_type": "markdown",
   "metadata": {
    "deletable": false,
    "editable": true
   },
   "source": [
    "Nombres à virgule flottante\n",
    "-----------------------\n",
    "Les types de nombre à virgule flottante en Rust sont **f32** et **f64**, avec une taille respecctive de 32 et 64 bits. Le type par défaut est **f64** parce que sur les processeurs modernes il est quasiment aussi rapide que **f32**, mais avec plus de précision."
   ]
  },
  {
   "cell_type": "code",
   "execution_count": null,
   "metadata": {
    "deletable": false,
    "editable": true
   },
   "outputs": [],
   "source": [
    "let x = 2.0; // f64\n",
    "\n",
    "let y: f32 = 3.0; // f32"
   ]
  },
  {
   "cell_type": "markdown",
   "metadata": {
    "deletable": false,
    "editable": true
   },
   "source": [
    "Opérateurs numériques\n",
    "--------------------"
   ]
  },
  {
   "cell_type": "code",
   "execution_count": null,
   "metadata": {
    "deletable": false,
    "editable": true
   },
   "outputs": [],
   "source": [
    "// addition\n",
    "let sum = 5 + 10;\n",
    "\n",
    "// soustraction\n",
    "let difference = 95.5 - 4.3;\n",
    "\n",
    "// multiplication\n",
    "let product = 4 * 30;\n",
    "\n",
    "// division\n",
    "let quotient = 56.7 / 32.2;\n",
    "\n",
    "// modulo\n",
    "let remainder = 43 % 5;"
   ]
  },
  {
   "cell_type": "markdown",
   "metadata": {
    "deletable": false,
    "editable": true
   },
   "source": [
    "Opérateurs logiques et binaires\n",
    "---"
   ]
  },
  {
   "cell_type": "code",
   "execution_count": null,
   "metadata": {
    "deletable": false,
    "editable": true
   },
   "outputs": [],
   "source": [
    "// Opérateurs logiques\n",
    "    println!(\"true AND false is {}\", true && false);\n",
    "    println!(\"true OR false is {}\", true || false);\n",
    "    println!(\"NOT true is {}\", !true);\n",
    "\n",
    "// Opérateurs binaires\n",
    "    println!(\"0011 AND 0101 is {:04b}\", 0b0011u32 & 0b0101);\n",
    "    println!(\"0011 OR 0101 is {:04b}\", 0b0011u32 | 0b0101);\n",
    "    println!(\"0011 XOR 0101 is {:04b}\", 0b0011u32 ^ 0b0101);\n",
    "    println!(\"1 << 5 is {}\", 1u32 << 5);\n",
    "    println!(\"0x80 >> 2 is 0x{:x}\", 0x80u32 >> 2);"
   ]
  },
  {
   "cell_type": "markdown",
   "metadata": {
    "deletable": false,
    "editable": true
   },
   "source": [
    "Type booléen\n",
    "-------------"
   ]
  },
  {
   "cell_type": "code",
   "execution_count": null,
   "metadata": {
    "deletable": false,
    "editable": true
   },
   "outputs": [],
   "source": [
    "let t = true;\n",
    "\n",
    "let f: bool = false; // avec une annotation de type explicite"
   ]
  },
  {
   "cell_type": "markdown",
   "metadata": {
    "deletable": false,
    "editable": true
   },
   "source": [
    "Le type caractère\n",
    "---------------------\n",
    "Le type le plus primitif pour le texte, **char** définie ses littéraux entre guillemets (quote) simple, par opposition aux littéraux de chaînes de caractères qui utilisent les doubles guillemets. Le type **char** en Rust a une taille de 4 octets et représente une valeur Unicode Scalar Value; ce qui signifie qu'il peut représenter bien plus que les caractères ASCII : lettres accentuées, Chinois, Japonais, Koréen, émojis, et autres espace zero-width sont tous des **char** valides en Rust."
   ]
  },
  {
   "cell_type": "code",
   "execution_count": null,
   "metadata": {
    "deletable": false,
    "editable": true
   },
   "outputs": [],
   "source": [
    "let c = 'z';\n",
    "let z = 'ℤ';\n",
    "let heart_eyed_cat = '😻';"
   ]
  },
  {
   "cell_type": "markdown",
   "metadata": {
    "deletable": false,
    "editable": true
   },
   "source": [
    "String literals\n",
    "---"
   ]
  },
  {
   "cell_type": "markdown",
   "metadata": {
    "deletable": false,
    "editable": true
   },
   "source": [
    "Une chaîne de caractères est une séquence de n'importe quel caractère Unicode, commençant par et se terminant par des doubles guillemets **\"** (double quotes), à l'exception de ce caractère qui doit être échappé par un anti-slash ( **\\\\** ).\n",
    "\n",
    "> Notez que en interne, les chaînes de caractères Rust (type `String` et `str`) sont toujours représentées en mémoire comme une suite d'encodage UTF-8 valide.\n",
    "> Il n'est **PAS** possible en Rust de constuire une `String` contenant une séquence UTF-8 invalide."
   ]
  },
  {
   "cell_type": "markdown",
   "metadata": {
    "deletable": false,
    "editable": true
   },
   "source": [
    "Les caractères de fin de lignes sont autorisés dans les littéraux de chaînes de caractères. Ils sont intégrés tels que dans la chaînes de caractères, sauf dans le cas où ils sont d'abord échappés avec un anti-slash **\\\\**. Dans ce cas, le caractère d'échappement, la fin de ligne et tous les espaces au début de la ligne suivante sont ignorés.\n",
    "\n",
    "Ainsi, dans le code suivant, `a` et `b` sont égaux."
   ]
  },
  {
   "cell_type": "code",
   "execution_count": null,
   "metadata": {
    "deletable": false,
    "editable": true
   },
   "outputs": [],
   "source": [
    "let a = \"foobar\";\n",
    "let b = \"foo\\\n",
    "         bar\";"
   ]
  },
  {
   "cell_type": "markdown",
   "metadata": {
    "deletable": false,
    "editable": true
   },
   "source": [
    "Conversions de types\n",
    "---"
   ]
  },
  {
   "cell_type": "markdown",
   "metadata": {
    "deletable": false,
    "editable": true
   },
   "source": [
    "Référence utile pour la converion de types : http://carols10cents.github.io/rust-conversion-reference/\n",
    "\n",
    "* Utilisez `as` pour convertir des types primitifs."
   ]
  },
  {
   "cell_type": "code",
   "execution_count": null,
   "metadata": {
    "deletable": false,
    "editable": true
   },
   "outputs": [],
   "source": [
    "let x = 6.5; // f64 implicitement\n",
    "let y = x as u32; // conversion de f64 vers u32\n",
    "println!(\"{}\", y);\n",
    "let z: String = x.to_string(); // conversion vers une chaîne de caractères\n",
    "println!(\"{}\", z);"
   ]
  },
  {
   "cell_type": "markdown",
   "metadata": {
    "deletable": false,
    "editable": true
   },
   "source": [
    "Constantes\n",
    "---"
   ]
  },
  {
   "cell_type": "code",
   "execution_count": null,
   "metadata": {
    "deletable": false,
    "editable": true
   },
   "outputs": [],
   "source": [
    "const N: i32 = 5;"
   ]
  },
  {
   "cell_type": "markdown",
   "metadata": {
    "deletable": false,
    "editable": true
   },
   "source": [
    "A l'inverse d'une déclaration avec `let`, une déclaration avec de constante avec `const` doit utiliser une annotation de type. La librairie standard définie quelques constantes utiles :"
   ]
  },
  {
   "cell_type": "code",
   "execution_count": null,
   "metadata": {
    "deletable": false,
    "editable": true
   },
   "outputs": [],
   "source": [
    "const MAX: i32 = std::i32::MAX;\n",
    "const MIN: i32 = std::i32::MIN;"
   ]
  },
  {
   "cell_type": "code",
   "execution_count": null,
   "metadata": {
    "deletable": false,
    "editable": true
   },
   "outputs": [],
   "source": [
    "println!(\"The i32 max value is: {}\", std::i32::MAX);\n",
    "println!(\"The u32 max value is: {}\", std::u32::MAX);"
   ]
  },
  {
   "cell_type": "markdown",
   "metadata": {
    "deletable": false,
    "editable": true
   },
   "source": [
    "Types composés\n",
    "========"
   ]
  },
  {
   "cell_type": "markdown",
   "metadata": {
    "deletable": false,
    "editable": true
   },
   "source": [
    "Le type tuple\n",
    "----------------"
   ]
  },
  {
   "cell_type": "markdown",
   "metadata": {
    "deletable": false,
    "editable": true
   },
   "source": [
    "Un tuple est un moyen général pour grouper ensemble des nombre, ou tout autres valeurs avec une variété de types, en un seul type composé. Les tuples ont une *taille fixe*, une fois déclarés, ils ne peuvent pas être aggrandis ou rétrécis.\n",
    "\n",
    "On écrit un tuple comme une liste de valeurs séparées par des virgules et entourée de parenthèses. Chaque élément du tuple a un type, qui peut être différent d'un élément à l'autre."
   ]
  },
  {
   "cell_type": "code",
   "execution_count": null,
   "metadata": {
    "deletable": false,
    "editable": true
   },
   "outputs": [],
   "source": [
    "let tup: (i32, f64, u8) = (500, 6.4, 1);"
   ]
  },
  {
   "cell_type": "markdown",
   "metadata": {
    "deletable": false,
    "editable": true
   },
   "source": [
    "Pour accéder à une valeur individuelle à l'intérieur d'un tuple, il est possible d'utiliser le *pattern matching* pour déstructurer le tuple. Un autre manière consiste à accéder directement à l'élément en utilisant le point ( . ), suivi de l'index de la valeur voulue dans le tuple."
   ]
  },
  {
   "cell_type": "code",
   "execution_count": null,
   "metadata": {
    "deletable": false,
    "editable": true
   },
   "outputs": [],
   "source": [
    "let tup = (500, 6.4, 1); // L'inférence de type peut être utilisée\n",
    "\n",
    "let (x, y, z) = tup; // déstructuration du tuple\n",
    "\n",
    "println!(\"The value of y is: {}\", y);\n",
    "println!(\"The tuple is: {:?}\", tup); // l'option :? sera expliquée plus tard"
   ]
  },
  {
   "cell_type": "code",
   "execution_count": null,
   "metadata": {
    "deletable": false,
    "editable": true
   },
   "outputs": [],
   "source": [
    "let x: (i32, f64, u8) = (500, 6.4, 1);\n",
    "\n",
    "let five_hundred = x.0; // accès à un élément du tuple\n",
    "\n",
    "let six_point_four = x.1;\n",
    "\n",
    "let one = x.2;"
   ]
  },
  {
   "cell_type": "markdown",
   "metadata": {
    "deletable": false,
    "editable": true
   },
   "source": [
    "Les tableaux\n",
    "----------------"
   ]
  },
  {
   "cell_type": "markdown",
   "metadata": {
    "deletable": false,
    "editable": true
   },
   "source": [
    "A l'inverse d'un tuple, tous les éléments d'un tableu doivent avoir le même type.\n",
    "Les tableaux en Rust sont différent d'autres langages en cela que la taille de ceux-ci est fixe, à l'instar des tuples.\n",
    "Les tableaux sont utiles lorsque l'on souhaite allouer de la mémoire sur le pile (stack), au lieu du tas (heap)."
   ]
  },
  {
   "cell_type": "code",
   "execution_count": null,
   "metadata": {
    "deletable": false,
    "editable": true
   },
   "outputs": [],
   "source": [
    "let a: [i32; 5] = [1, 2, 3, 4, 5];\n",
    "let first = a[0];\n",
    "let second = a[1];\n",
    "println!(\"Premier élément dans le tableau: {}\", first);\n",
    "println!(\"Second élément dans le tableau: {}\", second);"
   ]
  },
  {
   "cell_type": "markdown",
   "metadata": {
    "deletable": false,
    "editable": true
   },
   "source": [
    "__Index invalide à l'accès à un tableau__"
   ]
  },
  {
   "cell_type": "code",
   "execution_count": null,
   "metadata": {},
   "outputs": [],
   "source": [
    "let a = [1, 2, 3, 4, 5];\n",
    "let index = (|| 10)(); // on apprendra la signification de cette syntaxe plus tard\n",
    "// TODO: essayer avec `let index = 10;` que constate-t-on ?\n",
    "\n",
    "let element = a[index];\n",
    "\n",
    "println!(\"La valeur de l'élément est: {}\", element);"
   ]
  },
  {
   "cell_type": "markdown",
   "metadata": {
    "deletable": false,
    "editable": true
   },
   "source": [
    "La compilation de ce bout de code ne produit pas d'erreur, mais le programme produit une erreur à l'exécution.\n",
    "Lorsque l'on essaye d'accéder à un élément du tableau à un index donné, Rust va vérifier que l'index est bien dans les bornes du tableau. Lorsque l'index de correspond pas aux bornes du tableau, Rust va lever une erreur (panic).\n",
    "\n",
    "Ceci est un premier exemple des principes de sûreté de Rust.\n",
    "Dans beaucoup de langages bas niveau ces vérifications ne sont pas faites et il est alors possible d'accéder à une zone invalide de la mémoire.\n",
    "Rust vous protège contre ce type d'erreurs par arrêtant immédiatement l'exécution, au lieu d'autoriser l'accès à une zone invalide de la mémoire."
   ]
  },
  {
   "cell_type": "markdown",
   "metadata": {
    "deletable": false,
    "editable": true
   },
   "source": [
    "Exercises\n",
    "==="
   ]
  },
  {
   "cell_type": "markdown",
   "metadata": {
    "deletable": false,
    "editable": true
   },
   "source": [
    "**Exercise 1:** Use the correct data structure."
   ]
  },
  {
   "cell_type": "markdown",
   "metadata": {
    "deletable": false,
    "editable": true,
    "hide_input": false
   },
   "source": [
    "**Sample test data:**"
   ]
  },
  {
   "cell_type": "markdown",
   "metadata": {
    "deletable": false,
    "editable": true
   },
   "source": [
    "|Matrix|     |\n",
    "|------|-----|\n",
    "|1.1   |  1.2|\n",
    "|2.1   |  2.2|"
   ]
  },
  {
   "cell_type": "code",
   "execution_count": null,
   "metadata": {},
   "outputs": [],
   "source": [
    "fn main() {\n",
    "    // TO DO (1) Définir une structure qui liste les mois de l'année ou les jours de la semaine\n",
    "    \n",
    "    // TO DO (2) Définir une constante qui garde la valeur standard epsilon = 1e-11\n",
    "    \n",
    "    // TO DO (3) Définir une matrice de 2 X 2 contenant des nombres réels et affichez la matrice transposée\n",
    "    \n",
    "}\n",
    "main();"
   ]
  },
  {
   "cell_type": "markdown",
   "metadata": {
    "deletable": false,
    "editable": true
   },
   "source": [
    "**Solution:**"
   ]
  },
  {
   "cell_type": "code",
   "execution_count": null,
   "metadata": {
    "deletable": false,
    "editable": true,
    "hide_input": true
   },
   "outputs": [],
   "source": [
    "fn main() {\n",
    "    // TO DO (1) définir une structure qui liste les mois de l'année ou les jours de la semaine\n",
    "    let months: [&str; 12] = [\"January\", \"February\", \"March\", \"April\", \"May\", \"June\", \"July\",\n",
    "              \"August\", \"September\", \"October\", \"November\", \"December\"];\n",
    "    let days = [\"Lundi\", \"Mardi\", \"Mercredi\", \"Jeudi\", \"Vendredi\", \"Samedi\", \"Dimanche\"];\n",
    "    // TO DO (2) Définir une structure qui garde la valeur standard epsilon = 1e-11\n",
    "    const EPSILON: f64 = 1e-11_f64;\n",
    "    // TO DO (3) définir une matrice de 2 lignes et 2 colonnes contenant des nombres réels et affichez la matrice transposée\n",
    "    let matrix: ((f32,f32),(f32,f32)) = ((1.1, 1.2), (2.1, 2.2));\n",
    "    println!(\"{} {}\", (matrix.0).0, (matrix.1).0);\n",
    "    println!(\"{} {}\", (matrix.0).1, (matrix.1).1);\n",
    "    \n",
    "}\n",
    "main();"
   ]
  }
 ],
 "metadata": {
  "kernelspec": {
   "display_name": "Rust",
   "language": "rust",
   "name": "rust"
  },
  "language_info": {
   "codemirror_mode": "rust",
   "file_extension": ".rs",
   "mimetype": "text/rust",
   "name": "Rust",
   "pygment_lexer": "rust",
   "version": ""
  }
 },
 "nbformat": 4,
 "nbformat_minor": 2
}
