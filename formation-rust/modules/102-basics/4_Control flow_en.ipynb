{
 "cells": [
  {
   "cell_type": "markdown",
   "metadata": {},
   "source": [
    "# Control flow"
   ]
  },
  {
   "cell_type": "markdown",
   "metadata": {},
   "source": [
    "The most common constructs that let you control the flow of execution of Rust code are **if** expressions and **loop**s.\n"
   ]
  },
  {
   "cell_type": "markdown",
   "metadata": {},
   "source": [
    "*if* Expressions\n",
    "----------------"
   ]
  },
  {
   "cell_type": "code",
   "execution_count": null,
   "metadata": {
    "vscode": {
     "languageId": "rust"
    }
   },
   "outputs": [],
   "source": [
    "fn main() {\n",
    "    let number = 3;\n",
    "\n",
    "    if number < 5 { // conditions are sometimes called \"arms\" and must be boolean\n",
    "        println!(\"condition was true\");\n",
    "    } else {\n",
    "        println!(\"condition was false\");\n",
    "    }\n",
    "}\n",
    "main();"
   ]
  },
  {
   "cell_type": "code",
   "execution_count": null,
   "metadata": {
    "vscode": {
     "languageId": "rust"
    }
   },
   "outputs": [],
   "source": [
    "fn main() {\n",
    "    let number = 3;\n",
    "\n",
    "    if number { // the condition must be bool, otherwise we get an error !\n",
    "        println!(\"number was three\");\n",
    "    }\n",
    "}\n",
    "main();"
   ]
  },
  {
   "cell_type": "markdown",
   "metadata": {},
   "source": [
    "Unlike languages such as Ruby and JavaScript, Rust will not automatically try to convert non-Boolean types to a Boolean. "
   ]
  },
  {
   "cell_type": "markdown",
   "metadata": {},
   "source": [
    "Multiple conditions with *else if*\n",
    "----"
   ]
  },
  {
   "cell_type": "code",
   "execution_count": null,
   "metadata": {
    "vscode": {
     "languageId": "rust"
    }
   },
   "outputs": [],
   "source": [
    "fn main() {\n",
    "    let number = 6;\n",
    "\n",
    "    if number % 4 == 0 {\n",
    "        println!(\"number is divisible by 4\");\n",
    "    } else if number % 3 == 0 {\n",
    "        println!(\"number is divisible by 3\");\n",
    "    } else if number % 2 == 0 {\n",
    "        println!(\"number is divisible by 2\");\n",
    "    } else {\n",
    "        println!(\"number is not divisible by 4, 3, or 2\");\n",
    "    }\n",
    "}\n",
    "main();"
   ]
  },
  {
   "cell_type": "markdown",
   "metadata": {},
   "source": [
    "> Note that even though 6 is divisible by 2, we don’t see the output number is divisible by 2, nor do we see the number is not divisible by 4, 3, or 2 text from the else block. That’s because Rust only executes the block for the first true condition, and once it finds one, it doesn’t even check the rest."
   ]
  },
  {
   "cell_type": "markdown",
   "metadata": {},
   "source": [
    "Using *if* in a *let* statement\n",
    "-----"
   ]
  },
  {
   "cell_type": "code",
   "execution_count": null,
   "metadata": {
    "vscode": {
     "languageId": "rust"
    }
   },
   "outputs": [],
   "source": [
    "fn main() {\n",
    "    let condition = true;\n",
    "    let number = if condition {\n",
    "        5 \n",
    "    } else {\n",
    "        6 \n",
    "    };\n",
    "\n",
    "    println!(\"The value of number is: {}\", number);\n",
    "}\n",
    "main();"
   ]
  },
  {
   "cell_type": "code",
   "execution_count": null,
   "metadata": {
    "vscode": {
     "languageId": "rust"
    }
   },
   "outputs": [],
   "source": [
    "fn main() {\n",
    "    let condition = true;\n",
    "\n",
    "    let number = if condition {\n",
    "        5   // result is evaluated to an integer\n",
    "    } else {\n",
    "        \"six\" // type mismatch\n",
    "    };\n",
    "\n",
    "    println!(\"The value of number is: {}\", number);\n",
    "}\n",
    "main();"
   ]
  },
  {
   "cell_type": "markdown",
   "metadata": {},
   "source": [
    "Rust needs to know at compile time what type the `number` variable is, definitively, so it can verify at compile time that its type is valid everywhere we use number. Rust wouldn’t be able to do that if the type of number was only determined at runtime; the compiler would be more complex and would make fewer guarantees about the code if it had to keep track of multiple hypothetical types for any variable.\n"
   ]
  },
  {
   "cell_type": "markdown",
   "metadata": {},
   "source": [
    "Loops\n",
    "==="
   ]
  },
  {
   "cell_type": "markdown",
   "metadata": {},
   "source": [
    "Repeating Code with *loop*\n",
    "----------------------------"
   ]
  },
  {
   "cell_type": "code",
   "execution_count": null,
   "metadata": {
    "vscode": {
     "languageId": "rust"
    }
   },
   "outputs": [],
   "source": [
    "fn main() {\n",
    "    loop {  // type ^C to stop the loop\n",
    "        println!(\"again!\");\n",
    "    }\n",
    "}\n",
    "main();\n",
    "\n",
    "// WARNING, do not run this cell\n",
    "// if you do, you need to restart the Rust kernel (menu Kernel/restart)"
   ]
  },
  {
   "cell_type": "markdown",
   "metadata": {},
   "source": [
    "One of the uses of a loop is to retry an operation you know can fail, such as checking if a thread completed its job. However, you might need to pass the result of that operation to the rest of your code. If you add the value you want to return after the break expression you use to stop the loop, it will be returned out of the loop so you can use the value, as shown here:"
   ]
  },
  {
   "cell_type": "code",
   "execution_count": null,
   "metadata": {
    "vscode": {
     "languageId": "rust"
    }
   },
   "outputs": [],
   "source": [
    "fn main() {\n",
    "    let mut counter = 0;\n",
    "\n",
    "    let result = loop {\n",
    "        counter += 1;\n",
    "\n",
    "        if counter == 10 {\n",
    "            break counter * 2;\n",
    "        }\n",
    "    };\n",
    "\n",
    "    println!(\"The result is {}\", result);\n",
    "}\n",
    "main();"
   ]
  },
  {
   "cell_type": "markdown",
   "metadata": {},
   "source": [
    "Conditional Loops with *while*\n",
    "---"
   ]
  },
  {
   "cell_type": "code",
   "execution_count": null,
   "metadata": {
    "vscode": {
     "languageId": "rust"
    }
   },
   "outputs": [],
   "source": [
    "fn main() {\n",
    "    let mut number = 3;\n",
    "\n",
    "    while number != 0 {\n",
    "        println!(\"{}!\", number);\n",
    "\n",
    "        number = number - 1;\n",
    "    }\n",
    "\n",
    "    println!(\"LIFTOFF!!!\");\n",
    "}\n",
    "main();"
   ]
  },
  {
   "cell_type": "code",
   "execution_count": null,
   "metadata": {
    "vscode": {
     "languageId": "rust"
    }
   },
   "outputs": [],
   "source": [
    "fn main() {\n",
    "    let a = [10, 20, 30, 40, 50];\n",
    "    let mut index = 0;\n",
    "\n",
    "    while index < 5 {\n",
    "        println!(\"the value is: {}\", a[index]);\n",
    "\n",
    "        index = index + 1;\n",
    "    }\n",
    "}\n",
    "main();"
   ]
  },
  {
   "cell_type": "markdown",
   "metadata": {},
   "source": [
    "This approach is error prone; we could cause the program to panic if the index length is incorrect. It’s also slow, because the compiler adds runtime code to perform the conditional check on every element on every iteration through the loop. As a more concise alternative, you can use a for loop and execute some code for each item in a collection."
   ]
  },
  {
   "cell_type": "code",
   "execution_count": null,
   "metadata": {
    "vscode": {
     "languageId": "rust"
    }
   },
   "outputs": [],
   "source": [
    "fn main() {\n",
    "    let a = [10, 20, 30, 40, 50];\n",
    "\n",
    "    for element in a.iter() {\n",
    "        println!(\"the value is: {}\", element);\n",
    "    }\n",
    "}\n",
    "main();"
   ]
  },
  {
   "cell_type": "code",
   "execution_count": null,
   "metadata": {
    "vscode": {
     "languageId": "rust"
    }
   },
   "outputs": [],
   "source": [
    "fn main() {\n",
    "    for number in (1..4).rev() { // note the sequence definition using the .. operator\n",
    "        println!(\"{}!\", number);\n",
    "    }\n",
    "    println!(\"LIFTOFF!!!\");\n",
    "}\n",
    "main();"
   ]
  },
  {
   "cell_type": "markdown",
   "metadata": {},
   "source": [
    "Exercises\n",
    "==="
   ]
  },
  {
   "cell_type": "markdown",
   "metadata": {},
   "source": [
    "**Exercise 1:** Implement a fizz buzz game that counts up to 20.\n",
    "\n",
    "For each number, print\n",
    "* `Fizz` if the number is divisible by 3\n",
    "* `Buzz` if the number is divisible by 5\n",
    "* `Fizz Buzz` if the number is divisible by 15\n",
    "* The number itself, otherwise"
   ]
  },
  {
   "cell_type": "code",
   "execution_count": null,
   "metadata": {
    "vscode": {
     "languageId": "rust"
    }
   },
   "outputs": [],
   "source": [
    "fn main() {\n",
    "    // TO DO Implement the fizz buzz game\n",
    "\n",
    "}\n",
    "main();"
   ]
  },
  {
   "cell_type": "markdown",
   "metadata": {
    "hide_input": false
   },
   "source": [
    "**Solution:**"
   ]
  },
  {
   "cell_type": "code",
   "execution_count": null,
   "metadata": {
    "hide_input": true,
    "vscode": {
     "languageId": "rust"
    }
   },
   "outputs": [],
   "source": [
    "fn main() {\n",
    "    for number in 1..21 {\n",
    "        if number % 3 == 0 {\n",
    "            if number % 5 == 0 {\n",
    "                println!(\"Fizz Buzz\");\n",
    "            } else {\n",
    "                println!(\"Fizz\");\n",
    "            }\n",
    "        } else if number % 5 == 0 {\n",
    "            println!(\"Buzz\");\n",
    "        }\n",
    "        else {\n",
    "            println!(\"{}\", number);\n",
    "        }\n",
    "    }\n",
    "}\n",
    "main();"
   ]
  },
  {
   "cell_type": "markdown",
   "metadata": {},
   "source": [
    "**Exercise 2** : Fibonacci\n",
    "* Implement a recursive version of a function that compute the n-th term of the Fibonacci series.\n",
    "* Implement an iterative version.\n",
    "* Compute a table of the 50 first terms of the series."
   ]
  },
  {
   "cell_type": "code",
   "execution_count": null,
   "metadata": {
    "vscode": {
     "languageId": "rust"
    }
   },
   "outputs": [],
   "source": [
    "fn main() {\n",
    "\n",
    "}\n",
    "main();"
   ]
  },
  {
   "cell_type": "markdown",
   "metadata": {},
   "source": [
    "**Solution**:"
   ]
  },
  {
   "cell_type": "code",
   "execution_count": null,
   "metadata": {
    "vscode": {
     "languageId": "rust"
    }
   },
   "outputs": [],
   "source": [
    "fn fibonacci_recursive(n: u32) -> u32 {\n",
    "    if n == 0 {\n",
    "        0\n",
    "    } else if n == 1 {\n",
    "        1\n",
    "    } else {\n",
    "        fibonacci_recursive(n - 1) + fibonacci_recursive(n - 2)\n",
    "    }\n",
    "}\n",
    "\n",
    "fn fibonacci_iterative(n: u32) -> u32 {\n",
    "    if n == 0 {\n",
    "        return 0;\n",
    "    }\n",
    "    let mut n0 = 0;\n",
    "    let mut n1 = 1;\n",
    "    for _ in 2..(n+1) {\n",
    "        let next = n0 + n1;\n",
    "        n0 = n1;\n",
    "        n1 = next;\n",
    "    }\n",
    "    n1\n",
    "}\n",
    "\n",
    "fn fibonacci_firsts() -> [u32 ; 10] {\n",
    "    let mut result = [0 ; 10];\n",
    "    result[1] = 1;\n",
    "    for i in 2..10 {\n",
    "        result[i] = result[i-2] + result[i-1];\n",
    "    }\n",
    "    result\n",
    "}\n",
    "\n",
    "fn main() {\n",
    "    println!(\"fibonacci_recursive(10) = {}\", fibonacci_recursive(10));\n",
    "    println!(\"fibonacci_iterative(10) = {}\", fibonacci_iterative(10));\n",
    "    println!(\"fibonacci_firsts = {:?}\", fibonacci_firsts());\n",
    "}\n",
    "\n",
    "main();"
   ]
  }
 ],
 "metadata": {
  "kernelspec": {
   "display_name": "Rust",
   "language": "rust",
   "name": "rust"
  },
  "language_info": {
   "codemirror_mode": "rust",
   "file_extension": ".rs",
   "mimetype": "text/rust",
   "name": "Rust",
   "pygment_lexer": "rust",
   "version": ""
  }
 },
 "nbformat": 4,
 "nbformat_minor": 2
}
