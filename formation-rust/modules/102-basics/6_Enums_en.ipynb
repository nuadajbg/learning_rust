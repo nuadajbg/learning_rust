{
 "cells": [
  {
   "cell_type": "markdown",
   "metadata": {},
   "source": [
    "# Enums"
   ]
  },
  {
   "cell_type": "markdown",
   "metadata": {},
   "source": [
    "Enums allow you to define a type by enumerating its possible values. "
   ]
  },
  {
   "cell_type": "markdown",
   "metadata": {},
   "source": [
    "Currently any IP address can be either a version four or a version six address, but not both at the same time. That property of IP addresses makes the enum data structure appropriate, because enum values can only be one of the variants. Both version four and version six addresses are still fundamentally IP addresses, so they should be treated as the same type when the code is handling situations that apply to any kind of IP address."
   ]
  },
  {
   "cell_type": "code",
   "execution_count": null,
   "metadata": {
    "vscode": {
     "languageId": "rust"
    }
   },
   "outputs": [],
   "source": [
    "enum IpAddrKind {\n",
    "    V4, // this is a variant\n",
    "    V6, // this is another variant\n",
    "};"
   ]
  },
  {
   "cell_type": "markdown",
   "metadata": {},
   "source": [
    "Enum values\n",
    "==="
   ]
  },
  {
   "cell_type": "markdown",
   "metadata": {},
   "source": [
    "`IpAddrKind` is now a custom data type that we can use elsewhere in our code. We can create instances of each of the two variants of `IpAddrKind` as shown bellow. Both values `IpAddrKind::V4` and `IpAddrKind::V6` are of the same type: `IpAddrKind`."
   ]
  },
  {
   "cell_type": "code",
   "execution_count": null,
   "metadata": {
    "vscode": {
     "languageId": "rust"
    }
   },
   "outputs": [],
   "source": [
    "enum IpAddrKind {\n",
    "    V4, // this is a variant\n",
    "    V6, // this is another variant\n",
    "}\n",
    "let four = IpAddrKind::V4;\n",
    "let six = IpAddrKind::V6;"
   ]
  },
  {
   "cell_type": "code",
   "execution_count": null,
   "metadata": {
    "vscode": {
     "languageId": "rust"
    }
   },
   "outputs": [],
   "source": [
    "enum IpAddrKind {\n",
    "    V4,\n",
    "    V6,\n",
    "}\n",
    "\n",
    "struct IpAddr {\n",
    "    kind: IpAddrKind, // <-- using the IpAddrKind type\n",
    "    address: String,\n",
    "}\n",
    "\n",
    "let home = IpAddr {\n",
    "    kind: IpAddrKind::V4,  // <-- instantiating the V4 variant\n",
    "    address: String::from(\"127.0.0.1\"),\n",
    "}\n",
    "\n",
    "let loopback = IpAddr {\n",
    "    kind: IpAddrKind::V6,  // <-- instantiating the V6 variant\n",
    "    address: String::from(\"::1\"),\n",
    "};"
   ]
  },
  {
   "cell_type": "markdown",
   "metadata": {},
   "source": [
    "We can represent the same concept in a more concise way using just an enum, rather than an `enum` inside a `struct`, by putting data directly into each enum variant. This new definition of the `IpAddr` enum says that both `V4` and `V6` variants will have associated `String` values:"
   ]
  },
  {
   "cell_type": "code",
   "execution_count": null,
   "metadata": {
    "vscode": {
     "languageId": "rust"
    }
   },
   "outputs": [],
   "source": [
    "enum IpAddr {\n",
    "    V4(String), // <-- the variant hold String data for the address\n",
    "    V6(String), // <-- same\n",
    "}\n",
    "\n",
    "let home = IpAddr::V4(String::from(\"127.0.0.1\")); // <-- instantiating the variant\n",
    "\n",
    "let loopback = IpAddr::V6(String::from(\"::1\"));"
   ]
  },
  {
   "cell_type": "markdown",
   "metadata": {},
   "source": [
    "There’s another advantage to using an enum rather than a struct: each variant can have different types and amounts of associated data."
   ]
  },
  {
   "cell_type": "markdown",
   "metadata": {},
   "source": [
    "Wanting to store IP addresses and encode which kind they are is so common that the standard library has a definition we can use! Let’s look at how the standard library defines IpAddr: it has the exact enum and variants that we’ve defined and used, but it embeds the address data inside the variants in the form of two different structs, which are defined differently for each variant:"
   ]
  },
  {
   "cell_type": "code",
   "execution_count": null,
   "metadata": {
    "vscode": {
     "languageId": "rust"
    }
   },
   "outputs": [],
   "source": [
    "struct Ipv4Addr {\n",
    "    // --snip--\n",
    "}\n",
    "\n",
    "struct Ipv6Addr {\n",
    "    // --snip--\n",
    "}\n",
    "\n",
    "enum IpAddr {\n",
    "    V4(Ipv4Addr),\n",
    "    V6(Ipv6Addr),\n",
    "}"
   ]
  },
  {
   "cell_type": "markdown",
   "metadata": {},
   "source": [
    "You can put any kind of data inside an enum variant: strings, numeric types, or structs, for example. You can even include another enum! "
   ]
  },
  {
   "cell_type": "markdown",
   "metadata": {},
   "source": [
    "The *Option* Enum and Its Advantages Over Null Values\n",
    "---"
   ]
  },
  {
   "cell_type": "markdown",
   "metadata": {},
   "source": [
    "**Option** is an enum defined by the standard library. The Option type is used in many places because it encodes the very common scenario in which a value could be something or it could be nothing. Expressing this concept in terms of the type system means the compiler can check whether you’ve handled all the cases you should be handling; this functionality can prevent bugs that are extremely common in other programming languages."
   ]
  },
  {
   "cell_type": "markdown",
   "metadata": {},
   "source": [
    "Rust doesn’t have the null feature that many other languages have. Null is a value that means there is no value there. In languages with null, variables can always be in one of two states: null or not-null.The problem with null values is that if you try to use a null value as a not-null value, you’ll get an error of some kind.\n",
    "Rust does not have nulls, but it does have an enum that can encode the concept of a value being present or absent. This enum is defined by the standard library as follows:"
   ]
  },
  {
   "cell_type": "code",
   "execution_count": null,
   "metadata": {
    "vscode": {
     "languageId": "rust"
    }
   },
   "outputs": [],
   "source": [
    "enum Option<T> {\n",
    "    Some(T), // some value\n",
    "    None,  // not a valid value\n",
    "};"
   ]
  },
  {
   "cell_type": "markdown",
   "metadata": {},
   "source": [
    "This enum is so useful that it’s even included in the prelude; you don’t need to bring it into scope explicitly. In addition, so are its variants: you can use **`Some`** and **`None`** directly without the Option:: prefix. "
   ]
  },
  {
   "cell_type": "code",
   "execution_count": null,
   "metadata": {
    "vscode": {
     "languageId": "rust"
    }
   },
   "outputs": [],
   "source": [
    "let some_number = Some(5);\n",
    "let some_string = Some(\"a string\");\n",
    "\n",
    "let absent_number: Option<i32> = None;"
   ]
  },
  {
   "cell_type": "markdown",
   "metadata": {},
   "source": [
    "When we have a `Some` value, we know that a value is present and the value is held within the `Some`. When we have a `None` value, in some sense, it means the same thing as null: we don’t have a valid value. Because `Option< T >` and `T` (where `T` can be any type) are different types, the compiler won’t let us use an `Option< T >` value as if it were definitely a valid value. For example, this code won’t compile because it’s trying to add an `i8` to an `Option< i8 >`:"
   ]
  },
  {
   "cell_type": "code",
   "execution_count": null,
   "metadata": {
    "vscode": {
     "languageId": "rust"
    }
   },
   "outputs": [],
   "source": [
    "let x: i8 = 5;\n",
    "let y: Option<i8> = Some(5);\n",
    "\n",
    "let sum = x + y;"
   ]
  },
  {
   "cell_type": "markdown",
   "metadata": {},
   "source": [
    "You have to convert an `Option< T >` to a `T` before you can perform operations with it. Generally, this helps catch one of the most common issues with null: assuming that something isn’t null when it actually is."
   ]
  },
  {
   "cell_type": "markdown",
   "metadata": {},
   "source": [
    "The *match* Control Flow Operator\n",
    "---"
   ]
  },
  {
   "cell_type": "markdown",
   "metadata": {},
   "source": [
    "To get the `T` value out of a `Some` variant when you have a value of type `Option< T >`, you can use the **match** expression. The match expression is a control flow that runs different code depending on which variant of the enum it has, and that code can use the data inside the matching value. It allows you to compare a value against a series of patterns and then execute code based on which pattern matches. "
   ]
  },
  {
   "cell_type": "markdown",
   "metadata": {},
   "source": [
    "In the following example, the function can take an unknown United States coin and, in a similar way as the counting machine, determine which coin it is and return its value in cents:"
   ]
  },
  {
   "cell_type": "code",
   "execution_count": null,
   "metadata": {
    "vscode": {
     "languageId": "rust"
    }
   },
   "outputs": [],
   "source": [
    "fn main() {\n",
    "    enum Coin {\n",
    "        Penny,\n",
    "        Nickel,\n",
    "        Dime,\n",
    "        Quarter,\n",
    "    }\n",
    "\n",
    "    fn value_in_cents(coin: Coin) -> u8 {\n",
    "        match coin {\n",
    "            Coin::Penny => 1,  // this is a match \"arm\"\n",
    "            Coin::Nickel => 5,\n",
    "            Coin::Dime => 10,\n",
    "            Coin::Quarter => 25,\n",
    "        }\n",
    "    }\n",
    "}\n",
    "main();"
   ]
  },
  {
   "cell_type": "markdown",
   "metadata": {},
   "source": [
    "If you want to run multiple lines of code in a match arm, you can use curly brackets."
   ]
  },
  {
   "cell_type": "code",
   "execution_count": null,
   "metadata": {
    "vscode": {
     "languageId": "rust"
    }
   },
   "outputs": [],
   "source": [
    "fn main() {\n",
    "    enum Coin {\n",
    "        Penny,\n",
    "        Nickel,\n",
    "        Dime,\n",
    "        Quarter,\n",
    "    }\n",
    "\n",
    "    fn value_in_cents(coin: Coin) -> u8 {\n",
    "        match coin {\n",
    "            Coin::Penny => {\n",
    "                println!(\"Lucky penny!\");\n",
    "                1  // it is the last value of the block that is returned\n",
    "            },\n",
    "            Coin::Nickel => 5,\n",
    "            Coin::Dime => 10,\n",
    "            Coin::Quarter => 25,\n",
    "        }\n",
    "    }\n",
    "    value_in_cents(Coin::Penny);\n",
    "}\n",
    "main();"
   ]
  },
  {
   "cell_type": "markdown",
   "metadata": {},
   "source": [
    "Pattern matching with value bind:"
   ]
  },
  {
   "cell_type": "code",
   "execution_count": null,
   "metadata": {
    "vscode": {
     "languageId": "rust"
    }
   },
   "outputs": [],
   "source": [
    "#[derive(Debug)] \n",
    "enum UsState {\n",
    "    Alabama,\n",
    "    Alaska,\n",
    "}\n",
    "\n",
    "enum Coin {\n",
    "    Penny,\n",
    "    Nickel,\n",
    "    Dime,\n",
    "    Quarter(UsState),\n",
    "}\n",
    "\n",
    "let mut count = 0;\n",
    "let coin = Coin::Quarter(UsState::Alaska);\n",
    "\n",
    "match coin {\n",
    "    Coin::Quarter(state) => println!(\"State quarter from {:?}!\", state),\n",
    "    //            ^^^^^ <-- pattern matching with value bind (state)\n",
    "    _ => count += 1,\n",
    "}"
   ]
  },
  {
   "cell_type": "markdown",
   "metadata": {},
   "source": [
    "Matching with Option< T >\n",
    "---"
   ]
  },
  {
   "cell_type": "markdown",
   "metadata": {},
   "source": [
    "Let’s say we want to write a function that takes an `Option<i32>` and, if there’s a value inside, adds 1 to that value. If there isn’t a value inside, the function should return the `None` value and not attempt to perform any operations."
   ]
  },
  {
   "cell_type": "code",
   "execution_count": null,
   "metadata": {
    "vscode": {
     "languageId": "rust"
    }
   },
   "outputs": [],
   "source": [
    "fn plus_one(x: Option<i32>) -> Option<i32> {\n",
    "    match x {\n",
    "        None => None, // no value\n",
    "        Some(i) => Some(i + 1), // add 1 to the value\n",
    "    }\n",
    "}\n",
    "\n",
    "let five = Some(5);\n",
    "let six = plus_one(five);\n",
    "let none = plus_one(None);"
   ]
  },
  {
   "cell_type": "markdown",
   "metadata": {},
   "source": [
    "Consider this version of our plus_one function that has a bug and won’t compile:"
   ]
  },
  {
   "cell_type": "code",
   "execution_count": null,
   "metadata": {
    "vscode": {
     "languageId": "rust"
    }
   },
   "outputs": [],
   "source": [
    "fn plus_one(x: Option<i32>) -> Option<i32> {\n",
    "    match x {\n",
    "        Some(i) => Some(i + 1),\n",
    "    }\n",
    "}"
   ]
  },
  {
   "cell_type": "markdown",
   "metadata": {},
   "source": [
    "We didn’t handle the `None` case, so this code will cause a bug. Rust knows that we didn’t cover every possible case and even knows which pattern we forgot! Matches in Rust are exhaustive: we must exhaust every last possibility in order for the code to be valid. Especially in the case of `Option<T>`, when Rust prevents us from forgetting to explicitly handle the `None` case, it protects us from assuming that we have a value when we might have null."
   ]
  },
  {
   "cell_type": "markdown",
   "metadata": {},
   "source": [
    "The _ Placeholder\n",
    "---"
   ]
  },
  {
   "cell_type": "markdown",
   "metadata": {},
   "source": [
    "Rust also has a pattern we can use when we don’t want to list all possible values. For example, a u8 can have valid values of 0 through 255. If we only care about the values 1, 3, 5, and 7, we don’t want to have to list out 0, 2, 4, 6, 8, 9 all the way up to 255. Fortunately, we don’t have to: we can use the special pattern _ instead:"
   ]
  },
  {
   "cell_type": "code",
   "execution_count": null,
   "metadata": {
    "vscode": {
     "languageId": "rust"
    }
   },
   "outputs": [],
   "source": [
    "let some_u8_value = 0u8;\n",
    "match some_u8_value {\n",
    "    1 => println!(\"one\"),\n",
    "    3 => println!(\"three\"),\n",
    "    5 => println!(\"five\"),\n",
    "    7 => println!(\"seven\"),\n",
    "    _ => (),\n",
    "}"
   ]
  },
  {
   "cell_type": "markdown",
   "metadata": {},
   "source": [
    "Concise Control Flow with *if let*\n",
    "---"
   ]
  },
  {
   "cell_type": "markdown",
   "metadata": {},
   "source": [
    "The if let syntax lets you combine if and let into a less verbose way to handle values that match one pattern while ignoring the rest."
   ]
  },
  {
   "cell_type": "markdown",
   "metadata": {},
   "source": [
    "Consider the following program that matches on an `Option<u8>` value but only wants to execute code if the value is 3:"
   ]
  },
  {
   "cell_type": "code",
   "execution_count": null,
   "metadata": {
    "vscode": {
     "languageId": "rust"
    }
   },
   "outputs": [],
   "source": [
    "let some_u8_value = Some(0u8);\n",
    "match some_u8_value {\n",
    "    Some(3) => println!(\"three\"),\n",
    "    _ => (),\n",
    "}"
   ]
  },
  {
   "cell_type": "markdown",
   "metadata": {},
   "source": [
    "Instead, we could write this in a shorter way using if let. The following code behaves the same:"
   ]
  },
  {
   "cell_type": "code",
   "execution_count": null,
   "metadata": {
    "vscode": {
     "languageId": "rust"
    }
   },
   "outputs": [],
   "source": [
    "if let Some(3) = some_u8_value {\n",
    "    println!(\"three\");\n",
    "}"
   ]
  },
  {
   "cell_type": "markdown",
   "metadata": {},
   "source": [
    "Exercises\n",
    "==="
   ]
  },
  {
   "cell_type": "markdown",
   "metadata": {},
   "source": [
    "**Exercise 1:** Re-write the following code using *if let*"
   ]
  },
  {
   "cell_type": "code",
   "execution_count": null,
   "metadata": {
    "vscode": {
     "languageId": "rust"
    }
   },
   "outputs": [],
   "source": [
    "#[derive(Debug)] \n",
    "enum UsState {\n",
    "    Alabama,\n",
    "    Alaska,\n",
    "}\n",
    "\n",
    "enum Coin {\n",
    "    Penny,\n",
    "    Nickel,\n",
    "    Dime,\n",
    "    Quarter(UsState),\n",
    "}\n",
    "\n",
    "let mut count = 0;\n",
    "let coin = Coin::Quarter(UsState::Alaska);\n",
    "\n",
    "// TO DO Re-write the code below using if let\n",
    "match coin {\n",
    "    Coin::Quarter(state) => println!(\"State quarter from {:?}!\", state),\n",
    "    _ => count += 1,\n",
    "}"
   ]
  },
  {
   "cell_type": "markdown",
   "metadata": {},
   "source": [
    "**Solution:**"
   ]
  },
  {
   "cell_type": "code",
   "execution_count": null,
   "metadata": {
    "hide_input": true,
    "vscode": {
     "languageId": "rust"
    }
   },
   "outputs": [],
   "source": [
    "#[derive(Debug)]\n",
    "enum UsState {\n",
    "    Alabama,\n",
    "    Alaska,\n",
    "}\n",
    "\n",
    "enum Coin {\n",
    "    Penny,\n",
    "    Nickel,\n",
    "    Dime,\n",
    "    Quarter(UsState),\n",
    "}\n",
    "\n",
    "let mut count = 0;\n",
    "let coin = Coin::Quarter(UsState::Alaska);\n",
    "\n",
    "if let Coin::Quarter(state) = coin {\n",
    "    println!(\"State quarter from {:?}!\", state);\n",
    "} else {\n",
    "    count += 1;\n",
    "}\n"
   ]
  },
  {
   "cell_type": "markdown",
   "metadata": {},
   "source": [
    "**Exercise 2:** Create an enum to classify a web event, which may be:\n",
    "* a page load\n",
    "* a page unload\n",
    "* a key pressed\n",
    "* a paste ( a text was pasted)\n",
    "* a click (with x and y coordinates)  \n",
    "\n",
    "Implement a function that takes a web event as parameter and depending on the event type, displays:\n",
    "* info that a page was loaded\n",
    "* info that a page was unloaded\n",
    "* the key that was pressed\n",
    "* the pasted text\n",
    "* the coordinates of the clicked position"
   ]
  },
  {
   "cell_type": "code",
   "execution_count": null,
   "metadata": {
    "vscode": {
     "languageId": "rust"
    }
   },
   "outputs": [],
   "source": [
    "// TODO (1) Define an enum called WebEvent holding the different types of events\n",
    "\n",
    "// TODO (2) Implement a function that takes a web event as parameter and displays a custom message for each event type\n",
    "\n",
    "fn main() {\n",
    "    // TODO (3) Test your implementation for different event types\n",
    "}\n",
    "main();"
   ]
  },
  {
   "cell_type": "markdown",
   "metadata": {
    "hide_input": false
   },
   "source": [
    "**Solution:**"
   ]
  },
  {
   "cell_type": "code",
   "execution_count": null,
   "metadata": {
    "hide_input": true,
    "vscode": {
     "languageId": "rust"
    }
   },
   "outputs": [],
   "source": [
    "enum WebEvent {\n",
    "    PageLoad,\n",
    "    PageUnload,\n",
    "    KeyPress(char),\n",
    "    Paste(String),\n",
    "    Click { x: i64, y: i64 },\n",
    "}\n",
    "\n",
    "fn inspect(event: WebEvent) {\n",
    "    match event {\n",
    "        WebEvent::PageLoad => println!(\"page loaded\"),\n",
    "        WebEvent::PageUnload => println!(\"page unloaded\"),\n",
    "        WebEvent::KeyPress(c) => println!(\"pressed '{}'.\", c),\n",
    "        WebEvent::Paste(s) => println!(\"pasted \\\"{}\\\".\", s),\n",
    "        WebEvent::Click { x, y } => {\n",
    "            println!(\"clicked at x={}, y={}.\", x, y);\n",
    "        },\n",
    "    }\n",
    "}\n",
    "\n",
    "fn main() {\n",
    "    let pressed = WebEvent::KeyPress('x');\n",
    "    let pasted  = WebEvent::Paste(\"my text\".to_string());\n",
    "    let click   = WebEvent::Click { x: 20, y: 80 };\n",
    "    let load    = WebEvent::PageLoad;\n",
    "    let unload  = WebEvent::PageUnload;\n",
    "\n",
    "    inspect(pressed);\n",
    "    inspect(pasted);\n",
    "    inspect(click);\n",
    "    inspect(load);\n",
    "    inspect(unload);\n",
    "}\n",
    "main();"
   ]
  }
 ],
 "metadata": {
  "kernelspec": {
   "display_name": "Rust",
   "language": "rust",
   "name": "rust"
  },
  "language_info": {
   "codemirror_mode": "rust",
   "file_extension": ".rs",
   "mimetype": "text/rust",
   "name": "Rust",
   "pygment_lexer": "rust",
   "version": ""
  }
 },
 "nbformat": 4,
 "nbformat_minor": 2
}
