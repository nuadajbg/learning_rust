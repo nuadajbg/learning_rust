{
 "cells": [
  {
   "cell_type": "markdown",
   "metadata": {
    "deletable": false,
    "editable": true
   },
   "source": [
    "# Variables et mutabilité\n"
   ]
  },
  {
   "cell_type": "markdown",
   "metadata": {
    "deletable": false,
    "editable": true
   },
   "source": [
    "Variables mutables et non-mutables\n",
    "==="
   ]
  },
  {
   "cell_type": "markdown",
   "metadata": {
    "deletable": false,
    "editable": true
   },
   "source": [
    "Par défaut, les variables sont **non-mutables** en Rust.\n",
    "C'est une des nombreuses caractéristiques de Rust qui poussent à écrire du code qui prend avantage des caractéristiques de sûreté du langage. Il est bien sûr possible cependant de rendre les variables mutables."
   ]
  },
  {
   "cell_type": "markdown",
   "metadata": {
    "deletable": false,
    "editable": true
   },
   "source": [
    "L'exemple ci-dessus montre comment le compilateur peut vous aider à trouver des erreurs.\n",
    "Bien que celles-ci puissent être frustrantes, elles indiquent seulement que votre programme ne réalise pas en toute sûreté ce que vous pensiez; elles ne veulent pas dire que vous n'êtes pas un bon programmeur !\n",
    "Même les Rustacéens expérimentés y sont confrontés.\n",
    "Voici un exmple de code posant problème."
   ]
  },
  {
   "cell_type": "code",
   "execution_count": null,
   "metadata": {
    "deletable": false,
    "editable": true
   },
   "outputs": [],
   "source": [
    "fn main() {\n",
    "    let x = 5;\n",
    "    println!(\"La valeur de x est: {}\", x);\n",
    "    x = 6;\n",
    "    println!(\"La valeur de x est: {}\", x);\n",
    "}\n",
    "main();"
   ]
  },
  {
   "cell_type": "markdown",
   "metadata": {
    "deletable": false,
    "editable": true
   },
   "source": [
    "Il est important d'obtenir une erreur à la compilation lorsque l'on essaye de changer la valeur assignée à une variable alors que celle-ci a été déclarée non mutable, car sinon cela conduirait à des bugs.\n",
    "Si une partie de votre code repose sur l'hypothèse qu'une valeur de change pas alors qu'une autre partie effectue un changement, il est possible que la première partie du code ne fasse pas ce pour quoi elle a été écrite.\n",
    "En Rust, le compilateur garantie que lorsque vous spécifiez qu'une valeur ne change pas, elle ne change réellement pas.\n",
    "Cela implique que lorsque vous écrivez et lisez du code Rust, vous n'avez pas à essayer de trouver où une valeur est susceptible d'être modifiée si elle est déclarée non mutable. Le code est ainsi plus facile à lire et comprendre."
   ]
  },
  {
   "cell_type": "markdown",
   "metadata": {
    "deletable": false,
    "editable": true
   },
   "source": [
    "Vous pouvez toujours rendre une variable mutable avec l'utilisation du mot clé `mut` devant le nom de la variable.\n",
    "En plus de rendre la variable mutable, `mut` indique aux futurs lecteurs que l'intention originale qu'une partie du code va modifier cette valeur."
   ]
  },
  {
   "cell_type": "code",
   "execution_count": null,
   "metadata": {
    "deletable": false,
    "editable": true
   },
   "outputs": [],
   "source": [
    "fn main() {\n",
    "    let mut x = 5;\n",
    "    println!(\"La valeur de x est: {}\", x);\n",
    "    x = 6;\n",
    "    println!(\"La valeur de x est: {}\", x);\n",
    "}\n",
    "main();"
   ]
  },
  {
   "cell_type": "markdown",
   "metadata": {
    "deletable": false,
    "editable": true
   },
   "source": [
    "Il y a plusieurs compromis à considérer à l'utilisation de la mutabilité, en plus de la prévention des bugs.\n",
    "Par exemple, dans le cas de grandes structures de données, la mutation d'une instance sur place (*in-place*) peut être plus rapide que la copie et l'allocation de nouvelles instances.\n",
    "Pour de petites structures, la création de nouvelles instances et l'écriture de code dans un paradigme fonctionnel peut être plus facile à comprendre.\n",
    "Une éventuelle perte de performance peut être acceptable face au gain en terme de clareté du code."
   ]
  },
  {
   "cell_type": "markdown",
   "metadata": {
    "deletable": false,
    "editable": true
   },
   "source": [
    "Constantes\n",
    "========="
   ]
  },
  {
   "cell_type": "markdown",
   "metadata": {
    "deletable": false,
    "editable": true
   },
   "source": [
    "Les constantes en Rust ne sont pas juste non-mutables, elles sont toujours non-mutables.\n",
    "\n",
    "Les constantes sont déclarées avec le mot clé `const` au lieu de `let`.\n",
    "Le type type de la constante *doit toujours* être annoté."
   ]
  },
  {
   "cell_type": "code",
   "execution_count": null,
   "metadata": {
    "deletable": false,
    "editable": true
   },
   "outputs": [],
   "source": [
    "const MAX_POINTS: u32 = 100_000;"
   ]
  },
  {
   "cell_type": "markdown",
   "metadata": {
    "deletable": false,
    "editable": true
   },
   "source": [
    "Les constantes peuvent être déclarées dans n'importe quel *scope*, y compris dans le *scope global*, ce qui est utile pour définir des valeurs que plusieurs parties de code doivent connaitre.\n",
    "La valeur assignée à une constante doit elle-même être une expression constante.\n",
    "En Rust, il est possible, dans une certaine mesure, d'utiliser des fonctions constantes dont l'évaluation se fait à la compilation."
   ]
  },
  {
   "cell_type": "markdown",
   "metadata": {
    "deletable": false,
    "editable": true
   },
   "source": [
    "Shadowing\n",
    "==="
   ]
  },
  {
   "cell_type": "markdown",
   "metadata": {
    "deletable": false,
    "editable": true
   },
   "source": [
    "Vous pouvez déclarer une nouvelle variable avec le même nom qu'une variable précédente.\n",
    "La nouvelle variable remplace la précédente (shadow); ce qui signifie que la précédente disparait et sa valeur n'est plus utilisable.\n",
    "Nous remplaçons une variable en utilisant le même nom et en répétant l'utilisation du mot clé `let`, comme suit:"
   ]
  },
  {
   "cell_type": "code",
   "execution_count": null,
   "metadata": {
    "deletable": false,
    "editable": true
   },
   "outputs": [],
   "source": [
    "fn main() {\n",
    "    let x = 5;\n",
    "\n",
    "    let x = x + 1;\n",
    "\n",
    "    let x = x * 2;\n",
    "\n",
    "    println!(\"La valeur de x est: {}\", x);\n",
    "}\n",
    "main();"
   ]
  },
  {
   "cell_type": "markdown",
   "metadata": {
    "deletable": false,
    "editable": true
   },
   "source": [
    "En utilisant `let`, nous pouvons effectuer un certain nombre de transformation sur une valeur, mais celle-ci restera non-mutable par la suite.\n",
    "La différence avec `mut` est que nous créons réellement une nouvelle variable avec `let`, il est ainsi possible d'utiliser un nouveau type en réutilisant le même nom."
   ]
  },
  {
   "cell_type": "code",
   "execution_count": null,
   "metadata": {
    "deletable": false,
    "editable": true
   },
   "outputs": [],
   "source": [
    "let spaces = \"   \";\n",
    "let spaces = spaces.len();"
   ]
  },
  {
   "cell_type": "markdown",
   "metadata": {
    "deletable": false,
    "editable": true
   },
   "source": [
    "Exercices\n",
    "==="
   ]
  },
  {
   "cell_type": "markdown",
   "metadata": {
    "deletable": false,
    "editable": true
   },
   "source": [
    "**Exercice 1:** Corrigez le code suivant:"
   ]
  },
  {
   "cell_type": "code",
   "execution_count": null,
   "metadata": {},
   "outputs": [],
   "source": [
    "let pair = (5, 6);\n",
    "let (mut x, y) = pair;\n",
    "x += 5;\n",
    "y = x;\n",
    "println!(\"Coordinates: ({}, {})\", x, y); // attendu (10, 10)\n",
    "\n",
    "let x = x;\n",
    "x = x + 5;\n",
    "println!(\"x: {}\", x); //attendu x: 15"
   ]
  },
  {
   "cell_type": "markdown",
   "metadata": {
    "deletable": false,
    "editable": true
   },
   "source": [
    "**solution:**"
   ]
  },
  {
   "cell_type": "code",
   "execution_count": null,
   "metadata": {
    "deletable": false,
    "editable": true,
    "hide_input": true
   },
   "outputs": [],
   "source": [
    "let pair = (5, 6);\n",
    "let (mut x, mut y) = pair;\n",
    "x += 5;\n",
    "y = x;\n",
    "println!(\"Coordinates: ({}, {})\", x, y);\n",
    "\n",
    "let x = x;\n",
    "let x = x + 5;\n",
    "println!(\"x: {}\", x);"
   ]
  }
 ],
 "metadata": {
  "kernelspec": {
   "display_name": "Rust",
   "language": "rust",
   "name": "rust"
  },
  "language_info": {
   "codemirror_mode": "rust",
   "file_extension": ".rs",
   "mimetype": "text/rust",
   "name": "Rust",
   "pygment_lexer": "rust",
   "version": ""
  }
 },
 "nbformat": 4,
 "nbformat_minor": 2
}
