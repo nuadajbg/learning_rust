{
 "cells": [
  {
   "cell_type": "markdown",
   "metadata": {
    "deletable": false,
    "editable": true
   },
   "source": [
    "# Contrôle de flot d'exéction"
   ]
  },
  {
   "cell_type": "markdown",
   "metadata": {
    "deletable": false,
    "editable": true
   },
   "source": [
    "Les constructions les plus communes pour le contrôle du flot d'excéution en Rust sont les expression **if** et **loop**."
   ]
  },
  {
   "cell_type": "markdown",
   "metadata": {
    "deletable": false,
    "editable": true
   },
   "source": [
    "Expressions *if*\n",
    "----------------"
   ]
  },
  {
   "cell_type": "code",
   "execution_count": null,
   "metadata": {
    "deletable": false,
    "editable": true,
    "vscode": {
     "languageId": "rust"
    }
   },
   "outputs": [],
   "source": [
    "fn main() {\n",
    "    let number = 3;\n",
    "\n",
    "    if number < 5 { // les conditions sont parfois appelées 'branches' et doivent être booléennes\n",
    "        println!(\"condition was true\");\n",
    "    } else {\n",
    "        println!(\"condition was false\");\n",
    "    }\n",
    "}\n",
    "main();"
   ]
  },
  {
   "cell_type": "code",
   "execution_count": null,
   "metadata": {
    "deletable": false,
    "editable": true,
    "vscode": {
     "languageId": "rust"
    }
   },
   "outputs": [],
   "source": [
    "fn main() {\n",
    "    let number = 3;\n",
    "\n",
    "    if number { // la condition doit être booléenne !\n",
    "        println!(\"number was three\");\n",
    "    }\n",
    "}\n",
    "main();"
   ]
  },
  {
   "cell_type": "markdown",
   "metadata": {
    "deletable": false,
    "editable": true
   },
   "source": [
    "A l'inverse d'autres langages comme Ruby et Javascript, Rust ne vas pas automatiquement convertir en booléen les expressions non-booléennes utilisées en condition."
   ]
  },
  {
   "cell_type": "markdown",
   "metadata": {
    "deletable": false,
    "editable": true
   },
   "source": [
    "Conditions multiples avec *else if*\n",
    "----"
   ]
  },
  {
   "cell_type": "code",
   "execution_count": null,
   "metadata": {
    "deletable": false,
    "editable": true,
    "vscode": {
     "languageId": "rust"
    }
   },
   "outputs": [],
   "source": [
    "fn main() {\n",
    "    let number = 6;\n",
    "\n",
    "    if number % 4 == 0 {\n",
    "        println!(\"number is divisible by 4\");\n",
    "    } else if number % 3 == 0 {\n",
    "        println!(\"number is divisible by 3\");\n",
    "    } else if number % 2 == 0 {\n",
    "        println!(\"number is divisible by 2\");\n",
    "    } else {\n",
    "        println!(\"number is not divisible by 4, 3, or 2\");\n",
    "    }\n",
    "}\n",
    "main();"
   ]
  },
  {
   "cell_type": "markdown",
   "metadata": {
    "deletable": false,
    "editable": true
   },
   "source": [
    "> Notez que bien que 6 soit également divisible par 2, ce résultat n'est pas affiché, pas plus que le dernier message que le nombre n'est pas divisible pas 4, 3 ou 2. En Rust, seul le premier block dont la condition est vraie est exécuté. Une fois celui-ci trouvé, les autres conditions ne sont pas évaluées."
   ]
  },
  {
   "cell_type": "markdown",
   "metadata": {
    "deletable": false,
    "editable": true
   },
   "source": [
    "Utilisation de *if* avec *let*\n",
    "-----"
   ]
  },
  {
   "cell_type": "code",
   "execution_count": null,
   "metadata": {
    "deletable": false,
    "editable": true,
    "vscode": {
     "languageId": "rust"
    }
   },
   "outputs": [],
   "source": [
    "fn main() {\n",
    "    let condition = true;\n",
    "    let number = if condition {\n",
    "        5 \n",
    "    } else {\n",
    "        6 \n",
    "    };\n",
    "\n",
    "    println!(\"La valeur du nombre est: {}\", number);\n",
    "}\n",
    "main();"
   ]
  },
  {
   "cell_type": "code",
   "execution_count": null,
   "metadata": {
    "deletable": false,
    "editable": true,
    "vscode": {
     "languageId": "rust"
    }
   },
   "outputs": [],
   "source": [
    "fn main() {\n",
    "    let condition = true;\n",
    "\n",
    "    let number = if condition {\n",
    "        5   // le résultat est un nombre entier\n",
    "    } else {\n",
    "        \"six\" // mauvais type\n",
    "    };\n",
    "\n",
    "    println!(\"La valeur du nombre est: {}\", number);\n",
    "}\n",
    "main();"
   ]
  },
  {
   "cell_type": "markdown",
   "metadata": {
    "deletable": false,
    "editable": true
   },
   "source": [
    "Rust a besoin de connaitre à la compilation le type des variables; en particulier quel est le type de la variable `number`dans cet exemple.\n",
    "Rust ne peut pas faire cela à l'exécution car le compilateur ne pourrait alors pas fournir les mêmes garanties s'il devait prendre en compte de multiples hypothèses sur le typage éventuel des variables."
   ]
  },
  {
   "cell_type": "markdown",
   "metadata": {
    "deletable": false,
    "editable": true
   },
   "source": [
    "Boucles\n",
    "==="
   ]
  },
  {
   "cell_type": "markdown",
   "metadata": {
    "deletable": false,
    "editable": true
   },
   "source": [
    "Répétition avec *loop*\n",
    "----------------------------"
   ]
  },
  {
   "cell_type": "code",
   "execution_count": null,
   "metadata": {
    "deletable": false,
    "editable": true,
    "vscode": {
     "languageId": "rust"
    }
   },
   "outputs": [],
   "source": [
    "fn main() {\n",
    "    loop {  // type ^C to stop the loop\n",
    "        println!(\"again!\");\n",
    "    }\n",
    "}\n",
    "main();\n",
    "\n",
    "// ATTENTION, n'exécutez pas cette cellule qui est une boucle infinie.\n",
    "// si vous le faites, il est nécessaire de redémarrer le kernel Rust (menu Kernel/restart)"
   ]
  },
  {
   "cell_type": "markdown",
   "metadata": {
    "deletable": false,
    "editable": true
   },
   "source": [
    "Une des utilisations des boucles est de ré-essayer une opération que l'on sait pouvoir échouer, par exemple vérifier qu'un thread a bien terminé son travail.\n",
    "Cependant, il est parfois possible de passer le résultat de cette opération au reste du code.\n",
    "Si vous ajoutez la valeur à retourner de la boucle après le mot clé `break`, elle correspondra à la valeur d'évaluation de la boucle et pourra ainsi être utilisée."
   ]
  },
  {
   "cell_type": "code",
   "execution_count": null,
   "metadata": {
    "deletable": false,
    "editable": true,
    "vscode": {
     "languageId": "rust"
    }
   },
   "outputs": [],
   "source": [
    "fn main() {\n",
    "    let mut counter = 0;\n",
    "\n",
    "    let result = loop {\n",
    "        counter += 1;\n",
    "\n",
    "        if counter == 10 {\n",
    "            break counter * 2;\n",
    "        }\n",
    "    };\n",
    "\n",
    "    println!(\"Le résultat est {}\", result);\n",
    "}\n",
    "main();"
   ]
  },
  {
   "cell_type": "markdown",
   "metadata": {
    "deletable": false,
    "editable": true
   },
   "source": [
    "Boucles conditionnelles avec *while*\n",
    "---"
   ]
  },
  {
   "cell_type": "code",
   "execution_count": null,
   "metadata": {
    "deletable": false,
    "editable": true,
    "vscode": {
     "languageId": "rust"
    }
   },
   "outputs": [],
   "source": [
    "fn main() {\n",
    "    let mut number = 3;\n",
    "\n",
    "    while number != 0 {\n",
    "        println!(\"{}!\", number);\n",
    "\n",
    "        number = number - 1;\n",
    "    }\n",
    "\n",
    "    println!(\"LIFTOFF!!!\");\n",
    "}\n",
    "main();"
   ]
  },
  {
   "cell_type": "code",
   "execution_count": null,
   "metadata": {
    "deletable": false,
    "editable": true,
    "vscode": {
     "languageId": "rust"
    }
   },
   "outputs": [],
   "source": [
    "fn main() {\n",
    "    let a = [10, 20, 30, 40, 50];\n",
    "    let mut index = 0;\n",
    "\n",
    "    while index < 5 {\n",
    "        println!(\"la valeur est: {}\", a[index]);\n",
    "\n",
    "        index = index + 1;\n",
    "    }\n",
    "}\n",
    "main();"
   ]
  },
  {
   "cell_type": "markdown",
   "metadata": {
    "deletable": false,
    "editable": true
   },
   "source": [
    "Cette manière d'écrire est très susceptible de créer des erreurs à l'excution si la valeur de `index` est incorrecte. Elle est aussi assez lente parce que le compilateur ajoute du code de vérification des bornes, exécuté à chaque itération de la boucle.\n",
    "Une approche plus concise et idiomatique consiste à écrire une boucle pour chaque élément de la collection en utilisant un itérateur de la façon suivante :"
   ]
  },
  {
   "cell_type": "code",
   "execution_count": null,
   "metadata": {
    "deletable": false,
    "editable": true,
    "vscode": {
     "languageId": "rust"
    }
   },
   "outputs": [],
   "source": [
    "fn main() {\n",
    "    let a = [10, 20, 30, 40, 50];\n",
    "\n",
    "    for element in a.iter() {\n",
    "        println!(\"La valeur est: {}\", element);\n",
    "    }\n",
    "}\n",
    "main();"
   ]
  },
  {
   "cell_type": "code",
   "execution_count": null,
   "metadata": {
    "deletable": false,
    "editable": true,
    "vscode": {
     "languageId": "rust"
    }
   },
   "outputs": [],
   "source": [
    "fn main() {\n",
    "    for number in (1..4).rev() { // Notez la définition d'une séquence avec l'opérateur ..\n",
    "        println!(\"{}!\", number);\n",
    "    }\n",
    "    println!(\"LIFTOFF!!!\");\n",
    "}\n",
    "main();"
   ]
  },
  {
   "cell_type": "markdown",
   "metadata": {
    "deletable": false,
    "editable": true
   },
   "source": [
    "Exercises\n",
    "==="
   ]
  },
  {
   "cell_type": "markdown",
   "metadata": {
    "deletable": false,
    "editable": true
   },
   "source": [
    "**Exercise 1:** Implémentez le jeu fizz-buzz qui compte jusqu'à 20.\n",
    "\n",
    "Pour chaque nombre, affichez :\n",
    "* `Fizz` si le nombre est divisible par 3\n",
    "* `Buzz` si le nombre est divisible par 5\n",
    "* `Fizz Buzz` si le nombre est divisible par 15\n",
    "* Le nombre lui-même dans tous les autres cas"
   ]
  },
  {
   "cell_type": "code",
   "execution_count": null,
   "metadata": {
    "vscode": {
     "languageId": "rust"
    }
   },
   "outputs": [],
   "source": [
    "fn main() {\n",
    "    // TO DO Implement the fizz buzz game\n",
    "    \n",
    "}\n",
    "main();"
   ]
  },
  {
   "cell_type": "markdown",
   "metadata": {
    "deletable": false,
    "editable": true,
    "hide_input": false
   },
   "source": [
    "**Solution:**"
   ]
  },
  {
   "cell_type": "code",
   "execution_count": null,
   "metadata": {
    "deletable": false,
    "editable": true,
    "hide_input": true,
    "vscode": {
     "languageId": "rust"
    }
   },
   "outputs": [],
   "source": [
    "fn main() {\n",
    "    for number in 1..21 {\n",
    "        if number % 3 == 0 {\n",
    "            if number % 5 == 0 {\n",
    "                println!(\"Fizz Buzz\");\n",
    "            } else {\n",
    "                println!(\"Fizz\");\n",
    "            }\n",
    "        } else if number % 5 == 0 {\n",
    "            println!(\"Buzz\");\n",
    "        }\n",
    "        else {\n",
    "            println!(\"{}\", number);\n",
    "        }\n",
    "    }\n",
    "}\n",
    "main();"
   ]
  },
  {
   "cell_type": "markdown",
   "metadata": {},
   "source": [
    "**Exercice 2** : Fibonacci\n",
    "* Implémenter une version récursive d'une fonction culculant la valeur du rang n de suite de Fibonacci\n",
    "* Implémenter une version itérative\n",
    "* Calculer un tableau avec les 50 premiers éléments de la suite"
   ]
  },
  {
   "cell_type": "code",
   "execution_count": null,
   "metadata": {
    "vscode": {
     "languageId": "rust"
    }
   },
   "outputs": [],
   "source": [
    "fn main() {\n",
    "\n",
    "}\n",
    "main();"
   ]
  },
  {
   "cell_type": "markdown",
   "metadata": {},
   "source": [
    "**Solution**:"
   ]
  },
  {
   "cell_type": "code",
   "execution_count": null,
   "metadata": {
    "vscode": {
     "languageId": "rust"
    }
   },
   "outputs": [],
   "source": [
    "fn fibonacci_recursive(n: u32) -> u32 {\n",
    "    if n == 0 {\n",
    "        0\n",
    "    } else if n == 1 {\n",
    "        1\n",
    "    } else {\n",
    "        fibonacci_recursive(n - 1) + fibonacci_recursive(n - 2)\n",
    "    }\n",
    "}\n",
    "\n",
    "fn fibonacci_iterative(n: u32) -> u32 {\n",
    "    if n == 0 {\n",
    "        return 0;\n",
    "    }\n",
    "    let mut n0 = 0;\n",
    "    let mut n1 = 1;\n",
    "    for _ in 2..(n+1) {\n",
    "        let next = n0 + n1;\n",
    "        n0 = n1;\n",
    "        n1 = next;\n",
    "    }\n",
    "    n1\n",
    "}\n",
    "\n",
    "fn fibonacci_firsts() -> [u32 ; 10] {\n",
    "    let mut result = [0 ; 10];\n",
    "    result[1] = 1;\n",
    "    for i in 2..10 {\n",
    "        result[i] = result[i-2] + result[i-1];\n",
    "    }\n",
    "    result\n",
    "}\n",
    "\n",
    "fn main() {\n",
    "    println!(\"fibonacci_recursive(10) = {}\", fibonacci_recursive(10));\n",
    "    println!(\"fibonacci_iterative(10) = {}\", fibonacci_iterative(10));\n",
    "    println!(\"fibonacci_firsts = {:?}\", fibonacci_firsts());\n",
    "}\n",
    "\n",
    "main();"
   ]
  }
 ],
 "metadata": {
  "kernelspec": {
   "display_name": "Rust",
   "language": "rust",
   "name": "rust"
  },
  "language_info": {
   "codemirror_mode": "rust",
   "file_extension": ".rs",
   "mimetype": "text/rust",
   "name": "Rust",
   "pygment_lexer": "rust",
   "version": ""
  }
 },
 "nbformat": 4,
 "nbformat_minor": 2
}
