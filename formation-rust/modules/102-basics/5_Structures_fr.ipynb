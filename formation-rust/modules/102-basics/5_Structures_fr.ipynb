{
 "cells": [
  {
   "cell_type": "markdown",
   "metadata": {},
   "source": [
    "# Structures"
   ]
  },
  {
   "cell_type": "markdown",
   "metadata": {},
   "source": [
    "Une `struct` ou structure, est un type défini par l'utilisateur qui permet de packager sous un même nom plusieurs valeurs ensemble en un group cohérent. Les structures et les énumérations (voir module suivant) sont les blocks de base pour la création de nouveaux types dans votre domaine métier pour tirer le meilleur partie des vérifications faites par le compilateur.\n",
    "\n",
    "Tout comme les tuples, les éléments composant une structure peuvent être de types différents.\n",
    "A l'inverse des tuples, chaque membre a un nom spécifique pour qu'il soit clair ce que chaque valeur signifie.\n",
    "Les structures sont donc plus flexibles que les tuples : vous n'avez pas à vous appuyer sur l'ordre des données pour spécifier ou accéder à la valeur d'un membre de l'instance."
   ]
  },
  {
   "cell_type": "code",
   "execution_count": null,
   "metadata": {
    "vscode": {
     "languageId": "rust"
    }
   },
   "outputs": [],
   "source": [
    "fn main() {\n",
    "    struct User { \n",
    "        username: String,  // ceci est un champ (membre) (field)\n",
    "        email: String,\n",
    "        sign_in_count: u64,\n",
    "        active: bool,\n",
    "    }\n",
    "\n",
    "    let user1 = User { // ceci est une instance de `User`\n",
    "        email: String::from(\"someone@example.com\"),\n",
    "        username: String::from(\"someusername123\"),\n",
    "        active: true,\n",
    "        sign_in_count: 1,\n",
    "    };\n",
    "}\n",
    "main();"
   ]
  },
  {
   "cell_type": "markdown",
   "metadata": {},
   "source": [
    "Pour accéder à un membre particulier d'une structure on utiliser la notation usuelle avec le point ( . ).\n",
    "Si l'instance est mutable, il est possible de changer la valeur de ce membre avec cette même notation en lui assignant une nouvelle valeur."
   ]
  },
  {
   "cell_type": "markdown",
   "metadata": {},
   "source": [
    ">**Note:** l'instance entière doit être mutable. Rust ne permet pas à certains membres seulement d'être mutables."
   ]
  },
  {
   "cell_type": "code",
   "execution_count": null,
   "metadata": {
    "vscode": {
     "languageId": "rust"
    }
   },
   "outputs": [],
   "source": [
    "fn main() {\n",
    "    struct User { \n",
    "        username: String,  // ceci est un champ\n",
    "        email: String,\n",
    "        sign_in_count: u64,\n",
    "        active: bool,\n",
    "    }\n",
    "\n",
    "    let mut user1 = User { // <-- user1 est mutable\n",
    "        email: String::from(\"someone@example.com\"),\n",
    "        username: String::from(\"someusername123\"),\n",
    "        active: true,\n",
    "        sign_in_count: 1,\n",
    "    };\n",
    "    // mutation de email in user1\n",
    "    user1.email = String::from(\"anotheremail@example.com\");\n",
    "}\n",
    "main();"
   ]
  },
  {
   "cell_type": "markdown",
   "metadata": {},
   "source": [
    "A l'instar de toutes les expression, nous pouvons construire une instance d'une structure comme la dernière expression d'une fonction pour retourner cette instance."
   ]
  },
  {
   "cell_type": "code",
   "execution_count": null,
   "metadata": {
    "vscode": {
     "languageId": "rust"
    }
   },
   "outputs": [],
   "source": [
    "fn main() {\n",
    "    struct User { \n",
    "        username: String,\n",
    "        email: String,\n",
    "        sign_in_count: u64,\n",
    "        active: bool,\n",
    "    }\n",
    "\n",
    "    fn build_user(email: String, username: String) -> User {\n",
    "        User { // <-- dernière expression de la fonction `build_user`\n",
    "            email: email,\n",
    "            username: username,\n",
    "            active: true,\n",
    "            sign_in_count: 1,\n",
    "        }\n",
    "    }\n",
    "}\n",
    "main();"
   ]
  },
  {
   "cell_type": "markdown",
   "metadata": {},
   "source": [
    "Lorsque le nom d'un paramètre et celui d'un membre de la structure sont exactement le même, il est possible d'utiliser un raccourci syntaxique :"
   ]
  },
  {
   "cell_type": "code",
   "execution_count": null,
   "metadata": {
    "vscode": {
     "languageId": "rust"
    }
   },
   "outputs": [],
   "source": [
    "fn main() {\n",
    "    struct User { \n",
    "        username: String,\n",
    "        email: String,\n",
    "        sign_in_count: u64,\n",
    "        active: bool,\n",
    "    }\n",
    "\n",
    "    fn build_user(email: String, username: String) -> User {\n",
    "        User {\n",
    "            email,            // <-- raccourci au lieu de email: email\n",
    "            username,         // <-- raccourci ici aussi\n",
    "            active: true,\n",
    "            sign_in_count: 1,\n",
    "        }\n",
    "    }\n",
    "}\n",
    "main();"
   ]
  },
  {
   "cell_type": "markdown",
   "metadata": {},
   "source": [
    "Créer une instance à partir d'autres\n",
    "---"
   ]
  },
  {
   "cell_type": "markdown",
   "metadata": {},
   "source": [
    "Pour créer une instance à partir d'une autre de manière basique :"
   ]
  },
  {
   "cell_type": "code",
   "execution_count": null,
   "metadata": {
    "vscode": {
     "languageId": "rust"
    }
   },
   "outputs": [],
   "source": [
    "fn main() {\n",
    "        struct User { \n",
    "                username: String,  // this is a field\n",
    "                email: String,\n",
    "                sign_in_count: u64,\n",
    "                active: bool,\n",
    "        };\n",
    "\n",
    "        let user1 = User {\n",
    "                email: String::from(\"someone@example.com\"),\n",
    "                username: String::from(\"someusername123\"),\n",
    "                active: true,\n",
    "                sign_in_count: 1,\n",
    "        };\n",
    "        let user2 = User { // sans utiliser la syntaxe de mise à jour\n",
    "                email: String::from(\"another@example.com\"),\n",
    "                username: String::from(\"anotherusername567\"),\n",
    "                active: user1.active,\n",
    "                sign_in_count: user1.sign_in_count,\n",
    "        };\n",
    "        println!(\"user2: {}\", user2.username);\n",
    "        let user3 = User { // syntaxe de mise à jour\n",
    "                email: String::from(\"yet_another@example.com\"),\n",
    "                username: String::from(\"username456\"),\n",
    "                ..user1  // <-- reste des membres copiés depuis user1\n",
    "        };\n",
    "        println!(\"user3: {}\", user3.username);\n",
    "}\n",
    "main();"
   ]
  },
  {
   "cell_type": "markdown",
   "metadata": {},
   "source": [
    "Structures sous forme de tuples\n",
    "---"
   ]
  },
  {
   "cell_type": "markdown",
   "metadata": {},
   "source": [
    "Vous pouvez définir une structure sous une forme similaire à celle d'un tuple.\n",
    "Cette syntaxe s'appele *tuple struct*.\n",
    "Cette syntaxe permet d'associer un nom explicite à la structure, là où un tuple simple est anonyme,\n",
    "mais les membres, eux, sont anonymes, à l'instar d'un tuple simple.\n",
    "La syntaxe *tuple struct* est utile pour donner un nom un tuple pour le différecier des autres tuples de types équivalents, et que le nommage des membres serait superflu ou redondant."
   ]
  },
  {
   "cell_type": "code",
   "execution_count": null,
   "metadata": {
    "vscode": {
     "languageId": "rust"
    }
   },
   "outputs": [],
   "source": [
    "fn main() {\n",
    "    struct Color(i32, i32, i32);\n",
    "    struct Point(i32, i32, i32);\n",
    "\n",
    "    let black = Color(0, 0, 0);\n",
    "    let origin = Point(0, 0, 0);\n",
    "\n",
    "    println!(\"black = ({}, {}, {})\", black.0, black.1, black.2);\n",
    "}\n",
    "main();"
   ]
  },
  {
   "cell_type": "markdown",
   "metadata": {},
   "source": [
    "> Notez que les variables `black` et `origin` sont de type différent parce qu'elles sont des instances de structure tuple différentes.\n",
    "> Toutes les structures que vous définissez ainsi sont bien des types différents, même si le typage des membres est identique.\n",
    "> Les *tuple struct* se manipule de la même façon que les tuples standards : vous pouvez les déstructurer en éléments individuels, utiliser **.** suivit d'un index pour accéder à un membre, etc."
   ]
  },
  {
   "cell_type": "markdown",
   "metadata": {},
   "source": [
    "Définitions de méthodes\n",
    "---"
   ]
  },
  {
   "cell_type": "markdown",
   "metadata": {},
   "source": [
    "Les méthodes sont similaires aux fonctions en ceci qu'elles sont définies également avec le mot clé `fn` et leur nom; elles peuvent avoir des paramètres et un type de retour et contenir du code exécuté à leur appel.\n",
    "Les méthodes diffèrent en cela qu'elles sont définies dans le contexte d'une structure (ou d'une énumération, ou d'un trait).\n",
    "Lorsqu'une méthode a besoin de référencer l'instance de la structure, le premier paramètre doit être `self` qui représente cette instance sur laquelle la méthode est appelée."
   ]
  },
  {
   "cell_type": "code",
   "execution_count": null,
   "metadata": {
    "vscode": {
     "languageId": "rust"
    }
   },
   "outputs": [],
   "source": [
    "fn main() {\n",
    "    struct Rectangle {\n",
    "        width: u32,\n",
    "        height: u32,\n",
    "    }\n",
    "    \n",
    "    impl Rectangle {\n",
    "        fn area(&self) -> u32 {\n",
    "            self.width * self.height\n",
    "        }\n",
    "    }\n",
    "\n",
    "    let rect1 = Rectangle { width: 30, height: 50 };\n",
    "\n",
    "    println!(\n",
    "        \"L'aire du rectange est de {} pixels.\",\n",
    "        rect1.area()\n",
    "    );\n",
    "}\n",
    "main();"
   ]
  },
  {
   "cell_type": "markdown",
   "metadata": {},
   "source": [
    "`&self` est utilisé comme paramètre parce que nous ne voulont pas consommer l'objet `rect1` en récupérant sa propriété, mais seulement y accéder (à travers une référence), et que nous voulons simplement lire son contenu, et non le modifier.\n",
    "Une méthode peut prendre la propriété (ownership) de l'objet avec l'utilisation simple de `self` comme premier paramètre.\n",
    "L'usage de cette technique est relativement rare et dénote en générale une méthode consommant l'objet pour le transformer en quelque chose d'autre.\n",
    "Le système de propriété (ownership) est discuté en détail dans le prochain module."
   ]
  },
  {
   "cell_type": "markdown",
   "metadata": {},
   "source": [
    "Il est possible de définir des méthodes qui ne prennent pas `self` ou `&self` en premier paramètre.\n",
    "Ces méthodes sont alors statiques, relativement à leur type.\n",
    "\n",
    "En réalité, c'est exactement comme ceci que l'on écrit les constructeurs en Rust.\n",
    "Avez-vous remarquer que jusqu'à maintenant nous avons toujours explicitement construit les structures avec leurs membres ?\n",
    "La convention en Rust pour les constructeurs est de définir une méthode statique nommée `new` prenant en paramètres les informations requises et retournant une structure initialisée :\n",
    "\n",
    "> Notez que le nom `new` de la fonction n'a absolument pas d'interprétation spéciale, il s'agit d'une convention."
   ]
  },
  {
   "cell_type": "code",
   "execution_count": null,
   "metadata": {
    "vscode": {
     "languageId": "rust"
    }
   },
   "outputs": [],
   "source": [
    "fn main() {\n",
    "    struct Rectangle {\n",
    "        width: u32,\n",
    "        height: u32,\n",
    "    }\n",
    "    \n",
    "    impl Rectangle {\n",
    "        /// ceci est un constructeur, le nom new n'a pas de sémantique particulière pour Rust\n",
    "        fn new(width: u32, height: u32) -> Rectangle {\n",
    "            Rectangle { width, height }\n",
    "        }\n",
    "    \n",
    "        fn area(&self) -> u32 {\n",
    "            self.width * self.height\n",
    "        }\n",
    "    }\n",
    "\n",
    "    let rect1 = Rectangle::new(30, 50);\n",
    "\n",
    "    println!(\n",
    "        \"L'aire du rectange est de {} pixels.\",\n",
    "        rect1.area()\n",
    "    );\n",
    "}\n",
    "main();"
   ]
  },
  {
   "cell_type": "markdown",
   "metadata": {},
   "source": [
    "Exercises\n",
    "==="
   ]
  },
  {
   "cell_type": "markdown",
   "metadata": {},
   "source": [
    "**Exercice 1:** Réécrivez le code suivant en utilisant une structure :"
   ]
  },
  {
   "cell_type": "code",
   "execution_count": null,
   "metadata": {
    "scrolled": true,
    "vscode": {
     "languageId": "rust"
    }
   },
   "outputs": [],
   "source": [
    "let width: u32 = 30; // the width of the rectangle\n",
    "let height: u32 = 50; // the height of the rectangle\n",
    "println!(\"The width of the rectangle is {} and the height is {}\", width, height);"
   ]
  },
  {
   "cell_type": "code",
   "execution_count": null,
   "metadata": {
    "vscode": {
     "languageId": "rust"
    }
   },
   "outputs": [],
   "source": [
    "fn main() {\n",
    "    // TO DO (1) Créer une structure Rectangle\n",
    "\n",
    "    // TO DO (2) Ajouter un constructeur\n",
    "\n",
    "    // TO DO (3) Ajouter une méthode pour afficher la largeur et la longueur\n",
    "}\n",
    "main();"
   ]
  },
  {
   "cell_type": "markdown",
   "metadata": {},
   "source": [
    "**Solution:**"
   ]
  },
  {
   "cell_type": "code",
   "execution_count": null,
   "metadata": {
    "hide_input": true,
    "vscode": {
     "languageId": "rust"
    }
   },
   "outputs": [],
   "source": [
    "fn main() {\n",
    "    struct Rectangle {\n",
    "        width: u32,\n",
    "        height: u32,\n",
    "    }\n",
    "\n",
    "    impl Rectangle {\n",
    "        fn new(width: u32, height: u32) -> Rectangle {\n",
    "            Rectangle { width, height }\n",
    "        }\n",
    "\n",
    "        fn display(&self) {\n",
    "            println!(\"The width of the rectangle is {} and the height is {}\", self.width, self.height);\n",
    "        }\n",
    "    }\n",
    "\n",
    "    let rect1 = Rectangle::new(30, 50);\n",
    "    rect1.display();\n",
    "}\n",
    "main();"
   ]
  },
  {
   "cell_type": "markdown",
   "metadata": {},
   "source": [
    "Comment pourrions-nous faire pour afficher dans la console les informations d'une instance de structure, par exemple pour débugger ?"
   ]
  },
  {
   "cell_type": "code",
   "execution_count": null,
   "metadata": {
    "vscode": {
     "languageId": "rust"
    }
   },
   "outputs": [],
   "source": [
    "struct Rectangle {\n",
    "    width: u32,\n",
    "    height: u32,\n",
    "}\n",
    "\n",
    "let rect1 = Rectangle { width: 30, height: 50 };\n",
    "\n",
    "println!(\"rect1 is {}\", rect1);\n"
   ]
  },
  {
   "cell_type": "markdown",
   "metadata": {},
   "source": [
    "La macro `println!` peut réaliser beaucoup d'opérations de formattage pour l'affichage.\n",
    "Par défaut, les accolades `{}` permettent d'indiquer à `println!` d'utiliser le formattage du trait `Display`,\n",
    "qui en général vise plutôt les utilisateurs finaux.\n",
    "Les types primitifs que nous avons vu jusqu'à maintenant implémentent tous `Display`, parce qu'il n'y a qu'une seule manière d'afficher `1`.\n",
    "La manière d'afficher les structure, par contre, n'est pas toujours aussi claire, il y a beaucoup de possiblités.\n",
    "Rust ne fait pas d'hypothèse et par défaut Rust ne fournit pas d'implémentation de `Display` pour les structures."
   ]
  },
  {
   "cell_type": "markdown",
   "metadata": {},
   "source": [
    "Mais Rust fournit les fonctionnalités pour afficher des informations utiles au debug, mais nous devons explicitement le demander pour nos structures.\n",
    "Pour cela, nous ajoutons l'annotation `#[derive(Debug)]`juste avant la définition de la structure."
   ]
  },
  {
   "cell_type": "code",
   "execution_count": null,
   "metadata": {
    "vscode": {
     "languageId": "rust"
    }
   },
   "outputs": [],
   "source": [
    "fn main() {\n",
    "    #[derive(Debug)]\n",
    "    struct Rectangle {\n",
    "        width: u32,\n",
    "        height: u32,\n",
    "    }\n",
    "    \n",
    "    \n",
    "    let rect1 = Rectangle { width: 30, height: 50 };\n",
    "    \n",
    "    println!(\"rect1 is {:?}\", rect1); // tell println! to use an output format called Debug\n",
    "}\n",
    "main();"
   ]
  },
  {
   "cell_type": "markdown",
   "metadata": {},
   "source": [
    "En utilisant **:?** à l'intérieur des accolades, nous indiquons à `println!` que nous voulons utiliser le formattage fournit par le trait `Debug`.\n",
    "Ce dernier formatte la structure sous une forme utile pour les développeurs pour que nous puissions l'inspecter au debug."
   ]
  },
  {
   "cell_type": "markdown",
   "metadata": {},
   "source": [
    ">__Note:__ Les traits sont similaires à ce que l'on appele interface dans d'autres langages, avec cependant quelques différences."
   ]
  },
  {
   "cell_type": "markdown",
   "metadata": {},
   "source": [
    "Lorsque nous interagissons avec des structures de données avec beaucoup de membres, il peut être nécessaire de formatter la structure sous une forme plus facile à lire, dans ce cas, le formattage **{:#?}** est plus utile."
   ]
  },
  {
   "cell_type": "markdown",
   "metadata": {},
   "source": [
    "**Exercise 2:** Essayer d'utiliser le formattage **{:#?}** dans l'exemple précédent."
   ]
  },
  {
   "cell_type": "markdown",
   "metadata": {},
   "source": [
    "**Exercise 3:** Définissez une structure *GeoCoordinate*, contenant les membres *latitude* et *longitude*.\n",
    "Puis implémentez les méthodes *to_degrees()* and *to_radians()* qui transforment ces coordonnées en degrés ou en radians.\n",
    "\n",
    "Implémentez une structure GeoBoundingBox contenant les coordonnées min et max.\n",
    "Testez votre implémentation."
   ]
  },
  {
   "cell_type": "markdown",
   "metadata": {},
   "source": [
    "**Sample test data:** latitude: 44.84, longitude: -0.58 "
   ]
  },
  {
   "cell_type": "markdown",
   "metadata": {},
   "source": [
    "> **Tips:** Regardez la documentation du type `f64` et cherchez les méthodes `to_degrees` and `to_radians`. https://doc.rust-lang.org/std/primitive.f64.html#method.to_degrees"
   ]
  },
  {
   "cell_type": "code",
   "execution_count": null,
   "metadata": {
    "vscode": {
     "languageId": "rust"
    }
   },
   "outputs": [],
   "source": [
    "// TO DO (1) Define the GeoCoordinate structure\n",
    "\n",
    "// TO DO (2) Implement for the GeoCoordinate structure the to_degrees and to_radians methods\n",
    "\n",
    "fn main() {\n",
    "    // TO DO (3) Test your implementation\n",
    "    \n",
    "}\n",
    "main();\n"
   ]
  },
  {
   "cell_type": "markdown",
   "metadata": {},
   "source": [
    "**Solution:**"
   ]
  },
  {
   "cell_type": "code",
   "execution_count": null,
   "metadata": {
    "hide_input": true,
    "vscode": {
     "languageId": "rust"
    }
   },
   "outputs": [],
   "source": [
    "#[derive(Debug)]\n",
    "struct GeoCoordinate {\n",
    "    /// The latitude\n",
    "    latitude: f64,\n",
    "    /// The longitude\n",
    "    longitude: f64\n",
    "}\n",
    "\n",
    "impl GeoCoordinate {\n",
    "    /// Transforms to values in degrees\n",
    "    fn to_degrees(&self) -> GeoCoordinate {\n",
    "        GeoCoordinate {\n",
    "            latitude: self.latitude.to_degrees(),\n",
    "            longitude: self.longitude.to_degrees()\n",
    "        }\n",
    "    }\n",
    "\n",
    "    /// Transforms to velues in radians\n",
    "    fn to_radians(&self) -> GeoCoordinate {\n",
    "        GeoCoordinate {\n",
    "            latitude: self.latitude.to_radians(),\n",
    "            longitude: self.longitude.to_radians()\n",
    "        }\n",
    "    }\n",
    "}\n",
    "\n",
    "fn main() {\n",
    "    let x = GeoCoordinate {latitude: 44.84, longitude: -0.58}; // coordonnées de la ville de Bordeaux \n",
    "    println!(\"{:#?}\", x.to_radians());\n",
    "}\n",
    "main();"
   ]
  }
 ],
 "metadata": {
  "kernelspec": {
   "display_name": "Rust",
   "language": "rust",
   "name": "rust"
  },
  "language_info": {
   "codemirror_mode": "rust",
   "file_extension": ".rs",
   "mimetype": "text/rust",
   "name": "Rust",
   "pygment_lexer": "rust",
   "version": ""
  }
 },
 "nbformat": 4,
 "nbformat_minor": 2
}
