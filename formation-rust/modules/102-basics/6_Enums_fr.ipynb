{
 "cells": [
  {
   "cell_type": "markdown",
   "metadata": {
    "deletable": false,
    "editable": true
   },
   "source": [
    "# Enumérations"
   ]
  },
  {
   "cell_type": "markdown",
   "metadata": {
    "deletable": false,
    "editable": true
   },
   "source": [
    "Les énumérations (enum) permettent de définir un type par toutes ses valeurs possibles."
   ]
  },
  {
   "cell_type": "markdown",
   "metadata": {
    "deletable": false,
    "editable": true
   },
   "source": [
    "De nos jours, une adresse IP peut être soit une adresse IPv4, soit une adresse IPv6, mais pas les deux en même temps.\n",
    "Cette propriété des adresses IP les rend très appropriés pour les représenter sous forme d'énumération, car une valeur énuméré ne peut que une des variantes à la fois.\n",
    "Toutes les adresses, qu'elles soient IPv4 ou IPv6 sont fondamentalement des adresses et il est logique de les traiter comme un seul type par du code qui doit fonctionner avec n'importe quel type d'adresse IP."
   ]
  },
  {
   "cell_type": "code",
   "execution_count": null,
   "metadata": {
    "deletable": false,
    "editable": true
   },
   "outputs": [],
   "source": [
    "enum IpAddrKind {\n",
    "    V4, // ceci est une variante\n",
    "    V6, // une autre variante\n",
    "}"
   ]
  },
  {
   "cell_type": "markdown",
   "metadata": {
    "deletable": false,
    "editable": true
   },
   "source": [
    "Valeurs énumérées\n",
    "==="
   ]
  },
  {
   "cell_type": "markdown",
   "metadata": {
    "deletable": false,
    "editable": true
   },
   "source": [
    "`IpAddrKind` est maintenant un type utilisateur que nous pouvons réutiliser dans notre code.\n",
    "Nous pouvons créer de nouvelles instances de ce type, avec l'une des deux variantes.\n",
    "Chacune des valeurs `IpAddrKind::V4` et `IpAddrKind::V6` sont de type `IpAddrKind`."
   ]
  },
  {
   "cell_type": "code",
   "execution_count": null,
   "metadata": {
    "deletable": false,
    "editable": true
   },
   "outputs": [],
   "source": [
    "enum IpAddrKind {\n",
    "    V4, // ceci est une variante\n",
    "    V6, // une autre variante\n",
    "}\n",
    "let four = IpAddrKind::V4;\n",
    "let six = IpAddrKind::V6;"
   ]
  },
  {
   "cell_type": "code",
   "execution_count": null,
   "metadata": {
    "deletable": false,
    "editable": true
   },
   "outputs": [],
   "source": [
    "enum IpAddrKind {\n",
    "    V4,\n",
    "    V6,\n",
    "}\n",
    "\n",
    "struct IpAddr {\n",
    "    kind: IpAddrKind, // <-- utilisation de IpAddrKind\n",
    "    address: String,\n",
    "}\n",
    "\n",
    "let home = IpAddr {\n",
    "    kind: IpAddrKind::V4, // <-- instanciation avec la variante V4\n",
    "    address: String::from(\"127.0.0.1\"),\n",
    "}\n",
    "\n",
    "let loopback = IpAddr {\n",
    "    kind: IpAddrKind::V6, // <-- instanciation avec la variante V6\n",
    "    address: String::from(\"::1\"),\n",
    "}"
   ]
  },
  {
   "cell_type": "markdown",
   "metadata": {
    "deletable": false,
    "editable": true
   },
   "source": [
    "Nous pouvons représenter la même chose d'une manière un peut plus concise avec simplement un `enum`, au lieu d'un membre `enum` dans un `struct`.\n",
    "Rust nous permet de stocker directement des données dans les différentes variantes de l'énumération :"
   ]
  },
  {
   "cell_type": "code",
   "execution_count": null,
   "metadata": {
    "deletable": false,
    "editable": true
   },
   "outputs": [],
   "source": [
    "enum IpAddr {\n",
    "    V4(String), // <-- la variante porte directement la chaîne pour l'adresse\n",
    "    V6(String), // <-- idem\n",
    "}\n",
    "\n",
    "let home = IpAddr::V4(String::from(\"127.0.0.1\")); // <-- instanciation de la variante\n",
    "\n",
    "let loopback = IpAddr::V6(String::from(\"::1\"));"
   ]
  },
  {
   "cell_type": "markdown",
   "metadata": {
    "deletable": false,
    "editable": true
   },
   "source": [
    "Un autre avantage de cette manière de représenter l'information : chaque variante peut porter des données de types différents."
   ]
  },
  {
   "cell_type": "markdown",
   "metadata": {
    "deletable": false,
    "editable": true
   },
   "source": [
    "Vouloir stocker une adresse IP est une préoccupation si commune que la librairie standard de Rust possède déjà les définitions pour cela.\n",
    "Regardons un peu comment la librairie standard définie `IpAddr`.\n",
    "Cette énumération a les même variantes que celles proposées ci-dessus, mais les données portées par chacune des variantes sont de types différents :"
   ]
  },
  {
   "cell_type": "code",
   "execution_count": null,
   "metadata": {
    "deletable": false,
    "editable": true
   },
   "outputs": [],
   "source": [
    "struct Ipv4Addr {\n",
    "    // --snip--\n",
    "}\n",
    "\n",
    "struct Ipv6Addr {\n",
    "    // --snip--\n",
    "}\n",
    "\n",
    "enum IpAddr {\n",
    "    V4(Ipv4Addr),\n",
    "    V6(Ipv6Addr),\n",
    "}"
   ]
  },
  {
   "cell_type": "markdown",
   "metadata": {
    "deletable": false,
    "editable": true
   },
   "source": [
    "Les variantes des énumérations peuvent porter n'importer quel type de données, String, types primitifs, structures, et même d'autres énumérations."
   ]
  },
  {
   "cell_type": "markdown",
   "metadata": {
    "deletable": false,
    "editable": true
   },
   "source": [
    "Le type *Option* et son avantage sur `null`\n",
    "---"
   ]
  },
  {
   "cell_type": "markdown",
   "metadata": {
    "deletable": false,
    "editable": true
   },
   "source": [
    "**Option** est une énumération définie dans la librairie standard de Rust.\n",
    "Elle est très couramment utilisée car elle représente un scénario très courant où une valeur peut être absente.\n",
    "Exprimer ceci directement dans le système de type de Rust permet au compilateur de vérifier que le code traite correctement tous les cas.\n",
    "Cette fonctionnalité permet d'éviter des bugs très courants dans d'autres langages de programmation."
   ]
  },
  {
   "cell_type": "markdown",
   "metadata": {
    "deletable": false,
    "editable": true
   },
   "source": [
    "En Rust, le concept de `null`, exprimant une valeur absente n'existe simplement pas.\n",
    "Dans les langages avec `null`, les variables (en particuliers les pointeurs et références) peuvent être dans deux états : `null` ou avec une valeur.\n",
    "Le problème avec `null` se pose si vous essayez de l'utiliser à la place d'une valeur non-`null`, auquel cas vous devriez avoir une erreur (ou pire, pas d'erreur ...).\n",
    "Rust ne fonctionnne pas comme cela, à la place il convient d'utiliser `Option`.\n",
    "Voici comment cette énumération est définie :"
   ]
  },
  {
   "cell_type": "code",
   "execution_count": null,
   "metadata": {
    "deletable": false,
    "editable": true
   },
   "outputs": [],
   "source": [
    "enum Option<T> {\n",
    "    Some(T), // une valeur est présente\n",
    "    None,  // pas de valeur\n",
    "}"
   ]
  },
  {
   "cell_type": "markdown",
   "metadata": {
    "deletable": false,
    "editable": true
   },
   "source": [
    "Cette énumération est si utile qu'elle est inclue dans le prélude de la librairie standard, vous n'avez pas besoin de l'importer explicitement pour l'utiliser, de même que ses variantes `Some` et `None` qui peuvent être utilisées sans le préfixe `Option::`."
   ]
  },
  {
   "cell_type": "code",
   "execution_count": null,
   "metadata": {
    "deletable": false,
    "editable": true
   },
   "outputs": [],
   "source": [
    "let some_number = Some(5);\n",
    "let some_string = Some(\"a string\");\n",
    "\n",
    "let absent_number: Option<i32> = None;"
   ]
  },
  {
   "cell_type": "markdown",
   "metadata": {
    "deletable": false,
    "editable": true
   },
   "source": [
    "Lorsque la variante `Some` est utilisée, nous sommes sûrs qu'une valeur est bien présente dans la variante.\n",
    "A l'inverse, lorsque la variante `None` nous savons que nous n'avons pas de valeur.\n",
    "Parce que `Option` est sont propre type (paramétré par le type `T`), le compilateur fait la différente entre `Option<T>` et `T`, et nous informe si l'on essaye d'utiliser l'un à la place de l'autre."
   ]
  },
  {
   "cell_type": "code",
   "execution_count": null,
   "metadata": {
    "deletable": false,
    "editable": true
   },
   "outputs": [],
   "source": [
    "let x: i8 = 5;\n",
    "let y: Option<i8> = Some(5);\n",
    "\n",
    "let sum = x + y;"
   ]
  },
  {
   "cell_type": "markdown",
   "metadata": {
    "deletable": false,
    "editable": true
   },
   "source": [
    "Il est nécessaire de convertir `Option< T >` en `T` afin d'effectuer des opérations sur ce dernier type.\n",
    "En général, ce mécanisme permet d'éviter beaucoup d'erreurs courantes où une valeur `null` est utilisée par erreur à cause de fausses hypothèses."
   ]
  },
  {
   "cell_type": "markdown",
   "metadata": {
    "deletable": false,
    "editable": true
   },
   "source": [
    "L'opérateur *match*\n",
    "---"
   ]
  },
  {
   "cell_type": "markdown",
   "metadata": {
    "deletable": false,
    "editable": true
   },
   "source": [
    "Pour récupérer la valeur `T` à l'intérieur d'une variante `Some` de `Option< T >`, il est possible d'utiliser une expression `match`.\n",
    "Dans ce cas, `match` est utilisé pour spécifier quelle branche de code exécuter en fonction de la variante réellement utilisée.\n",
    "De manière générale, `match` permet de comparer une valeur en regard de différents patterns et de choisir la branche associée."
   ]
  },
  {
   "cell_type": "markdown",
   "metadata": {
    "deletable": false,
    "editable": true
   },
   "source": [
    "Dans le code ci-dessous, la fonction `value_in_cents` prend en paramètre une valeur `Coin`, sans en connaitre la variante exacte. La fonction détermine la variante avec `match`."
   ]
  },
  {
   "cell_type": "code",
   "execution_count": null,
   "metadata": {
    "deletable": false,
    "editable": true
   },
   "outputs": [],
   "source": [
    "fn main() {\n",
    "    enum Coin {\n",
    "        Penny,  // toutes les variantes\n",
    "        Nickel,\n",
    "        Dime,\n",
    "        Quarter,\n",
    "    }\n",
    "\n",
    "    fn value_in_cents(coin: Coin) -> u8 {\n",
    "        match coin {\n",
    "            Coin::Penny => 1,  // ceci est une branche du match\n",
    "            Coin::Nickel => 5,\n",
    "            Coin::Dime => 10,\n",
    "            Coin::Quarter => 25,\n",
    "        }\n",
    "    }\n",
    "}\n",
    "main();"
   ]
  },
  {
   "cell_type": "markdown",
   "metadata": {
    "deletable": false,
    "editable": true
   },
   "source": [
    "Il est possible d'écrire du code arbitraire à l'intérieur des branches de `match`:"
   ]
  },
  {
   "cell_type": "code",
   "execution_count": null,
   "metadata": {
    "deletable": false,
    "editable": true
   },
   "outputs": [],
   "source": [
    "fn main() {\n",
    "    enum Coin {\n",
    "        Penny,\n",
    "        Nickel,\n",
    "        Dime,\n",
    "        Quarter,\n",
    "    }\n",
    "\n",
    "    fn value_in_cents(coin: Coin) -> u8 {\n",
    "        match coin {\n",
    "            Coin::Penny => {\n",
    "                println!(\"Lucky penny!\");\n",
    "                1  // it is the last value of the block that is returned\n",
    "            },\n",
    "            Coin::Nickel => 5,\n",
    "            Coin::Dime => 10,\n",
    "            Coin::Quarter => 25,\n",
    "        }\n",
    "    }\n",
    "    value_in_cents(Coin::Penny);\n",
    "}\n",
    "main();"
   ]
  },
  {
   "cell_type": "markdown",
   "metadata": {
    "deletable": false,
    "editable": true
   },
   "source": [
    "`match` permet de récupérer les valeurs à l'intérieur des  variantes de l'énumération :"
   ]
  },
  {
   "cell_type": "code",
   "execution_count": null,
   "metadata": {
    "deletable": false,
    "editable": true
   },
   "outputs": [],
   "source": [
    "#[derive(Debug)] \n",
    "enum UsState {\n",
    "    Alabama,\n",
    "    Alaska,\n",
    "}\n",
    "\n",
    "enum Coin {\n",
    "    Penny,\n",
    "    Nickel,\n",
    "    Dime,\n",
    "    Quarter(UsState),  // <-- cette variante contient des données\n",
    "}\n",
    "\n",
    "let mut count = 0;\n",
    "let coin = Coin::Quarter(UsState::Alaska);\n",
    "\n",
    "match coin {\n",
    "    Coin::Quarter(state) => println!(\"State quarter from {:?}!\", state),\n",
    "    //            ^^^^^ <-- binding de la variable state au contenu de la variante\n",
    "    _ => count += 1,\n",
    "}"
   ]
  },
  {
   "cell_type": "markdown",
   "metadata": {
    "deletable": false,
    "editable": true
   },
   "source": [
    "Matching avec Option< T >\n",
    "---"
   ]
  },
  {
   "cell_type": "markdown",
   "metadata": {
    "deletable": false,
    "editable": true
   },
   "source": [
    "Considérons le cas où l'on veut écrire une fonction qui prend un paramètre de type `Option<i32>` et, s'il y a effectivement une valeur, lui ajoute 1. Si il n'y a pas de valeur, `None` doit être retourné et aucune autre opération de doit être faite."
   ]
  },
  {
   "cell_type": "code",
   "execution_count": null,
   "metadata": {
    "deletable": false,
    "editable": true
   },
   "outputs": [],
   "source": [
    "fn plus_one(x: Option<i32>) -> Option<i32> {\n",
    "    match x {\n",
    "        None => None,           // pas de valeur\n",
    "        Some(i) => Some(i + 1), // ajoutons 1 à la valeur\n",
    "    }\n",
    "}\n",
    "\n",
    "let five = Some(5);\n",
    "let six = plus_one(five);\n",
    "let none = plus_one(None);"
   ]
  },
  {
   "cell_type": "markdown",
   "metadata": {
    "deletable": false,
    "editable": true
   },
   "source": [
    "Considérons maintenant cette version de la fonction :"
   ]
  },
  {
   "cell_type": "code",
   "execution_count": null,
   "metadata": {
    "deletable": false,
    "editable": true
   },
   "outputs": [],
   "source": [
    "fn plus_one(x: Option<i32>) -> Option<i32> {\n",
    "    match x {\n",
    "        Some(i) => Some(i + 1),\n",
    "    }\n",
    "}"
   ]
  },
  {
   "cell_type": "markdown",
   "metadata": {
    "deletable": false,
    "editable": true
   },
   "source": [
    "Dans cette deuxième version, nous n'avons pas couvert le cas `None`.\n",
    "Rust sait que nous n'avons pas couvert ce cas et produit une erreur à la compilation.\n",
    "En Rust, le `match` doit être exhaustif, toutes les possibilités doivent être couvertes pour que le code soit valide.\n",
    "Dans le cas présent, Rust nous empêche d'oublier de traiter le cas `None`."
   ]
  },
  {
   "cell_type": "markdown",
   "metadata": {
    "deletable": false,
    "editable": true
   },
   "source": [
    "Le remplaçant `_` (placeholder)\n",
    "---"
   ]
  },
  {
   "cell_type": "markdown",
   "metadata": {
    "deletable": false,
    "editable": true
   },
   "source": [
    "Rust nous permet d'écrire un pattern remplaçant (placeholder) pour couvrir tous les autres cas non couverts par les autres branches de `match`.\n",
    "Par exemple, le type `u8`a des valeurs valides de 0 à 255.\n",
    "Cependant, si l'on ne s'intéresse que aux valeurs 1, 3, 5 et 7, nous ne voulons pas avoir à lister tous les autres cas.\n",
    "En rust, ce pattern s'exprime avec `_` :"
   ]
  },
  {
   "cell_type": "code",
   "execution_count": null,
   "metadata": {
    "deletable": false,
    "editable": true
   },
   "outputs": [],
   "source": [
    "let some_u8_value = 0u8;\n",
    "match some_u8_value {\n",
    "    1 => println!(\"one\"),\n",
    "    3 => println!(\"three\"),\n",
    "    5 => println!(\"five\"),\n",
    "    7 => println!(\"seven\"),\n",
    "    _ => (),\n",
    "}"
   ]
  },
  {
   "cell_type": "markdown",
   "metadata": {
    "deletable": false,
    "editable": true
   },
   "source": [
    "Syntaxe raccourcie avec *if let*\n",
    "---"
   ]
  },
  {
   "cell_type": "markdown",
   "metadata": {
    "deletable": false,
    "editable": true
   },
   "source": [
    "La syntaxe `if let` permet de combiner une condition avec le match d'un pattern, d'une façon similaire à `match`, mais sans avoir à traiter tous les cas."
   ]
  },
  {
   "cell_type": "markdown",
   "metadata": {
    "deletable": false,
    "editable": true
   },
   "source": [
    "Considérons le programme suivant qui match une valeur de type `Option<u8>`, mais ne veut effectuer quelque chose que dans le cas où la valeur est 3 :"
   ]
  },
  {
   "cell_type": "code",
   "execution_count": null,
   "metadata": {
    "deletable": false,
    "editable": true
   },
   "outputs": [],
   "source": [
    "let some_u8_value = Some(0u8);\n",
    "match some_u8_value {\n",
    "    Some(3) => println!(\"three\"),\n",
    "    _ => (),\n",
    "}"
   ]
  },
  {
   "cell_type": "markdown",
   "metadata": {
    "deletable": false,
    "editable": true
   },
   "source": [
    "Il est possible d'utiliser `if let` à la place pour raccourcir la syntaxe.\n",
    "Voici le code équivalent."
   ]
  },
  {
   "cell_type": "code",
   "execution_count": null,
   "metadata": {
    "deletable": false,
    "editable": true
   },
   "outputs": [],
   "source": [
    "if let Some(3) = some_u8_value {\n",
    "    println!(\"three\");\n",
    "}"
   ]
  },
  {
   "cell_type": "markdown",
   "metadata": {
    "deletable": false,
    "editable": true
   },
   "source": [
    "Exercises\n",
    "==="
   ]
  },
  {
   "cell_type": "markdown",
   "metadata": {
    "deletable": false,
    "editable": true
   },
   "source": [
    "**Exercise 1:** Ré-écrivez ce code avec la syntaxe `if let`"
   ]
  },
  {
   "cell_type": "code",
   "execution_count": null,
   "metadata": {},
   "outputs": [],
   "source": [
    "#[derive(Debug)] \n",
    "enum UsState {\n",
    "    Alabama,\n",
    "    Alaska,\n",
    "}\n",
    "\n",
    "enum Coin {\n",
    "    Penny,\n",
    "    Nickel,\n",
    "    Dime,\n",
    "    Quarter(UsState),\n",
    "}\n",
    "\n",
    "let mut count = 0;\n",
    "let coin = Coin::Quarter(UsState::Alaska);\n",
    "\n",
    "// TO DO Re-write the code below using if let\n",
    "match coin {\n",
    "    Coin::Quarter(state) => println!(\"State quarter from {:?}!\", state),\n",
    "    _ => count += 1,\n",
    "}"
   ]
  },
  {
   "cell_type": "markdown",
   "metadata": {
    "deletable": false,
    "editable": true
   },
   "source": [
    "**Solution:**"
   ]
  },
  {
   "cell_type": "code",
   "execution_count": null,
   "metadata": {
    "deletable": false,
    "editable": true,
    "hide_input": true
   },
   "outputs": [],
   "source": [
    "#[derive(Debug)]\n",
    "enum UsState {\n",
    "    Alabama,\n",
    "    Alaska,\n",
    "}\n",
    "\n",
    "enum Coin {\n",
    "    Penny,\n",
    "    Nickel,\n",
    "    Dime,\n",
    "    Quarter(UsState),\n",
    "}\n",
    "\n",
    "let mut count = 0;\n",
    "let coin = Coin::Quarter(UsState::Alaska);\n",
    "\n",
    "if let Coin::Quarter(state) = coin {\n",
    "    println!(\"State quarter from {:?}!\", state);\n",
    "} else {\n",
    "    count += 1;\n",
    "}\n"
   ]
  },
  {
   "cell_type": "markdown",
   "metadata": {
    "deletable": false,
    "editable": true
   },
   "source": [
    "**Exercise 2:** Créer une énumération pour classer des évènements web :\n",
    "* Chargement d'une page\n",
    "* Déchargement d'une page\n",
    "* Appui sur une touche\n",
    "* Un texte est collé dans la page\n",
    "* Un click survient à la position (x, y)\n",
    "\n",
    "Implémentez une fonction (ou une méthode) pour afficher un message pour chacun de ces évènements :\n",
    "* page chargée\n",
    "* page décharchée\n",
    "* la touche x a été appuyée\n",
    "* le texte sss a été collé\n",
    "* click survenu à la position x, y"
   ]
  },
  {
   "cell_type": "code",
   "execution_count": null,
   "metadata": {},
   "outputs": [],
   "source": [
    "// TODO (1) Define an enum called WebEvent holding the different types of events\n",
    "\n",
    "// TODO (2) Implement a function that takes a web event as parameter and displays a custom message for each event type\n",
    "\n",
    "fn main() {\n",
    "    // TODO (3) Test your implementation for different event types\n",
    "}\n",
    "main();"
   ]
  },
  {
   "cell_type": "markdown",
   "metadata": {
    "deletable": false,
    "editable": true,
    "hide_input": false
   },
   "source": [
    "**Solution:**"
   ]
  },
  {
   "cell_type": "code",
   "execution_count": null,
   "metadata": {
    "deletable": false,
    "editable": true,
    "hide_input": true
   },
   "outputs": [],
   "source": [
    "enum WebEvent {\n",
    "    PageLoad,\n",
    "    PageUnload,\n",
    "    KeyPress(char),\n",
    "    Paste(String),\n",
    "    Click { x: i64, y: i64 },\n",
    "}\n",
    "\n",
    "impl WebEvent {\n",
    "    fn inspect(self) {\n",
    "        match self {\n",
    "            WebEvent::PageLoad => println!(\"page loaded\"),\n",
    "            WebEvent::PageUnload => println!(\"page unloaded\"),\n",
    "            WebEvent::KeyPress(c) => println!(\"pressed '{}'.\", c),\n",
    "            WebEvent::Paste(s) => println!(\"pasted \\\"{}\\\".\", s),\n",
    "            WebEvent::Click { x, y } => {\n",
    "                println!(\"clicked at x={}, y={}.\", x, y);\n",
    "            },\n",
    "        }\n",
    "    }\n",
    "}\n",
    "\n",
    "fn main() {\n",
    "    let pressed = WebEvent::KeyPress('x');\n",
    "    let pasted  = WebEvent::Paste(\"my text\".to_string());\n",
    "    let click   = WebEvent::Click { x: 20, y: 80 };\n",
    "    let load    = WebEvent::PageLoad;\n",
    "    let unload  = WebEvent::PageUnload;\n",
    "\n",
    "    pressed.inspect();\n",
    "    pasted.inspect();\n",
    "    click.inspect();\n",
    "    load.inspect();\n",
    "    unload.inspect();\n",
    "}\n",
    "main();"
   ]
  }
 ],
 "metadata": {
  "kernelspec": {
   "display_name": "Rust",
   "language": "rust",
   "name": "rust"
  },
  "language_info": {
   "codemirror_mode": "rust",
   "file_extension": ".rs",
   "mimetype": "text/rust",
   "name": "Rust",
   "pygment_lexer": "rust",
   "version": ""
  }
 },
 "nbformat": 4,
 "nbformat_minor": 2
}
