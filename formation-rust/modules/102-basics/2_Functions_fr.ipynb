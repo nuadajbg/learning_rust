{
 "cells": [
  {
   "cell_type": "markdown",
   "metadata": {
    "deletable": false,
    "editable": true
   },
   "source": [
    "# Fonctions"
   ]
  },
  {
   "cell_type": "markdown",
   "metadata": {
    "deletable": false,
    "editable": true
   },
   "source": [
    "La définition des fonctions en Rust commence par le mot clé `fn`; puis des parenthèses après le nom de la fonction. Les accolades ( { } ) indique au compilateur le corp de la fonction.\n",
    "\n",
    "En Rust, la convention est d'utiliser le style *snake_case* pour nommer les fonctions et les variables.\n",
    "En *snake_case*, toutes les lettres sont en minuscules et des underscore ( _ ) séparent les mots.\n",
    "Ci-dessous se trouve un exemple de programme avec un exemple de définition de fonction."
   ]
  },
  {
   "cell_type": "code",
   "execution_count": null,
   "metadata": {
    "deletable": false,
    "editable": true
   },
   "outputs": [],
   "source": [
    "fn main() {\n",
    "    println!(\"Hello, world!\");\n",
    "\n",
    "    another_function();\n",
    "}\n",
    "\n",
    "fn another_function() {\n",
    "    println!(\"Another function.\");\n",
    "}\n",
    "main();"
   ]
  },
  {
   "cell_type": "markdown",
   "metadata": {
    "deletable": false,
    "editable": true
   },
   "source": [
    "Il est possible d'appeler n'importe quelle fonction définie par son nom et en ajoutant des parenthèses.\n",
    "Notez que nous avons défini la fonction `another_function` après la fonction `main` dans le code.\n",
    "Nous aurions pu la définir avant également, il n'y a pas de différence en Rust."
   ]
  },
  {
   "cell_type": "markdown",
   "metadata": {
    "deletable": false,
    "editable": true
   },
   "source": [
    "Paramètres des fonction\n",
    "==="
   ]
  },
  {
   "cell_type": "markdown",
   "metadata": {
    "deletable": false,
    "editable": true
   },
   "source": [
    "Les fonctions peuvent également recevoir des paramètres.\n",
    "Dans la signature des fonctions, vous devez déclarer le type de chacun d'eux.\n",
    "Ceci est un choix délibéré dans le design de Rust : le fait d'imposer une annotation de type dans la définition d'une fonction signifie que le compilateur n'a jamais besoin de le typage soit indiqué ailleurs dans le code."
   ]
  },
  {
   "cell_type": "code",
   "execution_count": null,
   "metadata": {
    "deletable": false,
    "editable": true
   },
   "outputs": [],
   "source": [
    "fn main() {\n",
    "    another_function(5);\n",
    "}\n",
    "\n",
    "fn another_function(x: i32) {\n",
    "    println!(\"La valeur de x est: {}\", x);\n",
    "}\n",
    "main();"
   ]
  },
  {
   "cell_type": "code",
   "execution_count": null,
   "metadata": {
    "deletable": false,
    "editable": true
   },
   "outputs": [],
   "source": [
    "fn main() {\n",
    "    another_function(5, 6);\n",
    "}\n",
    "\n",
    "fn another_function(x: i32, y: i32) {\n",
    "    println!(\"La valeur de x est: {}\", x);\n",
    "    println!(\"La valeur de y est: {}\", y);\n",
    "}\n",
    "main();"
   ]
  },
  {
   "cell_type": "markdown",
   "metadata": {
    "deletable": false,
    "editable": true
   },
   "source": [
    "Instructions et expressions\n",
    "==="
   ]
  },
  {
   "cell_type": "markdown",
   "metadata": {
    "deletable": false,
    "editable": true
   },
   "source": [
    "Le corps des fonctions est composé d'une série d'instructions, se terminant éventuellement par une expression.\n",
    "Les **instructions** (statements) réalisent des opérations et ne *retourne pas de valeur*.\n",
    "Les **expression** s'évaluent en une valeur qui peut être retournée."
   ]
  },
  {
   "cell_type": "code",
   "execution_count": null,
   "metadata": {
    "deletable": false,
    "editable": true
   },
   "outputs": [],
   "source": [
    "fn main() {    // La définition de la fonction est une instruction\n",
    "    let y = 6; // une autre instruction\n",
    "}\n",
    "main();"
   ]
  },
  {
   "cell_type": "markdown",
   "metadata": {
    "deletable": false,
    "editable": true
   },
   "source": [
    "Instructions\n",
    "---"
   ]
  },
  {
   "cell_type": "markdown",
   "metadata": {
    "deletable": false,
    "editable": true
   },
   "source": [
    "Les instructions ne retournent pas de valeur.\n",
    "En conséquence, il n'est pas possible n'assigner le retour d'une instruction `let` à une autre variable.\n",
    "Cette manière de structurer le langage est différente d'autres comme le C ou Ruby où l'assignation retourne la valeur assignée à la variable.\n",
    "\n",
    "Example causant une erreur :"
   ]
  },
  {
   "cell_type": "code",
   "execution_count": null,
   "metadata": {
    "deletable": false,
    "editable": true
   },
   "outputs": [],
   "source": [
    "fn main() {\n",
    "    let x = (let y = 6); // erreur\n",
    "}\n",
    "main();"
   ]
  },
  {
   "cell_type": "markdown",
   "metadata": {
    "deletable": false,
    "editable": true
   },
   "source": [
    "Expressions\n",
    "---"
   ]
  },
  {
   "cell_type": "markdown",
   "metadata": {
    "deletable": false,
    "editable": true
   },
   "source": [
    "Les expressions s'évaluent en une valeur.\n",
    "Les opérations mathématiques, l'appel à une fonction ou à une macro sont des exemples d'expressions.\n",
    "Notez que le block que nous utilisons pour créer un nouveau scope, **{ }** est aussi une expression."
   ]
  },
  {
   "cell_type": "code",
   "execution_count": null,
   "metadata": {
    "deletable": false,
    "editable": true
   },
   "outputs": [],
   "source": [
    "fn main() {\n",
    "    let x = 5;\n",
    "\n",
    "    let y = {  // ce block est une expression qui s'évalue à 4\n",
    "        let x = 3;\n",
    "        x + 1 // la dernière expression est la valeur pour le block\n",
    "    };\n",
    "\n",
    "    println!(\"The value of y is: {}\", y);\n",
    "}\n",
    "main();"
   ]
  },
  {
   "cell_type": "markdown",
   "metadata": {
    "deletable": false,
    "editable": true
   },
   "source": [
    "Notez la ligne `x + 1` sans point-virgule ( ; ) à la fin, différente de toutes les autres vue jusque ici.\n",
    "Les expressions ne se terminent jamais par un point-virgule.\n",
    "Si vous ajouter un point-virgule à une expression, cela la transforme en une instruction qui ne retourne alors pas de valeur."
   ]
  },
  {
   "cell_type": "markdown",
   "metadata": {
    "deletable": false,
    "editable": true
   },
   "source": [
    "Fonctions retournant une valeur\n",
    "==="
   ]
  },
  {
   "cell_type": "markdown",
   "metadata": {
    "deletable": false,
    "editable": true
   },
   "source": [
    "Les fonctions peuvent retourner une valeur au code appelant.\n",
    "Il n'est pas nécessaire de nommer cette valeur, mais il faut déclarer son type en utilisant une flèche (`->`).\n",
    "En Rust, la valeur de retour de la fonction est en fait la valeur à laquelle s'évalue le block du corps de cette fonction, c'est à dire la dernière expression.\n",
    "Il est cependant possible de retourner plus tôt, avec le mot clé `return` et en spécifiant la valeur.\n",
    "Mais la plupart des fonctions retourne leur dernière expression implicitement."
   ]
  },
  {
   "cell_type": "code",
   "execution_count": null,
   "metadata": {
    "deletable": false,
    "editable": true
   },
   "outputs": [],
   "source": [
    "fn five() -> i32 {  // la fonction retourne un i32\n",
    "    5    // ceci est une expression (pas de point-virgule)\n",
    "}\n",
    "\n",
    "fn main() {\n",
    "    let x = five();   // équivalent à: let x = 5;\n",
    "\n",
    "    println!(\"La valeur de x est: {}\", x);\n",
    "}\n",
    "main();"
   ]
  },
  {
   "cell_type": "code",
   "execution_count": null,
   "metadata": {
    "deletable": false,
    "editable": true
   },
   "outputs": [],
   "source": [
    "fn main() {\n",
    "    let x = plus_one(5);\n",
    "\n",
    "    println!(\"La valeur de x est: {}\", x);\n",
    "}\n",
    "\n",
    "fn plus_one(x: i32) -> i32 {\n",
    "    x + 1;  // le point-virgule ici est une erreur\n",
    "}\n",
    "main();"
   ]
  },
  {
   "cell_type": "markdown",
   "metadata": {
    "deletable": false,
    "editable": true
   },
   "source": [
    "Exercises\n",
    "==="
   ]
  },
  {
   "cell_type": "markdown",
   "metadata": {
    "deletable": false,
    "editable": true
   },
   "source": [
    "**Exercise 1:** Ecrire une fonction qui détermine si deux valeurs flottantes sont égales, considérant une tolérance `EPSILON`."
   ]
  },
  {
   "cell_type": "markdown",
   "metadata": {
    "deletable": false,
    "editable": true
   },
   "source": [
    "**Valeurs de test:** \n",
    "\n",
    "* (0.00009384921 , 0.00009384922)\n",
    "* (0.000093849221 , 0.000093849222)"
   ]
  },
  {
   "cell_type": "code",
   "execution_count": null,
   "metadata": {},
   "outputs": [],
   "source": [
    "/// La valeur de tolérance: 1e-11\n",
    "const EPSILON: f64 = 1e-11;\n",
    "\n",
    "/// TO DO (1) Implémenter une fonction `eq`\n",
    "\n",
    "fn main() {\n",
    "    let x = 0.000093849221;\n",
    "    let y = 0.000093849222;\n",
    "    println!(\"The numbers are equal: {}\", eq(x,y));\n",
    "}\n",
    "main();"
   ]
  },
  {
   "cell_type": "markdown",
   "metadata": {
    "deletable": false,
    "editable": true,
    "hide_input": false
   },
   "source": [
    "**Solution:**"
   ]
  },
  {
   "cell_type": "code",
   "execution_count": null,
   "metadata": {
    "deletable": false,
    "editable": true,
    "hide_input": true
   },
   "outputs": [],
   "source": [
    "/// The standard value for epsilon 1e-11\n",
    "const EPSILON: f64 = 1e-11;\n",
    "\n",
    "/// Determines whether x and y are equals with a tolerance of eps\n",
    "fn eq(x: f64, y: f64) -> bool {\n",
    "    (x - y).abs() < EPSILON\n",
    "}\n",
    "\n",
    "fn main() {\n",
    "    let x = 0.000093849221;\n",
    "    let y = 0.000093849222;\n",
    "    println!(\"The numbers are equal: {}\", eq(x,y));\n",
    "}\n",
    "\n",
    "main();"
   ]
  }
 ],
 "metadata": {
  "kernelspec": {
   "display_name": "Rust",
   "language": "rust",
   "name": "rust"
  },
  "language_info": {
   "codemirror_mode": "rust",
   "file_extension": ".rs",
   "mimetype": "text/rust",
   "name": "Rust",
   "pygment_lexer": "rust",
   "version": ""
  }
 },
 "nbformat": 4,
 "nbformat_minor": 2
}
