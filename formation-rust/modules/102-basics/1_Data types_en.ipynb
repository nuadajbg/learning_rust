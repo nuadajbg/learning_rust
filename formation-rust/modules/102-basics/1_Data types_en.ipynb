{
 "cells": [
  {
   "cell_type": "markdown",
   "metadata": {},
   "source": [
    "# Data types\n",
    "\n",
    "Every value in Rust is of a certain data type, which tells Rust what kind of data is being specified so it knows how to work with that data. We’ll look at two data type subsets: **scalar** and **compound**.\n",
    "\n",
    "Rust is a *statically typed language*, which means that it must know the types of all variables at compile time. The compiler can usually infer what type we want to use based on the value and how we use it."
   ]
  },
  {
   "cell_type": "markdown",
   "metadata": {},
   "source": [
    "Scalar Types\n",
    "=======\n",
    "\n",
    "Rust has four primary scalar types: integers, floating-point numbers, Booleans, and characters. \n",
    "\n",
    "Integer types\n",
    "---------------\n",
    "Signed integer types start with **i**, unsigned integers start with **u**. The number of bits is explicitly stated by the data type (u32, i64), except for the **isize** and **usize** types which depend on the computer architecture (64 bits on a 64-bit architecture and 32 bits on a 32-bits architecture).\n",
    "If you’re unsure of the type of integer to use, Rust’s defaults are generally good choices, and integer types default to i32: this type is generally the fastest, even on 64-bit systems. The compiler can usually infer what type we want to use based on the value and how we use it."
   ]
  },
  {
   "cell_type": "markdown",
   "metadata": {},
   "source": [
    "| Length\t |  Signed  |  Unsigned|\n",
    "-------- |----------|----------|\n",
    "| 8-bit\t |   i8\t    |   u8      |\n",
    "| 16-bit |   i16\t|   u16     |\n",
    "| 32-bit |   i32\t|   u32     |\n",
    "| 64-bit |   i64\t|   u64     |\n",
    "| 128-bit|   i128   |   u128    |\n",
    "| arch\t |   isize\t|   usize   |\n"
   ]
  },
  {
   "cell_type": "code",
   "execution_count": null,
   "metadata": {},
   "outputs": [],
   "source": [
    "let guess = 5; // defaults to i32\n",
    "\n",
    "let y: u32 = 5; // explicit type declaration using type annotation"
   ]
  },
  {
   "cell_type": "markdown",
   "metadata": {},
   "source": [
    "In cases where many types are possible, such as when we convert a String to a numeric type, type annotation is mandatory."
   ]
  },
  {
   "cell_type": "code",
   "execution_count": null,
   "metadata": {},
   "outputs": [],
   "source": [
    "fn main() {\n",
    "    let guess: u32 = \"42\".parse().expect(\"Not a number!\");\n",
    "    println!(\"My number is {}\", guess);\n",
    "}\n",
    "main();"
   ]
  },
  {
   "cell_type": "markdown",
   "metadata": {},
   "source": [
    "> TODO: try to remove the type assertion on `let guess: u32` in the code above and re-run it to see what it does."
   ]
  },
  {
   "cell_type": "code",
   "execution_count": null,
   "metadata": {},
   "outputs": [],
   "source": [
    "fn main() {\n",
    "    // Integer addition\n",
    "    println!(\"1 + 2 = {}\", 1u32 + 2);\n",
    "\n",
    "    // Integer subtraction\n",
    "    // TO DO:\n",
    "    let x = 1i32 - 2; //short syntax: value followed by a type\n",
    "    println!(\"1 - 2 = {}\", x);\n",
    "    \n",
    "    // Syntax with underscore to improve readability\n",
    "    println!(\"One million is written as {}\", 1_000_000u32);\n",
    "}\n",
    "main();"
   ]
  },
  {
   "cell_type": "markdown",
   "metadata": {},
   "source": [
    "> TODO: Try changing `1i32` to `1u32` to see why the type is important"
   ]
  },
  {
   "cell_type": "markdown",
   "metadata": {},
   "source": [
    "Floating-point types\n",
    "-----------------------\n",
    "Rust’s floating-point types are f32 and f64, which are 32 bits and 64 bits in size, respectively. The default type is f64 because on modern CPUs it’s roughly the same speed as f32 but is capable of more precision."
   ]
  },
  {
   "cell_type": "code",
   "execution_count": null,
   "metadata": {},
   "outputs": [],
   "source": [
    "let x = 2.0; // f64\n",
    "\n",
    "let y: f32 = 3.0; // f32"
   ]
  },
  {
   "cell_type": "markdown",
   "metadata": {},
   "source": [
    "Numeric operators\n",
    "--------------------"
   ]
  },
  {
   "cell_type": "code",
   "execution_count": null,
   "metadata": {},
   "outputs": [],
   "source": [
    "// addition\n",
    "let sum = 5 + 10;\n",
    "\n",
    "// subtraction\n",
    "let difference = 95.5 - 4.3;\n",
    "\n",
    "// multiplication\n",
    "let product = 4 * 30;\n",
    "\n",
    "// division\n",
    "let quotient = 56.7 / 32.2;\n",
    "\n",
    "// remainder\n",
    "let remainder = 43 % 5;"
   ]
  },
  {
   "cell_type": "markdown",
   "metadata": {},
   "source": [
    "Logical and bitwise operators\n",
    "---"
   ]
  },
  {
   "cell_type": "code",
   "execution_count": null,
   "metadata": {},
   "outputs": [],
   "source": [
    "// Logical operators\n",
    "    println!(\"true AND false is {}\", true && false);\n",
    "    println!(\"true OR false is {}\", true || false);\n",
    "    println!(\"NOT true is {}\", !true);\n",
    "\n",
    "// Bitwise operators\n",
    "    println!(\"0011 AND 0101 is {:04b}\", 0b0011u32 & 0b0101);\n",
    "    println!(\"0011 OR 0101 is {:04b}\", 0b0011u32 | 0b0101);\n",
    "    println!(\"0011 XOR 0101 is {:04b}\", 0b0011u32 ^ 0b0101);\n",
    "    println!(\"1 << 5 is {}\", 1u32 << 5);\n",
    "    println!(\"0x80 >> 2 is 0x{:x}\", 0x80u32 >> 2);"
   ]
  },
  {
   "cell_type": "markdown",
   "metadata": {},
   "source": [
    "Boolean types\n",
    "-------------"
   ]
  },
  {
   "cell_type": "code",
   "execution_count": null,
   "metadata": {},
   "outputs": [],
   "source": [
    "let t = true;\n",
    "\n",
    "let f: bool = false; // with explicit type annotation"
   ]
  },
  {
   "cell_type": "markdown",
   "metadata": {},
   "source": [
    "The Character Type\n",
    "---------------------\n",
    "The most primitive alphabetic type, char literals are specified with single quotes, as opposed to string literals, which use double quotes. Rust’s char type is four bytes in size and represents a Unicode Scalar Value, which means it can represent a lot more than just ASCII. Accented letters; Chinese, Japanese, and Korean characters; emoji; and zero-width spaces are all valid char values in Rust."
   ]
  },
  {
   "cell_type": "code",
   "execution_count": null,
   "metadata": {},
   "outputs": [],
   "source": [
    "let c = 'z';\n",
    "let z = 'ℤ';\n",
    "let heart_eyed_cat = '😻';"
   ]
  },
  {
   "cell_type": "markdown",
   "metadata": {},
   "source": [
    "String literals\n",
    "---"
   ]
  },
  {
   "cell_type": "markdown",
   "metadata": {},
   "source": [
    "A string literal is a sequence of any Unicode characters enclosed within two U+0022 (double-quote) characters, with the exception of U+0022 itself, which must be escaped by a preceding U+005C character ( \\ ).\n",
    "\n",
    "> Note that internally, Rust `String`s are always represented as UTF-8 encoded strings and are always valid.\n",
    "> It is NOT possible to construct a Rust `String` that contains an invalid UTF-8 sequence."
   ]
  },
  {
   "cell_type": "markdown",
   "metadata": {},
   "source": [
    "Line-break characters are allowed in string literals. Normally they represent themselves (i.e. no translation), but as a special exception, when an unescaped U+005C character ( \\ ) occurs immediately before the newline (U+000A), the U+005C character, the newline, and all whitespace at the beginning of the next line are ignored. Thus a and b are equal:"
   ]
  },
  {
   "cell_type": "code",
   "execution_count": null,
   "metadata": {},
   "outputs": [],
   "source": [
    "let a = \"foobar\";\n",
    "let b = \"foo\\\n",
    "         bar\";"
   ]
  },
  {
   "cell_type": "markdown",
   "metadata": {},
   "source": [
    "Type conversions\n",
    "---"
   ]
  },
  {
   "cell_type": "markdown",
   "metadata": {},
   "source": [
    "To convert from one type to another, here is a useful reference: http://carols10cents.github.io/rust-conversion-reference/\n",
    "\n",
    "* Use `as` to coerce primitive types."
   ]
  },
  {
   "cell_type": "code",
   "execution_count": null,
   "metadata": {},
   "outputs": [],
   "source": [
    "let x = 6.5; // implicit f64\n",
    "let y = x as u32; // coerce the f64 to u32\n",
    "println!(\"{}\", y);\n",
    "let z: String = x.to_string(); // convert to String representation\n",
    "println!(\"{}\", z);"
   ]
  },
  {
   "cell_type": "markdown",
   "metadata": {},
   "source": [
    "Constants\n",
    "---"
   ]
  },
  {
   "cell_type": "code",
   "execution_count": null,
   "metadata": {},
   "outputs": [],
   "source": [
    "const N: i32 = 5;"
   ]
  },
  {
   "cell_type": "markdown",
   "metadata": {},
   "source": [
    "Unlike let bindings, you must annotate the type of a const. The standard library defines some useful constants:"
   ]
  },
  {
   "cell_type": "code",
   "execution_count": null,
   "metadata": {},
   "outputs": [],
   "source": [
    "const MAX: i32 = std::i32::MAX;\n",
    "const MIN: i32 = std::i32::MIN;"
   ]
  },
  {
   "cell_type": "code",
   "execution_count": null,
   "metadata": {},
   "outputs": [],
   "source": [
    "println!(\"The i32 max value is: {}\", std::i32::MAX);\n",
    "println!(\"The u32 max value is: {}\", std::u32::MAX);"
   ]
  },
  {
   "cell_type": "markdown",
   "metadata": {},
   "source": [
    "Compound Types\n",
    "========"
   ]
  },
  {
   "cell_type": "markdown",
   "metadata": {},
   "source": [
    "The Tuple Type\n",
    "----------------"
   ]
  },
  {
   "cell_type": "markdown",
   "metadata": {},
   "source": [
    "A tuple is a general way of grouping together some number of other values with a variety of types into one compound type. Tuples have a *fixed length*: once declared, they cannot grow or shrink in size.\n",
    "\n",
    "We create a tuple by writing a comma-separated list of values inside parentheses. Each position in the tuple has a type, and the types of the different values in the tuple don’t have to be the same. "
   ]
  },
  {
   "cell_type": "code",
   "execution_count": null,
   "metadata": {},
   "outputs": [],
   "source": [
    "let tup: (i32, f64, u8) = (500, 6.4, 1);"
   ]
  },
  {
   "cell_type": "markdown",
   "metadata": {},
   "source": [
    "To get the individual values out of a tuple, we can use *pattern matching* to destructure a tuple value or we can *access a tuple element directly* by using a period (.) followed by the index of the value we want to access."
   ]
  },
  {
   "cell_type": "code",
   "execution_count": null,
   "metadata": {},
   "outputs": [],
   "source": [
    "let tup = (500, 6.4, 1); // type inference can be used\n",
    "\n",
    "let (x, y, z) = tup; // this is tuple destructuring\n",
    "\n",
    "println!(\"The value of y is: {}\", y);\n",
    "println!(\"The tuple is: {:?}\", tup); // the :? printing option will be explained later on"
   ]
  },
  {
   "cell_type": "code",
   "execution_count": null,
   "metadata": {},
   "outputs": [],
   "source": [
    "let x: (i32, f64, u8) = (500, 6.4, 1);\n",
    "\n",
    "let five_hundred = x.0; // access to tuple members\n",
    "\n",
    "let six_point_four = x.1;\n",
    "\n",
    "let one = x.2;"
   ]
  },
  {
   "cell_type": "markdown",
   "metadata": {},
   "source": [
    "The Array Type\n",
    "----------------"
   ]
  },
  {
   "cell_type": "markdown",
   "metadata": {},
   "source": [
    "Unlike a tuple, every element of an array must have the same type. Arrays in Rust are different from arrays in some other languages because *arrays in Rust have a fixed length*, like tuples. Arrays are useful when you want your data allocated on the stack rather than the heap. "
   ]
  },
  {
   "cell_type": "code",
   "execution_count": null,
   "metadata": {},
   "outputs": [],
   "source": [
    "let a: [i32; 5] = [1, 2, 3, 4, 5];\n",
    "let first = a[0];\n",
    "let second = a[1];\n",
    "println!(\"First element in the array: {}\", first);\n",
    "println!(\"Second element in the array: {}\", second);"
   ]
  },
  {
   "cell_type": "markdown",
   "metadata": {},
   "source": [
    "__Invalid array element access__"
   ]
  },
  {
   "cell_type": "code",
   "execution_count": null,
   "metadata": {},
   "outputs": [],
   "source": [
    "let a = [1, 2, 3, 4, 5];\n",
    "let index = (|| 10)(); // we will see this syntax later\n",
    "// TODO: try with `let index = 10;` what do you get?\n",
    "\n",
    "let element = a[index];\n",
    "\n",
    "println!(\"The value of element is: {}\", element);"
   ]
  },
  {
   "cell_type": "markdown",
   "metadata": {},
   "source": [
    "The compilation didn’t produce any errors, but the program resulted in a runtime error and didn’t exit successfully. When you attempt to access an element using indexing, Rust will check that the index you’ve specified is less than the array length. If the index is greater than or equal to the array length, Rust will panic.\n",
    "\n",
    "This is the first example of Rust’s safety principles in action. In many low-level languages, this kind of check is not done, and when you provide an incorrect index, invalid memory can be accessed. Rust protects you against this kind of error by immediately exiting instead of allowing the memory access and continuing. "
   ]
  },
  {
   "cell_type": "markdown",
   "metadata": {},
   "source": [
    "Exercises\n",
    "==="
   ]
  },
  {
   "cell_type": "markdown",
   "metadata": {},
   "source": [
    "**Exercise 1:** Use the correct data structure."
   ]
  },
  {
   "cell_type": "markdown",
   "metadata": {
    "hide_input": false
   },
   "source": [
    "**Sample test data:**"
   ]
  },
  {
   "cell_type": "markdown",
   "metadata": {},
   "source": [
    "|Matrix|     |\n",
    "|------|-----|\n",
    "|1.1   |  1.2|\n",
    "|2.1   |  2.2|"
   ]
  },
  {
   "cell_type": "code",
   "execution_count": null,
   "metadata": {},
   "outputs": [],
   "source": [
    "fn main() {\n",
    "    // TO DO (1) Define a list of months, or days of the week\n",
    "    \n",
    "    // TO DO (2) Define a constant for the value epsilon = 1e-11\n",
    "    \n",
    "    // TO DO (3) Define a 2 X 2 matrix of real numbers and display the transposed matrix\n",
    "    \n",
    "}\n",
    "main();"
   ]
  },
  {
   "cell_type": "markdown",
   "metadata": {},
   "source": [
    "**Solution:**"
   ]
  },
  {
   "cell_type": "code",
   "execution_count": null,
   "metadata": {
    "hide_input": true
   },
   "outputs": [],
   "source": [
    "fn main() {\n",
    "    // TO DO (1)\n",
    "    let months: [&str; 12] = [\"January\", \"February\", \"March\", \"April\", \"May\", \"June\", \"July\",\n",
    "              \"August\", \"September\", \"October\", \"November\", \"December\"];\n",
    "    let days = [\"Monday\", \"Tuesday\", \"Wednesday\", \"Thursday\", \"Friday\", \"Saturday\", \"Sunday\"];\n",
    "    // TO DO (2)\n",
    "    const EPSILON: f64 = 1e-11_f64;\n",
    "    // TO DO (3)\n",
    "    let matrix: ((f32,f32),(f32,f32)) = ((1.1, 1.2), (2.1, 2.2));\n",
    "    println!(\"{} {}\", (matrix.0).0, (matrix.1).0);\n",
    "    println!(\"{} {}\", (matrix.0).1, (matrix.1).1);\n",
    "    \n",
    "}\n",
    "main();"
   ]
  }
 ],
 "metadata": {
  "kernelspec": {
   "display_name": "Rust",
   "language": "rust",
   "name": "rust"
  },
  "language_info": {
   "codemirror_mode": "rust",
   "file_extension": ".rs",
   "mimetype": "text/rust",
   "name": "Rust",
   "pygment_lexer": "rust",
   "version": ""
  }
 },
 "nbformat": 4,
 "nbformat_minor": 2
}
