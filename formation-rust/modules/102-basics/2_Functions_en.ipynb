{
 "cells": [
  {
   "cell_type": "markdown",
   "metadata": {},
   "source": [
    "# Functions"
   ]
  },
  {
   "cell_type": "markdown",
   "metadata": {},
   "source": [
    "Function definitions in Rust start with fn and have a set of parentheses after the function name. The curly brackets tell the compiler where the function body begins and ends.\n",
    "\n",
    "Rust code uses snake case as the conventional style for function and variable names. In snake case, all letters are lowercase and underscores separate words. Here’s a program that contains an example function definition:\n"
   ]
  },
  {
   "cell_type": "code",
   "execution_count": null,
   "metadata": {},
   "outputs": [],
   "source": [
    "fn main() {\n",
    "    println!(\"Hello, world!\");\n",
    "\n",
    "    another_function();\n",
    "}\n",
    "\n",
    "fn another_function() {\n",
    "    println!(\"Another function.\");\n",
    "}\n",
    "main();"
   ]
  },
  {
   "cell_type": "markdown",
   "metadata": {},
   "source": [
    "\n",
    "We can call any function we’ve defined by entering its name followed by a set of parentheses. Note that we defined `another_function` after the `main` function in the source code; we could have defined it before as well. Rust doesn’t care where you define your functions, only that they’re defined somewhere."
   ]
  },
  {
   "cell_type": "markdown",
   "metadata": {},
   "source": [
    "Function Parameters\n",
    "==="
   ]
  },
  {
   "cell_type": "markdown",
   "metadata": {},
   "source": [
    "Functions can also be defined to have parameters. In function signatures, you must declare the type of each parameter. This is a deliberate decision in Rust’s design: requiring type annotations in function definitions means the compiler almost never needs you to use them elsewhere in the code to figure out what you mean."
   ]
  },
  {
   "cell_type": "code",
   "execution_count": null,
   "metadata": {},
   "outputs": [],
   "source": [
    "fn main() {\n",
    "    another_function(5);\n",
    "}\n",
    "\n",
    "fn another_function(x: i32) {\n",
    "    println!(\"The value of x is: {}\", x);\n",
    "}\n",
    "main();"
   ]
  },
  {
   "cell_type": "code",
   "execution_count": null,
   "metadata": {},
   "outputs": [],
   "source": [
    "fn main() {\n",
    "    another_function(5, 6);\n",
    "}\n",
    "\n",
    "fn another_function(x: i32, y: i32) {\n",
    "    println!(\"The value of x is: {}\", x);\n",
    "    println!(\"The value of y is: {}\", y);\n",
    "}\n",
    "main();"
   ]
  },
  {
   "cell_type": "markdown",
   "metadata": {},
   "source": [
    "Statements and Expressions\n",
    "==="
   ]
  },
  {
   "cell_type": "markdown",
   "metadata": {},
   "source": [
    "Function bodies are made up of a series of statements optionally ending in an expression. \n",
    "**Statements** are instructions that perform some action and *do not return a value*. \n",
    "**Expressions** evaluate to a resulting value. "
   ]
  },
  {
   "cell_type": "code",
   "execution_count": null,
   "metadata": {},
   "outputs": [],
   "source": [
    "fn main() {    // the entire function definition is a statement\n",
    "    let y = 6; // this is a statement\n",
    "}\n",
    "main();"
   ]
  },
  {
   "cell_type": "markdown",
   "metadata": {},
   "source": [
    "Statements\n",
    "---"
   ]
  },
  {
   "cell_type": "markdown",
   "metadata": {},
   "source": [
    "Statements do not return values. Therefore, you can’t assign a let statement to another variable. This is different from what happens in other languages, such as C and Ruby, where the assignment returns the value of the assignment.\n",
    "Wrong assignement example:"
   ]
  },
  {
   "cell_type": "code",
   "execution_count": null,
   "metadata": {},
   "outputs": [],
   "source": [
    "fn main() {\n",
    "    let x = (let y = 6); // error\n",
    "}\n",
    "main();"
   ]
  },
  {
   "cell_type": "markdown",
   "metadata": {},
   "source": [
    "Expressions\n",
    "---"
   ]
  },
  {
   "cell_type": "markdown",
   "metadata": {},
   "source": [
    "Expressions evaluate to something. Examples: math operations, a function call, a macro call. The block that we use to create new scopes, **{}**, is an expression:"
   ]
  },
  {
   "cell_type": "code",
   "execution_count": null,
   "metadata": {},
   "outputs": [],
   "source": [
    "fn main() {\n",
    "    let x = 5;\n",
    "\n",
    "    let y = {  // this block is an expression that evaluates to 4\n",
    "        let x = 3;\n",
    "        x + 1 // the last expression is the value for the block\n",
    "    };\n",
    "\n",
    "    println!(\"The value of y is: {}\", y);\n",
    "}\n",
    "main();"
   ]
  },
  {
   "cell_type": "markdown",
   "metadata": {},
   "source": [
    "Note the `x + 1` line without a semicolon at the end, which is unlike most of the lines you’ve seen so far. Expressions do not include ending semicolons. If you add a semicolon to the end of an expression, you turn it into a statement, which will then not return a value."
   ]
  },
  {
   "cell_type": "markdown",
   "metadata": {},
   "source": [
    "Functions with Return Values\n",
    "==="
   ]
  },
  {
   "cell_type": "markdown",
   "metadata": {},
   "source": [
    "Functions can return values to the code that calls them. We don’t name return values, but we do declare their type after an arrow (`->`). In Rust, the return value of the function is synonymous with the value of the final expression in the block of the body of a function. You can return early from a function by using the return keyword and specifying a value, but most functions return the last expression implicitly. "
   ]
  },
  {
   "cell_type": "code",
   "execution_count": null,
   "metadata": {},
   "outputs": [],
   "source": [
    "fn five() -> i32 {  // function has a return type of i32\n",
    "    5    // this is the return expression (no semicolon)\n",
    "}\n",
    "\n",
    "fn main() {\n",
    "    let x = five();   // this code is equivalent to: let x = 5;\n",
    "\n",
    "    println!(\"The value of x is: {}\", x);\n",
    "}\n",
    "main();"
   ]
  },
  {
   "cell_type": "code",
   "execution_count": null,
   "metadata": {},
   "outputs": [],
   "source": [
    "fn main() {\n",
    "    let x = plus_one(5);\n",
    "\n",
    "    println!(\"The value of x is: {}\", x);\n",
    "}\n",
    "\n",
    "fn plus_one(x: i32) -> i32 {\n",
    "    x + 1;  // a semicolon here results in an error\n",
    "}\n",
    "main();"
   ]
  },
  {
   "cell_type": "markdown",
   "metadata": {},
   "source": [
    "Exercises\n",
    "==="
   ]
  },
  {
   "cell_type": "markdown",
   "metadata": {},
   "source": [
    "**Exercise 1:** Write a function that determines whether 2 values are equals with a tolerance of `EPSILON`."
   ]
  },
  {
   "cell_type": "markdown",
   "metadata": {},
   "source": [
    "**Sample test data:** \n",
    "\n",
    "* (0.00009384921 , 0.00009384922)\n",
    "* (0.000093849221 , 0.000093849222)"
   ]
  },
  {
   "cell_type": "code",
   "execution_count": null,
   "metadata": {},
   "outputs": [],
   "source": [
    "/// The standard value for epsilon 1e-11\n",
    "const EPSILON: f64 = 1e-11;\n",
    "\n",
    "/// TO DO (1) Implement a function called eq\n",
    "\n",
    "fn main() {\n",
    "    let x = 0.000093849221;\n",
    "    let y = 0.000093849222;\n",
    "    println!(\"The numbers are equal: {}\", eq(x,y));\n",
    "}\n",
    "main();"
   ]
  },
  {
   "cell_type": "markdown",
   "metadata": {
    "hide_input": false
   },
   "source": [
    "**Solution:**"
   ]
  },
  {
   "cell_type": "code",
   "execution_count": null,
   "metadata": {
    "hide_input": true
   },
   "outputs": [],
   "source": [
    "/// The standard value for epsilon 1e-11\n",
    "const EPSILON: f64 = 1e-11;\n",
    "\n",
    "/// Determines whether x and y are equals with a tolerance of eps\n",
    "fn eq(x: f64, y: f64) -> bool {\n",
    "    (x - y).abs() < EPSILON\n",
    "}\n",
    "\n",
    "fn main() {\n",
    "    let x = 0.000093849221;\n",
    "    let y = 0.000093849222;\n",
    "    println!(\"The numbers are equal: {}\", eq(x,y));\n",
    "}\n",
    "\n",
    "main();"
   ]
  }
 ],
 "metadata": {
  "kernelspec": {
   "display_name": "Rust",
   "language": "rust",
   "name": "rust"
  },
  "language_info": {
   "codemirror_mode": "rust",
   "file_extension": ".rs",
   "mimetype": "text/rust",
   "name": "Rust",
   "pygment_lexer": "rust",
   "version": ""
  }
 },
 "nbformat": 4,
 "nbformat_minor": 2
}
