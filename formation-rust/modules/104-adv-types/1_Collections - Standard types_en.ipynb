{
 "cells": [
  {
   "cell_type": "markdown",
   "metadata": {},
   "source": [
    "# Collections - Standard types"
   ]
  },
  {
   "cell_type": "markdown",
   "metadata": {},
   "source": [
    "Rust’s standard library includes a number of very useful data structures called **collections**. These can contain multiple values.Unlike the built-in array and tuple types, the data these collections point to is stored on the heap, which means the amount of data does not need to be known at compile time and can grow or shrink as the program runs. "
   ]
  },
  {
   "cell_type": "markdown",
   "metadata": {},
   "source": [
    "Collections available in Rust:\n",
    "\n",
    "* A **vector** allows you to store a variable number of values next to each other.\n",
    "* A **string** is a collection of characters. We’ve mentioned the String type previously, but in this chapter we’ll talk about it in depth.\n",
    "* A **hash map** allows you to associate a value with a particular key. It’s a particular implementation of the more general data structure called a map.\n",
    "\n"
   ]
  },
  {
   "cell_type": "markdown",
   "metadata": {},
   "source": [
    "Vectors\n",
    "==="
   ]
  },
  {
   "cell_type": "markdown",
   "metadata": {},
   "source": [
    "Vectors allow you to store more than one value in a single data structure that puts all the values next to each other in memory. Vectors can only store values of the same type."
   ]
  },
  {
   "cell_type": "code",
   "execution_count": null,
   "metadata": {},
   "outputs": [],
   "source": [
    "let v: Vec<i32> = Vec::new(); // creates a new empty vector"
   ]
  },
  {
   "cell_type": "markdown",
   "metadata": {},
   "source": [
    "In more realistic code, Rust can often infer the type of value you want to store once you insert values, so you rarely need to do this type annotation. It’s more common to create a `Vec< T >` that has initial values, and Rust provides the **`vec!`** macro for convenience. In the following example, we've given initial `i32` values, so Rust can infer that the type of `v` is `Vec< i32 >`, and the type annotation isn’t necessary. "
   ]
  },
  {
   "cell_type": "code",
   "execution_count": null,
   "metadata": {},
   "outputs": [],
   "source": [
    "let v = vec![1, 2, 3];"
   ]
  },
  {
   "cell_type": "markdown",
   "metadata": {},
   "source": [
    "Update vectors\n",
    "---"
   ]
  },
  {
   "cell_type": "code",
   "execution_count": null,
   "metadata": {},
   "outputs": [],
   "source": [
    "let mut v = Vec::new();\n",
    "\n",
    "v.push(5);\n",
    "v.push(6);\n",
    "v.push(7);\n",
    "v.push(8);\n",
    "println!(\"Vector after update: {:?}\",v);"
   ]
  },
  {
   "cell_type": "markdown",
   "metadata": {},
   "source": [
    "Like any other struct, a vector is freed when it goes out of scope."
   ]
  },
  {
   "cell_type": "markdown",
   "metadata": {},
   "source": [
    "Reading elements in a vector\n",
    "---"
   ]
  },
  {
   "cell_type": "code",
   "execution_count": null,
   "metadata": {},
   "outputs": [],
   "source": [
    "fn main() {\n",
    "    let v = vec![1, 2, 3, 4, 5];\n",
    "\n",
    "    let third: &i32 = &v[2]; // first method; index starts at 0\n",
    "    println!(\"The third element is {}\", third);\n",
    "\n",
    "    match v.get(2) { // returns an Option<&T>\n",
    "        Some(third) => println!(\"The third element is {}\", third),\n",
    "        None => println!(\"There is no third element.\"),\n",
    "    }\n",
    "}\n",
    "main();"
   ]
  },
  {
   "cell_type": "markdown",
   "metadata": {},
   "source": [
    "The first `[]` method will cause the program to panic if it references a nonexistent element. This method is best used when you want your program to crash if there’s an attempt to access an element past the end of the vector. When the `get` method is passed an index that is outside the vector, it returns `None` without panicking. You would use this method of accessing an element beyond the range of the vector happens occasionally under normal circumstances (e.g. user enters wrong value). "
   ]
  },
  {
   "cell_type": "markdown",
   "metadata": {},
   "source": [
    "Consider the following example and recall the rule that states you can’t have mutable and immutable references in the same scope: "
   ]
  },
  {
   "cell_type": "code",
   "execution_count": null,
   "metadata": {},
   "outputs": [],
   "source": [
    "fn main() {\n",
    "    let mut v = vec![1, 2, 3, 4, 5];\n",
    "\n",
    "    let first = &v[0];\n",
    "\n",
    "    v.push(6);\n",
    "\n",
    "    println!(\"The first element is: {}\", first);\n",
    "}\n",
    "main();"
   ]
  },
  {
   "cell_type": "markdown",
   "metadata": {},
   "source": [
    "This error is due to the way vectors work: adding a new element onto the end of the vector might require allocating new memory and copying the old elements to the new space, if there isn’t enough room to put all the elements next to each other where the vector currently is. In that case, the reference to the first element would be pointing to deallocated memory. "
   ]
  },
  {
   "cell_type": "markdown",
   "metadata": {},
   "source": [
    "Iterating over the values in a vector\n",
    "---"
   ]
  },
  {
   "cell_type": "code",
   "execution_count": null,
   "metadata": {},
   "outputs": [],
   "source": [
    "let v = vec![100, 32, 57];\n",
    "for i in &v {\n",
    "    println!(\"{}\", i);\n",
    "}\n",
    "for i in v {  // consumes the vector\n",
    "    println!(\"{}\", i);\n",
    "}"
   ]
  },
  {
   "cell_type": "markdown",
   "metadata": {},
   "source": [
    "We can also iterate over mutable references to each element in a mutable vector in order to make changes to all the elements. "
   ]
  },
  {
   "cell_type": "code",
   "execution_count": null,
   "metadata": {},
   "outputs": [],
   "source": [
    "let mut v = vec![100, 32, 57];\n",
    "for i in &mut v {\n",
    "    *i += 50;\n",
    "}\n",
    "for i in &v {\n",
    "    println!(\"{}\", i);\n",
    "}"
   ]
  },
  {
   "cell_type": "markdown",
   "metadata": {},
   "source": [
    "Using iterators:"
   ]
  },
  {
   "cell_type": "code",
   "execution_count": null,
   "metadata": {},
   "outputs": [],
   "source": [
    "let v1 = vec![1, 2, 3];\n",
    "\n",
    "for val in v1.iter() {\n",
    "    println!(\"Got: {}\", val);\n",
    "}"
   ]
  },
  {
   "cell_type": "markdown",
   "metadata": {},
   "source": [
    "Exercises\n",
    "---"
   ]
  },
  {
   "cell_type": "markdown",
   "metadata": {},
   "source": [
    "**Exercise 1:** Create a vector that stores data coming from spreadsheet cells and having different types: i32, f64 and String. \n",
    "The vector initially contains the elements: `[3, \"blue\", 10.12]`"
   ]
  },
  {
   "cell_type": "code",
   "execution_count": null,
   "metadata": {},
   "outputs": [],
   "source": [
    "fn main() {\n",
    "}\n",
    "main();"
   ]
  },
  {
   "cell_type": "markdown",
   "metadata": {},
   "source": [
    "**Tips :**\n",
    "> Think about a data structure that allows you to store data of different types. We can define an enum whose variants will hold the different value types, and then all the enum variants will be considered the same type: that of the enum. Then we can create a vector that holds that enum and so, ultimately, holds different types. "
   ]
  },
  {
   "cell_type": "markdown",
   "metadata": {},
   "source": [
    "**Solution:**"
   ]
  },
  {
   "cell_type": "code",
   "execution_count": null,
   "metadata": {
    "hide_input": true
   },
   "outputs": [],
   "source": [
    "fn main() {\n",
    "    enum SpreadsheetCell {\n",
    "        Int(i32),\n",
    "        Float(f64),\n",
    "        Text(String),\n",
    "    }\n",
    "\n",
    "    let row = vec![\n",
    "        SpreadsheetCell::Int(3),\n",
    "        SpreadsheetCell::Text(String::from(\"blue\")),\n",
    "        SpreadsheetCell::Float(10.12),\n",
    "    ];\n",
    "}"
   ]
  },
  {
   "cell_type": "markdown",
   "metadata": {},
   "source": [
    "**Exercise 2:** Write a function that calculates the largest value in a vector of i32 elements.\n",
    "> * Don't forget the case where the vector is empty!\n",
    "> * Try to write a version that do not consume the vector."
   ]
  },
  {
   "cell_type": "code",
   "execution_count": null,
   "metadata": {},
   "outputs": [],
   "source": [
    "// TO DO (1) Define a function that calculates the largest value\n",
    "\n",
    "fn main() {\n",
    "  // TO DO (2) Test your implementation here\n",
    "\n",
    "}\n",
    "main();"
   ]
  },
  {
   "cell_type": "markdown",
   "metadata": {},
   "source": [
    "**Tips:**\n",
    "> Use the documentation to investigate the methods implemented by the std::vec::Vec type: https://doc.rust-lang.org/std/vec/struct.Vec.html"
   ]
  },
  {
   "cell_type": "markdown",
   "metadata": {},
   "source": [
    "**Solution:**"
   ]
  },
  {
   "cell_type": "code",
   "execution_count": null,
   "metadata": {
    "hide_input": true
   },
   "outputs": [],
   "source": [
    "/// Gets the largest of the vector and consume the vector\n",
    "fn into_largest(list: Vec<i32>) -> Option<i32> {\n",
    "    let mut result = None;\n",
    "    for value in list.into_iter() {\n",
    "        result = match result {\n",
    "            None => Some(value),\n",
    "            Some(previous) => Some(value.max(previous))\n",
    "        };\n",
    "    }\n",
    "    result\n",
    "}\n",
    "\n",
    "/// Gets the largest of the slice, but do not consume it\n",
    "fn largest_of(list: &[i32]) -> Option<i32> {\n",
    "    let mut result = None;\n",
    "    for &value in list.iter() {\n",
    "        result = match result {\n",
    "            None => Some(value),\n",
    "            Some(previous) => Some(value.max(previous))\n",
    "        };\n",
    "    }\n",
    "    result\n",
    "}\n",
    "\n",
    "/// Gets the largest of the slice, but do not consume it\n",
    "fn largest_of_idiomatic(list: &[i32]) -> Option<i32> {\n",
    "    list.iter().copied().max()\n",
    "}\n",
    "\n",
    "fn main() {\n",
    "    let input = vec![10,2,3,4];\n",
    "    let a = largest_of(&input);\n",
    "    let b = into_largest(input); // consume input\n",
    "\n",
    "    println!(\"largest_of   says: {:?}\", a);\n",
    "    println!(\"into_largest says: {:?}\", b);\n",
    "}\n",
    "\n",
    "main();"
   ]
  },
  {
   "cell_type": "markdown",
   "metadata": {},
   "source": [
    "**Exercise 3:** Define a structure called `GeoPolygon` with `ring` as a field representing a list of vertices of type `GeoCoordinate`. Then implement the `bound` method that returns a `GeoBoundingBox` representing the min and max latitudes and longitudes of the polygon. Use the `GeoCoordinate` and `GeoBoundingBox` structures defined earlier (lesson Structures)."
   ]
  },
  {
   "cell_type": "markdown",
   "metadata": {},
   "source": [
    "Example coordinates for testing:\n",
    "\n",
    "        GeoCoordinate {\n",
    "            latitude: 46.0,\n",
    "            longitude: 2.0\n",
    "        },\n",
    "        GeoCoordinate {\n",
    "            latitude: 47.0,\n",
    "            longitude: 2.0\n",
    "        },\n",
    "        GeoCoordinate {\n",
    "            latitude: 47.0,\n",
    "            longitude: 3.0\n",
    "        },\n",
    "        GeoCoordinate {\n",
    "            latitude: 46.0,\n",
    "            longitude: 3.0\n",
    "        }"
   ]
  },
  {
   "cell_type": "code",
   "execution_count": null,
   "metadata": {},
   "outputs": [],
   "source": [
    "#[derive(Debug)]\n",
    "struct GeoCoordinate {\n",
    "    /// The latitude\n",
    "    latitude: f64,\n",
    "    /// The longitude\n",
    "    longitude: f64\n",
    "}\n",
    "\n",
    "#[derive(Debug)]\n",
    "struct GeoBoundingBox {\n",
    "    /// The point with the minimal coordinates for this bounding box\n",
    "    min: GeoCoordinate,\n",
    "    /// The point with the maximal coordinates for this bounding box\n",
    "    max: GeoCoordinate\n",
    "}\n",
    "\n",
    "struct GeoPolygon {\n",
    "    /// TO DO (1) Define the rings of the polygon\n",
    "    ring: \n",
    "    // TO DO (2) Implement the bounds method that returns a GeoBoundingBox\n",
    "}"
   ]
  },
  {
   "cell_type": "markdown",
   "metadata": {},
   "source": [
    "**Solution:**"
   ]
  },
  {
   "cell_type": "code",
   "execution_count": null,
   "metadata": {
    "hide_input": true
   },
   "outputs": [],
   "source": [
    "#[derive(Debug)]\n",
    "struct GeoCoordinate {\n",
    "    /// The latitude\n",
    "    latitude: f64,\n",
    "    /// The longitude\n",
    "    longitude: f64\n",
    "}\n",
    "\n",
    "#[derive(Debug)]\n",
    "struct GeoBoundingBox {\n",
    "    /// The point with the minimal coordinates for this bounding box\n",
    "    min: GeoCoordinate,\n",
    "    /// The point with the maximal coordinates for this bounding box\n",
    "    max: GeoCoordinate\n",
    "}\n",
    "\n",
    "#[derive(Debug)]\n",
    "struct GeoPolygon {\n",
    "    /// The ring of this polygon\n",
    "    ring: Vec<GeoCoordinate>\n",
    "}\n",
    "\n",
    "impl GeoPolygon {\n",
    "    // Gets the bounding box for a polygon\n",
    "    fn bounds(&self) -> GeoBoundingBox {\n",
    "        let mut min_lat = std::f64::MAX;\n",
    "        let mut max_lat = std::f64::MIN;\n",
    "        let mut min_lng = std::f64::MAX;\n",
    "        let mut max_lng = std::f64::MIN;\n",
    "        for point in self.ring.iter() {\n",
    "            if point.latitude < min_lat {\n",
    "                min_lat = point.latitude;\n",
    "            }\n",
    "            if point.latitude > max_lat {\n",
    "                max_lat = point.latitude;\n",
    "            }\n",
    "            if point.longitude < min_lng {\n",
    "                min_lng = point.longitude;\n",
    "            }\n",
    "            if point.longitude > max_lng {\n",
    "                max_lng = point.longitude;\n",
    "            }\n",
    "        }\n",
    "        GeoBoundingBox {\n",
    "            min: GeoCoordinate {\n",
    "                latitude: min_lat,\n",
    "                longitude: min_lng\n",
    "            },\n",
    "            max: GeoCoordinate {\n",
    "                latitude: max_lat,\n",
    "                longitude: max_lng\n",
    "            }\n",
    "        }\n",
    "    }\n",
    "}\n",
    "\n",
    "fn main() {\n",
    "    let ring = vec![GeoCoordinate {\n",
    "        latitude: 46.0,\n",
    "        longitude: 2.0\n",
    "    },\n",
    "    GeoCoordinate {\n",
    "        latitude: 47.0,\n",
    "        longitude: 2.0\n",
    "    },\n",
    "    GeoCoordinate {\n",
    "        latitude: 47.0,\n",
    "        longitude: 3.0\n",
    "    },\n",
    "    GeoCoordinate {\n",
    "        latitude: 46.0,\n",
    "        longitude: 3.0\n",
    "    }];\n",
    "    let polygon = GeoPolygon { ring };\n",
    "    let bounds = polygon.bounds();\n",
    "    println!(\"{:#?}\", &bounds);\n",
    "}\n",
    "main();"
   ]
  },
  {
   "cell_type": "markdown",
   "metadata": {},
   "source": [
    "Strings\n",
    "==="
   ]
  },
  {
   "cell_type": "markdown",
   "metadata": {},
   "source": [
    "The String type, which is provided by Rust’s standard library rather than coded into the core language, is a growable, mutable, owned, UTF-8 encoded string type."
   ]
  },
  {
   "cell_type": "code",
   "execution_count": null,
   "metadata": {},
   "outputs": [],
   "source": [
    "let mut s = String::new(); // create a new String"
   ]
  },
  {
   "cell_type": "code",
   "execution_count": null,
   "metadata": {},
   "outputs": [],
   "source": [
    "let data = \"initial contents\";\n",
    "\n",
    "let s = data.to_string();\n",
    "\n",
    "// the method also works on a literal directly:\n",
    "let s = \"initial contents\".to_string();\n"
   ]
  },
  {
   "cell_type": "code",
   "execution_count": null,
   "metadata": {},
   "outputs": [],
   "source": [
    "let s = String::from(\"initial contents\");"
   ]
  },
  {
   "cell_type": "markdown",
   "metadata": {},
   "source": [
    "> **Note:** Rust’s standard library also includes a number of other string types, such as `OsString`, `OsStr`, `CString`, and `CStr`. Library crates can provide even more options for storing string data. See how those names all end in String or Str? They refer to owned and borrowed variants, just like the `String` and `str` types you’ve seen previously. These string types can store text in different encodings or be represented in memory in a different way, for example. "
   ]
  },
  {
   "cell_type": "code",
   "execution_count": null,
   "metadata": {},
   "outputs": [],
   "source": [
    "let mut s1 = String::from(\"foo\");\n",
    "let s2 = \"bar\";\n",
    "s1.push_str(s2);\n",
    "println!(\"s2 is {}, s1 is {}\", s2, s1);"
   ]
  },
  {
   "cell_type": "markdown",
   "metadata": {},
   "source": [
    "The push method takes a single character as a parameter and adds it to the String."
   ]
  },
  {
   "cell_type": "code",
   "execution_count": null,
   "metadata": {},
   "outputs": [],
   "source": [
    "let mut s = String::from(\"lo\");\n",
    "s.push('l');"
   ]
  },
  {
   "cell_type": "markdown",
   "metadata": {},
   "source": [
    "String concatenation\n",
    "---"
   ]
  },
  {
   "cell_type": "code",
   "execution_count": null,
   "metadata": {},
   "outputs": [],
   "source": [
    "let s1 = String::from(\"Hello, \");\n",
    "let s2 = String::from(\"world!\");\n",
    "let s3 = s1 + &s2; // note s1 has been moved here and can no longer be used"
   ]
  },
  {
   "cell_type": "markdown",
   "metadata": {},
   "source": [
    "For more complicated string combining, we can use the **format!** macro:"
   ]
  },
  {
   "cell_type": "code",
   "execution_count": null,
   "metadata": {},
   "outputs": [],
   "source": [
    "let mut s1 = String::from(\"tic\");\n",
    "let s2 = String::from(\"tac\");\n",
    "let s3 = String::from(\"toe\");\n",
    "\n",
    "let s = format!(\"{}-{}-{}\", s1, s2, s3); // does not take ownership of any of its parameters\n",
    "println!(\"{}\", s);\n",
    "\n",
    "s1.push_str(\"xx\");\n",
    "println!(\"{}\", s1);"
   ]
  },
  {
   "cell_type": "markdown",
   "metadata": {},
   "source": [
    "Internal representation\n",
    "---"
   ]
  },
  {
   "cell_type": "markdown",
   "metadata": {},
   "source": [
    "A String is a wrapper over a Vec< u8 >. "
   ]
  },
  {
   "cell_type": "code",
   "execution_count": null,
   "metadata": {},
   "outputs": [],
   "source": [
    "let len = String::from(\"Hola\").len();\n",
    "println!(\"{}\",len);\n",
    "let len = String::from(\"Здравствуйте\").len();\n",
    "println!(\"{}\",len);"
   ]
  },
  {
   "cell_type": "markdown",
   "metadata": {},
   "source": [
    "The number of bytes it takes to encode “Здравствуйте” in UTF-8 is 24 because each Unicode scalar value in that string takes 2 bytes of storage. Therefore, an index into the string’s bytes will not always correlate to a valid Unicode scalar value. For this reason, indexing into strings is not a valid operation."
   ]
  },
  {
   "cell_type": "code",
   "execution_count": null,
   "metadata": {},
   "outputs": [],
   "source": [
    "let hello = \"Здравствуйте\";\n",
    "let answer = &hello[0]; // error"
   ]
  },
  {
   "cell_type": "markdown",
   "metadata": {},
   "source": [
    "Slicing strings\n",
    "---"
   ]
  },
  {
   "cell_type": "markdown",
   "metadata": {},
   "source": [
    "To be more specific in your indexing and indicate that you want a string slice, rather than indexing using [] with a single number, you can use [] with a range to create a string slice containing particular bytes:\n",
    "\n"
   ]
  },
  {
   "cell_type": "code",
   "execution_count": null,
   "metadata": {},
   "outputs": [],
   "source": [
    "let hello = \"Здравствуйте\";\n",
    "\n",
    "let s = &hello[0..4];\n",
    "println!(\"s: {}\", s);"
   ]
  },
  {
   "cell_type": "markdown",
   "metadata": {},
   "source": [
    "Iterating over Strings\n",
    "---"
   ]
  },
  {
   "cell_type": "code",
   "execution_count": null,
   "metadata": {},
   "outputs": [],
   "source": [
    "for c in \"नमस्ते\".chars() { // on each iteration returns a value of type char\n",
    "    println!(\"{}\", c);\n",
    "}\n",
    "let text = \"नमस्ते\";\n",
    "println!(\"First char {:?}\", text.chars().nth(0));"
   ]
  },
  {
   "cell_type": "code",
   "execution_count": null,
   "metadata": {},
   "outputs": [],
   "source": [
    "for b in \"नमस्ते\".bytes() { // on each iteration returns a raw byte\n",
    "    println!(\"{}\", b);\n",
    "}\n",
    "let bb: std::str::Bytes = \"नमस्ते\".bytes();"
   ]
  },
  {
   "cell_type": "markdown",
   "metadata": {},
   "source": [
    "Exercises\n",
    "---"
   ]
  },
  {
   "cell_type": "markdown",
   "metadata": {},
   "source": [
    "**Exercise 1:** Write a small program that checks if a word is a palindrom. "
   ]
  },
  {
   "cell_type": "code",
   "execution_count": null,
   "metadata": {},
   "outputs": [],
   "source": [
    "fn main() {\n",
    "    \n",
    "}\n",
    "main();"
   ]
  },
  {
   "cell_type": "markdown",
   "metadata": {},
   "source": [
    "> **Tips:** To solve this problem, checkout the manual pages to understand how the iterator and its nth method works (https://doc.rust-lang.org/std/iter/trait.Iterator.html); use the bytes or chars iterator."
   ]
  },
  {
   "cell_type": "markdown",
   "metadata": {},
   "source": [
    "**Solution:**"
   ]
  },
  {
   "cell_type": "code",
   "execution_count": null,
   "metadata": {
    "hide_input": true
   },
   "outputs": [],
   "source": [
    "fn palindrome(s: String) -> bool {\n",
    "    let len = s.len();\n",
    "    if len == 0 {return true;}\n",
    "    let mut i = 0;\n",
    "    for c in s.chars() {\n",
    "        match s.chars().nth(len-i-1) {\n",
    "            Some(value) => {if value != c { return false;}},\n",
    "            None => break,\n",
    "        }\n",
    "        i += 1;\n",
    "    } \n",
    "    return true\n",
    "}\n",
    "\n",
    "fn palindrome_idiomatic(text: &str) -> bool {\n",
    "    text\n",
    "        .chars()\n",
    "        .zip(text.chars().rev())\n",
    "        .all(|(a, b)| a == b)\n",
    "}\n",
    "\n",
    "fn main() {\n",
    "    let word = String::from(\"abccba\");\n",
    "    let another_word = String::from(\"abcccca\");\n",
    "    let empty_word = String::from(\"\");\n",
    "    match palindrome_idiomatic(&another_word) {\n",
    "        true => println!(\"The word is a palindrome\"),\n",
    "        false => println!(\"The word is not a palindrome\"),\n",
    "    }\n",
    "}\n",
    "main();"
   ]
  },
  {
   "cell_type": "markdown",
   "metadata": {},
   "source": [
    "Hash map\n",
    "==="
   ]
  },
  {
   "cell_type": "markdown",
   "metadata": {},
   "source": [
    "The type `HashMap< K, V >` stores a mapping of keys of type `K` to values of type `V`. It does this via a hashing function, which determines how it places these keys and values into memory. Hash maps are useful when you want to look up data not by using an index, as you can with vectors, but by using a key that can be of any type. "
   ]
  },
  {
   "cell_type": "markdown",
   "metadata": {},
   "source": [
    "Creating a new hash map\n",
    "---"
   ]
  },
  {
   "cell_type": "code",
   "execution_count": null,
   "metadata": {},
   "outputs": [],
   "source": [
    "use std::collections::HashMap;\n",
    "fn main()\n",
    "{\n",
    "    let mut scores = HashMap::new();\n",
    "    scores.insert(String::from(\"Blue\"), 10);\n",
    "    scores.insert(String::from(\"Yellow\"), 50);\n",
    "    println!(\"Scores: {:?}\", scores);\n",
    "}\n",
    "main();"
   ]
  },
  {
   "cell_type": "markdown",
   "metadata": {},
   "source": [
    "Another way of constructing a hash map is by using the **`collect`** method on a vector of tuples, where each tuple consists of a key and its value."
   ]
  },
  {
   "cell_type": "code",
   "execution_count": null,
   "metadata": {},
   "outputs": [],
   "source": [
    "use std::collections::HashMap;\n",
    "fn main()\n",
    "{\n",
    "    let teams  = vec![String::from(\"Blue\"), String::from(\"Yellow\")];\n",
    "    let initial_scores = vec![10, 50];\n",
    "    let scores: HashMap<_, _> = teams.iter().zip(initial_scores.iter()).collect();\n",
    "    println!(\"Scores: {:?}\", scores);\n",
    "}\n",
    "main();"
   ]
  },
  {
   "cell_type": "markdown",
   "metadata": {},
   "source": [
    "Hash map and ownership\n",
    "---"
   ]
  },
  {
   "cell_type": "markdown",
   "metadata": {},
   "source": [
    "For types that implement the `Copy` trait, like `i32`, the values are copied into the hash map. For owned values like `String`, the values will be moved and the hash map will be the owner of those values:"
   ]
  },
  {
   "cell_type": "code",
   "execution_count": null,
   "metadata": {},
   "outputs": [],
   "source": [
    "use std::collections::HashMap;\n",
    "\n",
    "fn main() {\n",
    "    let field_name = String::from(\"Favorite color\");\n",
    "    let field_value = String::from(\"Blue\");\n",
    "\n",
    "    let mut map = HashMap::new();\n",
    "    map.insert(field_name, field_value);\n",
    "    // field_name and field_value are invalid at this point, try using them and\n",
    "    // see what compiler error you get!\n",
    "    println!(\"Field name: {}\", field_name);\n",
    "}\n",
    "main();"
   ]
  },
  {
   "cell_type": "markdown",
   "metadata": {},
   "source": [
    "**Conclusion:** If we insert references to values into the hash map, the values won’t be moved into the hash map. The values that the references point to must be valid for at least as long as the hash map is valid. "
   ]
  },
  {
   "cell_type": "markdown",
   "metadata": {},
   "source": [
    "Accessing values\n",
    "---"
   ]
  },
  {
   "cell_type": "markdown",
   "metadata": {},
   "source": [
    "We can get a value out of the hash map by providing its key to the `get` method. Check out the documentation to see how get if defined: https://doc.rust-lang.org/std/collections/struct.HashMap.html#method.get"
   ]
  },
  {
   "cell_type": "code",
   "execution_count": null,
   "metadata": {},
   "outputs": [],
   "source": [
    "use std::collections::HashMap;\n",
    "\n",
    "fn main() {\n",
    "    let mut scores = HashMap::new();\n",
    "\n",
    "    scores.insert(String::from(\"Blue\"), 10);\n",
    "    scores.insert(String::from(\"Yellow\"), 50);\n",
    "\n",
    "    let team_name = String::from(\"Blue\");\n",
    "    let score = scores.get(&team_name);\n",
    "    match score {\n",
    "        Some(&value) =>  println!(\"The score for the {} team is {}\", team_name, value),\n",
    "        None => (),\n",
    "    }\n",
    "}\n",
    "main();"
   ]
  },
  {
   "cell_type": "markdown",
   "metadata": {},
   "source": [
    "We can iterate over each key/value pair in a hash map in a similar manner as we do with vectors, using a for loop:"
   ]
  },
  {
   "cell_type": "code",
   "execution_count": null,
   "metadata": {},
   "outputs": [],
   "source": [
    "use std::collections::HashMap;\n",
    "\n",
    "fn main() {\n",
    "    let mut scores = HashMap::new();\n",
    "\n",
    "    scores.insert(String::from(\"Blue\"), 10);\n",
    "    scores.insert(String::from(\"Yellow\"), 50);\n",
    "\n",
    "    for (key, value) in &scores {\n",
    "        println!(\"{}: {}\", key, value);\n",
    "    }\n",
    "}\n",
    "main();"
   ]
  },
  {
   "cell_type": "markdown",
   "metadata": {},
   "source": [
    "Updating a Hash Map\n",
    "---"
   ]
  },
  {
   "cell_type": "markdown",
   "metadata": {},
   "source": [
    "If we insert a key and a value into a hash map and then insert that same key with a different value, the value associated with that key will be replaced. "
   ]
  },
  {
   "cell_type": "code",
   "execution_count": null,
   "metadata": {},
   "outputs": [],
   "source": [
    "use std::collections::HashMap;\n",
    "\n",
    "fn main() {\n",
    "    let mut scores = HashMap::new();\n",
    "\n",
    "    scores.insert(String::from(\"Blue\"), 10);\n",
    "    scores.insert(String::from(\"Blue\"), 25);\n",
    "\n",
    "    println!(\"{:?}\", scores);\n",
    "}\n",
    "main();"
   ]
  },
  {
   "cell_type": "markdown",
   "metadata": {},
   "source": [
    "It’s common to check whether a particular key has a value and, if it doesn’t, insert a value for it. Hash maps have a special API for this called **`entry`** that takes the key you want to check as a parameter. The return value of the entry method is an enum called **`Entry`** that represents a value that might or might not exist. "
   ]
  },
  {
   "cell_type": "code",
   "execution_count": null,
   "metadata": {},
   "outputs": [],
   "source": [
    "use std::collections::HashMap;\n",
    "\n",
    "fn main() {\n",
    "    let mut scores = HashMap::new();\n",
    "    scores.insert(String::from(\"Blue\"), 10);\n",
    "\n",
    "    scores.entry(String::from(\"Yellow\")).or_insert(50);\n",
    "    scores.entry(String::from(\"Blue\")).or_insert(50);\n",
    "\n",
    "    println!(\"{:?}\", scores);\n",
    "}\n",
    "main();"
   ]
  },
  {
   "cell_type": "markdown",
   "metadata": {},
   "source": [
    "The `or_insert` method on `Entry` is defined to return a mutable reference to the value for the corresponding `Entry` key if that key exists, and if not, inserts the parameter as the new value for this key and returns a mutable reference to the new value."
   ]
  },
  {
   "cell_type": "markdown",
   "metadata": {},
   "source": [
    "Another common use case for hash maps is to look up a key’s value and then update it based on the old value. "
   ]
  },
  {
   "cell_type": "markdown",
   "metadata": {},
   "source": [
    "Exercices\n",
    "---"
   ]
  },
  {
   "cell_type": "markdown",
   "metadata": {
    "hide_input": true
   },
   "source": [
    "**Exercise 1:** Write the missing code that counts how many times each word appears in some text. *"
   ]
  },
  {
   "cell_type": "markdown",
   "metadata": {},
   "source": [
    "> **Tips:** Look out for the method *split_whitespace* in the documentation pages. https://doc.rust-lang.org/std/primitive.str.html#method.split_whitespace"
   ]
  },
  {
   "cell_type": "code",
   "execution_count": null,
   "metadata": {},
   "outputs": [],
   "source": [
    "use std::collections::HashMap;\n",
    "\n",
    "fn main() {\n",
    "    let text = \"hello world wonderful world\";\n",
    "    // TO DO (1) Create a new hashmap called \"map\"\n",
    "    // TO DO (1) Iterate on words\n",
    "    // TO DO (2) Count the words\n",
    "    // TO DO (3) Display the map with counts for each word\n",
    "}\n",
    "main();"
   ]
  },
  {
   "cell_type": "markdown",
   "metadata": {},
   "source": [
    "**Solution:**"
   ]
  },
  {
   "cell_type": "code",
   "execution_count": null,
   "metadata": {
    "hide_input": true
   },
   "outputs": [],
   "source": [
    "use std::collections::HashMap;\n",
    "\n",
    "fn main() {\n",
    "    let text = \"hello world wonderful world\";\n",
    "\n",
    "    let mut map = HashMap::new();\n",
    "\n",
    "    for word in text.split_whitespace() {\n",
    "        let count = map.entry(word).or_insert(0);\n",
    "        *count += 1;\n",
    "    }\n",
    "\n",
    "    println!(\"{:?}\", map);\n",
    "}\n",
    "main();"
   ]
  }
 ],
 "metadata": {
  "kernelspec": {
   "display_name": "Rust",
   "language": "rust",
   "name": "rust"
  },
  "language_info": {
   "codemirror_mode": "rust",
   "file_extension": ".rs",
   "mimetype": "text/rust",
   "name": "rust",
   "pygment_lexer": "rust",
   "version": ""
  }
 },
 "nbformat": 4,
 "nbformat_minor": 2
}
