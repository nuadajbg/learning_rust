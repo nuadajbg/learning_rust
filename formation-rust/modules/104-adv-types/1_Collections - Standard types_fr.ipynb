{
 "cells": [
  {
   "cell_type": "markdown",
   "metadata": {
    "deletable": false,
    "editable": true
   },
   "source": [
    "# Collections - Types standard"
   ]
  },
  {
   "cell_type": "markdown",
   "metadata": {
    "deletable": false,
    "editable": true
   },
   "source": [
    "La bibliothèque standard de Rust contient un certain nombre de structures de données très utiles appelées **collections**. Contrairement aux tableaux et aux tuples, les données vers lesquelles ces collections pointent sont stockées sur le tas, ce qui signifie que la quantité de données n'a pas besoin d'être connue au moment de la compilation et peut augmenter ou diminuer au fur et à mesure de l'exécution du programme. \n"
   ]
  },
  {
   "cell_type": "markdown",
   "metadata": {
    "deletable": false,
    "editable": true
   },
   "source": [
    "Collections disponibles dans Rust :\n",
    "\n",
    "* Un  vecteur **vector** permet de stocker un nombre variable de valeurs.\n",
    "* Un **string** est une collection de caractères.\n",
    "* Un **hash map** permet d’associer une valeur à une clé particulière. Il s‘gait d’une implémentation particulière d’une structure plus générale appélée **map**.\n",
    "\n"
   ]
  },
  {
   "cell_type": "markdown",
   "metadata": {
    "deletable": false,
    "editable": true
   },
   "source": [
    "Vecteurs\n",
    "==="
   ]
  },
  {
   "cell_type": "markdown",
   "metadata": {
    "deletable": false,
    "editable": true
   },
   "source": [
    "Les vecteurs permettent de stocker dans une seule structure de données plusieurs valeurs placées en mémoire les unes à côté des autres. Les vecteurs ne peuvent stocker que des valeurs de même type."
   ]
  },
  {
   "cell_type": "code",
   "execution_count": null,
   "metadata": {
    "deletable": false,
    "editable": true
   },
   "outputs": [],
   "source": [
    "let v: Vec<i32> = Vec::new(); // crée un vecteur vide"
   ]
  },
  {
   "cell_type": "markdown",
   "metadata": {
    "deletable": false,
    "editable": true
   },
   "source": [
    "\n",
    "Rust peut déduire le type des valeurs une fois qu’on les insère dans le vecteur, donc il n’est pas nécessaire d’utiliser des annotations. En pratique, il est plus courant de créer un `Vec< T >` qui contient des valeurs initiales en utilisant le macro **`vec!`**. Dans l’exemple suivant on a fourni des valeurs `i32` à l’initialisation, donc Rust va déduire que le type du vecteur `v` est `Vec< i32 >`."
   ]
  },
  {
   "cell_type": "code",
   "execution_count": null,
   "metadata": {
    "deletable": false,
    "editable": true
   },
   "outputs": [],
   "source": [
    "let v = vec![1, 2, 3];"
   ]
  },
  {
   "cell_type": "markdown",
   "metadata": {
    "deletable": false,
    "editable": true
   },
   "source": [
    "Mise à jours des vecteurs\n",
    "---"
   ]
  },
  {
   "cell_type": "code",
   "execution_count": null,
   "metadata": {
    "deletable": false,
    "editable": true
   },
   "outputs": [],
   "source": [
    "let mut v = Vec::new();\n",
    "\n",
    "v.push(5);\n",
    "v.push(6);\n",
    "v.push(7);\n",
    "v.push(8);\n",
    "println!(\"Vector after update: {:?}\",v);"
   ]
  },
  {
   "cell_type": "markdown",
   "metadata": {
    "deletable": false,
    "editable": true
   },
   "source": [
    "Comme pour les autres structures, la mémoire sera libérée quand le vecteur sort du contexte."
   ]
  },
  {
   "cell_type": "markdown",
   "metadata": {
    "deletable": false,
    "editable": true
   },
   "source": [
    "Lire les éléments d'un vecteur\n",
    "---"
   ]
  },
  {
   "cell_type": "code",
   "execution_count": null,
   "metadata": {
    "deletable": false,
    "editable": true
   },
   "outputs": [],
   "source": [
    "fn main() {\n",
    "    let v = vec![1, 2, 3, 4, 5];\n",
    "\n",
    "    let third: &i32 = &v[2]; // première méthode; l'index commence à 0\n",
    "    println!(\"The third element is {}\", third);\n",
    "\n",
    "    match v.get(2) { // deuxième méthode ; retourne un Option<&T>\n",
    "        Some(third) => println!(\"The third element is {}\", third),\n",
    "        None => println!(\"There is no third element.\"),\n",
    "    }\n",
    "}\n",
    "main();"
   ]
  },
  {
   "cell_type": "markdown",
   "metadata": {
    "deletable": false,
    "editable": true
   },
   "source": [
    "La première méthode va provoquer une erreur (panic) si l’on pointe vers un élément inexistant. Elle est à privilégier si on souhaite que le programme s’arrête quand il y a une tentative d’accéder à un élément au-delà de la fin du vecteur.\n",
    "Dans le deuxième cas, la méthode `get` va retourner `None` si l’index est à l’extérieur du vecteur et ne produit pas d’erreur. Cette méthode est à privilégier si l’accès d’un élément à l’extérieur de la longueur du vecteur peut arriver occasionnellement en conditions normales (ex. l’utilisateur saisit une valeur erronée)."
   ]
  },
  {
   "cell_type": "markdown",
   "metadata": {
    "deletable": false,
    "editable": true
   },
   "source": [
    "Prenons l'exemple suivant et rappelons la règle qui interdit d'avoir des références mutables et immuables dans le même contexte (scope) :"
   ]
  },
  {
   "cell_type": "code",
   "execution_count": null,
   "metadata": {
    "deletable": false,
    "editable": true
   },
   "outputs": [],
   "source": [
    "fn main() {\n",
    "    let mut v = vec![1, 2, 3, 4, 5];\n",
    "\n",
    "    let first = &v[0];\n",
    "\n",
    "    v.push(6);\n",
    "\n",
    "    println!(\"The first element is: {}\", first);\n",
    "}\n",
    "main();"
   ]
  },
  {
   "cell_type": "markdown",
   "metadata": {
    "deletable": false,
    "editable": true
   },
   "source": [
    "Ce code produit une erreur à cause de la manière dont les vecteurs fonctionnent : le fait d’ajouter un nouvel élément au vecteur nécessite d’allouer plus d’espace à la suite des éléments déjà stockés en mémoire. Si ceci n’est pas possible, le contenu est transféré dans une zone de mémoire plus grande et l’ancien espace est libéré, ce qui créerait une référence suspendue."
   ]
  },
  {
   "cell_type": "markdown",
   "metadata": {
    "deletable": false,
    "editable": true
   },
   "source": [
    "Itération sur les valeurs d'un vecteur\n",
    "---"
   ]
  },
  {
   "cell_type": "code",
   "execution_count": null,
   "metadata": {
    "deletable": false,
    "editable": true
   },
   "outputs": [],
   "source": [
    "let v = vec![100, 32, 57];\n",
    "for i in &v {\n",
    "    println!(\"{}\", i);\n",
    "}\n",
    "for i in v {  // consommer le vecteur\n",
    "    println!(\"{}\", i);\n",
    "}"
   ]
  },
  {
   "cell_type": "markdown",
   "metadata": {
    "deletable": false,
    "editable": true
   },
   "source": [
    "Dans le cas des vecteurs mutables, nous pouvons également itérer sur chacune des références mutables afin d'apporter des modifications à tous les éléments du vecteur. "
   ]
  },
  {
   "cell_type": "code",
   "execution_count": null,
   "metadata": {
    "deletable": false,
    "editable": true
   },
   "outputs": [],
   "source": [
    "let mut v = vec![100, 32, 57];\n",
    "for i in &mut v {\n",
    "    *i += 50;\n",
    "}\n",
    "for i in &v {\n",
    "    println!(\"{}\", i);\n",
    "}"
   ]
  },
  {
   "cell_type": "markdown",
   "metadata": {
    "deletable": false,
    "editable": true
   },
   "source": [
    "En utilisant des itérateurs:"
   ]
  },
  {
   "cell_type": "code",
   "execution_count": null,
   "metadata": {
    "deletable": false,
    "editable": true
   },
   "outputs": [],
   "source": [
    "let v1 = vec![1, 2, 3];\n",
    "\n",
    "for val in v1.iter() {\n",
    "    println!(\"Got: {}\", val);\n",
    "}"
   ]
  },
  {
   "cell_type": "markdown",
   "metadata": {
    "deletable": false,
    "editable": true
   },
   "source": [
    "Exercices\n",
    "---"
   ]
  },
  {
   "cell_type": "markdown",
   "metadata": {
    "deletable": false,
    "editable": true
   },
   "source": [
    "**Exercice 1:** Créer un vecteur qui stocke les données provenant d’un tableur et contenant différents types : i32, f64 et String. \n",
    "Le vecteur contient initialement les éléments : `[3, \"blue\", 10.12]`"
   ]
  },
  {
   "cell_type": "code",
   "execution_count": null,
   "metadata": {},
   "outputs": [],
   "source": [
    "fn main() {\n",
    "}\n",
    "main();"
   ]
  },
  {
   "cell_type": "markdown",
   "metadata": {
    "deletable": false,
    "editable": true
   },
   "source": [
    "**Conseil :**\n",
    "> Pensez à une structure de données qui permet de stocker des données de différents types. Nous pouvons définir une énumération dont les variantes contiennent les différents types de valeurs ; toutes les variantes de l'énumération auront alors le même type : celui de l'énumération. Nous pouvons ensuite créer un vecteur qui contient cette énumération et donc des types différents. "
   ]
  },
  {
   "cell_type": "markdown",
   "metadata": {
    "deletable": false,
    "editable": true
   },
   "source": [
    "**Solution:**"
   ]
  },
  {
   "cell_type": "code",
   "execution_count": null,
   "metadata": {
    "deletable": false,
    "editable": true,
    "hide_input": true
   },
   "outputs": [],
   "source": [
    "fn main() {\n",
    "    enum SpreadsheetCell {\n",
    "        Int(i32),\n",
    "        Float(f64),\n",
    "        Text(String),\n",
    "    }\n",
    "\n",
    "    let row = vec![\n",
    "        SpreadsheetCell::Int(3),\n",
    "        SpreadsheetCell::Text(String::from(\"blue\")),\n",
    "        SpreadsheetCell::Float(10.12),\n",
    "    ];\n",
    "}"
   ]
  },
  {
   "cell_type": "markdown",
   "metadata": {
    "deletable": false,
    "editable": true
   },
   "source": [
    "**Exercice 2:** Écrivez une fonction qui calcule la plus grande valeur d'un vecteur d'éléments i32.\n",
    "> * N’oubliez pas de traiter le cas d’un vecteur vide !\n",
    "> * Proposez une version qui ne consomme pas le vecteur."
   ]
  },
  {
   "cell_type": "code",
   "execution_count": null,
   "metadata": {},
   "outputs": [],
   "source": [
    "// TO DO (1) Définir une fonction qui calcule la plus grande valeur\n",
    "\n",
    "fn main() {\n",
    "  // TO DO (2) Tester votre implémentation ici\n",
    "\n",
    "}\n",
    "main();"
   ]
  },
  {
   "cell_type": "markdown",
   "metadata": {
    "deletable": false,
    "editable": true
   },
   "source": [
    "**Conseil:**\n",
    ">  Utiliser la documentation pour identifier les méthodes implementées par le type std::vec::Vec : https://doc.rust-lang.org/std/vec/struct.Vec.html"
   ]
  },
  {
   "cell_type": "markdown",
   "metadata": {
    "deletable": false,
    "editable": true
   },
   "source": [
    "**Solution:**"
   ]
  },
  {
   "cell_type": "code",
   "execution_count": null,
   "metadata": {
    "deletable": false,
    "editable": true,
    "hide_input": true
   },
   "outputs": [],
   "source": [
    "/// Gets the largest of the vector and consume the vector\n",
    "fn into_largest(list: Vec<i32>) -> Option<i32> {\n",
    "    let mut result = None;\n",
    "    for value in list.into_iter() {\n",
    "        result = match result {\n",
    "            None => Some(value),\n",
    "            Some(previous) => Some(value.max(previous))\n",
    "        };\n",
    "    }\n",
    "    result\n",
    "}\n",
    "\n",
    "/// Gets the largest of the slice, but do not consume it\n",
    "fn largest_of(list: &[i32]) -> Option<i32> {\n",
    "    let mut result = None;\n",
    "    for &value in list.iter() {\n",
    "        result = match result {\n",
    "            None => Some(value),\n",
    "            Some(previous) => Some(value.max(previous))\n",
    "        };\n",
    "    }\n",
    "    result\n",
    "}\n",
    "\n",
    "/// Gets the largest of the slice, but do not consume it\n",
    "fn largest_of_idiomatic(list: &[i32]) -> Option<i32> {\n",
    "    list.iter().copied().max()\n",
    "}\n",
    "\n",
    "fn main() {\n",
    "    let input = vec![10,2,3,4];\n",
    "    let a = largest_of(&input);\n",
    "    let b = into_largest(input); // consume input\n",
    "\n",
    "    println!(\"largest_of   says: {:?}\", a);\n",
    "    println!(\"into_largest says: {:?}\", b);\n",
    "}\n",
    "\n",
    "main();"
   ]
  },
  {
   "cell_type": "markdown",
   "metadata": {
    "deletable": false,
    "editable": true
   },
   "source": [
    "**Exercice 3:** Définir une structure `GeoPolygon` avec le champs `ring` qui représente une liste de sommets de type `GeoCoordinate`. Implémenter la méthode `bound` qui retourne un `GeoBoundingBox` représentant les min et max des latitudes et des longitudes du polygone. Utiliser les structures `GeoCoordinate` et `GeoBoundingBox` définies précédemment (dans le module Structures)."
   ]
  },
  {
   "cell_type": "markdown",
   "metadata": {
    "deletable": false,
    "editable": true
   },
   "source": [
    "Exemple de coordonnées pour test :\n",
    "\n",
    "        GeoCoordinate {\n",
    "            latitude: 46.0,\n",
    "            longitude: 2.0\n",
    "        },\n",
    "        GeoCoordinate {\n",
    "            latitude: 47.0,\n",
    "            longitude: 2.0\n",
    "        },\n",
    "        GeoCoordinate {\n",
    "            latitude: 47.0,\n",
    "            longitude: 3.0\n",
    "        },\n",
    "        GeoCoordinate {\n",
    "            latitude: 46.0,\n",
    "            longitude: 3.0\n",
    "        }"
   ]
  },
  {
   "cell_type": "code",
   "execution_count": null,
   "metadata": {},
   "outputs": [],
   "source": [
    "#[derive(Debug)]\n",
    "struct GeoCoordinate {\n",
    "    /// La latitude\n",
    "    latitude: f64,\n",
    "    /// La longitude\n",
    "    longitude: f64\n",
    "}\n",
    "\n",
    "#[derive(Debug)]\n",
    "struct GeoBoundingBox {\n",
    "    /// Le point ayant les coordonnées minimales\n",
    "    min: GeoCoordinate,\n",
    "    /// Le point ayant les coordonnées maximales\n",
    "    max: GeoCoordinate\n",
    "}\n",
    "\n",
    "struct GeoPolygon {\n",
    "    /// TO DO (1) Définir l'anneau du polygone\n",
    "    ring: \n",
    "    // TO DO (2) Implémenter la méthode bound qui retourne un GeoBoundingBox\n",
    "}"
   ]
  },
  {
   "cell_type": "markdown",
   "metadata": {
    "deletable": false,
    "editable": true
   },
   "source": [
    "**Solution:**"
   ]
  },
  {
   "cell_type": "code",
   "execution_count": null,
   "metadata": {
    "deletable": false,
    "editable": true,
    "hide_input": true
   },
   "outputs": [],
   "source": [
    "#[derive(Debug)]\n",
    "struct GeoCoordinate {\n",
    "    /// The latitude\n",
    "    latitude: f64,\n",
    "    /// The longitude\n",
    "    longitude: f64\n",
    "}\n",
    "\n",
    "#[derive(Debug)]\n",
    "struct GeoBoundingBox {\n",
    "    /// The point with the minimal coordinates for this bounding box\n",
    "    min: GeoCoordinate,\n",
    "    /// The point with the maximal coordinates for this bounding box\n",
    "    max: GeoCoordinate\n",
    "}\n",
    "\n",
    "#[derive(Debug)]\n",
    "struct GeoPolygon {\n",
    "    /// The ring of this polygon\n",
    "    ring: Vec<GeoCoordinate>\n",
    "}\n",
    "\n",
    "impl GeoPolygon {\n",
    "    // Gets the bounding box for a polygon\n",
    "    fn bounds(&self) -> GeoBoundingBox {\n",
    "        let mut min_lat = std::f64::MAX;\n",
    "        let mut max_lat = std::f64::MIN;\n",
    "        let mut min_lng = std::f64::MAX;\n",
    "        let mut max_lng = std::f64::MIN;\n",
    "        for point in self.ring.iter() {\n",
    "            if point.latitude < min_lat {\n",
    "                min_lat = point.latitude;\n",
    "            }\n",
    "            if point.latitude > max_lat {\n",
    "                max_lat = point.latitude;\n",
    "            }\n",
    "            if point.longitude < min_lng {\n",
    "                min_lng = point.longitude;\n",
    "            }\n",
    "            if point.longitude > max_lng {\n",
    "                max_lng = point.longitude;\n",
    "            }\n",
    "        }\n",
    "        GeoBoundingBox {\n",
    "            min: GeoCoordinate {\n",
    "                latitude: min_lat,\n",
    "                longitude: min_lng\n",
    "            },\n",
    "            max: GeoCoordinate {\n",
    "                latitude: max_lat,\n",
    "                longitude: max_lng\n",
    "            }\n",
    "        }\n",
    "    }\n",
    "}\n",
    "\n",
    "fn main() {\n",
    "    let ring = vec![GeoCoordinate {\n",
    "        latitude: 46.0,\n",
    "        longitude: 2.0\n",
    "    },\n",
    "    GeoCoordinate {\n",
    "        latitude: 47.0,\n",
    "        longitude: 2.0\n",
    "    },\n",
    "    GeoCoordinate {\n",
    "        latitude: 47.0,\n",
    "        longitude: 3.0\n",
    "    },\n",
    "    GeoCoordinate {\n",
    "        latitude: 46.0,\n",
    "        longitude: 3.0\n",
    "    }];\n",
    "    let polygon = GeoPolygon { ring };\n",
    "    let bounds = polygon.bounds();\n",
    "    println!(\"{:#?}\", &bounds);\n",
    "}\n",
    "main();"
   ]
  },
  {
   "cell_type": "markdown",
   "metadata": {
    "deletable": false,
    "editable": true
   },
   "source": [
    "Strings\n",
    "==="
   ]
  },
  {
   "cell_type": "markdown",
   "metadata": {
    "deletable": false,
    "editable": true
   },
   "source": [
    "Le type String, qui est fourni par la bibliothèque standard de Rust (et non pas codé dans le langage de base) est un type de chaîne de caractères codé en UTF-8, évolutif, mutable et \"owned\"."
   ]
  },
  {
   "cell_type": "code",
   "execution_count": null,
   "metadata": {
    "deletable": false,
    "editable": true
   },
   "outputs": [],
   "source": [
    "let mut s = String::new(); // créer un nouveau String"
   ]
  },
  {
   "cell_type": "code",
   "execution_count": null,
   "metadata": {
    "deletable": false,
    "editable": true
   },
   "outputs": [],
   "source": [
    "let data = \"initial contents\";\n",
    "\n",
    "let s = data.to_string();\n",
    "\n",
    "// la méthode marche aussi directement sur les littéraux :\n",
    "let s = \"initial contents\".to_string();\n"
   ]
  },
  {
   "cell_type": "code",
   "execution_count": null,
   "metadata": {
    "deletable": false,
    "editable": true
   },
   "outputs": [],
   "source": [
    "let s = String::from(\"initial contents\");"
   ]
  },
  {
   "cell_type": "markdown",
   "metadata": {
    "deletable": false,
    "editable": true
   },
   "source": [
    "> **Note:** La bibliothèque standard Rust contient d’autres types de chaînes de caractères : `OsString`, `OsStr`, `CString`, and `Cstr`. En plus, il existe des crates qui peuvent fournir davantage d’options. Remarquez les terminaisons *String* et *Str*. Elles font référence à des variantes \"owned\" ou \"borrowed\", tout comme les types `String` et `str`. Ces types proposent différentes possibilités d’encodage  et de représentation dans la mémoire."
   ]
  },
  {
   "cell_type": "code",
   "execution_count": null,
   "metadata": {
    "deletable": false,
    "editable": true
   },
   "outputs": [],
   "source": [
    "let mut s1 = String::from(\"foo\");\n",
    "let s2 = \"bar\";\n",
    "s1.push_str(s2);\n",
    "println!(\"s2 is {}, s1 is {}\", s2, s1);"
   ]
  },
  {
   "cell_type": "markdown",
   "metadata": {
    "deletable": false,
    "editable": true
   },
   "source": [
    "La méthode push prend un seul caractère en paramètre et il l’ajoute au String."
   ]
  },
  {
   "cell_type": "code",
   "execution_count": null,
   "metadata": {
    "deletable": false,
    "editable": true
   },
   "outputs": [],
   "source": [
    "let mut s = String::from(\"lo\");\n",
    "s.push('l');"
   ]
  },
  {
   "cell_type": "markdown",
   "metadata": {
    "deletable": false,
    "editable": true
   },
   "source": [
    "Concaténation de Strings\n",
    "---"
   ]
  },
  {
   "cell_type": "code",
   "execution_count": null,
   "metadata": {
    "deletable": false,
    "editable": true
   },
   "outputs": [],
   "source": [
    "let s1 = String::from(\"Hello, \");\n",
    "let s2 = String::from(\"world!\");\n",
    "let s3 = s1 + &s2; // note s1 has been moved here and can no longer be used"
   ]
  },
  {
   "cell_type": "markdown",
   "metadata": {
    "deletable": false,
    "editable": true
   },
   "source": [
    "Pour des combinaisons de plus compliquées, nous pouvons utiliser la macro **format!** :"
   ]
  },
  {
   "cell_type": "code",
   "execution_count": null,
   "metadata": {
    "deletable": false,
    "editable": true
   },
   "outputs": [],
   "source": [
    "let mut s1 = String::from(\"tic\");\n",
    "let s2 = String::from(\"tac\");\n",
    "let s3 = String::from(\"toe\");\n",
    "\n",
    "let s = format!(\"{}-{}-{}\", s1, s2, s3); // ne prend pas la propriété (ownership) de ses paramètres\n",
    "println!(\"{}\", s);\n",
    "\n",
    "s1.push_str(\"xx\");\n",
    "println!(\"{}\", s1);"
   ]
  },
  {
   "cell_type": "markdown",
   "metadata": {
    "deletable": false,
    "editable": true
   },
   "source": [
    "Représentation interne\n",
    "---"
   ]
  },
  {
   "cell_type": "markdown",
   "metadata": {
    "deletable": false,
    "editable": true
   },
   "source": [
    "Un String est un wrapper qui encapsule un Vec< u8 >. "
   ]
  },
  {
   "cell_type": "code",
   "execution_count": null,
   "metadata": {
    "deletable": false,
    "editable": true
   },
   "outputs": [],
   "source": [
    "let len = String::from(\"Hola\").len();\n",
    "println!(\"{}\",len);\n",
    "let len = String::from(\"Здравствуйте\").len();\n",
    "println!(\"{}\",len);"
   ]
  },
  {
   "cell_type": "markdown",
   "metadata": {
    "deletable": false,
    "editable": true
   },
   "source": [
    "Pour encoder “Здравствуйте” en UTF-8 on a besoin de 24 bytes parce que chaque valeur Unicode scalar dans cette chaîne prend 2 bytes. Un index sur les bytes de la chaîne n’est pas forcément corrélé à une valeur Unicode scalar valide. Pour cette raison, l’indexation des String n’est pas une opération valide."
   ]
  },
  {
   "cell_type": "code",
   "execution_count": null,
   "metadata": {
    "deletable": false,
    "editable": true
   },
   "outputs": [],
   "source": [
    "let hello = \"Здравствуйте\";\n",
    "let answer = &hello[0]; // error"
   ]
  },
  {
   "cell_type": "markdown",
   "metadata": {
    "deletable": false,
    "editable": true
   },
   "source": [
    "Slice sur les Strings\n",
    "---"
   ]
  },
  {
   "cell_type": "markdown",
   "metadata": {
    "deletable": false,
    "editable": true
   },
   "source": [
    "Pour récupérer un slice, plutôt que d’utiliser la syntaxe [] avec un nombre, on utilise []  un intervalle et on sélectionne les bytes qui nous intéressent :\n"
   ]
  },
  {
   "cell_type": "code",
   "execution_count": null,
   "metadata": {
    "deletable": false,
    "editable": true
   },
   "outputs": [],
   "source": [
    "let hello = \"Здравствуйте\";\n",
    "\n",
    "let s = &hello[0..4];\n",
    "println!(\"s: {}\", s);"
   ]
  },
  {
   "cell_type": "markdown",
   "metadata": {
    "deletable": false,
    "editable": true
   },
   "source": [
    "Itération sur les Strings\n",
    "---"
   ]
  },
  {
   "cell_type": "code",
   "execution_count": null,
   "metadata": {
    "deletable": false,
    "editable": true
   },
   "outputs": [],
   "source": [
    "for c in \"नमस्ते\".chars() { // chaque itération retourne une valeur de type caractère (char)\n",
    "    println!(\"{}\", c);\n",
    "}\n",
    "let text = \"नमस्ते\";\n",
    "println!(\"First char {:?}\", text.chars().nth(0));"
   ]
  },
  {
   "cell_type": "code",
   "execution_count": null,
   "metadata": {
    "deletable": false,
    "editable": true
   },
   "outputs": [],
   "source": [
    "for b in \"नमस्ते\".bytes() { // chaque itération retourne un raw byte\n",
    "    println!(\"{}\", b);\n",
    "}\n",
    "let bb: std::str::Bytes = \"नमस्ते\".bytes();"
   ]
  },
  {
   "cell_type": "markdown",
   "metadata": {
    "deletable": false,
    "editable": true
   },
   "source": [
    "Exercices\n",
    "---"
   ]
  },
  {
   "cell_type": "markdown",
   "metadata": {
    "deletable": false,
    "editable": true
   },
   "source": [
    "**Exercice 1:** Ecrivez un petit programme qui vérifie si un mot est un palindrome."
   ]
  },
  {
   "cell_type": "code",
   "execution_count": null,
   "metadata": {},
   "outputs": [],
   "source": [
    "fn main() {\n",
    "    \n",
    "}\n",
    "main();"
   ]
  },
  {
   "cell_type": "markdown",
   "metadata": {
    "deletable": false,
    "editable": true
   },
   "source": [
    "> **Conseil:** Consulter le manuel pour comprendre le fonctionnement de *Iterator* et de sa méthode *nth*. ( https://doc.rust-lang.org/std/iter/trait.Iterator.html ) ; utiliser un itérateur sur les bytes ou sur les caractères."
   ]
  },
  {
   "cell_type": "markdown",
   "metadata": {
    "deletable": false,
    "editable": true
   },
   "source": [
    "**Solution:**"
   ]
  },
  {
   "cell_type": "code",
   "execution_count": null,
   "metadata": {
    "deletable": false,
    "editable": true,
    "hide_input": true
   },
   "outputs": [],
   "source": [
    "fn palindrome(s: String) -> bool {\n",
    "    let len = s.len();\n",
    "    if len == 0 {return true;}\n",
    "    let mut i = 0;\n",
    "    for c in s.chars() {\n",
    "        match s.chars().nth(len-i-1) {\n",
    "            Some(value) => {if value != c { return false;}},\n",
    "            None => break,\n",
    "        }\n",
    "        i += 1;\n",
    "    } \n",
    "    return true\n",
    "}\n",
    "\n",
    "fn palindrome_idiomatic(text: &str) -> bool {\n",
    "    text\n",
    "        .chars()\n",
    "        .zip(text.chars().rev())\n",
    "        .all(|(a, b)| a == b)\n",
    "}\n",
    "\n",
    "fn main() {\n",
    "    let word = String::from(\"abccba\");\n",
    "    let another_word = String::from(\"abcccca\");\n",
    "    let empty_word = String::from(\"\");\n",
    "    match palindrome_idiomatic(&another_word) {\n",
    "        true => println!(\"The word is a palindrome\"),\n",
    "        false => println!(\"The word is not a palindrome\"),\n",
    "    }\n",
    "}\n",
    "main();"
   ]
  },
  {
   "cell_type": "markdown",
   "metadata": {
    "deletable": false,
    "editable": true
   },
   "source": [
    "Hash map\n",
    "==="
   ]
  },
  {
   "cell_type": "markdown",
   "metadata": {
    "deletable": false,
    "editable": true
   },
   "source": [
    "Le type `HashMap< K, V >` stocke une correspondance entre clés de type `K` et valeurs de type `V`. Ceci se fait via une fonction de hachage, qui détermine comment placer ces clés et valeurs en mémoire. Les hash maps sont utiles lorsqu’on recherche des données non pas en utilisant un index (comme avec des vecteurs), mais en utilisant une clé qui peut être de n'importe quel type. "
   ]
  },
  {
   "cell_type": "markdown",
   "metadata": {
    "deletable": false,
    "editable": true
   },
   "source": [
    "Créer une hash map\n",
    "---"
   ]
  },
  {
   "cell_type": "code",
   "execution_count": null,
   "metadata": {
    "deletable": false,
    "editable": true
   },
   "outputs": [],
   "source": [
    "use std::collections::HashMap;\n",
    "fn main()\n",
    "{\n",
    "    let mut scores = HashMap::new();\n",
    "    scores.insert(String::from(\"Blue\"), 10);\n",
    "    scores.insert(String::from(\"Yellow\"), 50);\n",
    "    println!(\"Scores: {:?}\", scores);\n",
    "}\n",
    "main();"
   ]
  },
  {
   "cell_type": "markdown",
   "metadata": {
    "deletable": false,
    "editable": true
   },
   "source": [
    "Une autre façon de construire une hash map consiste à utiliser la méthode **`collect`** sur un vecteur de tuples, où chaque tuple est constitué d'une clé et de sa valeur."
   ]
  },
  {
   "cell_type": "code",
   "execution_count": null,
   "metadata": {
    "deletable": false,
    "editable": true
   },
   "outputs": [],
   "source": [
    "use std::collections::HashMap;\n",
    "fn main()\n",
    "{\n",
    "    let teams  = vec![String::from(\"Blue\"), String::from(\"Yellow\")];\n",
    "    let initial_scores = vec![10, 50];\n",
    "    let scores: HashMap<_, _> = teams.iter().zip(initial_scores.iter()).collect();\n",
    "    println!(\"Scores: {:?}\", scores);\n",
    "}\n",
    "main();"
   ]
  },
  {
   "cell_type": "markdown",
   "metadata": {
    "deletable": false,
    "editable": true
   },
   "source": [
    "Hash map et ownership\n",
    "---"
   ]
  },
  {
   "cell_type": "markdown",
   "metadata": {
    "deletable": false,
    "editable": true
   },
   "source": [
    "Pour les types qui implémentent le trait `Copy`, comme `i32`, les valeurs sont copiées dans la hash map. Pour les valeurs \"owned\" comme `String`, les valeurs sont déplacées et la hash map devient le propriétaire (owner) de ces valeurs :"
   ]
  },
  {
   "cell_type": "code",
   "execution_count": null,
   "metadata": {
    "deletable": false,
    "editable": true
   },
   "outputs": [],
   "source": [
    "use std::collections::HashMap;\n",
    "\n",
    "fn main() {\n",
    "    let field_name = String::from(\"Favorite color\");\n",
    "    let field_value = String::from(\"Blue\");\n",
    "\n",
    "    let mut map = HashMap::new();\n",
    "    map.insert(field_name, field_value);\n",
    "    // field_name et field_value sont invalides à ce moment là, \n",
    "    // testez et vérifier l'erreur !\n",
    "    println!(\"Field name: {}\", field_name);\n",
    "}\n",
    "main();"
   ]
  },
  {
   "cell_type": "markdown",
   "metadata": {
    "deletable": false,
    "editable": true
   },
   "source": [
    "**Conclusion:** Si nous insérons des références à des valeurs dans la hash map, les valeurs ne seront pas déplacées dans la hash map. Les valeurs auxquelles les références renvoient doivent être valables au moins aussi longtemps que la table de hachage. "
   ]
  },
  {
   "cell_type": "markdown",
   "metadata": {
    "deletable": false,
    "editable": true
   },
   "source": [
    "Accès aux valeurs\n",
    "---"
   ]
  },
  {
   "cell_type": "markdown",
   "metadata": {
    "deletable": false,
    "editable": true
   },
   "source": [
    "Pour obtenir une valeur de la hash map on fournit sa clé à la méthode `get`. Consultez la documentation pour voir la définition de la méthode `get` : https://doc.rust-lang.org/std/collections/struct.HashMap.html#method.get"
   ]
  },
  {
   "cell_type": "code",
   "execution_count": null,
   "metadata": {
    "deletable": false,
    "editable": true
   },
   "outputs": [],
   "source": [
    "use std::collections::HashMap;\n",
    "\n",
    "fn main() {\n",
    "    let mut scores = HashMap::new();\n",
    "\n",
    "    scores.insert(String::from(\"Blue\"), 10);\n",
    "    scores.insert(String::from(\"Yellow\"), 50);\n",
    "\n",
    "    let team_name = String::from(\"Blue\");\n",
    "    let score = scores.get(&team_name);\n",
    "    match score {\n",
    "        Some(&value) =>  println!(\"The score for the {} team is {}\", team_name, value),\n",
    "        None => (),\n",
    "    }\n",
    "}\n",
    "main();"
   ]
  },
  {
   "cell_type": "markdown",
   "metadata": {
    "deletable": false,
    "editable": true
   },
   "source": [
    "On peut itérer sur une paire clé/valeur de la hash map en utilisant, comme pour les vecteurs, *for loop* :"
   ]
  },
  {
   "cell_type": "code",
   "execution_count": null,
   "metadata": {
    "deletable": false,
    "editable": true
   },
   "outputs": [],
   "source": [
    "use std::collections::HashMap;\n",
    "\n",
    "fn main() {\n",
    "    let mut scores = HashMap::new();\n",
    "\n",
    "    scores.insert(String::from(\"Blue\"), 10);\n",
    "    scores.insert(String::from(\"Yellow\"), 50);\n",
    "\n",
    "    for (key, value) in &scores {\n",
    "        println!(\"{}: {}\", key, value);\n",
    "    }\n",
    "}\n",
    "main();"
   ]
  },
  {
   "cell_type": "markdown",
   "metadata": {
    "deletable": false,
    "editable": true
   },
   "source": [
    "Mise à jour de la Hash Map\n",
    "---"
   ]
  },
  {
   "cell_type": "markdown",
   "metadata": {
    "deletable": false,
    "editable": true
   },
   "source": [
    "Si l’on essaye d’insérer dans la hash map une paire clé/valeur et que la clé existe déjà, l’ancienne valeur se trouvant à la même clé sera remplacée avec la nouvelle valeur."
   ]
  },
  {
   "cell_type": "code",
   "execution_count": null,
   "metadata": {
    "deletable": false,
    "editable": true
   },
   "outputs": [],
   "source": [
    "use std::collections::HashMap;\n",
    "\n",
    "fn main() {\n",
    "    let mut scores = HashMap::new();\n",
    "\n",
    "    scores.insert(String::from(\"Blue\"), 10);\n",
    "    scores.insert(String::from(\"Blue\"), 25);\n",
    "\n",
    "    println!(\"{:?}\", scores);\n",
    "}\n",
    "main();"
   ]
  },
  {
   "cell_type": "markdown",
   "metadata": {
    "deletable": false,
    "editable": true
   },
   "source": [
    "Il est courant de vérifier si une clé particulière a une valeur et, si ce n'est pas le cas, d'insérer une valeur. Le hash map a une API spéciale **`entry`** qui prend en paramètre la clé à vérifier. La valeur retournée est un enum appelée **`Entry`** qui représente une valeur qui peut exister ou pas. "
   ]
  },
  {
   "cell_type": "code",
   "execution_count": null,
   "metadata": {
    "deletable": false,
    "editable": true
   },
   "outputs": [],
   "source": [
    "use std::collections::HashMap;\n",
    "\n",
    "fn main() {\n",
    "    let mut scores = HashMap::new();\n",
    "    scores.insert(String::from(\"Blue\"), 10);\n",
    "\n",
    "    scores.entry(String::from(\"Yellow\")).or_insert(50);\n",
    "    scores.entry(String::from(\"Blue\")).or_insert(50);\n",
    "\n",
    "    println!(\"{:?}\", scores);\n",
    "}\n",
    "main();"
   ]
  },
  {
   "cell_type": "markdown",
   "metadata": {
    "deletable": false,
    "editable": true
   },
   "source": [
    "La méthode `or_insert` de `Entry` retourne une référence mutable à la valeur qui correspond à la clé, si la clé existe. Si elle n’existe pas, le paramètre est inséré en tant que valeur associée à la clé et la méthode retourne une référence mutable vers la nouvelle valeur.\n",
    "\n",
    "Une autre opération fréquente sur les hash maps est de rechercher la valeur d’une clé et de la mettre à jour en fonction de l’ancienne valeur. "
   ]
  },
  {
   "cell_type": "markdown",
   "metadata": {
    "deletable": false,
    "editable": true
   },
   "source": [
    "Exercices\n",
    "---"
   ]
  },
  {
   "cell_type": "markdown",
   "metadata": {
    "deletable": false,
    "editable": true,
    "hide_input": true
   },
   "source": [
    "**Exercice 1 :** Écrire le code qui permet de calculer le nombre d’apparitions de chaque mot dans un texte."
   ]
  },
  {
   "cell_type": "markdown",
   "metadata": {
    "deletable": false,
    "editable": true
   },
   "source": [
    "> **Conseil :** Chercher la méthode *split_whitespace* dans la documentation. https://doc.rust-lang.org/std/primitive.str.html#method.split_whitespace"
   ]
  },
  {
   "cell_type": "code",
   "execution_count": null,
   "metadata": {},
   "outputs": [],
   "source": [
    "use std::collections::HashMap;\n",
    "\n",
    "fn main() {\n",
    "    let text = \"hello world wonderful world\";\n",
    "    // TO DO (1) Créer une hashmap nommée \"map\"\n",
    "    // TO DO (1) Itérer sur les mots\n",
    "    // TO DO (2) Calculer le nombre d'apparitions des mots\n",
    "    // TO DO (3) Afficher la hashmap avec le nombre d'apparitions pour chaque mot\n",
    "}\n",
    "main();"
   ]
  },
  {
   "cell_type": "markdown",
   "metadata": {
    "deletable": false,
    "editable": true
   },
   "source": [
    "**Solution:**"
   ]
  },
  {
   "cell_type": "code",
   "execution_count": null,
   "metadata": {
    "deletable": false,
    "editable": true,
    "hide_input": true
   },
   "outputs": [],
   "source": [
    "use std::collections::HashMap;\n",
    "\n",
    "fn main() {\n",
    "    let text = \"hello world wonderful world\";\n",
    "\n",
    "    let mut map = HashMap::new();\n",
    "\n",
    "    for word in text.split_whitespace() {\n",
    "        let count = map.entry(word).or_insert(0);\n",
    "        *count += 1;\n",
    "    }\n",
    "\n",
    "    println!(\"{:?}\", map);\n",
    "}\n",
    "main();"
   ]
  }
 ],
 "metadata": {
  "kernelspec": {
   "display_name": "Rust",
   "language": "rust",
   "name": "rust"
  },
  "language_info": {
   "codemirror_mode": "rust",
   "file_extension": ".rs",
   "mimetype": "text/rust",
   "name": "Rust",
   "pygment_lexer": "rust",
   "version": ""
  }
 },
 "nbformat": 4,
 "nbformat_minor": 2
}
