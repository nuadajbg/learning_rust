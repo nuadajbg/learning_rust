{
 "cells": [
  {
   "cell_type": "markdown",
   "metadata": {},
   "source": [
    "# Closures: Anonymous Functions that Can Capture Their Environment\n"
   ]
  },
  {
   "cell_type": "markdown",
   "metadata": {},
   "source": [
    "Rust’s closures are anonymous functions you can save in a variable or pass as arguments to other functions. You can create the closure in one place and then call the closure to evaluate it in a different context."
   ]
  },
  {
   "cell_type": "markdown",
   "metadata": {},
   "source": [
    "The syntax and capabilities of closures make them very convenient for on the fly usage. Calling a closure is exactly like calling a function. However, both input and return types can be inferred and input variable names must be specified.\n",
    "\n",
    "Other characteristics of closures include:\n",
    "\n",
    "*   using `| |` instead of `()` around input variables.\n",
    "*   optional body delimination (`{}`) for a single expression (mandatory otherwise).\n",
    "*   the ability to capture the outer environment variables.\n"
   ]
  },
  {
   "cell_type": "code",
   "execution_count": null,
   "metadata": {
    "vscode": {
     "languageId": "rust"
    }
   },
   "outputs": [],
   "source": [
    "fn main() {\n",
    "    // Increment via closures and functions.\n",
    "    fn  function (i: i32) -> i32 { i + 1 }\n",
    "\n",
    "    // Closures are anonymous, here we are binding them to references\n",
    "    // Annotation is identical to function annotation but is optional\n",
    "    // as are the `{}` wrapping the body. These nameless functions\n",
    "    // are assigned to appropriately named variables.\n",
    "    let closure_annotated = |i: i32| -> i32 { i + 1 };\n",
    "    let closure_inferred  = |i     |          i + 1  ;\n",
    "\n",
    "    let i = 1;\n",
    "    println!(\"function: {}\", function(i));\n",
    "    println!(\"closure_annotated: {}\", closure_annotated(i));\n",
    "    println!(\"closure_inferred: {}\", closure_inferred(i));\n",
    "\n",
    "}\n",
    "main();"
   ]
  },
  {
   "cell_type": "markdown",
   "metadata": {},
   "source": [
    "Unlike functions, closures can capture values from the scope in which they’re defined."
   ]
  },
  {
   "cell_type": "code",
   "execution_count": null,
   "metadata": {
    "vscode": {
     "languageId": "rust"
    }
   },
   "outputs": [],
   "source": [
    "fn main() {\n",
    "    let value = 3;\n",
    "\n",
    "    let f = |x| x + value; // the closure here refers to value\n",
    "    println!(\"{}\", f(2));\n",
    "}\n",
    "main();"
   ]
  },
  {
   "cell_type": "markdown",
   "metadata": {},
   "source": [
    "By default, closures capture values as (immutable) references :"
   ]
  },
  {
   "cell_type": "code",
   "execution_count": null,
   "metadata": {
    "vscode": {
     "languageId": "rust"
    }
   },
   "outputs": [],
   "source": [
    "fn main() {\n",
    "    let value = String::from(\"Hello !\");\n",
    "    let tell = || { println!(\"{}\", value); };\n",
    "    tell();\n",
    "    println!(\"value is still here: {}\", value);\n",
    "}\n",
    "main();"
   ]
  },
  {
   "cell_type": "markdown",
   "metadata": {},
   "source": [
    "Closures can also capture mutable references, by marking the variable that owns the closure as mutable :"
   ]
  },
  {
   "cell_type": "code",
   "execution_count": null,
   "metadata": {
    "vscode": {
     "languageId": "rust"
    }
   },
   "outputs": [],
   "source": [
    "fn main() {\n",
    "    let mut value = 0;\n",
    "    {\n",
    "        let mut inc = || { value += 1; };\n",
    "        inc();\n",
    "    }\n",
    "    println!(\"value = {}\", value);\n",
    "}\n",
    "main();"
   ]
  },
  {
   "cell_type": "markdown",
   "metadata": {},
   "source": [
    "The borrow-checker ensures the safety of the mutable references even for closures. In the code above, remove the inner block to put all statements into the block of the `main` function and see what happens."
   ]
  },
  {
   "cell_type": "markdown",
   "metadata": {},
   "source": [
    "Sometimes it is useful for the closure to take ownership of its environment. For this purpose, use the `move` keyword in the closure definition. This will mean that the closure takes ownership and moves all the data it refers to :"
   ]
  },
  {
   "cell_type": "code",
   "execution_count": null,
   "metadata": {
    "vscode": {
     "languageId": "rust"
    }
   },
   "outputs": [],
   "source": [
    "fn main() {\n",
    "    let a = String::from(\"Hello \");\n",
    "    let b = String::from(\"World !\");\n",
    "    let tell = move || { print!(\"{}\", a); }; // here a is moved to the closure\n",
    "\n",
    "    tell();\n",
    "    println!(\"{}\", b); // this is OK\n",
    "    // println!(\"{}\", a); // this is an error\n",
    "}\n",
    "main();"
   ]
  },
  {
   "cell_type": "markdown",
   "metadata": {},
   "source": [
    "Closures don’t require you to annotate the types of the parameters or the return value like fn functions do. Closure definitions will have one concrete type inferred for each of their parameters and for their return value. "
   ]
  },
  {
   "cell_type": "code",
   "execution_count": null,
   "metadata": {
    "vscode": {
     "languageId": "rust"
    }
   },
   "outputs": [],
   "source": [
    "fn generate_workout(intensity: u32, random_number: u32) {\n",
    "    let expensive_closure = |num| {\n",
    "        println!(\"calculating slowly...\");\n",
    "        // do something here that takes time to execute\n",
    "        num\n",
    "    };\n",
    "\n",
    "    if intensity < 25 {\n",
    "        println!(\n",
    "            \"Today, do {} pushups!\",\n",
    "            expensive_closure(intensity)\n",
    "        );\n",
    "        println!(\n",
    "            \"Next, do {} situps!\",\n",
    "            expensive_closure(intensity)\n",
    "        );\n",
    "    } else {\n",
    "        if random_number == 3 {\n",
    "            println!(\"Take a break today! Remember to stay hydrated!\");\n",
    "        } else {\n",
    "            println!(\n",
    "                \"Today, run for {} minutes!\",\n",
    "                expensive_closure(intensity)\n",
    "            );\n",
    "        }\n",
    "    }\n",
    "}"
   ]
  },
  {
   "cell_type": "markdown",
   "metadata": {},
   "source": [
    "Storing closures using generic parameters and the `Fn` traits\n",
    "---"
   ]
  },
  {
   "cell_type": "markdown",
   "metadata": {},
   "source": [
    "Notice that in the previous code, the expensive_closure, will be executed more times than needed, which takes even more time. \n",
    "\n",
    "To avoid this, we can create a struct that will hold the closure and the resulting value of calling the closure. The struct will execute the closure only if we need the resulting value, and it will cache the resulting value so the rest of our code doesn’t have to be responsible for saving and reusing the result. You may know this pattern as **memoization** or **lazy evaluation**.\n",
    "\n",
    "To define structs, enums, or function parameters that use closures, we use generics and trait bounds.\n",
    "\n",
    "All closures implement at least one of the traits: **`Fn`**, **`FnMut`**, or **`FnOnce`**. The **`Fn`** traits are provided by the standard library. "
   ]
  },
  {
   "cell_type": "code",
   "execution_count": null,
   "metadata": {
    "vscode": {
     "languageId": "rust"
    }
   },
   "outputs": [],
   "source": [
    "// the Cacher struct holds a closure and an optional result value\n",
    "struct Cacher<T>\n",
    "    where T: Fn(u32) -> u32\n",
    "{\n",
    "    calculation: T,\n",
    "    value: Option<u32>,\n",
    "}\n",
    "\n",
    "impl<T> Cacher<T>\n",
    "    where T: Fn(u32) -> u32\n",
    "{\n",
    "    fn new(calculation: T) -> Cacher<T> {\n",
    "        Cacher {\n",
    "            calculation,\n",
    "            value: None,\n",
    "        }\n",
    "    }\n",
    "\n",
    "    fn value(&mut self, arg: u32) -> u32 {\n",
    "        match self.value {\n",
    "            Some(v) => v,\n",
    "            None => {\n",
    "                let v = (self.calculation)(arg);\n",
    "                self.value = Some(v);\n",
    "                v\n",
    "            },\n",
    "        }\n",
    "    }\n",
    "}"
   ]
  },
  {
   "cell_type": "markdown",
   "metadata": {},
   "source": [
    "The `Cacher` struct has a calculation field of the generic type `T`. The trait bounds on `T` specify that it’s a closure by using the `Fn` trait. Any closure we want to store in the calculation field must have one `u32` parameter (specified within the parentheses after `Fn`) and must return a `u32` (specified after the `->`)."
   ]
  },
  {
   "cell_type": "markdown",
   "metadata": {},
   "source": [
    "Before we execute the closure, value will be `None`. When code using a `Cacher` asks for the result of the closure, the `Cacher` will execute the closure at that time and store the result within a `Some` variant in the value field. Then if the code asks for the result of the closure again, instead of executing the closure again, the `Cacher` will return the result held in the `Some` variant."
   ]
  },
  {
   "cell_type": "markdown",
   "metadata": {},
   "source": [
    "> **Note:** Functions can implement all three of the `Fn` traits too. If what we want to do doesn’t require capturing a value from the environment, we can use a function rather than a closure where we need something that implements an `Fn` trait."
   ]
  },
  {
   "cell_type": "code",
   "execution_count": null,
   "metadata": {
    "vscode": {
     "languageId": "rust"
    }
   },
   "outputs": [],
   "source": [
    "struct Cacher<T>\n",
    "    where T: Fn(u32) -> u32\n",
    "{\n",
    "    calculation: T,\n",
    "    value: Option<u32>,\n",
    "}\n",
    "\n",
    "impl<T> Cacher<T>\n",
    "    where T: Fn(u32) -> u32\n",
    "{\n",
    "    fn new(calculation: T) -> Cacher<T> {\n",
    "        Cacher {\n",
    "            calculation,\n",
    "            value: None,\n",
    "        }\n",
    "    }\n",
    "\n",
    "    fn value(&mut self, arg: u32) -> u32 {\n",
    "        match self.value {\n",
    "            Some(v) => v,\n",
    "            None => {\n",
    "                let v = (self.calculation)(arg);\n",
    "                self.value = Some(v);\n",
    "                v\n",
    "            },\n",
    "        }\n",
    "    }\n",
    "}\n",
    "\n",
    "fn generate_workout(intensity: u32, random_number: u32) {\n",
    "    // using the Cacher struct\n",
    "    let mut expensive_result = Cacher::new(|num| {\n",
    "        println!(\"calculating slowly...\");\n",
    "        // do something here that takes time\n",
    "        num\n",
    "    });\n",
    "\n",
    "    if intensity < 25 {\n",
    "        println!(\n",
    "            \"Today, do {} pushups!\",\n",
    "            expensive_result.value(intensity)\n",
    "        );\n",
    "        println!(\n",
    "            \"Next, do {} situps!\",\n",
    "            expensive_result.value(intensity)\n",
    "        );\n",
    "    } else {\n",
    "        if random_number == 3 {\n",
    "            println!(\"Take a break today! Remember to stay hydrated!\");\n",
    "        } else {\n",
    "            println!(\n",
    "                \"Today, run for {} minutes!\",\n",
    "                expensive_result.value(intensity)\n",
    "            );\n",
    "        }\n",
    "    }\n",
    "}\n",
    "\n",
    "fn main()\n",
    "{\n",
    "    let mut c = Cacher::new(|a| a);\n",
    "\n",
    "    let v1 = c.value(1);\n",
    "    generate_workout(v1, 7);\n",
    "\n",
    "}\n",
    "main();"
   ]
  },
  {
   "cell_type": "markdown",
   "metadata": {},
   "source": [
    "Instead of saving the closure in a variable directly, we save a new instance of `Cacher` that holds the closure. Then, in each place we want the result, we call the value method on the `Cacher` instance. We can call the value method as many times as we want, or not call it at all, and the expensive calculation will be run a maximum of once."
   ]
  },
  {
   "cell_type": "markdown",
   "metadata": {},
   "source": [
    "There are some limitations of this implementation: it assumes it will always get the same value for the parameter `arg` to the value method, and it only accepts closures that take one parameter of type `u32` and return a `u32`. To solve this issue, generic parameters need to be used."
   ]
  },
  {
   "cell_type": "markdown",
   "metadata": {},
   "source": [
    "Capturing the environment with closures\n",
    "---"
   ]
  },
  {
   "cell_type": "markdown",
   "metadata": {},
   "source": [
    "Closures can capture values from their environment in three ways, which directly map to the three ways a function can take a parameter: taking ownership, borrowing mutably, and borrowing immutably. These are encoded in the three `Fn` traits as follows:\n",
    "\n",
    "* `FnOnce` consumes the variables it captures from its enclosing scope, known as the *closure’s environment*. To consume the captured variables, the closure must take ownership of these variables and move them into the closure when it is defined. The Once part of the name represents the fact that the closure can’t take ownership of the same variables more than once, so it can be called only once.\n",
    "* `FnMut` can change the environment because it mutably borrows values.\n",
    "* `Fn` borrows values from the environment immutably.\n"
   ]
  }
 ],
 "metadata": {
  "kernelspec": {
   "display_name": "Rust",
   "language": "rust",
   "name": "rust"
  },
  "language_info": {
   "codemirror_mode": "rust",
   "file_extension": ".rs",
   "mimetype": "text/rust",
   "name": "Rust",
   "pygment_lexer": "rust",
   "version": ""
  }
 },
 "nbformat": 4,
 "nbformat_minor": 2
}
