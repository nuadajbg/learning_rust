{
 "cells": [
  {
   "cell_type": "markdown",
   "metadata": {},
   "source": [
    "# Handling potential failure with the *Result* type"
   ]
  },
  {
   "cell_type": "code",
   "execution_count": null,
   "metadata": {},
   "outputs": [
    {
     "name": "stdout",
     "output_type": "stream",
     "text": [
      "Guess the number!\n",
      "Please input your guess.\n"
     ]
    }
   ],
   "source": [
    "use std::io;\n",
    "\n",
    "fn main() {\n",
    "    println!(\"Guess the number!\");\n",
    "\n",
    "    println!(\"Please input your guess.\");\n",
    "\n",
    "    let mut guess = String::new();\n",
    "\n",
    "    io::stdin().read_line(&mut guess)\n",
    "        .expect(\"Failed to read line\");\n",
    "\n",
    "    println!(\"You guessed: {}\", guess);\n",
    "}\n",
    "main();"
   ]
  },
  {
   "cell_type": "markdown",
   "metadata": {},
   "source": [
    "> Note: Executing the cell above will hang the kernel, restart it with the menu Kernel/restart\n",
    "\n",
    "`read_line` puts what the user types into the string we’re passing it, but it also returns a value — in this case, an `io::Result`. Rust has a number of types named `Result` in its standard library: a generic `Result` as well as specific versions for submodules, such as `io::Result`.\n",
    "\n",
    "The `Result` types are enumerations with two variants:  **`Ok`** or **`Err`**. The `Ok` variant indicates the operation was successful, and inside `Ok` is the successfully generated value. The `Err` variant means the operation failed, and `Err` contains information about how or why the operation failed."
   ]
  },
  {
   "cell_type": "markdown",
   "metadata": {},
   "source": [
    "An instance of `io::Result` has an `expect` method that you can call. If this instance of `io::Result` is an `Err` value, `expect` will cause the program to crash and display the message that you passed as an argument to `expect`.\n",
    "\n",
    "If this instance of `io::Result` is an `Ok` value, `expect` will take the inner value that `Ok` is holding and return just that value to you so you can use it. In this case, that value is the number of bytes in what the user entered into standard input."
   ]
  },
  {
   "cell_type": "code",
   "execution_count": null,
   "metadata": {},
   "outputs": [],
   "source": [
    "use std::fs::File;\n",
    "\n",
    "fn main() {\n",
    "    let f = File::open(\"hello.txt\");\n",
    "\n",
    "    let f = match f {\n",
    "        Ok(file) => file,\n",
    "        Err(error) => {\n",
    "            panic!(\"There was a problem opening the file: {:?}\", error)\n",
    "        },\n",
    "    };\n",
    "}\n",
    "main();"
   ]
  },
  {
   "cell_type": "markdown",
   "metadata": {},
   "source": [
    "Recoverable Errors with Result\n",
    "==="
   ]
  },
  {
   "cell_type": "markdown",
   "metadata": {},
   "source": [
    "Matching on Different Errors\n",
    "---"
   ]
  },
  {
   "cell_type": "code",
   "execution_count": 2,
   "metadata": {},
   "outputs": [],
   "source": [
    "use std::fs::File;\n",
    "use std::io::ErrorKind;\n",
    "\n",
    "fn main() {\n",
    "    let f = File::open(\"hello.txt\");\n",
    "\n",
    "    let f = match f {\n",
    "        Ok(file) => file,\n",
    "        Err(error) => match error.kind() {\n",
    "            ErrorKind::NotFound => match File::create(\"hello.txt\") {\n",
    "                Ok(fc) => fc,\n",
    "                Err(e) => panic!(\"Tried to create file but there was a problem: {:?}\", e),\n",
    "            },\n",
    "            other_error => panic!(\"There was a problem opening the file: {:?}\", other_error),\n",
    "        },\n",
    "    };\n",
    "}\n",
    "main();"
   ]
  },
  {
   "cell_type": "markdown",
   "metadata": {},
   "source": [
    "The type of the value that `File::open` returns inside the Err variant is **`io::Error`**, which is a struct provided by the standard library. This struct has a method kind that we can call to get an **`io::ErrorKind` value**. The enum `io::ErrorKind` is provided by the standard library and has variants representing the different kinds of errors that might result from an io operation. The variant we want to use is **`ErrorKind::NotFound`**, which indicates the file we’re trying to open doesn’t exist yet. Because `File::create` could also fail, we need a second arm in the inner match expression. "
   ]
  },
  {
   "cell_type": "markdown",
   "metadata": {},
   "source": [
    "Propagating errors\n",
    "---"
   ]
  },
  {
   "cell_type": "markdown",
   "metadata": {},
   "source": [
    "When you’re writing a function whose implementation calls something that might fail, instead of handling the error within this function, you can return the error to the calling code so that it can decide what to do. This is known as *propagating the error* and gives more control to the calling code, where there might be more information or logic that dictates how the error should be handled than what you have available in the context of your code."
   ]
  },
  {
   "cell_type": "code",
   "execution_count": 3,
   "metadata": {},
   "outputs": [],
   "source": [
    "use std::io;\n",
    "use std::io::Read;\n",
    "use std::fs::File;\n",
    "\n",
    "fn read_username_from_file() -> Result<String, io::Error> {\n",
    "    let f = File::open(\"hello.txt\");\n",
    "\n",
    "    let mut f = match f {\n",
    "        Ok(file) => file,\n",
    "        Err(e) => return Err(e),\n",
    "    };\n",
    "\n",
    "    let mut s = String::new();\n",
    "\n",
    "    match f.read_to_string(&mut s) { // read the content of the file into s\n",
    "        Ok(_) => Ok(s),\n",
    "        Err(e) => Err(e), //we don’t need to explicitly say return, because this is the last expression in the function\n",
    "    }\n",
    "}"
   ]
  },
  {
   "cell_type": "markdown",
   "metadata": {},
   "source": [
    "The function is returning a value of the type `Result< T, E >` where the generic parameter `T` has been filled in with the concrete type `String` and the generic type `E` has been filled in with the concrete type `io::Error`. If this function succeeds without any problems, the code that calls this function will receive an `Ok` value that holds a `String` — the username that this function read from the file. If this function encounters any problems, the code that calls this function will receive an `Err` value that holds an instance of `io::Error` that contains more information about what the problems were."
   ]
  },
  {
   "cell_type": "markdown",
   "metadata": {},
   "source": [
    "A shortcut for propagating Errors: the *?* Operator\n",
    "---"
   ]
  },
  {
   "cell_type": "markdown",
   "metadata": {},
   "source": [
    "The **`?`** placed after a `Result` value is defined to work in almost the same way as the match expressions. The difference is that the error values that have the `?` operator called on them go through the **`from`** function, defined in the **`From`** trait in the standard library, which is used to convert errors from one type into another.  \n",
    "\n",
    "When the `?` operator calls the `from` function, the error type received is converted into the error type defined in the return type of the current function. As long as each error type implements the from function to define how to convert itself to the returned error type, the `?` operator takes care of the conversion automatically."
   ]
  },
  {
   "cell_type": "code",
   "execution_count": 5,
   "metadata": {},
   "outputs": [],
   "source": [
    "use std::io;\n",
    "use std::io::Read;\n",
    "use std::fs::File;\n",
    "\n",
    "fn read_username_from_file() -> Result<String, io::Error> {\n",
    "    let mut s = String::new();\n",
    "\n",
    "    File::open(\"hello.txt\")?.read_to_string(&mut s)?;\n",
    "\n",
    "    Ok(s)\n",
    "}"
   ]
  },
  {
   "cell_type": "markdown",
   "metadata": {},
   "source": [
    "> Note : The `?` operator can only be used in functions that have a return type of Result."
   ]
  }
 ],
 "metadata": {
  "kernelspec": {
   "display_name": "Rust",
   "language": "rust",
   "name": "rust"
  },
  "language_info": {
   "codemirror_mode": "rust",
   "file_extension": ".rs",
   "mimetype": "text/rust",
   "name": "Rust",
   "pygment_lexer": "rust",
   "version": ""
  }
 },
 "nbformat": 4,
 "nbformat_minor": 2
}
