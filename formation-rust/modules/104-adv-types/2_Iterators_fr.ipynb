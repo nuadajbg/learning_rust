{
 "cells": [
  {
   "cell_type": "markdown",
   "metadata": {
    "deletable": false,
    "editable": true
   },
   "source": [
    "# Itérateurs"
   ]
  },
  {
   "cell_type": "markdown",
   "metadata": {
    "deletable": false,
    "editable": true
   },
   "source": [
    "Les itérateurs vous permettent d'effectuer une opération sur chacun des éléments d'une séquence.\n",
    "L'itérateur lui-même est responsable de la logique pour itérer et de déterminer quand la séquence se termine.\n",
    "\n",
    "En Rust, les itérateurs sont fainéants (*lazy*), ils n'ont pas d'effet à moins que vous n'appeliez une méthode qui consomme l'itérateur."
   ]
  },
  {
   "cell_type": "code",
   "execution_count": null,
   "metadata": {
    "deletable": false,
    "editable": true
   },
   "outputs": [],
   "source": [
    "fn main() {\n",
    "    let v1 = vec![1, 2, 3];\n",
    "\n",
    "    let v1_iter = v1.iter(); // création d'un itérateur\n",
    "}\n",
    "main();"
   ]
  },
  {
   "cell_type": "code",
   "execution_count": null,
   "metadata": {
    "deletable": false,
    "editable": true
   },
   "outputs": [],
   "source": [
    "fn main() {\n",
    "    let v1 = vec![1, 2, 3];\n",
    "\n",
    "    let v1_iter = v1.iter();\n",
    "\n",
    "    for val in v1_iter { // utilisation de l'itérateur\n",
    "        println!(\"Got: {}\", val);\n",
    "    }\n",
    "}\n",
    "main();"
   ]
  },
  {
   "cell_type": "markdown",
   "metadata": {
    "deletable": false,
    "editable": true
   },
   "source": [
    "La méthode `next` retourne un élément à la fois de l'itérateur, encapsulé dans la variante `Some` de `Option`. S'il n'y a plus d'éléments, `Option::None` est retourné."
   ]
  },
  {
   "cell_type": "code",
   "execution_count": null,
   "metadata": {
    "deletable": false,
    "editable": true
   },
   "outputs": [],
   "source": [
    "fn main() {\n",
    "    let v1 = vec![1, 2, 3];\n",
    "\n",
    "    let mut v1_iter = v1.iter();\n",
    "    match v1_iter.next() {\n",
    "        Some(&value) => println!(\"Vector element: {:?}\", value),\n",
    "        None => (),\n",
    "    }\n",
    "}\n",
    "main();"
   ]
  },
  {
   "cell_type": "markdown",
   "metadata": {
    "deletable": false,
    "editable": true
   },
   "source": [
    "Notez que les valeurs retournées par l'itérateur lors de l'appel à `next`, sont en fait des références non-mutables sur les valeurs du vecteur.\n",
    "La méthode `iter` produit un itérateur de références non-mutables.\n",
    "\n",
    "Si nous voulons créer un itérateur qui prend la propriété (*ownership*) de `v1` et retourne les valeurs à l'intérieur du vecteur, et non plus des références à celles-ci; il nous faut utiliser `into_iter`.\n",
    "\n",
    "De manière similaire, si nous voulons itérer sur des références mutables, il faut appeler la méthode `iter_mut` au lieu de `iter`."
   ]
  },
  {
   "cell_type": "markdown",
   "metadata": {
    "deletable": false,
    "editable": true
   },
   "source": [
    "Les méthodes qui appelent `next` sont appelées des adapteurs consommateurs (*consuming adaptors*) parce que les invoquer consomme l'itérateur.\n",
    "Un example est la méthode `sum` qui prend la propriété de l'itérateur et itère sur les éléments en appelant de manière répétée `next` afin de calculer la somme."
   ]
  },
  {
   "cell_type": "code",
   "execution_count": null,
   "metadata": {
    "deletable": false,
    "editable": true
   },
   "outputs": [],
   "source": [
    "fn main() {\n",
    "    let v1 = vec![1, 2, 3];\n",
    "\n",
    "    let v1_iter = v1.iter();\n",
    "\n",
    "    let total: i32 = v1_iter.sum(); // l'annotation de type est ici requise\n",
    "\n",
    "    println!(\"Total: {}\", total);\n",
    "}\n",
    "main();"
   ]
  },
  {
   "cell_type": "markdown",
   "metadata": {
    "deletable": false,
    "editable": true
   },
   "source": [
    "La méthode `any` est une méthode de l'itérateur qui prend une fonction en entré et retourne `true` si au moins un élément satisfait le prédicat représenté par la fonction passée."
   ]
  },
  {
   "cell_type": "code",
   "execution_count": null,
   "metadata": {
    "deletable": false,
    "editable": true
   },
   "outputs": [],
   "source": [
    "fn main() {\n",
    "    let vec1 = vec![1, 2, 3];\n",
    "    let vec2 = vec![4, 5, 6];\n",
    "\n",
    "    // `iter()` produit des `&i32`\n",
    "    println!(\"2 in vec1: {}\", vec1.iter().any(|&x| x == 2));\n",
    "    // `into_iter()` produit des `i32`\n",
    "    println!(\"2 in vec2: {}\", vec2.into_iter().any(|x| x == 2));\n",
    "}\n",
    "main();"
   ]
  },
  {
   "cell_type": "markdown",
   "metadata": {
    "deletable": false,
    "editable": true
   },
   "source": [
    "La méthode `find` des itérateurs prend également en entré une fonction et retourne le premier élément qui satisfait le prédicat représenté par la fonction, encapsulé dans une `Option`."
   ]
  },
  {
   "cell_type": "code",
   "execution_count": null,
   "metadata": {
    "deletable": false,
    "editable": true
   },
   "outputs": [],
   "source": [
    "fn main() {\n",
    "    let vec1 = vec![1, 2, 3];\n",
    "    let vec2 = vec![4, 5, 6];\n",
    "\n",
    "    // `iter()` produit des `&i32`.\n",
    "    let mut iter = vec1.iter();\n",
    "    // `into_iter()` produit des `i32`.\n",
    "    let mut into_iter = vec2.into_iter();\n",
    "\n",
    "    // Une référence vers le le produit de l'itérateur est `&&i32`. déstructure en `i32`.\n",
    "    println!(\"Find 2 in vec1: {:?}\", iter.find(|&&x| x == 2));\n",
    "    // Une référence vers le le produit de l'itérateur est `&i32`. déstructure to `i32`.\n",
    "    println!(\"Find 2 in vec2: {:?}\", into_iter.find(|&x| x == 2));\n",
    "}\n",
    "main();"
   ]
  },
  {
   "cell_type": "markdown",
   "metadata": {
    "deletable": false,
    "editable": true
   },
   "source": [
    "Méthodes qui produisent d'autres itérateurs\n",
    "---"
   ]
  },
  {
   "cell_type": "markdown",
   "metadata": {
    "deletable": false,
    "editable": true
   },
   "source": [
    "D'autres méthodes définies sur le trait `Iterator`, connues comme des adaptateurs (*iterator adaptors*), permettent de changer l'itérateur en un itérateur d'un autre type.\n",
    "Il est possible de chaîner ces méthodes pour réaliser des opérations complexes avec un code lisible.\n",
    "Comme tous ces itérateurs sont fainéants (*lazy*), il nous faut toujours appeler une méthode consommatrice à la fin pour récupérer le résultat."
   ]
  },
  {
   "cell_type": "markdown",
   "metadata": {
    "deletable": false,
    "editable": true
   },
   "source": [
    "__Adaptation avec `map`__"
   ]
  },
  {
   "cell_type": "code",
   "execution_count": null,
   "metadata": {
    "deletable": false,
    "editable": true
   },
   "outputs": [],
   "source": [
    "let v1: Vec<i32> = vec![1, 2, 3];\n",
    "\n",
    "let v: Vec<_> = v1.iter().map(|x| x + 1).collect();"
   ]
  },
  {
   "cell_type": "markdown",
   "metadata": {
    "deletable": false,
    "editable": true
   },
   "source": [
    "* La méthode `map` produit un itérateur dont les éléments sont ceux de l'itérateur original, transformés par la fonction passée à `map`.\n",
    "* La méthode `collect` consomme l'itérateur et collecte les éléments produits dans un vecteur.\n",
    "\n",
    "Dans cet exemple, le vecteur `v` contiendra tous les éléments du vecteur initial, incrémentés de 1."
   ]
  },
  {
   "cell_type": "markdown",
   "metadata": {
    "deletable": false,
    "editable": true
   },
   "source": [
    "La méthode `enumerate` produit un nouvel itérateur qui compte les éléments produits.\n",
    "Ce nouvel itérateur produit des tuples `(i, val)` où `i` est l'index d'itération et `val` est la valeur de l'itérateur original. https://doc.rust-lang.org/std/iter/trait.Iterator.html#method.enumerate"
   ]
  },
  {
   "cell_type": "code",
   "execution_count": null,
   "metadata": {
    "deletable": false,
    "editable": true
   },
   "outputs": [],
   "source": [
    "fn main() {\n",
    "    let a = ['a', 'b', 'c'];\n",
    "\n",
    "    for (index, element) in a.iter().enumerate() {\n",
    "        println!(\"L'élément à la position {} est {}\", index, element);\n",
    "    }\n",
    "}\n",
    "main();"
   ]
  },
  {
   "cell_type": "markdown",
   "metadata": {
    "deletable": false,
    "editable": true
   },
   "source": [
    "Exercises\n",
    "==="
   ]
  },
  {
   "cell_type": "markdown",
   "metadata": {
    "deletable": false,
    "editable": true
   },
   "source": [
    "**Exercise 1:** Ecrivez une méthode qui produit un vecteur de `GeoCoordinate` à partir d'un vecteur de latitudes et un vecteur de longitudes."
   ]
  },
  {
   "cell_type": "code",
   "execution_count": null,
   "metadata": {},
   "outputs": [],
   "source": [
    "#[derive(Debug)]\n",
    "struct GeoCoordinate {\n",
    "    /// The latitude\n",
    "    latitude: f64,\n",
    "    /// The longitude\n",
    "    longitude: f64\n",
    "}\n",
    "\n",
    "// Ecrivez une méthode qui produit un vecteur de GeoCoordinate\n",
    "// écrire une version avec enumerate, et une autre avec zip et map\n",
    "// essayer d'écrire une version en style impératif et une autre en style fonctionnel\n",
    "\n",
    "fn main() {\n",
    "    // TO DO (2) Testez vos implémentations\n",
    "\n",
    "}\n",
    "main();"
   ]
  },
  {
   "cell_type": "markdown",
   "metadata": {
    "deletable": false,
    "editable": true
   },
   "source": [
    "**Solution:**"
   ]
  },
  {
   "cell_type": "code",
   "execution_count": null,
   "metadata": {
    "deletable": false,
    "editable": true,
    "hide_input": true,
    "scrolled": false
   },
   "outputs": [],
   "source": [
    "#[derive(Debug)]\n",
    "struct GeoCoordinate {\n",
    "    /// The latitude\n",
    "    latitude: f64,\n",
    "    /// The longitude\n",
    "    longitude: f64\n",
    "}\n",
    "\n",
    "fn imperative(latitudes: &[f64], longitudes: &[f64]) -> Vec<GeoCoordinate> {\n",
    "    let mut points: Vec<GeoCoordinate> = Vec::new();\n",
    "    for (index, element) in latitudes.iter().enumerate() {\n",
    "        points.push(GeoCoordinate{latitude: *element, longitude: longitudes[index]});\n",
    "    }\n",
    "    points\n",
    "}\n",
    "\n",
    "fn functiona_bad(latitudes: &[f64], longitudes: &[f64]) -> Vec<GeoCoordinate> {\n",
    "    latitudes\n",
    "        .iter()\n",
    "        .enumerate()\n",
    "        .map(|(index, latitude)| GeoCoordinate {\n",
    "            latitude: *latitude,\n",
    "            longitude: longitudes[index]\n",
    "        })\n",
    "        .collect()\n",
    "}\n",
    "\n",
    "fn functional_idiomatic(latitudes: &[f64], longitudes: &[f64]) -> Vec<GeoCoordinate> {\n",
    "    latitudes\n",
    "        .iter()\n",
    "        .copied()\n",
    "        .zip(longitudes.iter().copied())\n",
    "        .map(|(latitude, longitude)| GeoCoordinate {\n",
    "            latitude,\n",
    "            longitude\n",
    "        })\n",
    "        .collect()\n",
    "}\n",
    "\n",
    "fn main() {\n",
    "    let latitudes = vec![1.0, 3.0, 5.0];\n",
    "    let longitudes = vec![2.0, 4.0, 6.0];\n",
    "    let result = functional_idiomatic(&latitudes, &longitudes); \n",
    "    println!(\"{:#?}\", result);\n",
    "}\n",
    "main();"
   ]
  }
 ],
 "metadata": {
  "kernelspec": {
   "display_name": "Rust",
   "language": "rust",
   "name": "rust"
  },
  "language_info": {
   "codemirror_mode": "rust",
   "file_extension": ".rs",
   "mimetype": "text/rust",
   "name": "Rust",
   "pygment_lexer": "rust",
   "version": ""
  }
 },
 "nbformat": 4,
 "nbformat_minor": 2
}
