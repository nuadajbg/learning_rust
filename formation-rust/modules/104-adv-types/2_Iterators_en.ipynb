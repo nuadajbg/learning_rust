{
 "cells": [
  {
   "cell_type": "markdown",
   "metadata": {},
   "source": [
    "# Iterators"
   ]
  },
  {
   "cell_type": "markdown",
   "metadata": {},
   "source": [
    "The iterator pattern allows you to perform some task on a sequence of items in turn. An iterator is responsible for the logic of iterating over each item and determining when the sequence has finished.  \n",
    "\n",
    "In Rust, iterators are lazy, meaning they have no effect until you call methods that consume the iterator to use it up. "
   ]
  },
  {
   "cell_type": "code",
   "execution_count": null,
   "metadata": {},
   "outputs": [],
   "source": [
    "fn main() {\n",
    "    let v1 = vec![1, 2, 3];\n",
    "\n",
    "    let v1_iter = v1.iter(); // creating an iterator\n",
    "}\n",
    "main();"
   ]
  },
  {
   "cell_type": "code",
   "execution_count": null,
   "metadata": {},
   "outputs": [],
   "source": [
    "fn main() {\n",
    "    let v1 = vec![1, 2, 3];\n",
    "\n",
    "    let v1_iter = v1.iter();\n",
    "\n",
    "    for val in v1_iter { // use the iterator\n",
    "        println!(\"Got: {}\", val);\n",
    "    }\n",
    "}\n",
    "main();"
   ]
  },
  {
   "cell_type": "markdown",
   "metadata": {},
   "source": [
    "The **`next`** method returns one item of the iterator at a time wrapped in *`Some`* and, when iteration is over, returns *`None`*."
   ]
  },
  {
   "cell_type": "code",
   "execution_count": null,
   "metadata": {},
   "outputs": [],
   "source": [
    "fn main() {\n",
    "    let v1 = vec![1, 2, 3];\n",
    "\n",
    "    let mut v1_iter = v1.iter();\n",
    "    match v1_iter.next() {\n",
    "        Some(&value) => println!(\"Vector element: {:?}\", value),\n",
    "        None => (),\n",
    "    }\n",
    "}\n",
    "main();"
   ]
  },
  {
   "cell_type": "markdown",
   "metadata": {},
   "source": [
    "Also note that the values we get from the calls to `next` are immutable references to the values in the vector. The `iter` method produces an iterator over immutable references.  \n",
    "\n",
    "If we want to create an iterator that takes ownership of v1 and returns owned values, we can call **`into_iter`** instead of `iter`. \n",
    "\n",
    "Similarly, if we want to iterate over mutable references, we can call **`iter_mut`** instead of `iter`."
   ]
  },
  {
   "cell_type": "markdown",
   "metadata": {},
   "source": [
    "Methods that call `next` are called consuming adaptors, because calling them uses up the iterator. One example is the **`sum`** method, which takes ownership of the iterator and iterates through the items by repeatedly calling `next`."
   ]
  },
  {
   "cell_type": "code",
   "execution_count": null,
   "metadata": {},
   "outputs": [],
   "source": [
    "fn main() {\n",
    "    let v1 = vec![1, 2, 3];\n",
    "\n",
    "    let v1_iter = v1.iter();\n",
    "\n",
    "    let total: i32 = v1_iter.sum(); // type annotation is mandatory\n",
    "\n",
    "    println!(\"Total: {}\", total);\n",
    "}\n",
    "main();"
   ]
  },
  {
   "cell_type": "markdown",
   "metadata": {},
   "source": [
    "**`Iterator::any`** is a function which when passed an iterator, will return `true` if any element satisfies the predicate. Otherwise `false`. "
   ]
  },
  {
   "cell_type": "code",
   "execution_count": null,
   "metadata": {},
   "outputs": [],
   "source": [
    "fn main() {\n",
    "    let vec1 = vec![1, 2, 3];\n",
    "    let vec2 = vec![4, 5, 6];\n",
    "\n",
    "    // `iter()` for vecs yields `&i32`\n",
    "    println!(\"2 in vec1: {}\", vec1.iter().any(|&x| x == 2));\n",
    "    // `into_iter()` for vecs yields `i32`\n",
    "    println!(\"2 in vec2: {}\", vec2.into_iter().any(|x| x == 2));\n",
    "}\n",
    "main();"
   ]
  },
  {
   "cell_type": "markdown",
   "metadata": {},
   "source": [
    "**`Iterator::find`** is a function which when passed an iterator, will return the first element which satisfies the predicate as an `Option`."
   ]
  },
  {
   "cell_type": "code",
   "execution_count": null,
   "metadata": {},
   "outputs": [],
   "source": [
    "fn main() {\n",
    "    let vec1 = vec![1, 2, 3];\n",
    "    let vec2 = vec![4, 5, 6];\n",
    "\n",
    "    // `iter()` for vecs yields `&i32`.\n",
    "    let mut iter = vec1.iter();\n",
    "    // `into_iter()` for vecs yields `i32`.\n",
    "    let mut into_iter = vec2.into_iter();\n",
    "\n",
    "    // A reference to what is yielded is `&&i32`. Destructure to `i32`.\n",
    "    println!(\"Find 2 in vec1: {:?}\", iter.find(|&&x| x == 2));\n",
    "    // A reference to what is yielded is `&i32`. Destructure to `i32`.\n",
    "    println!(\"Find 2 in vec2: {:?}\", into_iter.find(|&x| x == 2));\n",
    "}\n",
    "main();"
   ]
  },
  {
   "cell_type": "markdown",
   "metadata": {},
   "source": [
    "Methods that produce other iterators\n",
    "---"
   ]
  },
  {
   "cell_type": "markdown",
   "metadata": {},
   "source": [
    "Other methods defined on the Iterator trait, known as **iterator adaptors**, allow you to change iterators into different kinds of iterators. You can chain multiple calls to iterator adaptors to perform complex actions in a readable way. But because all iterators are lazy, you have to call one of the consuming adaptor methods to get results from calls to iterator adaptors."
   ]
  },
  {
   "cell_type": "markdown",
   "metadata": {},
   "source": [
    "__The iterator adaptor method *map*__"
   ]
  },
  {
   "cell_type": "code",
   "execution_count": null,
   "metadata": {},
   "outputs": [],
   "source": [
    "let v1: Vec<i32> = vec![1, 2, 3];\n",
    "\n",
    "let v: Vec<_> = v1.iter().map(|x| x + 1).collect();"
   ]
  },
  {
   "cell_type": "markdown",
   "metadata": {},
   "source": [
    "* The `map` method produces another iterator for the result of the function passed to it, applied on the original elements yielded by the iterator.\n",
    "* The `collect` method consumes the iterator and collects the resulting values into a vector.\n",
    "\n",
    "This vector will end up containing each item from the original vector incremented by 1."
   ]
  },
  {
   "cell_type": "markdown",
   "metadata": {},
   "source": [
    "**`Iterator::enumerate`** creates an iterator which gives the current iteration count as well as the next value.\n",
    "\n",
    "The iterator returned yields pairs `(i, val)`, where `i` is the current index of iteration and `val` is the value returned by the iterator. https://doc.rust-lang.org/std/iter/trait.Iterator.html#method.enumerate"
   ]
  },
  {
   "cell_type": "code",
   "execution_count": null,
   "metadata": {},
   "outputs": [],
   "source": [
    "fn main() {\n",
    "    let a = ['a', 'b', 'c'];\n",
    "\n",
    "    for (index, element) in a.iter().enumerate() {\n",
    "        println!(\"Element at position {} is {}\", index, element);\n",
    "    }\n",
    "}\n",
    "main();"
   ]
  },
  {
   "cell_type": "markdown",
   "metadata": {},
   "source": [
    "Exercises\n",
    "==="
   ]
  },
  {
   "cell_type": "markdown",
   "metadata": {},
   "source": [
    "**Exercise 1:** Write a function that returns a vector of `GeoCoordinate` from a vector of latitudes and a vector of longitudes."
   ]
  },
  {
   "cell_type": "code",
   "execution_count": null,
   "metadata": {},
   "outputs": [],
   "source": [
    "#[derive(Debug)]\n",
    "struct GeoCoordinate {\n",
    "    /// The latitude\n",
    "    latitude: f64,\n",
    "    /// The longitude\n",
    "    longitude: f64\n",
    "}\n",
    "\n",
    "\n",
    "// TO DO (1) Write a function that returns a vector of GeoCoordinate coordinates\n",
    "// write a version with enumerate, and another with zip and map\n",
    "// try to write versions in imperative and functional styles\n",
    "\n",
    "fn main() {\n",
    "    // TO DO (2) Test your implementation\n",
    "\n",
    "}\n",
    "main();"
   ]
  },
  {
   "cell_type": "markdown",
   "metadata": {},
   "source": [
    "**Solution:**"
   ]
  },
  {
   "cell_type": "code",
   "execution_count": null,
   "metadata": {
    "hide_input": true
   },
   "outputs": [],
   "source": [
    "#[derive(Debug)]\n",
    "struct GeoCoordinate {\n",
    "    /// The latitude\n",
    "    latitude: f64,\n",
    "    /// The longitude\n",
    "    longitude: f64\n",
    "}\n",
    "\n",
    "fn imperative(latitudes: &[f64], longitudes: &[f64]) -> Vec<GeoCoordinate> {\n",
    "    let mut points: Vec<GeoCoordinate> = Vec::new();\n",
    "    for (index, element) in latitudes.iter().enumerate() {\n",
    "        points.push(GeoCoordinate{latitude: *element, longitude: longitudes[index]});\n",
    "    }\n",
    "    points\n",
    "}\n",
    "\n",
    "fn functiona_bad(latitudes: &[f64], longitudes: &[f64]) -> Vec<GeoCoordinate> {\n",
    "    latitudes\n",
    "        .iter()\n",
    "        .enumerate()\n",
    "        .map(|(index, latitude)| GeoCoordinate {\n",
    "            latitude: *latitude,\n",
    "            longitude: longitudes[index]\n",
    "        })\n",
    "        .collect()\n",
    "}\n",
    "\n",
    "fn functional_idiomatic(latitudes: &[f64], longitudes: &[f64]) -> Vec<GeoCoordinate> {\n",
    "    latitudes\n",
    "        .iter()\n",
    "        .copied()\n",
    "        .zip(longitudes.iter().copied())\n",
    "        .map(|(latitude, longitude)| GeoCoordinate {\n",
    "            latitude,\n",
    "            longitude\n",
    "        })\n",
    "        .collect()\n",
    "}\n",
    "\n",
    "fn main() {\n",
    "    let latitudes = vec![1.0, 3.0, 5.0];\n",
    "    let longitudes = vec![2.0, 4.0, 6.0];\n",
    "    let result = functional_idiomatic(&latitudes, &longitudes); \n",
    "    println!(\"{:#?}\", result);\n",
    "}\n",
    "main();"
   ]
  }
 ],
 "metadata": {
  "kernelspec": {
   "display_name": "Rust",
   "language": "rust",
   "name": "rust"
  },
  "language_info": {
   "codemirror_mode": "rust",
   "file_extension": ".rs",
   "mimetype": "text/rust",
   "name": "Rust",
   "pygment_lexer": "rust",
   "version": ""
  }
 },
 "nbformat": 4,
 "nbformat_minor": 2
}
