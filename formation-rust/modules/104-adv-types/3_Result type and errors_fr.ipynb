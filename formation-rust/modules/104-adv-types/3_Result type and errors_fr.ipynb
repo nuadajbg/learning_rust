{
 "cells": [
  {
   "cell_type": "markdown",
   "metadata": {
    "deletable": false,
    "editable": true
   },
   "source": [
    "# Gérer les erreurs potentielles avec `Result`"
   ]
  },
  {
   "cell_type": "code",
   "execution_count": null,
   "metadata": {
    "deletable": false,
    "editable": true
   },
   "outputs": [],
   "source": [
    "use std::io;\n",
    "\n",
    "fn main() {\n",
    "    println!(\"Devinez le nombre!\");\n",
    "\n",
    "    println!(\"Entrez votre tentative.\");\n",
    "\n",
    "    let mut guess = String::new();\n",
    "\n",
    "    io::stdin().read_line(&mut guess)\n",
    "        .expect(\"Failed to read line\");\n",
    "\n",
    "    println!(\"Vous avez deviné: {}\", guess);\n",
    "}\n",
    "main();"
   ]
  },
  {
   "cell_type": "markdown",
   "metadata": {
    "deletable": false,
    "editable": true
   },
   "source": [
    "> Note: Exécuter la cellule ci-dessus va bloquer le kernel, redémarrer avec le menu Kernel, restart\n",
    "\n",
    "`read_line` place ce que l'utilisateur a tapé en entré dans la chaîne de caractère qui lui est passé en paramètre et retourne une valeur de type `io::Result`. Rust a dans sa librairie standard un certain nombre de types `Result`, en premier lieu le générique `Result`, mais aussi d'autres plus spécialisés pour des modules spécifiques comme `io::Result`.\n",
    "\n",
    "Les types `Result` sont tous des énumérations avec deux variantes, `Ok` et `Err`.\n",
    "La variante `Ok` indique que l'opération s'est passé correctement. Cette variante peut contenir la valeur de retour \"normale\".\n",
    "A l'inverse, la variante `Err` signifie que l'opération a échoué. Cette variante contient une valeur descriptive de l'erreur."
   ]
  },
  {
   "cell_type": "markdown",
   "metadata": {
    "deletable": false,
    "editable": true
   },
   "source": [
    "Une instance de `Result` possède une méthode `expect`. Si l'instance de la variante `Err`, la méthode va faire crasher le programme (en utilisant `panic`) en utilisant le message passé en argument.\n",
    "\n",
    "Si l'instance est de la variante `Ok`, `expect` va retourner la valeur contenue par la variante pour qu'elle puisse être utilisée.\n",
    "Dans ce cas précis, il s'agit du nombre d'octets lus."
   ]
  },
  {
   "cell_type": "code",
   "execution_count": null,
   "metadata": {
    "deletable": false,
    "editable": true
   },
   "outputs": [],
   "source": [
    "use std::fs::File;\n",
    "\n",
    "fn main() {\n",
    "    let f = File::open(\"hello.txt\");\n",
    "\n",
    "    let f = match f {\n",
    "        Ok(file) => file,\n",
    "        Err(error) => {\n",
    "            panic!(\"There was a problem opening the file: {:?}\", error)\n",
    "        },\n",
    "    };\n",
    "}\n",
    "main();"
   ]
  },
  {
   "cell_type": "markdown",
   "metadata": {
    "deletable": false,
    "editable": true
   },
   "source": [
    "Gérer les erreurs avec `Result`\n",
    "==="
   ]
  },
  {
   "cell_type": "markdown",
   "metadata": {
    "deletable": false,
    "editable": true
   },
   "source": [
    "Match de types d'erreurs\n",
    "---"
   ]
  },
  {
   "cell_type": "code",
   "execution_count": null,
   "metadata": {
    "deletable": false,
    "editable": true
   },
   "outputs": [],
   "source": [
    "use std::fs::File;\n",
    "use std::io::ErrorKind;\n",
    "\n",
    "fn main() {\n",
    "    let f = File::open(\"hello.txt\");\n",
    "\n",
    "    let f = match f {\n",
    "        Ok(file) => file,\n",
    "        Err(error) => match error.kind() {\n",
    "            ErrorKind::NotFound => match File::create(\"hello.txt\") {\n",
    "                Ok(fc) => fc,\n",
    "                Err(e) => panic!(\"Tried to create file but there was a problem: {:?}\", e),\n",
    "            },\n",
    "            other_error => panic!(\"There was a problem opening the file: {:?}\", other_error),\n",
    "        },\n",
    "    };\n",
    "}\n",
    "main();"
   ]
  },
  {
   "cell_type": "markdown",
   "metadata": {
    "deletable": false,
    "editable": true
   },
   "source": [
    "Le type de valeur produite par `File::open` dans sa variante `Err` est `io::Error`, qui est une structure fournie par la librairie standard.\n",
    "Cette structure a une méthode `kind` qui renvoie une instance de `io::ErrorKind`, une énumération représentant les différents types d'erreur qui peuvent arriver lors d'une opérations I/O.\n",
    "Comme `File::create` peut aussi échouer, nous avons besoin d'une seconde expression `match`."
   ]
  },
  {
   "cell_type": "markdown",
   "metadata": {
    "deletable": false,
    "editable": true
   },
   "source": [
    "Propagation d'erreurs\n",
    "---"
   ]
  },
  {
   "cell_type": "markdown",
   "metadata": {
    "deletable": false,
    "editable": true
   },
   "source": [
    "Lorsque vous écrivez une fonction qui utilise d'autres fonctions qui peuvent échouer avec `Result`, au lieu de gérer dans votre fonction ces erreurs potentielles, elles peuvent être propagées au code qui appele votre fonction pour que celui-ci décide."
   ]
  },
  {
   "cell_type": "code",
   "execution_count": null,
   "metadata": {
    "deletable": false,
    "editable": true
   },
   "outputs": [],
   "source": [
    "use std::io;\n",
    "use std::io::Read;\n",
    "use std::fs::File;\n",
    "\n",
    "fn read_username_from_file() -> Result<String, io::Error> {\n",
    "    let f = File::open(\"hello.txt\");\n",
    "\n",
    "    let mut f = match f {\n",
    "        Ok(file) => file,\n",
    "        Err(e) => return Err(e),\n",
    "    };\n",
    "\n",
    "    let mut s = String::new();\n",
    "\n",
    "    match f.read_to_string(&mut s) { // lit le contenu du fichier dans une String\n",
    "        Ok(_) => Ok(s),\n",
    "        Err(e) => Err(e),\n",
    "    }\n",
    "}"
   ]
  },
  {
   "cell_type": "markdown",
   "metadata": {
    "deletable": false,
    "editable": true
   },
   "source": [
    "Dans cet exemple, notre fonction retourne une valeur de type `Result< T, E >` où `T` correspond au type en cas de succès (`String` ici) et `E` le type pour la variante `Err` (ici `io::Error`).\n",
    "Si tout se passe bien, le code qui appele cette fonction va recevoir une variante `Result::Ok` avec une `String` à l'intérieur. A l'inverse, en cas d'erreur, la fonction retournera une variante `Result::Err` contenant l'erreur `io::Error` à l'origine de l'échec."
   ]
  },
  {
   "cell_type": "markdown",
   "metadata": {
    "deletable": false,
    "editable": true
   },
   "source": [
    "Propagation raccourcie avec l'opérateur `?`\n",
    "---"
   ]
  },
  {
   "cell_type": "markdown",
   "metadata": {
    "deletable": false,
    "editable": true
   },
   "source": [
    "L'opérateur `?` placé après une valeur `Result` est défini pour fonctionner d'une manière similaire aux expression `match` dans l'exemple précédent.\n",
    "La différence se trouve dans le fait que l'opérateur `?` peut en plus convertir implicitement l'erreur trouvée vers le type d'erreur attendu en retour de la fonction en utilisant le trait `From`.\n",
    "Aussi longtemps que les erreurs qui peuvent survenir dans la fonction peuvent être converties en erreur attendues par le retour de la fonction, la conversion est automatique."
   ]
  },
  {
   "cell_type": "code",
   "execution_count": null,
   "metadata": {
    "deletable": false,
    "editable": true
   },
   "outputs": [],
   "source": [
    "use std::io;\n",
    "use std::io::Read;\n",
    "use std::fs::File;\n",
    "\n",
    "fn read_username_from_file() -> Result<String, io::Error> {\n",
    "    let mut s = String::new();\n",
    "\n",
    "    File::open(\"hello.txt\")?.read_to_string(&mut s)?;\n",
    "\n",
    "    Ok(s)\n",
    "}"
   ]
  },
  {
   "cell_type": "markdown",
   "metadata": {
    "deletable": false,
    "editable": true
   },
   "source": [
    "> Note : L'opérateur `?` ne peut être utilisé que dans des fonctions qui retourne un type `Result`."
   ]
  }
 ],
 "metadata": {
  "kernelspec": {
   "display_name": "Rust",
   "language": "rust",
   "name": "rust"
  },
  "language_info": {
   "codemirror_mode": "rust",
   "file_extension": ".rs",
   "mimetype": "text/rust",
   "name": "Rust",
   "pygment_lexer": "rust",
   "version": ""
  }
 },
 "nbformat": 4,
 "nbformat_minor": 2
}
