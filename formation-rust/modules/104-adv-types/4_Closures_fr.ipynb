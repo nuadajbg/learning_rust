{
 "cells": [
  {
   "cell_type": "markdown",
   "metadata": {
    "deletable": false,
    "editable": true
   },
   "source": [
    "# Fermetures (*closures*), fonctions anonymes capturant leurs contextes\n"
   ]
  },
  {
   "cell_type": "markdown",
   "metadata": {
    "deletable": false,
    "editable": true
   },
   "source": [
    "Les fermetures (*closures*) en Rust sont des fonctions anonymes qui peuvent être sauvegardées dans des variables et passées comme arguments à d'autres fonctions.\n",
    "Vous pouvez les créer à un endroit et les utiliser (évaluer) dans un autre contexte."
   ]
  },
  {
   "cell_type": "markdown",
   "metadata": {
    "deletable": false,
    "editable": true
   },
   "source": [
    "La syntaxe et les capacité des fermetures font qu'elles sont très faciles à utiliser dans beaucoup de contexte.\n",
    "Appeler une fermeture se fait de la même façon que l'apple à une fonction.\n",
    "Cependant, le typage des paramètres et du type de retour peuvent être inférés par le compilateur.\n",
    "\n",
    "Quelques caractéristiques des fermetures :\n",
    "\n",
    "* Les paramètres sont déclarés entre `|  |`\n",
    "* Le corp est une expression (rappel: un block `{}` est une expression)\n",
    "* Elles peuvent capturer les variables de leur environnement"
   ]
  },
  {
   "cell_type": "code",
   "execution_count": null,
   "metadata": {
    "deletable": false,
    "editable": true,
    "vscode": {
     "languageId": "rust"
    }
   },
   "outputs": [],
   "source": [
    "fn main() {\n",
    "    // Incrément en utiliser des fonctions et des fermetures\n",
    "    fn  function (i: i32) -> i32 { i + 1 }\n",
    "\n",
    "    // les fermetures sont anonymes\n",
    "    // ici nous les assignons à des variables pour les utiliser\n",
    "    let closure_annotated = |i: i32| -> i32 { i + 1 }; // avec annotations de type\n",
    "    let closure_inferred  = |i     |          i + 1  ; // avec inférence de type\n",
    "\n",
    "    let i = 1;\n",
    "    println!(\"function: {}\", function(i));\n",
    "    println!(\"closure_annotated: {}\", closure_annotated(i));\n",
    "    println!(\"closure_inferred: {}\", closure_inferred(i));\n",
    "\n",
    "}\n",
    "main();"
   ]
  },
  {
   "cell_type": "markdown",
   "metadata": {
    "deletable": false,
    "editable": true
   },
   "source": [
    "Les fermetures peuvent capturer leur environnement, contrairement aux fonctions."
   ]
  },
  {
   "cell_type": "code",
   "execution_count": null,
   "metadata": {
    "deletable": false,
    "editable": true,
    "vscode": {
     "languageId": "rust"
    }
   },
   "outputs": [],
   "source": [
    "fn main() {\n",
    "    let value = 3;\n",
    "\n",
    "    let f = |x| x + value; // <-- la fermeture fait référence à value\n",
    "    println!(\"{}\", f(2));\n",
    "}\n",
    "main();"
   ]
  },
  {
   "cell_type": "markdown",
   "metadata": {
    "deletable": false,
    "editable": true
   },
   "source": [
    "Par défaut, les fermetures capturent leur environnement comme des références (immutables)."
   ]
  },
  {
   "cell_type": "code",
   "execution_count": null,
   "metadata": {
    "deletable": false,
    "editable": true,
    "vscode": {
     "languageId": "rust"
    }
   },
   "outputs": [],
   "source": [
    "fn main() {\n",
    "    let value = String::from(\"Hello !\");\n",
    "    let tell = || { println!(\"{}\", value); };\n",
    "    tell();\n",
    "    println!(\"value is still here: {}\", value);\n",
    "}\n",
    "main();"
   ]
  },
  {
   "cell_type": "markdown",
   "metadata": {
    "deletable": false,
    "editable": true
   },
   "source": [
    "Les fermetures peuvent également capturer des références mutables.\n",
    "Dans ce cas, la variable qui contient fermeture doit être déclarée mutable."
   ]
  },
  {
   "cell_type": "code",
   "execution_count": null,
   "metadata": {
    "deletable": false,
    "editable": true,
    "vscode": {
     "languageId": "rust"
    }
   },
   "outputs": [],
   "source": [
    "fn main() {\n",
    "    let mut value = 0;\n",
    "    {\n",
    "        let mut inc = || { value += 1; };\n",
    "        inc();\n",
    "    }\n",
    "    println!(\"value = {}\", value);\n",
    "}\n",
    "main();"
   ]
  },
  {
   "cell_type": "markdown",
   "metadata": {
    "deletable": false,
    "editable": true
   },
   "source": [
    "Le *borrow-checker* s'assure de la sûreté des référence mutables, même pour les fermetures."
   ]
  },
  {
   "cell_type": "markdown",
   "metadata": {
    "deletable": false,
    "editable": true
   },
   "source": [
    "Parfois il peut être utile que la fermeture prenne la propriété (*ownership*) de leur environnement.\n",
    "Pour faire cela, il convient d'utiliser le mot clé `move` devant la définition de la fermeture.\n",
    "La propriété de toutes les variables référencées dans la fermeture sera transféré à la fermeture."
   ]
  },
  {
   "cell_type": "code",
   "execution_count": null,
   "metadata": {
    "deletable": false,
    "editable": true,
    "vscode": {
     "languageId": "rust"
    }
   },
   "outputs": [],
   "source": [
    "fn main() {\n",
    "    let a = String::from(\"Hello \");\n",
    "    let b = String::from(\"World !\");\n",
    "    let tell = move || { print!(\"{}\", a); }; // here a is moved to the closure\n",
    "\n",
    "    tell();\n",
    "    println!(\"{}\", b); // this is OK\n",
    "    // println!(\"{}\", a); // this is an error\n",
    "}\n",
    "main();"
   ]
  },
  {
   "cell_type": "markdown",
   "metadata": {
    "deletable": false,
    "editable": true
   },
   "source": [
    "Les fermetures permettent de tirer parti de l'inférence de type et de ne pas spécifier explicitement le typage des paramètres et du type de retour.\n",
    "Le compilateur va bien sûr inférer un type concret."
   ]
  },
  {
   "cell_type": "code",
   "execution_count": null,
   "metadata": {
    "deletable": false,
    "editable": true,
    "vscode": {
     "languageId": "rust"
    }
   },
   "outputs": [],
   "source": [
    "fn generate_workout(intensity: u32, random_number: u32) {\n",
    "    let expensive_closure = |num| {\n",
    "        println!(\"calculating slowly...\");\n",
    "        // fait ici quelque chose qui prend du temps\n",
    "        num\n",
    "    };\n",
    "\n",
    "    if intensity < 25 {\n",
    "        println!(\n",
    "            \"Today, do {} pushups!\",\n",
    "            expensive_closure(intensity)\n",
    "        );\n",
    "        println!(\n",
    "            \"Next, do {} situps!\",\n",
    "            expensive_closure(intensity)\n",
    "        );\n",
    "    } else {\n",
    "        if random_number == 3 {\n",
    "            println!(\"Take a break today! Remember to stay hydrated!\");\n",
    "        } else {\n",
    "            println!(\n",
    "                \"Today, run for {} minutes!\",\n",
    "                expensive_closure(intensity)\n",
    "            );\n",
    "        }\n",
    "    }\n",
    "}"
   ]
  },
  {
   "cell_type": "markdown",
   "metadata": {
    "deletable": false,
    "editable": true
   },
   "source": [
    "Stockage des fermetures et traits `Fn`\n",
    "---"
   ]
  },
  {
   "cell_type": "markdown",
   "metadata": {
    "deletable": false,
    "editable": true
   },
   "source": [
    "Remarquez que dans le code précédent, la fermeture dans `expensive_closure` va être exécutée plusieurs fois, ce qui n'est pas forcément nécessaire, d'autant plus que celle-ci est sensée prendre du temps.\n",
    "\n",
    "Pour éviter cela, nous pouvons construire une structure qui va contenir à la fois la fermeture et le résultat de celle-ci.\n",
    "Cette structure va exécuter la fermeture quand le résultat est requis, et le stocker en cache pour le réutiliser.\n",
    "Ce pattern est souvant appelé mémoisation, ou *lazy evaluation*.\n",
    "\n",
    "Pour définir des structures, enumérations ou fonctions qui stockent ou utilisent des fermetures, nous devons utiliser la programmation générique et les contraintes de traits.\n",
    "\n",
    "Toutes les fermetures implémentent au moins un des trois traits : `Fn`, `FnMut` et `FnOnce`. Ceux-ci sont définis par la librairie standard."
   ]
  },
  {
   "cell_type": "code",
   "execution_count": null,
   "metadata": {
    "deletable": false,
    "editable": true,
    "vscode": {
     "languageId": "rust"
    }
   },
   "outputs": [],
   "source": [
    "// structure stockant la fermeture et son résulat\n",
    "struct Cacher<T>\n",
    "    where T: Fn(u32) -> u32\n",
    "{\n",
    "    calculation: T,\n",
    "    value: Option<u32>,\n",
    "}\n",
    "\n",
    "impl<T> Cacher<T>\n",
    "    where T: Fn(u32) -> u32\n",
    "{\n",
    "    fn new(calculation: T) -> Cacher<T> {\n",
    "        Cacher {\n",
    "            calculation,\n",
    "            value: None,\n",
    "        }\n",
    "    }\n",
    "\n",
    "    fn value(&mut self, arg: u32) -> u32 {\n",
    "        match self.value {\n",
    "            Some(v) => v,\n",
    "            None => {\n",
    "                let v = (self.calculation)(arg);\n",
    "                self.value = Some(v);\n",
    "                v\n",
    "            },\n",
    "        }\n",
    "    }\n",
    "}"
   ]
  },
  {
   "cell_type": "markdown",
   "metadata": {
    "deletable": false,
    "editable": true
   },
   "source": [
    "La structure `Cacher` a un membre `calculation`, dont le type est le paramètre de type `T`.\n",
    "La contrainte de trait indique que `T` doit implémenter le trait `Fn` (avec une certaine signature).\n",
    "Une fermeture que l'on voudrait stocker dans ce membre devrait avoir un paramètre de type `u32` et retourner une valeur de type `u32`."
   ]
  },
  {
   "cell_type": "markdown",
   "metadata": {
    "deletable": false,
    "editable": true
   },
   "source": [
    "Avant que l'on exécuter la fermeture, le membre `value` est à `None`.\n",
    "Lorsque du code appele `Cacher` pour demander le résultat, `Cacher` va exécuter la fermeture, et le mettre en cache dans le membre `value` avant de retourner la valeur.\n",
    "Si `Cacher` dispose déjà de la valeur, celle-ci est retournée sans ré-exécuter la fermeture."
   ]
  },
  {
   "cell_type": "markdown",
   "metadata": {
    "deletable": false,
    "editable": true
   },
   "source": [
    "> **Note:** Les fonctions peuvent aussi implémenter un des 3 traits (ou tous) `Fn`. Si ce que l'on veut faire ne demande pas de capturer l'environnement, nous pouvons utiliser une fonction à la place d'une fermeture dès que ce qui est attendu doit implémenter un trait `Fn`."
   ]
  },
  {
   "cell_type": "code",
   "execution_count": null,
   "metadata": {
    "deletable": false,
    "editable": true,
    "vscode": {
     "languageId": "rust"
    }
   },
   "outputs": [],
   "source": [
    "struct Cacher<T>\n",
    "    where T: Fn(u32) -> u32\n",
    "{\n",
    "    calculation: T,\n",
    "    value: Option<u32>,\n",
    "}\n",
    "\n",
    "impl<T> Cacher<T>\n",
    "    where T: Fn(u32) -> u32\n",
    "{\n",
    "    fn new(calculation: T) -> Cacher<T> {\n",
    "        Cacher {\n",
    "            calculation,\n",
    "            value: None,\n",
    "        }\n",
    "    }\n",
    "\n",
    "    fn value(&mut self, arg: u32) -> u32 {\n",
    "        match self.value {\n",
    "            Some(v) => v,\n",
    "            None => {\n",
    "                let v = (self.calculation)(arg);\n",
    "                self.value = Some(v);\n",
    "                v\n",
    "            },\n",
    "        }\n",
    "    }\n",
    "}\n",
    "\n",
    "fn generate_workout(intensity: u32, random_number: u32) {\n",
    "    // using the Cacher struct\n",
    "    let mut expensive_result = Cacher::new(|num| {\n",
    "        println!(\"calculating slowly...\");\n",
    "        // do something here that takes time\n",
    "        num\n",
    "    });\n",
    "\n",
    "    if intensity < 25 {\n",
    "        println!(\n",
    "            \"Today, do {} pushups!\",\n",
    "            expensive_result.value(intensity)\n",
    "        );\n",
    "        println!(\n",
    "            \"Next, do {} situps!\",\n",
    "            expensive_result.value(intensity)\n",
    "        );\n",
    "    } else {\n",
    "        if random_number == 3 {\n",
    "            println!(\"Take a break today! Remember to stay hydrated!\");\n",
    "        } else {\n",
    "            println!(\n",
    "                \"Today, run for {} minutes!\",\n",
    "                expensive_result.value(intensity)\n",
    "            );\n",
    "        }\n",
    "    }\n",
    "}\n",
    "\n",
    "fn main()\n",
    "{\n",
    "    let mut c = Cacher::new(|a| a);\n",
    "\n",
    "    let v1 = c.value(1);\n",
    "    generate_workout(v1, 7);\n",
    "\n",
    "}\n",
    "main();"
   ]
  },
  {
   "cell_type": "markdown",
   "metadata": {
    "deletable": false,
    "editable": true
   },
   "source": [
    "Au lieu de sauvegarder la fermeture dans une variable directement, nous créons une instance de `Cacher` qui va contenir cette fermeture.\n",
    "Puis, à tous les endroits où nous avons besoin du résultat de la fermeture, nous appelons la méthode `value` sur l'instance de `Cacher`. Cette méthode peut être appelée autant de fois que nécessaire (voire pas du tout) et le calcul coûteux représenté par la fermeture ne se fera au maximum qu'une seule fois."
   ]
  },
  {
   "cell_type": "markdown",
   "metadata": {
    "deletable": false,
    "editable": true
   },
   "source": [
    "Il y a une limitation à cette implémentation, elle part de l'hypothèse que c'est toujours la même valeur de paramètre `arg` qui est passé à la méthode `value`, et elle n'accepte que des fermetures qui ont exactement la signature `(u32) -> u32`"
   ]
  },
  {
   "cell_type": "markdown",
   "metadata": {
    "deletable": false,
    "editable": true
   },
   "source": [
    "Capture de l'environnement\n",
    "---"
   ]
  },
  {
   "cell_type": "markdown",
   "metadata": {
    "deletable": false,
    "editable": true
   },
   "source": [
    "Les fermetures peuvent capturer des valeurs de leur environnement de trois façons, qui correspondent exactement aux trois façons dont une valeur peut être passée en paramètre : 1) en prenant la propriété, 2) en empruntant de manière mutable, et 3) en empruntant de manière non-mutable.\n",
    "Ces 3 façons s'encode sous la forme des 3 traits `Fn` :\n",
    "\n",
    "* `FnOnce` consomme les variables capturées de l'environnement (*closure's environment*). Pour que ces variables capturées puissent être consommées, la fermeture doit pendre la propriété de ces variables et les déménager (*move*) dans le contexte de la fermeture. Le mot `Once` dans le nom représente le fait que cette fermeture ne peut être exécutée qu'une seule fois, comme son exécution consomme les variables capturées.\n",
    "* `FnMut` peut changer son environnement en empruntant de manière mutable les variables de son contexte.\n",
    "* `Fn` emprunte son environnement de manière non-mutable."
   ]
  }
 ],
 "metadata": {
  "kernelspec": {
   "display_name": "Rust",
   "language": "rust",
   "name": "rust"
  },
  "language_info": {
   "codemirror_mode": "rust",
   "file_extension": ".rs",
   "mimetype": "text/rust",
   "name": "Rust",
   "pygment_lexer": "rust",
   "version": ""
  }
 },
 "nbformat": 4,
 "nbformat_minor": 2
}
