{
 "cells": [
  {
   "cell_type": "markdown",
   "metadata": {},
   "source": [
    "# Rust Training\n",
    "\n",
    "Welcome to this Rust training. Some of the modules are hosted here and take the form of Jupyer notebooks.\n",
    "The notebooks enable you to directly try and modify the examples and do the proposed exercises in this environment, without having to install a complete Rust environment.\n",
    "\n",
    "The noteboks rely on the use of [EvCxR](https://github.com/google/evcxr/tree/master/evcxr_jupyter) for interpreting Rust. Due to this, the Rust environment in the notebooks may behave a bit diffently from what you would find with the usual Rust compiler. For example, in the cells, you can write Rust code, outside of the context of any function."
   ]
  },
  {
   "cell_type": "code",
   "execution_count": null,
   "metadata": {
    "deletable": false,
    "editable": true
   },
   "outputs": [],
   "source": [
    "let x = 42;\n",
    "println!(\"{}\", x);"
   ]
  },
  {
   "cell_type": "markdown",
   "metadata": {},
   "source": [
    "When a stricter environment is required, the code can be written within the context of a function:"
   ]
  },
  {
   "cell_type": "code",
   "execution_count": null,
   "metadata": {
    "deletable": false,
    "editable": true
   },
   "outputs": [],
   "source": [
    "fn main() {\n",
    "    let x = 42;\n",
    "    println!(\"{}\", x);\n",
    "}\n",
    "main();"
   ]
  },
  {
   "cell_type": "markdown",
   "metadata": {},
   "source": [
    "In addition, the interpreter gives us the `:vars` primitive that can list the known variables in scope and their type."
   ]
  },
  {
   "cell_type": "code",
   "execution_count": null,
   "metadata": {
    "deletable": false,
    "editable": true
   },
   "outputs": [],
   "source": [
    ":vars"
   ]
  },
  {
   "cell_type": "markdown",
   "metadata": {},
   "source": [
    "### Exercices\n",
    "\n",
    "Some notebooks contain exercises. The solutions are hidden by default. To display the solutions, you must select the cell below the **solution** title at the end of an exercise. In general this cell is quite small so you will have to be careful. Then you can click on the button in the form of a chevron in the title bar to display the cell. The following cell is hidden, try to display its content:"
   ]
  },
  {
   "cell_type": "code",
   "execution_count": null,
   "metadata": {
    "hide_input": true
   },
   "outputs": [],
   "source": [
    "println!(\"bouh!\");"
   ]
  }
 ],
 "metadata": {
  "kernelspec": {
   "display_name": "Rust",
   "language": "rust",
   "name": "rust"
  },
  "language_info": {
   "name": "rust"
  }
 },
 "nbformat": 4,
 "nbformat_minor": 2
}
