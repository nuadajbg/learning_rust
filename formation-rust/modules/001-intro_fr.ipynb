{
 "cells": [
  {
   "cell_type": "markdown",
   "metadata": {
    "deletable": false,
    "editable": true
   },
   "source": [
    "# Formation Rust\n",
    "\n",
    "Bienvenue dans cette formation Rust. Une partie des modules sont réalisés ici, sous la forme de notebooks Jupyter.\n",
    "Ce qui vous permet de directement essayer les exemples et faire les exercices dans cet environnement, sans requérir d'installation.\n",
    "\n",
    "Ces notebooks reposent sur l'utilisation de [EvCxR](https://github.com/google/evcxr/tree/master/evcxr_jupyter) pour l'interprétation de Rust. De ce fait, l'environnement Rust utilisé ici peut légèrement différer de celui offert par le compilateur habituel. Dans les cellules, il est ainsi possible d'écrire du code Rust en dehors d'une fonction."
   ]
  },
  {
   "cell_type": "code",
   "execution_count": null,
   "metadata": {
    "deletable": false,
    "editable": true,
    "scrolled": true
   },
   "outputs": [],
   "source": [
    "let x = 42;\n",
    "println!(\"{}\", x);"
   ]
  },
  {
   "cell_type": "markdown",
   "metadata": {
    "deletable": false,
    "editable": true
   },
   "source": [
    "Cependant, lorsqu'un environnement plus strict est nécessaire, le code peut être remis dans le contexte d'une fonction :"
   ]
  },
  {
   "cell_type": "code",
   "execution_count": null,
   "metadata": {
    "deletable": false,
    "editable": true
   },
   "outputs": [],
   "source": [
    "fn main() {\n",
    "    let x = 42;\n",
    "    println!(\"{}\", x);\n",
    "}\n",
    "main();"
   ]
  },
  {
   "cell_type": "markdown",
   "metadata": {
    "deletable": false,
    "editable": true
   },
   "source": [
    "De plus l'interpréteur fournie la primitive `:vars` qui permet de lister les variables connues avec leur type :"
   ]
  },
  {
   "cell_type": "code",
   "execution_count": null,
   "metadata": {
    "deletable": false,
    "editable": true
   },
   "outputs": [],
   "source": [
    ":vars"
   ]
  },
  {
   "cell_type": "markdown",
   "metadata": {
    "deletable": false,
    "editable": true
   },
   "source": [
    "### Exercices\n",
    "\n",
    "Les notebooks de cette formation contiennent des exercices dont la solution est par défaut cachée.\n",
    "Pour afficher la solution, il faut sélectionner la cellule sous le titre **solution**, en général assez petite, puis cliquer sur le bouton en forme de chevron dans la barre de titre. Par exemple la cellule suivante est masquée, essayez de l'afficher :"
   ]
  },
  {
   "cell_type": "code",
   "execution_count": null,
   "metadata": {
    "hide_input": true
   },
   "outputs": [],
   "source": [
    "println!(\"bouh!\");"
   ]
  }
 ],
 "metadata": {
  "kernelspec": {
   "display_name": "Rust",
   "language": "rust",
   "name": "rust"
  },
  "language_info": {
   "codemirror_mode": "rust",
   "file_extension": ".rs",
   "mimetype": "text/rust",
   "name": "rust",
   "pygment_lexer": "rust",
   "version": ""
  }
 },
 "nbformat": 4,
 "nbformat_minor": 2
}
