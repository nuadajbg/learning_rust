{
 "cells": [
  {
   "cell_type": "markdown",
   "metadata": {
    "deletable": false,
    "editable": true
   },
   "source": [
    "# Références et emprunt (borrowing)"
   ]
  },
  {
   "cell_type": "markdown",
   "metadata": {
    "deletable": false,
    "editable": true
   },
   "source": [
    "Les **références** (esperluettes) permettent d'utiliser une variable sans en prendre la propriété. "
   ]
  },
  {
   "cell_type": "code",
   "execution_count": null,
   "metadata": {
    "deletable": false,
    "editable": true
   },
   "outputs": [],
   "source": [
    "fn main() {\n",
    "    let s1 = String::from(\"hello\");\n",
    "\n",
    "    let len = calculate_length(&s1);\n",
    "\n",
    "    println!(\"The length of '{}' is {}.\", s1, len);\n",
    "}\n",
    "\n",
    "fn calculate_length(s: &String) -> usize {\n",
    "    s.len()\n",
    "}\n",
    "main();"
   ]
  },
  {
   "cell_type": "markdown",
   "metadata": {
    "deletable": false,
    "editable": true
   },
   "source": [
    "<img src=\"references-01.jpg\" width=\"350\" height=\"350\"/>"
   ]
  },
  {
   "cell_type": "markdown",
   "metadata": {
    "deletable": false,
    "editable": true
   },
   "source": [
    "> **Note:** L'opération inverse est le **déréférencement** (dereferencing), qui se fait par l'intermédiaire de l'opérateur **`*`**. "
   ]
  },
  {
   "cell_type": "markdown",
   "metadata": {
    "deletable": false,
    "editable": true
   },
   "source": [
    "Quand on utilise des références comme paramètres de fonction on dit qu’on fait un emprunt (**borrowing**). Comme dans la vraie vie, si une personne possède quelque chose, nous devons l’emprunter pour l’utiliser. Et lorsqu’un on a fini de s’en servir, on doit le lui rendre."
   ]
  },
  {
   "cell_type": "markdown",
   "metadata": {
    "deletable": false,
    "editable": true
   },
   "source": [
    "Tout comme les variables, les références sont immuables par défaut. On n’a pas le droit de modifier quelque chose qu’on a obtenu par référencement."
   ]
  },
  {
   "cell_type": "code",
   "execution_count": null,
   "metadata": {
    "deletable": false,
    "editable": true
   },
   "outputs": [],
   "source": [
    "fn main() {\n",
    "    let s = String::from(\"hello\");\n",
    "\n",
    "    change(&s);\n",
    "}\n",
    "\n",
    "fn change(some_string: &String) {\n",
    "    some_string.push_str(\", world\");\n",
    "}\n",
    "main();"
   ]
  },
  {
   "cell_type": "markdown",
   "metadata": {
    "deletable": false,
    "editable": true
   },
   "source": [
    "Références mutables\n",
    "---"
   ]
  },
  {
   "cell_type": "code",
   "execution_count": null,
   "metadata": {
    "deletable": false,
    "editable": true
   },
   "outputs": [],
   "source": [
    "fn main() {\n",
    "    let mut s = String::from(\"hello\");\n",
    "\n",
    "    change(&mut s);\n",
    "}\n",
    "\n",
    "fn change(some_string: &mut String) {\n",
    "    some_string.push_str(\", world\");\n",
    "}\n",
    "main();"
   ]
  },
  {
   "cell_type": "markdown",
   "metadata": {
    "deletable": false,
    "editable": true
   },
   "source": [
    "On ne peut avoir qu'**une seule référence mutable** sur une variable, dans un contexte donné. Le code suivant est incorrect :"
   ]
  },
  {
   "cell_type": "code",
   "execution_count": null,
   "metadata": {
    "deletable": false,
    "editable": true
   },
   "outputs": [],
   "source": [
    "fn main() {\n",
    "    let mut s = String::from(\"hello\");\n",
    "\n",
    "    let r1 = &mut s;\n",
    "    let r2 = &mut s;\n",
    "\n",
    "    println!(\"{}, {}\", r1, r2);\n",
    "}\n",
    "main();"
   ]
  },
  {
   "cell_type": "markdown",
   "metadata": {
    "deletable": false,
    "editable": true
   },
   "source": [
    "L’avantage de cette restriction est d’éviter les courses de données (*data races*) au moment de la compilation. Une course de données apparaît quand :\n",
    "\n",
    "* Deux ou plusieurs pointeurs essayent d’accéder à la même donnée simultanément.\n",
    "* Au moins un des pointeurs est utilisé pour écrire/modifier la donnée.\n",
    "* Il n’y a pas de mécanisme pour synchroniser l’accès à la donnée.\n"
   ]
  },
  {
   "cell_type": "markdown",
   "metadata": {
    "deletable": false,
    "editable": true
   },
   "source": [
    "On ne peut avoir une référence immuable et une référence mutable en même temps sur une variable. Les utilisateurs d’une référence immuable s’attendent que les valeurs ne changent pas en cours de route ! Le code suivant est incorrect :"
   ]
  },
  {
   "cell_type": "code",
   "execution_count": null,
   "metadata": {
    "deletable": false,
    "editable": true
   },
   "outputs": [],
   "source": [
    "fn main() {\n",
    "    let mut s = String::from(\"hello\");\n",
    "\n",
    "    let r1 = &s; // ok\n",
    "    let r2 = &s; // ok\n",
    "    let r3 = &mut s; // GROS PROBLEME!\n",
    "\n",
    "    println!(\"{}, {}, and {}\", r1, r2, r3);\n",
    "}\n",
    "main();"
   ]
  },
  {
   "cell_type": "markdown",
   "metadata": {
    "deletable": false,
    "editable": true
   },
   "source": [
    "Pointeur suspendu (Dangling pointer)\n",
    "---"
   ]
  },
  {
   "cell_type": "markdown",
   "metadata": {
    "deletable": false,
    "editable": true
   },
   "source": [
    "Dans les langages à pointeurs, il est facile de générer, par erreur, des pointeurs suspendus (un pointeur qui référence une zone de mémoire qui ne lui appartient plus). Cela peut arriver si on libère une zone de mémoire sans supprimer le pointeur qui la référence. \n",
    "En Rust, cela ne peut pas arriver. Le compilateur garantit qu’aucune référence n’est suspendue. \n",
    "Ainsi, une donnée référencée ne peut pas expirée (devenir out of scope) avant sa référence."
   ]
  },
  {
   "cell_type": "markdown",
   "metadata": {
    "deletable": false,
    "editable": true
   },
   "source": [
    "Exemple de pointeur suspendu :"
   ]
  },
  {
   "cell_type": "code",
   "execution_count": null,
   "metadata": {
    "deletable": false,
    "editable": true
   },
   "outputs": [],
   "source": [
    "fn main() {\n",
    "    let reference_to_nothing = dangle();\n",
    "}\n",
    "\n",
    "fn dangle() -> &String {\n",
    "    let s = String::from(\"hello\");\n",
    "\n",
    "    &s // on retourne une référence au String, s\n",
    "} // Ici, s sort du contexte (expire) et est supprimée. Sa zone de mémoire est libérée.\n",
    "  // Danger!\n",
    "\n",
    "main();"
   ]
  },
  {
   "cell_type": "markdown",
   "metadata": {
    "deletable": false,
    "editable": true
   },
   "source": [
    "La solution ici est de retourner directement le String :"
   ]
  },
  {
   "cell_type": "code",
   "execution_count": null,
   "metadata": {
    "deletable": false,
    "editable": true
   },
   "outputs": [],
   "source": [
    "fn no_dangle() -> String {\n",
    "    let s = String::from(\"hello\");\n",
    "\n",
    "    s\n",
    "}"
   ]
  },
  {
   "cell_type": "markdown",
   "metadata": {
    "deletable": false,
    "editable": true
   },
   "source": [
    "Validation des références par la durée de vie (lifetime)\n",
    "==="
   ]
  },
  {
   "cell_type": "markdown",
   "metadata": {
    "deletable": false,
    "editable": true
   },
   "source": [
    "Chaque référence a une durée de vie (**lifetime**) représentée par le contexte dans lequel elle est valide. La plupart du temps, les durées de vie sont inférées et implicites. \n",
    "Le compilateur Rust dispose d’un borrow checker qui compare les scopes (contextes) pour déterminer si tous les emprunts sont valides."
   ]
  },
  {
   "cell_type": "code",
   "execution_count": null,
   "metadata": {
    "deletable": false,
    "editable": true
   },
   "outputs": [],
   "source": [
    "// le code suivant ne compile pas, parce que la durée de vie de x ('b) est plus courte \n",
    "// que la durée de vie de r ('a)\n",
    "{\n",
    "    let r;                // ---------+-- 'a\n",
    "                          //          |\n",
    "    {                     //          |\n",
    "        let x = 5;        // -+-- 'b  |\n",
    "        r = &x;           //  |       |\n",
    "    }                     // -+       |\n",
    "                          //          |\n",
    "    println!(\"r: {}\", r); //          |\n",
    "} "
   ]
  },
  {
   "cell_type": "code",
   "execution_count": null,
   "metadata": {
    "deletable": false,
    "editable": true
   },
   "outputs": [],
   "source": [
    "// ce code compile\n",
    "fn main() {\n",
    "    let x = 5;            // ----------+-- 'b\n",
    "                          //           |\n",
    "    let r = &x;           // --+-- 'a  |\n",
    "                          //   |       |\n",
    "    println!(\"r: {}\", r); //   |       |\n",
    "                          // --+       |\n",
    "}\n",
    "main();"
   ]
  },
  {
   "cell_type": "markdown",
   "metadata": {
    "deletable": false,
    "editable": true
   },
   "source": [
    "Annotation des durées de vie\n",
    "---"
   ]
  },
  {
   "cell_type": "markdown",
   "metadata": {
    "deletable": false,
    "editable": true
   },
   "source": [
    "De la même manière que l’on  doit annoter les types quand plusieurs types sont possibles, on doit également annoter les durées de vie pour éviter les ambiguïtés. Les annotations des durées de vie décrivent les relations qui existent entre les durées de vie de plusieurs références. Ces annotations n’ont aucun impact sur les durées de vie elles-mêmes."
   ]
  },
  {
   "cell_type": "markdown",
   "metadata": {
    "deletable": false,
    "editable": true
   },
   "source": [
    "En Rust il faut annoter les relations avec des paramètres lifetime génériques afin de s’assurer que les références utilisées à l’exécution soient valides."
   ]
  },
  {
   "cell_type": "markdown",
   "metadata": {
    "deletable": false,
    "editable": true
   },
   "source": [
    "```rust\n",
    "&i32        // une référence\n",
    "&'a i32     // une référence avec une durée de vie explicite \n",
    "&'a mut i32 // une référence mutable avec une durée de vie explicite\n",
    "```"
   ]
  },
  {
   "cell_type": "markdown",
   "metadata": {
    "deletable": false,
    "editable": true
   },
   "source": [
    "Annotations lifetime dans la signature d'une function \n",
    "---"
   ]
  },
  {
   "cell_type": "code",
   "execution_count": null,
   "metadata": {
    "deletable": false,
    "editable": true
   },
   "outputs": [],
   "source": [
    "/* pour la durée de vie 'a, la fonction prend 2 paramètres, \n",
    "   les deux étant des slices de chaîne de caractères avec une durée de vie\n",
    "   au moins égale à la durée de vie 'a\n",
    "*/\n",
    "fn longest<'a>(x: &'a str, y: &'a str) -> &'a str {\n",
    "    if x.len() > y.len() {\n",
    "        x\n",
    "    } else {\n",
    "        y\n",
    "    }\n",
    "}\n",
    "\n",
    "fn main() {\n",
    "    let string1 = String::from(\"long string is long\");\n",
    "    let string2 = String::from(\"xyz\");\n",
    "    let result = longest(&string1, &string2);\n",
    "    println!(\"The longest string is: \\\"{}\\\"\", result);\n",
    "}\n",
    "main();"
   ]
  },
  {
   "cell_type": "markdown",
   "metadata": {
    "deletable": false,
    "editable": true
   },
   "source": [
    "Quand une fonction utilise des références vers (ou provenant) du code externe, il devient impossible pour le compilateur de déduire les durées de vie des paramètres ou de retourner des valeurs. Les durées de vie peuvent varier à chaque appel de la fonction. On doit donc annoter manuellement les durées de vie.\n",
    "\n",
    "\n",
    "Quand on passe des références concrètes à `longest`, la durée de vie `'a` est égale à l’intersection entre le scope de `x` et celui de `y`. Autrement dit, la durée de vie générique `'a` sera égale à la durée de vie la plus courte des paramètres `x` et `y`. "
   ]
  },
  {
   "cell_type": "markdown",
   "metadata": {
    "deletable": false,
    "editable": true
   },
   "source": [
    "Annotations lifetime dans les définitions des struct \n",
    "---"
   ]
  },
  {
   "cell_type": "markdown",
   "metadata": {
    "deletable": false,
    "editable": true
   },
   "source": [
    "Les structs peuvent contenir des références à condition d'ajouter une annotation lifetime à chaque référence dans la définition du struct."
   ]
  },
  {
   "cell_type": "code",
   "execution_count": null,
   "metadata": {
    "deletable": false,
    "editable": true
   },
   "outputs": [],
   "source": [
    "fn main() {\n",
    "    #[derive(Debug)]\n",
    "    // une instance de ImportantExcerpt ne peut pas avoir une durée de vie plus grande que la référence contenue\n",
    "    // dans le champs 'part'\n",
    "    struct ImportantExcerpt<'a> {\n",
    "        part: &'a str,\n",
    "    }\n",
    "\n",
    "    let novel = String::from(\"Call me Ishmael. Some years ago...\");\n",
    "    let first_sentence = novel.split('.')\n",
    "        .next()\n",
    "        .expect(\"Could not find a '.'\");\n",
    "    let i = ImportantExcerpt { part: first_sentence };\n",
    "    println!(\"{:#?}\", i);\n",
    "}\n",
    "main();"
   ]
  },
  {
   "cell_type": "markdown",
   "metadata": {
    "deletable": false,
    "editable": true
   },
   "source": [
    "Annotations lifetime dans les définitions des methodes\n",
    "---"
   ]
  },
  {
   "cell_type": "markdown",
   "metadata": {
    "deletable": false,
    "editable": true
   },
   "source": [
    "Il est obligatoire de :\n",
    "* déclarer le paramètre lifetime (ici 'a) après le mot clé `impl`\n",
    "* utiliser le paramètre lifetime après le nom du type\n",
    "\n",
    "Il n'est pas nécessaire d'annoter la durée de vie de la référence vers self."
   ]
  },
  {
   "cell_type": "code",
   "execution_count": null,
   "metadata": {
    "deletable": false,
    "editable": true
   },
   "outputs": [],
   "source": [
    "fn main() {\n",
    "    struct ImportantExcerpt<'a> {\n",
    "        part: &'a str,\n",
    "    }\n",
    "    impl<'a> ImportantExcerpt<'a> {\n",
    "        fn announce_and_return_part(&self, announcement: &str) -> &str {\n",
    "            println!(\"Attention please: {}\", announcement);\n",
    "            self.part\n",
    "        }\n",
    "    }\n",
    "}"
   ]
  },
  {
   "cell_type": "markdown",
   "metadata": {
    "deletable": false,
    "editable": true
   },
   "source": [
    "Durée de vie statique\n",
    "---"
   ]
  },
  {
   "cell_type": "markdown",
   "metadata": {
    "deletable": false,
    "editable": true
   },
   "source": [
    "Les durées de vie statiques permettent de référencer des variables statiques ou des données qui ne changent pas. La durée de vie statique est égale à la durée du programme. \n",
    "\n",
    "Toutes les chaînes de littéraux ont une durée de vie statique qui peut être annotée ainsi :"
   ]
  },
  {
   "cell_type": "code",
   "execution_count": null,
   "metadata": {
    "deletable": false,
    "editable": true
   },
   "outputs": [],
   "source": [
    "let s: &'static str = \"I have a static lifetime.\";"
   ]
  },
  {
   "cell_type": "markdown",
   "metadata": {
    "deletable": false,
    "editable": true
   },
   "source": [
    "Exercices\n",
    "==="
   ]
  },
  {
   "cell_type": "markdown",
   "metadata": {
    "deletable": false,
    "editable": true
   },
   "source": [
    "__Exercice 1:__ Identifier les erreurs dans le code et corriger-les."
   ]
  },
  {
   "cell_type": "code",
   "execution_count": null,
   "metadata": {},
   "outputs": [],
   "source": [
    "fn main() {\n",
    "    let mut x = 5;\n",
    "\n",
    "    let y = &mut x;\n",
    "\n",
    "    *y += 1;\n",
    "\n",
    "    println!(\"{}\", x);\n",
    "    // résultat attendu : le code affiche 6 \n",
    "    println!(\"{}\", y);\n",
    "}\n",
    "main();"
   ]
  },
  {
   "cell_type": "markdown",
   "metadata": {
    "deletable": false,
    "editable": true
   },
   "source": [
    "__Solution:__ "
   ]
  },
  {
   "cell_type": "code",
   "execution_count": null,
   "metadata": {
    "deletable": false,
    "editable": true,
    "hide_input": true
   },
   "outputs": [],
   "source": [
    "fn main() {\n",
    "    let mut x = 5;\n",
    "\n",
    "    {\n",
    "        let y = &mut x; // -+ &mut borrow starts here\n",
    "        *y += 1;        //  |\n",
    "    }                   // -+ ... and ends here\n",
    "\n",
    "    println!(\"{}\", x);  // <- try to borrow x here\n",
    "}\n",
    "main();"
   ]
  }
 ],
 "metadata": {
  "kernelspec": {
   "display_name": "Rust",
   "language": "rust",
   "name": "rust"
  },
  "language_info": {
   "codemirror_mode": "rust",
   "file_extension": ".rs",
   "mimetype": "text/rust",
   "name": "Rust",
   "pygment_lexer": "rust",
   "version": ""
  }
 },
 "nbformat": 4,
 "nbformat_minor": 2
}
