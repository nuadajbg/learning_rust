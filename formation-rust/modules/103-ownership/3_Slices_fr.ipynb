{
 "cells": [
  {
   "cell_type": "markdown",
   "metadata": {
    "deletable": false,
    "editable": true
   },
   "source": [
    "# Le type slice"
   ]
  },
  {
   "cell_type": "markdown",
   "metadata": {
    "deletable": false,
    "editable": true
   },
   "source": [
    "Les slices permettent de référencer une partie d'une collection (séquence continue d’éléments)."
   ]
  },
  {
   "cell_type": "markdown",
   "metadata": {
    "deletable": false,
    "editable": true
   },
   "source": [
    "Les chaînes de littéraux sont des slices."
   ]
  },
  {
   "cell_type": "code",
   "execution_count": null,
   "metadata": {
    "deletable": false,
    "editable": true
   },
   "outputs": [],
   "source": [
    "let s = \"Hello, world!\";"
   ]
  },
  {
   "cell_type": "markdown",
   "metadata": {
    "deletable": false,
    "editable": true
   },
   "source": [
    "Le type de s est **`&str`** et c'est un slice. Les chaînes de littéraux sont donc immuables; `&str` est une référence immuable."
   ]
  },
  {
   "cell_type": "markdown",
   "metadata": {
    "deletable": false,
    "editable": true
   },
   "source": [
    "Slices des String \n",
    "---"
   ]
  },
  {
   "cell_type": "markdown",
   "metadata": {
    "deletable": false,
    "editable": true
   },
   "source": [
    "Un slice de String est une référence à une partie de d'un String :"
   ]
  },
  {
   "cell_type": "code",
   "execution_count": null,
   "metadata": {
    "deletable": false,
    "editable": true
   },
   "outputs": [],
   "source": [
    "{\n",
    "    let s = String::from(\"hello world\");\n",
    "    let hello = &s[0..5];\n",
    "    let world = &s[6..11];\n",
    "}"
   ]
  },
  {
   "cell_type": "markdown",
   "metadata": {
    "deletable": false,
    "editable": true
   },
   "source": [
    "En utilisant la syntaxe **[..]** on peut ne pas préciser le début de l’intervalle quand il commence à zéro. Les deux lignes suivantes sont équivalentes :"
   ]
  },
  {
   "cell_type": "code",
   "execution_count": null,
   "metadata": {
    "deletable": false,
    "editable": true
   },
   "outputs": [],
   "source": [
    "{\n",
    "    let s = String::from(\"hello\");\n",
    "    let slice = &s[0..2];\n",
    "    let slice = &s[..2];\n",
    "}"
   ]
  },
  {
   "cell_type": "markdown",
   "metadata": {
    "deletable": false,
    "editable": true
   },
   "source": [
    "La même règle s’applique pour la fin de l’intervalle. Les deux lignes suivantes sont équivalentes :"
   ]
  },
  {
   "cell_type": "code",
   "execution_count": null,
   "metadata": {
    "deletable": false,
    "editable": true
   },
   "outputs": [],
   "source": [
    "{\n",
    "    let s = String::from(\"hello\");\n",
    "\n",
    "    let len = s.len();\n",
    "\n",
    "    let slice = &s[3..len];\n",
    "    let slice = &s[3..];\n",
    "}"
   ]
  },
  {
   "cell_type": "markdown",
   "metadata": {
    "deletable": false,
    "editable": true
   },
   "source": [
    "Exercices\n",
    "==="
   ]
  },
  {
   "cell_type": "markdown",
   "metadata": {
    "deletable": false,
    "editable": true
   },
   "source": [
    "**Exercice 1:** La fonction suivante prend comme paramètre une chaîne de caractères et doit retourner le premier mot rencontré. S’il n’y a pas d’espace dans le texte, la fonction retourne la chaîne de caractères dans sa totalité. Compléter le code pour obtenir ce résultat."
   ]
  },
  {
   "cell_type": "code",
   "execution_count": null,
   "metadata": {},
   "outputs": [],
   "source": [
    "fn first_word(s: &String) -> &str {\n",
    "    let bytes = s.as_bytes();\n",
    "\n",
    "    for (i, &item) in bytes.iter().enumerate() { // itérer sur les bytes du String\n",
    "        if item == b' ' { //vérifier si le byte correspond à l'espace (on a rencontré donc un mot)\n",
    "            // TO DO (1) Ecrire le code qui retourne le premier mot\n",
    "            return \n",
    "        }\n",
    "    }\n",
    "    // TO DO (2) Ecrire le code qui retourne toute la chaîne de caractères\n",
    "    \n",
    "}\n",
    "\n",
    "fn main() {\n",
    "    let mut s = String::from(\"hello world\");\n",
    "\n",
    "    let word = first_word(&s);\n",
    "    \n",
    "    //TO DO (3) Décommenter la ligne suivante et essayer d'expliquer ce qui se passe\n",
    "    // s.clear();\n",
    "\n",
    "    println!(\"the first word is: {}\", word);\n",
    "}\n",
    "main();"
   ]
  },
  {
   "cell_type": "markdown",
   "metadata": {
    "deletable": false,
    "editable": true,
    "hide_input": true
   },
   "source": [
    "**Solution:**"
   ]
  },
  {
   "cell_type": "code",
   "execution_count": null,
   "metadata": {
    "deletable": false,
    "editable": true,
    "hide_input": true
   },
   "outputs": [],
   "source": [
    "fn first_word(s: &String) -> &str {\n",
    "    let bytes = s.as_bytes(); // convert our String to an array of bytes\n",
    "\n",
    "    for (i, &item) in bytes.iter().enumerate() { // iterate on the String's bytes\n",
    "        if item == b' ' { //check if the byte is equal to blanc space, which means we've got a word\n",
    "            // TO DO (1) Write the statement that returns the first word\n",
    "            return &s[0..i];\n",
    "        }\n",
    "    }\n",
    "    // TO DO (2) Write the statement that returns the entire string\n",
    "    &s[..]\n",
    "}\n",
    "\n",
    "fn main() {\n",
    "    let mut s = String::from(\"hello world\");\n",
    "\n",
    "    let word = first_word(&s);\n",
    "    \n",
    "    //TO DO (3) uncomment the following line and try to explain what happens\n",
    "    // s.clear(); // this empties the String, making it equal to \"\"\n",
    "\n",
    "    println!(\"the first word is: {}\", word);\n",
    "}\n",
    "main();"
   ]
  },
  {
   "cell_type": "markdown",
   "metadata": {
    "deletable": false,
    "editable": true
   },
   "source": [
    "L’erreur à la ligne (3) : quand on a une référence immuable vers une donnée, on ne peut pas prendre une deuxième référence mutable vers cette donnée. `clear` veut tronquer le String, il essaye de prendre une référence mutable et cela provoque l’erreur."
   ]
  },
  {
   "cell_type": "markdown",
   "metadata": {
    "deletable": false,
    "editable": true
   },
   "source": [
    "**Exercice 2:** Re-écrire le code du jeu fizz buzz en utilisant la syntaxe \"if in a let\" et un seul println!  "
   ]
  },
  {
   "cell_type": "code",
   "execution_count": null,
   "metadata": {},
   "outputs": [],
   "source": [
    "fn main() {\n",
    "}\n",
    "main();"
   ]
  },
  {
   "cell_type": "markdown",
   "metadata": {
    "deletable": false,
    "editable": true
   },
   "source": [
    "**Solution:**"
   ]
  },
  {
   "cell_type": "code",
   "execution_count": null,
   "metadata": {
    "deletable": false,
    "editable": true,
    "hide_input": true
   },
   "outputs": [],
   "source": [
    "fn main() {\n",
    "    for number in 1..20 {\n",
    "        let value: String;\n",
    "        let result = if number % 3 == 0 {\n",
    "            if number % 5 == 0 {\"Fizz Buzz\"} else { \"Fizz\"}\n",
    "        } else if number % 5 == 0 {\n",
    "            \"Buzz\"\n",
    "        } else {\n",
    "            value = number.to_string();\n",
    "            &*value\n",
    "        };\n",
    "        println!(\"Result {}\", result);\n",
    "    }\n",
    "}\n",
    "main();"
   ]
  }
 ],
 "metadata": {
  "kernelspec": {
   "display_name": "Rust",
   "language": "rust",
   "name": "rust"
  },
  "language_info": {
   "codemirror_mode": "rust",
   "file_extension": ".rs",
   "mimetype": "text/rust",
   "name": "Rust",
   "pygment_lexer": "rust",
   "version": ""
  }
 },
 "nbformat": 4,
 "nbformat_minor": 2
}
