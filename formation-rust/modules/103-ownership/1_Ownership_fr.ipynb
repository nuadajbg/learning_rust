{
 "cells": [
  {
   "cell_type": "markdown",
   "metadata": {
    "deletable": false,
    "editable": true
   },
   "source": [
    "# Ownership"
   ]
  },
  {
   "cell_type": "markdown",
   "metadata": {
    "deletable": false,
    "editable": true
   },
   "source": [
    "Tous les programmes doivent gérer la façon dont ils utilisent la mémoire lors de l'exécution. Certains langages ont\n",
    "un système de ramasse-miettes qui recherche constamment la mémoire non utilisée pendant l'exécution du programme ; \n",
    "dans d'autres langages, le programmeur doit explicitement allouer et libérer la mémoire. Rust utilise une troisième\n",
    "approche : la mémoire est gérée par un système de propriété (ownership) avec un ensemble de règles que le compilateur \n",
    "vérifie au moment de la compilation. "
   ]
  },
  {
   "cell_type": "markdown",
   "metadata": {
    "deletable": false,
    "editable": true
   },
   "source": [
    "Règles de ownership (propriété)\n",
    "---\n",
    "* Chaque valeur en Rust a une variable appelée <strong>owner</strong> (propriétaire).\n",
    "* Il ne peut y avoir qu'un seul owner à la fois.\n",
    "* Quand on sort de la portée du owner la valeur est supprimée."
   ]
  },
  {
   "cell_type": "markdown",
   "metadata": {
    "deletable": false,
    "editable": true
   },
   "source": [
    "La portée des variables (Variable scope)\n",
    "---"
   ]
  },
  {
   "cell_type": "code",
   "execution_count": null,
   "metadata": {
    "deletable": false,
    "editable": true,
    "vscode": {
     "languageId": "rust"
    }
   },
   "outputs": [],
   "source": [
    "{                      // s n'est pas valide ici, elle n'a pas encore été déclarée\n",
    "    let s = \"hello\";   // s est valide à partir d'ici\n",
    "\n",
    "    // utiliser la variable s\n",
    "}"
   ]
  },
  {
   "cell_type": "markdown",
   "metadata": {
    "deletable": false,
    "editable": true
   },
   "source": [
    "L’utilisation des chaînes littérales n’est pas toujours la plus adaptée lorsqu’on souhaite manipuler du texte. Une des raisons est qu’elles sont <em>immuables</em>. Une deuxième raison est liée au fait qu’on ne connaît pas toujours leurs valeurs quand on écrit du code : par exemple, lorsqu’on demande à l’utilisateur de les rentrer et qu’on les stocke après. Dans ces cas là, Rust offre la possibilité d’utiliser un autre type : <strong>String</strong>. Ce type est alloué sur la mémoire de tas et peut ainsi stocker une quantité de texte inconnue au moment de la compilation.\n",
    "On peut créer un String à partir d’une chaîne littérale ainsi :"
   ]
  },
  {
   "cell_type": "code",
   "execution_count": 2,
   "metadata": {
    "deletable": false,
    "editable": true,
    "vscode": {
     "languageId": "rust"
    }
   },
   "outputs": [],
   "source": [
    "let s = String::from(\"hello\"); // ce type est alloué sur la mémoire de tas (heap)"
   ]
  },
  {
   "cell_type": "markdown",
   "metadata": {
    "deletable": false,
    "editable": true
   },
   "source": [
    "Mémoire et allocation de la mémoire\n",
    "---"
   ]
  },
  {
   "cell_type": "markdown",
   "metadata": {
    "deletable": false,
    "editable": true
   },
   "source": [
    "En Rust, la mémoire est automatiquement libérée lorsque la variable qui en garde la propriété sort du contexte (n'est plus valide). "
   ]
  },
  {
   "cell_type": "code",
   "execution_count": null,
   "metadata": {
    "deletable": false,
    "editable": true,
    "vscode": {
     "languageId": "rust"
    }
   },
   "outputs": [],
   "source": [
    "{\n",
    "    let s = String::from(\"hello\"); // s est valide à partir d'ici\n",
    "\n",
    "    // utiliser s\n",
    "    \n",
    "} // fin du contexte,\n",
    "  // s n'est plus valide"
   ]
  },
  {
   "cell_type": "markdown",
   "metadata": {
    "deletable": false,
    "editable": true
   },
   "source": [
    "Lorsqu’une variable sort du contexte, Rust appele une fonction spéciale : [**`drop`**](https://doc.rust-lang.org/std/mem/fn.drop.html). Dans cet exemple, en implémentant la fonction drop pour le type String, on peut y introduire du code qu’on souhaite exécuter au moment du nettoyage de la mémoire. Rust appelera automatiquement la fonction [`drop`](https://doc.rust-lang.org/std/mem/fn.drop.html) sur le crochet fermant."
   ]
  },
  {
   "cell_type": "markdown",
   "metadata": {
    "deletable": false,
    "editable": true
   },
   "source": [
    "> **Note:** En C++, ce mode de désallocation de ressources à la fin de vie d'un item est parfois appelé *Resource Acquisition Is Initialization (RAII)*. Si vous avez déjà utilisé des patrons RAII, la fonction drop de Rust devrait vous être familière."
   ]
  },
  {
   "cell_type": "markdown",
   "metadata": {
    "deletable": false,
    "editable": true
   },
   "source": [
    "Interaction des variables et des données : Move\n",
    "---"
   ]
  },
  {
   "cell_type": "code",
   "execution_count": null,
   "metadata": {
    "deletable": false,
    "editable": true,
    "vscode": {
     "languageId": "rust"
    }
   },
   "outputs": [],
   "source": [
    "let s1 = String::from(\"hello\");\n",
    "let s2 = s1;"
   ]
  },
  {
   "cell_type": "markdown",
   "metadata": {
    "deletable": false,
    "editable": true
   },
   "source": [
    "<img src=\"ownership-01.jpg\" width=\"350\" heigh=\"350\"/>"
   ]
  },
  {
   "cell_type": "markdown",
   "metadata": {
    "deletable": false,
    "editable": true
   },
   "source": [
    "Un String est constitué de trois parties (à gauche de l’image) : un pointeur vers la zone de mémoire qui garde le contenu de la chaîne de caractères, une longeur (length), et une capacité. Ce groupe de données est stocké sur la pile. A droite de l’image est représentée la zone de mémoire de tas qui garde les contenus."
   ]
  },
  {
   "cell_type": "markdown",
   "metadata": {
    "deletable": false,
    "editable": true
   },
   "source": [
    "Lorsqu’on attribue s1 à s2, les données du String (les données sur la pile : pointeur, lonegeur, capacité) sont copiées. En revanche, les données de tas référencées par le pointeur ne sont pas copiées."
   ]
  },
  {
   "cell_type": "markdown",
   "metadata": {
    "deletable": false,
    "editable": true
   },
   "source": [
    "<img src=\"ownership-02.jpg\" width=\"350\" heigh=\"350\"/>"
   ]
  },
  {
   "cell_type": "markdown",
   "metadata": {
    "deletable": false,
    "editable": true
   },
   "source": [
    "Imaginons ce qui se passerait si Rust copiait également les données de tas : l’opération s2 = s1 serait très coûteuse au moment de l’exécution si la taille des données était très importante. Lorsque les variables s2 et s1 seraient hors de contexte, elles essayeraient toutes les deux de libérer la même zone de mémoire. Ceci causerait une erreur de sécurité de la mémoire connue sous le nom de «  double free error ». Essayer de libérer le même espace de mémoire deux fois peut engendrer une corruption de la mémoire et introduire des vulnérabilités dans le système."
   ]
  },
  {
   "cell_type": "markdown",
   "metadata": {
    "deletable": false,
    "editable": true
   },
   "source": [
    "Afin de préserver la sécurité de la mémoire, Rust ne copie pas la mémoire allouée mais tout simplement considère que s1 n’est plus valide. Par conséquent, lorsque s1 est hors de contexte, il n’est plus nécessaire de libérer l’espace alloué par cette variable. Vérifiez ce qui se passe si vous essayez d’utiliser s1 après qu’il a été attribué à s2. Ça ne marchera pas !"
   ]
  },
  {
   "cell_type": "markdown",
   "metadata": {
    "deletable": false,
    "editable": true
   },
   "source": [
    "Le fait de copier le pointeur, la taille et la capacité sans copier le contenu des données vous rappele peut-être le mécanisme qui, dans d’autres langages, est connu sous le terme de *shallow copy* ou *deep copy*. Mais en réalité, puisque Rust invalide la première variable (qui est copiée), on appele cette opération **move**. Dans cet exemple, on dit que s1 a été déplacée (moved) dans s2."
   ]
  },
  {
   "cell_type": "markdown",
   "metadata": {
    "deletable": false,
    "editable": true
   },
   "source": [
    "Interaction des variables et des données :: Clone\n",
    "---"
   ]
  },
  {
   "cell_type": "markdown",
   "metadata": {
    "deletable": false,
    "editable": true
   },
   "source": [
    "Pour effectuer une copie de l’intégralité des données (pile + tas), on peut utiliser la fonction **clone**."
   ]
  },
  {
   "cell_type": "code",
   "execution_count": null,
   "metadata": {
    "deletable": false,
    "editable": true,
    "vscode": {
     "languageId": "rust"
    }
   },
   "outputs": [],
   "source": [
    "let s1 = String::from(\"hello\");\n",
    "let s2 = s1.clone();\n",
    "\n",
    "println!(\"s1 = {}, s2 = {}\", s1, s2);"
   ]
  },
  {
   "cell_type": "markdown",
   "metadata": {
    "deletable": false,
    "editable": true
   },
   "source": [
    "L’image ci-dessus illustre ce qui se passe lors de l’utilisation de la fonction clone."
   ]
  },
  {
   "cell_type": "markdown",
   "metadata": {
    "deletable": false,
    "editable": true
   },
   "source": [
    "<img src=\"ownership-03.jpg\" width=\"350\" height=\"350\"/>"
   ]
  },
  {
   "cell_type": "markdown",
   "metadata": {
    "deletable": false,
    "editable": true
   },
   "source": [
    "Les types de données ayant une taille connue au moment de la compilation, comme par exemple les entiers, sont entièrement stockés sur la pile, donc leur copie est rapide. Pour cette raison là, il n’est pas nécessaire d’invalider une variable après l’avoir copiée, comme montré dans l’exemple suivant :"
   ]
  },
  {
   "cell_type": "code",
   "execution_count": null,
   "metadata": {
    "deletable": false,
    "editable": true,
    "vscode": {
     "languageId": "rust"
    }
   },
   "outputs": [],
   "source": [
    "let x = 5;\n",
    "let y = x;\n",
    "println!(\"x = {}, y = {}\", x, y);"
   ]
  },
  {
   "cell_type": "markdown",
   "metadata": {
    "deletable": false,
    "editable": true
   },
   "source": [
    "Rust a une annotation spéciale appelée le trait **Copy**, que l’on peut appliquer aux types stockés sur la pile (comme le type integer). Si le trait Copy est implémenté par un type, une variable plus ancienne peut toujours être utilisée après attribution."
   ]
  },
  {
   "cell_type": "markdown",
   "metadata": {
    "deletable": false,
    "editable": true
   },
   "source": [
    "> **trait** = un ensemble de méthodes que l'objet sur lequel il est appliqué doit implémenter"
   ]
  },
  {
   "cell_type": "markdown",
   "metadata": {
    "deletable": false,
    "editable": true
   },
   "source": [
    "Quelques types *Copy*:\n",
    "\n",
    "* Tous les types d'entiers, comme par exemple `u32`.\n",
    "* Le type booléen, `bool`, avec les valeurs `true` et `false`.\n",
    "* Tous les types floating point, comme le `f64`.\n",
    "* Le type caractère, `char`.\n",
    "* Les tuples, uniquement s'ils contiennent des types qui sont également Copy. Par exemple, `(i32, i32)` est Copy, mais pas `(i32, String)`.\n"
   ]
  },
  {
   "cell_type": "markdown",
   "metadata": {
    "deletable": false,
    "editable": true
   },
   "source": [
    "Ownership et fonctions\n",
    "---"
   ]
  },
  {
   "cell_type": "markdown",
   "metadata": {
    "deletable": false,
    "editable": true
   },
   "source": [
    "Pour passer une valeur à une fonction, on utilise la même sémantique que dans le cas de l’attribution d’une valeur à une variable."
   ]
  },
  {
   "cell_type": "code",
   "execution_count": null,
   "metadata": {
    "deletable": false,
    "editable": true,
    "vscode": {
     "languageId": "rust"
    }
   },
   "outputs": [],
   "source": [
    "fn main() {\n",
    "    let s = String::from(\"hello\");  // s entre en contexte\n",
    "\n",
    "    takes_ownership(s);             // la valeur de s est déplacée (move) dans la fonction...\n",
    "                                    // ... et donc à partir d'ici elle n'est plus disponible\n",
    "\n",
    "    let x = 5;                      // x entre en contexte\n",
    "\n",
    "    makes_copy(x);                  // x serait aussi déplacée dans la fonction,\n",
    "                                    // mais i32 étant Copy,\n",
    "                                    // on peut toujours utiliser x par la suite\n",
    "\n",
    "} // Ici, x sort du contexte, ensuite s sort du contexte. Comme la valeur de s a été déplacée (move),\n",
    "  // aucune action supplémentaire n'est nécessaire.\n",
    "\n",
    "fn takes_ownership(some_string: String) { // some_string entre en contexte\n",
    "    println!(\"{}\", some_string);\n",
    "} // Ici, some_string est hors contexte et `drop` est appélé. La mémoire est libérée\n",
    "\n",
    "fn makes_copy(some_integer: i32) { // some_integer entre en contexte\n",
    "    println!(\"{}\", some_integer);\n",
    "} // Ici, some_integer est hors contexte. Aucune autre action n'est nécessaire.\n",
    "main();"
   ]
  },
  {
   "cell_type": "markdown",
   "metadata": {
    "deletable": false,
    "editable": true
   },
   "source": [
    "Valeurs retournées et leurs portées\n",
    "---\n",
    "Le transfert de propriété (ownership) peut également se faire par l’intermédiaire des valeurs retournées."
   ]
  },
  {
   "cell_type": "code",
   "execution_count": null,
   "metadata": {
    "deletable": false,
    "editable": true,
    "vscode": {
     "languageId": "rust"
    }
   },
   "outputs": [],
   "source": [
    "fn main() {\n",
    "    let s1 = gives_ownership();         // gives_ownership retourne une valeur qui est déplacée (move) dans s1\n",
    "\n",
    "    let s2 = String::from(\"hello\");     // s2 entre en contexte\n",
    "\n",
    "    let s3 = takes_and_gives_back(s2);  // s2 est déplacée (move) dans takes_and_gives_back,\n",
    "                                        // la valeur retournée par takes_and_gives_back est déplacée dans s3\n",
    "    \n",
    "} // Ici, s3 sort du contexte et est supprimée (dropped). s2 sort du contexte mais comme elle a été déplacée,\n",
    "  // rien d'autre n'arrive. s1 sort du contexte et est supprimée.\n",
    "\n",
    "fn gives_ownership() -> String {         // gives_ownership déplace (move)\n",
    "                                             // la valeur retournée dans la fonction d'appel\n",
    "                                            \n",
    "\n",
    "    let some_string = String::from(\"hello\"); // some_string entre en contexte\n",
    "\n",
    "    some_string                              // some_string est retournée et\n",
    "                                             // est déplacée dans la fonction d'appel\n",
    "                                             \n",
    "}\n",
    "\n",
    "// takes_and_gives_back prend un String en paramètre et retourne un autre String\n",
    "fn takes_and_gives_back(a_string: String) -> String { // a_string entre en contexte\n",
    "\n",
    "    a_string  // a_string est retournée et est déplacée dans la fonction d'appel\n",
    "}"
   ]
  },
  {
   "cell_type": "markdown",
   "metadata": {},
   "source": [
    "Exercices\n",
    "==="
   ]
  },
  {
   "cell_type": "markdown",
   "metadata": {},
   "source": [
    "**Exercice 1**: Corriger le code suivant pour que cela fonctionne, sans toucher à la fonction `into_degrees`."
   ]
  },
  {
   "cell_type": "code",
   "execution_count": null,
   "metadata": {
    "vscode": {
     "languageId": "rust"
    }
   },
   "outputs": [],
   "source": [
    "#[derive(Debug)]\n",
    "struct GeoCoordinate {\n",
    "    latitude: f64,\n",
    "    longitude: f64\n",
    "}\n",
    "\n",
    "impl GeoCoordinate {\n",
    "    fn into_degrees(self) -> Self {\n",
    "        GeoCoordinate {\n",
    "            latitude: self.latitude.to_degrees(),\n",
    "            longitude: self.longitude.to_degrees(),\n",
    "        }\n",
    "    }\n",
    "}\n",
    "\n",
    "fn main() {\n",
    "    let radians = GeoCoordinate { latitude: 1.0, longitude: 1.5 };\n",
    "    let degrees = radians.into_degrees();\n",
    "    println!(\"radians = {:?}, degrees = {:?}\", radians, degrees);\n",
    "}\n",
    "\n",
    "main();"
   ]
  },
  {
   "cell_type": "code",
   "execution_count": null,
   "metadata": {
    "vscode": {
     "languageId": "rust"
    }
   },
   "outputs": [],
   "source": [
    "#[derive(Debug, Copy, Clone)]\n",
    "struct GeoCoordinate {\n",
    "    latitude: f64,\n",
    "    longitude: f64\n",
    "}\n",
    "\n",
    "impl GeoCoordinate {\n",
    "    fn into_degrees(self) -> Self {\n",
    "        GeoCoordinate {\n",
    "            latitude: self.latitude.to_degrees(),\n",
    "            longitude: self.longitude.to_degrees(),\n",
    "        }\n",
    "    }\n",
    "}\n",
    "\n",
    "fn main() {\n",
    "    let radians = GeoCoordinate { latitude: 1.0, longitude: 1.5 };\n",
    "    let degrees = radians.into_degrees();\n",
    "    println!(\"radians = {:?}, degrees = {:?}\", radians, degrees);\n",
    "}\n",
    "\n",
    "main();"
   ]
  }
 ],
 "metadata": {
  "kernelspec": {
   "display_name": "Rust",
   "language": "rust",
   "name": "rust"
  },
  "language_info": {
   "codemirror_mode": "rust",
   "file_extension": ".rs",
   "mimetype": "text/rust",
   "name": "Rust",
   "pygment_lexer": "rust",
   "version": ""
  }
 },
 "nbformat": 4,
 "nbformat_minor": 2
}
