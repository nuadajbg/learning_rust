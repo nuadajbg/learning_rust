{
 "cells": [
  {
   "cell_type": "markdown",
   "metadata": {},
   "source": [
    "# References and borrowing"
   ]
  },
  {
   "cell_type": "markdown",
   "metadata": {},
   "source": [
    "Here is how you would define and use a calculate_length function that has a reference to an object as a parameter instead of taking ownership of the value. The ampersands are **references**, and they allow you to refer to some value without taking ownership of it:"
   ]
  },
  {
   "cell_type": "code",
   "execution_count": null,
   "metadata": {},
   "outputs": [],
   "source": [
    "fn main() {\n",
    "    let s1 = String::from(\"hello\");\n",
    "\n",
    "    let len = calculate_length(&s1);\n",
    "\n",
    "    println!(\"The length of '{}' is {}.\", s1, len);\n",
    "}\n",
    "\n",
    "fn calculate_length(s: &String) -> usize {\n",
    "    s.len()\n",
    "}\n",
    "main();"
   ]
  },
  {
   "cell_type": "markdown",
   "metadata": {},
   "source": [
    "<img src=\"references-01.jpg\" width=\"350\" height=\"350\"/>"
   ]
  },
  {
   "cell_type": "markdown",
   "metadata": {},
   "source": [
    "> **Note:** The opposite of referencing by using **`&`** is **dereferencing**, which is accomplished with the dereference operator, **`*`**. "
   ]
  },
  {
   "cell_type": "markdown",
   "metadata": {},
   "source": [
    "We call having references as function parameters **borrowing**. As in real life, if a person owns something, you can borrow it from them. When you’re done, you have to give it back."
   ]
  },
  {
   "cell_type": "markdown",
   "metadata": {},
   "source": [
    "Just as variables are immutable by default, so are references. We’re not allowed to modify something we have a reference to."
   ]
  },
  {
   "cell_type": "code",
   "execution_count": null,
   "metadata": {},
   "outputs": [],
   "source": [
    "fn main() {\n",
    "    let s = String::from(\"hello\");\n",
    "\n",
    "    change(&s);\n",
    "}\n",
    "\n",
    "fn change(some_string: &String) {\n",
    "    some_string.push_str(\", world\");\n",
    "}\n",
    "main();"
   ]
  },
  {
   "cell_type": "markdown",
   "metadata": {},
   "source": [
    "Mutable References\n",
    "---"
   ]
  },
  {
   "cell_type": "code",
   "execution_count": null,
   "metadata": {},
   "outputs": [],
   "source": [
    "fn main() {\n",
    "    let mut s = String::from(\"hello\");\n",
    "\n",
    "    change(&mut s);\n",
    "}\n",
    "\n",
    "fn change(some_string: &mut String) {\n",
    "    some_string.push_str(\", world\");\n",
    "}\n",
    "main();"
   ]
  },
  {
   "cell_type": "markdown",
   "metadata": {},
   "source": [
    "Mutable references have one big restriction: you can have **only one mutable reference** to a particular piece of data in a particular scope. This code will fail:"
   ]
  },
  {
   "cell_type": "code",
   "execution_count": null,
   "metadata": {},
   "outputs": [],
   "source": [
    "fn main() {\n",
    "    let mut s = String::from(\"hello\");\n",
    "\n",
    "    let r1 = &mut s;\n",
    "    let r2 = &mut s;\n",
    "\n",
    "    println!(\"{}, {}\", r1, r2);\n",
    "}\n",
    "main();"
   ]
  },
  {
   "cell_type": "markdown",
   "metadata": {},
   "source": [
    "The benefit of having this restriction is that Rust can prevent *data races* at compile time. A data race is similar to a race condition and happens when these three behaviors occur:\n",
    "\n",
    "* Two or more pointers access the same data at the same time.\n",
    "* At least one of the pointers is being used to write to the data.\n",
    "* There’s no mechanism being used to synchronize access to the data.\n"
   ]
  },
  {
   "cell_type": "markdown",
   "metadata": {},
   "source": [
    "A similar rule exists for combining mutable and immutable references. We cannot have a mutable reference while we have an immutable one. Users of an immutable reference don’t expect the values to suddenly change out from under them! This code results in an error:"
   ]
  },
  {
   "cell_type": "code",
   "execution_count": null,
   "metadata": {},
   "outputs": [],
   "source": [
    "fn main() {\n",
    "    let mut s = String::from(\"hello\");\n",
    "\n",
    "    let r1 = &s; // no problem\n",
    "    let r2 = &s; // no problem\n",
    "    let r3 = &mut s; // BIG PROBLEM\n",
    "\n",
    "    println!(\"{}, {}, and {}\", r1, r2, r3);\n",
    "}\n",
    "main();"
   ]
  },
  {
   "cell_type": "markdown",
   "metadata": {},
   "source": [
    "Dangling pointer\n",
    "---"
   ]
  },
  {
   "cell_type": "markdown",
   "metadata": {},
   "source": [
    "In languages with pointers, it’s easy to erroneously create a **dangling pointer** (a pointer that references a location in memory that may have been given to someone else) by freeing some memory while preserving a pointer to that memory. In Rust, by contrast, the compiler guarantees that references will never be dangling references: if you have a reference to some data, the compiler will ensure that the data will not go out of scope before the reference to the data does."
   ]
  },
  {
   "cell_type": "markdown",
   "metadata": {},
   "source": [
    "Example of a dangling pointer:"
   ]
  },
  {
   "cell_type": "code",
   "execution_count": null,
   "metadata": {},
   "outputs": [],
   "source": [
    "fn main() {\n",
    "    let reference_to_nothing = dangle();\n",
    "}\n",
    "\n",
    "fn dangle() -> &String {\n",
    "    let s = String::from(\"hello\");\n",
    "\n",
    "    &s // we return a reference to the String, s\n",
    "} // Here, s goes out of scope, and is dropped. Its memory goes away.\n",
    "  // Danger!\n",
    "\n",
    "main();"
   ]
  },
  {
   "cell_type": "markdown",
   "metadata": {},
   "source": [
    "The solution here is to return the String directly:"
   ]
  },
  {
   "cell_type": "code",
   "execution_count": null,
   "metadata": {},
   "outputs": [],
   "source": [
    "fn no_dangle() -> String {\n",
    "    let s = String::from(\"hello\");\n",
    "\n",
    "    s\n",
    "}"
   ]
  },
  {
   "cell_type": "markdown",
   "metadata": {},
   "source": [
    "Validating References with Lifetimes\n",
    "==="
   ]
  },
  {
   "cell_type": "markdown",
   "metadata": {},
   "source": [
    "Every reference in Rust has a **lifetime**, which is the scope for which that reference is valid. Most of the time, lifetimes are implicit and inferred, just like most of the time, types are inferred. We must annotate types when multiple types are possible. In a similar way, we must annotate lifetimes when the lifetimes of references could be related in a few different ways. Rust requires us to annotate the relationships using generic lifetime parameters to ensure the actual references used at runtime will definitely be valid.\n",
    "\n",
    "The Rust compiler has a borrow checker that compares scopes to determine whether all borrows are valid. "
   ]
  },
  {
   "cell_type": "code",
   "execution_count": null,
   "metadata": {},
   "outputs": [],
   "source": [
    "// the following code will not compile because the lifetime of x ('b) is shorter than the lifetime of r ('a)\n",
    "{\n",
    "    let r;                // ---------+-- 'a\n",
    "                          //          |\n",
    "    {                     //          |\n",
    "        let x = 5;        // -+-- 'b  |\n",
    "        r = &x;           //  |       |\n",
    "    }                     // -+       |\n",
    "                          //          |\n",
    "    println!(\"r: {}\", r); //          |\n",
    "} "
   ]
  },
  {
   "cell_type": "code",
   "execution_count": null,
   "metadata": {},
   "outputs": [],
   "source": [
    "// this code compiles\n",
    "fn main() {\n",
    "    let x = 5;            // ----------+-- 'b\n",
    "                          //           |\n",
    "    let r = &x;           // --+-- 'a  |\n",
    "                          //   |       |\n",
    "    println!(\"r: {}\", r); //   |       |\n",
    "                          // --+       |\n",
    "}\n",
    "main();"
   ]
  },
  {
   "cell_type": "markdown",
   "metadata": {},
   "source": [
    "Lifetime annotation syntax\n",
    "---"
   ]
  },
  {
   "cell_type": "markdown",
   "metadata": {},
   "source": [
    "Lifetime annotations describe the relationships of the lifetimes of multiple references to each other without affecting the lifetimes."
   ]
  },
  {
   "cell_type": "markdown",
   "metadata": {},
   "source": [
    "```rust\n",
    "&i32        // a reference\n",
    "&'a i32     // a reference with an explicit lifetime\n",
    "&'a mut i32 // a mutable reference with an explicit lifetime\n",
    "```"
   ]
  },
  {
   "cell_type": "markdown",
   "metadata": {},
   "source": [
    "Lifetime annotations in function signatures\n",
    "---"
   ]
  },
  {
   "cell_type": "code",
   "execution_count": null,
   "metadata": {},
   "outputs": [],
   "source": [
    "/* for some lifetime 'a, the function takes two parameters, \n",
    "   both of which are string slices that live at least as long as lifetime 'a\n",
    "*/\n",
    "fn longest<'a>(x: &'a str, y: &'a str) -> &'a str {\n",
    "    if x.len() > y.len() {\n",
    "        x\n",
    "    } else {\n",
    "        y\n",
    "    }\n",
    "}\n",
    "\n",
    "fn main() {\n",
    "    let string1 = String::from(\"long string is long\");\n",
    "    let string2 = String::from(\"xyz\");\n",
    "    let result = longest(&string1, &string2);\n",
    "    println!(\"The longest string is: \\\"{}\\\"\", result);\n",
    "}\n",
    "main();"
   ]
  },
  {
   "cell_type": "markdown",
   "metadata": {},
   "source": [
    "When a function has references to or from code outside that function, it becomes almost impossible for Rust to figure out the lifetimes of the parameters or return values on its own. The lifetimes might be different each time the function is called. This is why we need to annotate the lifetimes manually.\n",
    "\n",
    "When we pass concrete references to `longest`, the concrete lifetime that is substituted for `'a` is the part of the scope of `x` that overlaps with the scope of `y`. In other words, the generic lifetime `'a` will get the concrete lifetime that is equal to the smaller of the lifetimes of `x` and `y`. "
   ]
  },
  {
   "cell_type": "markdown",
   "metadata": {},
   "source": [
    "Lifetime annotations in struct definitions\n",
    "---"
   ]
  },
  {
   "cell_type": "markdown",
   "metadata": {},
   "source": [
    "It’s possible for structs to hold references, but in that case we would need to add a lifetime annotation on every reference in the struct’s definition."
   ]
  },
  {
   "cell_type": "code",
   "execution_count": null,
   "metadata": {},
   "outputs": [],
   "source": [
    "fn main() {\n",
    "    #[derive(Debug)]\n",
    "    // an instance of ImportantExcerpt can’t outlive the reference it holds in its part field.\n",
    "    struct ImportantExcerpt<'a> {\n",
    "        part: &'a str,\n",
    "    }\n",
    "\n",
    "    let novel = String::from(\"Call me Ishmael. Some years ago...\");\n",
    "    let first_sentence = novel.split('.')\n",
    "        .next()\n",
    "        .expect(\"Could not find a '.'\");\n",
    "    let i = ImportantExcerpt { part: first_sentence };\n",
    "    println!(\"{:#?}\", i);\n",
    "}\n",
    "main();"
   ]
  },
  {
   "cell_type": "markdown",
   "metadata": {},
   "source": [
    "Lifetime annotations in method definitions\n",
    "---"
   ]
  },
  {
   "cell_type": "markdown",
   "metadata": {},
   "source": [
    "The lifetime parameter declaration after `impl` and its use after the type name are required, but we’re not required to annotate the lifetime of the reference to self."
   ]
  },
  {
   "cell_type": "code",
   "execution_count": null,
   "metadata": {},
   "outputs": [],
   "source": [
    "fn main() {\n",
    "    struct ImportantExcerpt<'a> {\n",
    "        part: &'a str,\n",
    "    }\n",
    "    impl<'a> ImportantExcerpt<'a> {\n",
    "        fn announce_and_return_part(&self, announcement: &str) -> &str {\n",
    "            println!(\"Attention please: {}\", announcement);\n",
    "            self.part\n",
    "        }\n",
    "    }\n",
    "}"
   ]
  },
  {
   "cell_type": "markdown",
   "metadata": {},
   "source": [
    "The static lifetime\n",
    "---"
   ]
  },
  {
   "cell_type": "markdown",
   "metadata": {},
   "source": [
    "The static lifetime means the reference can live for the entire duration of the program. All string literals have the **`'static`** lifetime, which we can annotate as follows:"
   ]
  },
  {
   "cell_type": "code",
   "execution_count": null,
   "metadata": {},
   "outputs": [],
   "source": [
    "let s: &'static str = \"I have a static lifetime.\";"
   ]
  },
  {
   "cell_type": "markdown",
   "metadata": {},
   "source": [
    "Exercises\n",
    "==="
   ]
  },
  {
   "cell_type": "markdown",
   "metadata": {},
   "source": [
    "__Exercise 1:__ Identify the errors in the following code and correct them."
   ]
  },
  {
   "cell_type": "code",
   "execution_count": null,
   "metadata": {},
   "outputs": [],
   "source": [
    "fn main() {\n",
    "    let mut x = 5;\n",
    "\n",
    "    let y = &mut x;\n",
    "\n",
    "    *y += 1;\n",
    "\n",
    "    println!(\"{}\", x);\n",
    "    // expect to print 6\n",
    "    println!(\"{}\", y);\n",
    "}\n",
    "main();"
   ]
  },
  {
   "cell_type": "markdown",
   "metadata": {},
   "source": [
    "__Solution:__ "
   ]
  },
  {
   "cell_type": "code",
   "execution_count": null,
   "metadata": {
    "hide_input": true
   },
   "outputs": [],
   "source": [
    "fn main() {\n",
    "    let mut x = 5;\n",
    "\n",
    "    {\n",
    "        let y = &mut x; // -+ &mut borrow starts here\n",
    "        *y += 1;        //  |\n",
    "    }                   // -+ ... and ends here\n",
    "\n",
    "    println!(\"{}\", x);  // <- try to borrow x here\n",
    "}\n",
    "main();"
   ]
  }
 ],
 "metadata": {
  "kernelspec": {
   "display_name": "Rust",
   "language": "rust",
   "name": "rust"
  },
  "language_info": {
   "codemirror_mode": "rust",
   "file_extension": ".rs",
   "mimetype": "text/rust",
   "name": "Rust",
   "pygment_lexer": "rust",
   "version": ""
  }
 },
 "nbformat": 4,
 "nbformat_minor": 2
}
