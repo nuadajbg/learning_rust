{
 "cells": [
  {
   "cell_type": "markdown",
   "metadata": {},
   "source": [
    "# The slice type"
   ]
  },
  {
   "cell_type": "markdown",
   "metadata": {},
   "source": [
    "Slices let you reference a contiguous sequence of elements in a collection rather than the whole collection."
   ]
  },
  {
   "cell_type": "markdown",
   "metadata": {},
   "source": [
    "String literals are slices."
   ]
  },
  {
   "cell_type": "code",
   "execution_count": null,
   "metadata": {},
   "outputs": [],
   "source": [
    "let s = \"Hello, world!\";"
   ]
  },
  {
   "cell_type": "markdown",
   "metadata": {},
   "source": [
    "The type of s here is **`&str`**: it’s a slice pointing to that specific point of the binary. This is also why string literals are immutable; `&str` is an immutable reference."
   ]
  },
  {
   "cell_type": "markdown",
   "metadata": {},
   "source": [
    "String slices\n",
    "---"
   ]
  },
  {
   "cell_type": "markdown",
   "metadata": {},
   "source": [
    "A string slice is a reference to part of a String, and it looks like this:"
   ]
  },
  {
   "cell_type": "code",
   "execution_count": null,
   "metadata": {},
   "outputs": [],
   "source": [
    "{\n",
    "    let s = String::from(\"hello world\");\n",
    "    let hello = &s[0..5];\n",
    "    let world = &s[6..11];\n",
    "}"
   ]
  },
  {
   "cell_type": "markdown",
   "metadata": {},
   "source": [
    "With Rust’s **..** range syntax, if you want to start at the first index (zero), you can drop the value before the two periods. In other words, these are equal:"
   ]
  },
  {
   "cell_type": "code",
   "execution_count": null,
   "metadata": {},
   "outputs": [],
   "source": [
    "{\n",
    "    let s = String::from(\"hello\");\n",
    "    let slice = &s[0..2];\n",
    "    let slice = &s[..2];\n",
    "}"
   ]
  },
  {
   "cell_type": "markdown",
   "metadata": {},
   "source": [
    "By the same token, if your slice includes the last byte of the String, you can drop the trailing number. That means these are equal:"
   ]
  },
  {
   "cell_type": "code",
   "execution_count": null,
   "metadata": {},
   "outputs": [],
   "source": [
    "{\n",
    "    let s = String::from(\"hello\");\n",
    "\n",
    "    let len = s.len();\n",
    "\n",
    "    let slice = &s[3..len];\n",
    "    let slice = &s[3..];\n",
    "}"
   ]
  },
  {
   "cell_type": "markdown",
   "metadata": {},
   "source": [
    "Exercises\n",
    "==="
   ]
  },
  {
   "cell_type": "markdown",
   "metadata": {},
   "source": [
    "**Exercise 1:** The program bellow defines a function that takes a string and returns the first word it finds in that string. If the function doesn’t find a space in the string, the whole string must be one word, so the entire string should be returned.\n",
    "Write the missing lines in the following code:"
   ]
  },
  {
   "cell_type": "code",
   "execution_count": null,
   "metadata": {},
   "outputs": [],
   "source": [
    "fn first_word(s: &String) -> &str {\n",
    "    let bytes = s.as_bytes();\n",
    "\n",
    "    for (i, &item) in bytes.iter().enumerate() { // iterate on the String's bytes\n",
    "        if item == b' ' { //check if the byte is equal to blank space, which means we've got a word\n",
    "            // TO DO (1) Write the statement that returns the first word\n",
    "            return \n",
    "        }\n",
    "    }\n",
    "    // TO DO (2) Write the statement that returns the entire string\n",
    "    \n",
    "}\n",
    "\n",
    "fn main() {\n",
    "    let mut s = String::from(\"hello world\");\n",
    "\n",
    "    let word = first_word(&s);\n",
    "    \n",
    "    //TO DO (3) uncomment the following line and try to explain what happens\n",
    "    // s.clear();\n",
    "\n",
    "    println!(\"the first word is: {}\", word);\n",
    "}\n",
    "main();"
   ]
  },
  {
   "cell_type": "markdown",
   "metadata": {
    "hide_input": true
   },
   "source": [
    "**Solution:**"
   ]
  },
  {
   "cell_type": "code",
   "execution_count": null,
   "metadata": {
    "hide_input": true
   },
   "outputs": [],
   "source": [
    "fn first_word(s: &String) -> &str {\n",
    "    let bytes = s.as_bytes(); // convert our String to an array of bytes\n",
    "\n",
    "    for (i, &item) in bytes.iter().enumerate() { // iterate on the String's bytes\n",
    "        if item == b' ' { //check if the byte is equal to blanc space, which means we've got a word\n",
    "            // TO DO (1) Write the statement that returns the first word\n",
    "            return &s[0..i];\n",
    "        }\n",
    "    }\n",
    "    // TO DO (2) Write the statement that returns the entire string\n",
    "    &s[..]\n",
    "}\n",
    "\n",
    "fn main() {\n",
    "    let mut s = String::from(\"hello world\");\n",
    "\n",
    "    let word = first_word(&s);\n",
    "    \n",
    "    //TO DO (3) uncomment the following line and try to explain what happens\n",
    "    // s.clear(); // this empties the String, making it equal to \"\"\n",
    "\n",
    "    println!(\"the first word is: {}\", word);\n",
    "}\n",
    "main();"
   ]
  },
  {
   "cell_type": "markdown",
   "metadata": {},
   "source": [
    "The error in (3): if we have an immutable reference to something, we cannot also take a mutable reference. Because `clear` needs to truncate the String, it tries to take a mutable reference, which fails."
   ]
  },
  {
   "cell_type": "markdown",
   "metadata": {},
   "source": [
    "**Exercise 2:** Re-write the code for the fizz buzz game using the \"if in a let\" syntax and using a single println!  "
   ]
  },
  {
   "cell_type": "code",
   "execution_count": null,
   "metadata": {},
   "outputs": [],
   "source": [
    "fn main() {\n",
    "}\n",
    "main();"
   ]
  },
  {
   "cell_type": "markdown",
   "metadata": {},
   "source": [
    "**Solution:**"
   ]
  },
  {
   "cell_type": "code",
   "execution_count": null,
   "metadata": {
    "hide_input": true
   },
   "outputs": [],
   "source": [
    "fn main() {\n",
    "    for number in 1..20 {\n",
    "        let value: String;\n",
    "        let result = if number % 3 == 0 {\n",
    "            if number % 5 == 0 {\"Fizz Buzz\"} else { \"Fizz\"}\n",
    "        } else if number % 5 == 0 {\n",
    "            \"Buzz\"\n",
    "        } else {\n",
    "            value = number.to_string();\n",
    "            &*value\n",
    "        };\n",
    "        println!(\"Result {}\", result);\n",
    "    }\n",
    "}\n",
    "main();"
   ]
  }
 ],
 "metadata": {
  "kernelspec": {
   "display_name": "Rust",
   "language": "rust",
   "name": "rust"
  },
  "language_info": {
   "codemirror_mode": "rust",
   "file_extension": ".rs",
   "mimetype": "text/rust",
   "name": "Rust",
   "pygment_lexer": "rust",
   "version": ""
  }
 },
 "nbformat": 4,
 "nbformat_minor": 2
}
