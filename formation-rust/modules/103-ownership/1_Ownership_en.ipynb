{
 "cells": [
  {
   "cell_type": "markdown",
   "metadata": {},
   "source": [
    "# Ownership"
   ]
  },
  {
   "cell_type": "markdown",
   "metadata": {},
   "source": [
    "All programs have to manage the way they use a computer’s memory while running. Some languages have garbage collection that constantly looks for no longer used memory as the program runs; in other languages, the programmer must explicitly allocate and free the memory. Rust uses a third approach: memory is managed through a system of ownership with a set of rules that the compiler checks at compile time. "
   ]
  },
  {
   "cell_type": "markdown",
   "metadata": {},
   "source": [
    "Ownership rules\n",
    "---\n",
    "* Each value in Rust has a variable that’s called its owner.\n",
    "* There can only be one owner at a time.\n",
    "* When the owner goes out of scope, the value will be dropped.\n"
   ]
  },
  {
   "cell_type": "markdown",
   "metadata": {},
   "source": [
    "Variable scope\n",
    "---"
   ]
  },
  {
   "cell_type": "code",
   "execution_count": null,
   "metadata": {
    "vscode": {
     "languageId": "rust"
    }
   },
   "outputs": [],
   "source": [
    "{                      // s is not valid here, it’s not yet declared\n",
    "    let s = \"hello\";   // s is valid from this point forward\n",
    "\n",
    "    // do stuff with s\n",
    "}"
   ]
  },
  {
   "cell_type": "markdown",
   "metadata": {},
   "source": [
    "String literals are convenient, but they aren’t suitable for every situation in which we may want to use text. One reason is that they’re immutable. Another is that not every string value can be known when we write our code: for example, what if we want to take user input and store it? For these situations, Rust has a second string type, String. This type is allocated on the heap and as such is able to store an amount of text that is unknown to us at compile time. You can create a String from a string literal using the from function, like so:"
   ]
  },
  {
   "cell_type": "code",
   "execution_count": null,
   "metadata": {
    "vscode": {
     "languageId": "rust"
    }
   },
   "outputs": [],
   "source": [
    "let s = String::from(\"hello\"); // this type is allocated on the heap"
   ]
  },
  {
   "cell_type": "markdown",
   "metadata": {},
   "source": [
    "Memory and Allocation\n",
    "---"
   ]
  },
  {
   "cell_type": "markdown",
   "metadata": {},
   "source": [
    "In Rust, the memory is automatically returned once the variable that owns it goes out of scope. "
   ]
  },
  {
   "cell_type": "code",
   "execution_count": null,
   "metadata": {
    "vscode": {
     "languageId": "rust"
    }
   },
   "outputs": [],
   "source": [
    "{\n",
    "    let s = String::from(\"hello\"); // s is valid from this point forward\n",
    "\n",
    "    // do stuff with s\n",
    "} // this scope is now over, and s is no\n",
    "  // longer valid"
   ]
  },
  {
   "cell_type": "markdown",
   "metadata": {},
   "source": [
    "When a variable goes out of scope, Rust calls a special function for us. This function is called [**`drop`**](https://doc.rust-lang.org/std/mem/fn.drop.html), and it’s where the author of String can put the code to return the memory. Rust calls [`drop`](https://doc.rust-lang.org/std/mem/fn.drop.html) automatically at the closing curly bracket."
   ]
  },
  {
   "cell_type": "markdown",
   "metadata": {},
   "source": [
    "> **Note:** In C++, this pattern of deallocating resources at the end of an item’s lifetime is sometimes called *Resource Acquisition Is Initialization (RAII)*. The drop function in Rust will be familiar to you if you’ve used RAII patterns."
   ]
  },
  {
   "cell_type": "markdown",
   "metadata": {},
   "source": [
    "Ways Variables and Data Interact: Move\n",
    "---"
   ]
  },
  {
   "cell_type": "code",
   "execution_count": null,
   "metadata": {
    "vscode": {
     "languageId": "rust"
    }
   },
   "outputs": [],
   "source": [
    "let s1 = String::from(\"hello\");\n",
    "let s2 = s1;"
   ]
  },
  {
   "cell_type": "markdown",
   "metadata": {},
   "source": [
    "<img src=\"ownership-01.jpg\" width=\"350\" heigh=\"350\"/>"
   ]
  },
  {
   "cell_type": "markdown",
   "metadata": {},
   "source": [
    "A String is made up of three parts, shown on the left: a pointer to the memory that holds the contents of the string, a length, and a capacity. This group of data is stored on the stack. On the right is the memory on the heap that holds the contents."
   ]
  },
  {
   "cell_type": "markdown",
   "metadata": {},
   "source": [
    "When we assign s1 to s2, the String data is copied, meaning we copy the pointer, the length, and the capacity that are on the stack. We do not copy the data on the heap that the pointer refers to."
   ]
  },
  {
   "cell_type": "markdown",
   "metadata": {},
   "source": [
    "<img src=\"ownership-02.jpg\" width=\"350\" heigh=\"350\"/>"
   ]
  },
  {
   "cell_type": "markdown",
   "metadata": {},
   "source": [
    "If Rust instead copied the heap data as well, the operation s2 = s1 could be very expensive in terms of runtime performance if the data on the heap were large. When s2 and s1 go out of scope, they will both try to free the same memory. This is known as a double free error and is one of the memory safety bugs we mentioned previously. Freeing memory twice can lead to memory corruption, which can potentially lead to security vulnerabilities."
   ]
  },
  {
   "cell_type": "markdown",
   "metadata": {},
   "source": [
    "To ensure memory safety, instead of trying to copy the allocated memory, Rust considers s1 to no longer be valid and, therefore, Rust doesn’t need to free anything when s1 goes out of scope. Check out what happens when you try to use s1 after s2 is created; it won’t work:"
   ]
  },
  {
   "cell_type": "markdown",
   "metadata": {},
   "source": [
    "If you’ve heard the terms *shallow copy* and *deep copy* while working with other languages, the concept of copying the pointer, length, and capacity without copying the data probably sounds like making a shallow copy. But because Rust also invalidates the first variable, instead of being called a shallow copy, it’s known as a move. In this example, we would say that s1 was **moved** into s2. "
   ]
  },
  {
   "cell_type": "markdown",
   "metadata": {},
   "source": [
    "Ways Variables and Data Interact: Clone\n",
    "---"
   ]
  },
  {
   "cell_type": "markdown",
   "metadata": {},
   "source": [
    "If we do want to deeply copy the heap data of the String, not just the stack data, we can use a common method called clone."
   ]
  },
  {
   "cell_type": "code",
   "execution_count": null,
   "metadata": {
    "vscode": {
     "languageId": "rust"
    }
   },
   "outputs": [],
   "source": [
    "let s1 = String::from(\"hello\");\n",
    "let s2 = s1.clone();\n",
    "\n",
    "println!(\"s1 = {}, s2 = {}\", s1, s2);"
   ]
  },
  {
   "cell_type": "markdown",
   "metadata": {},
   "source": [
    "This works just fine and explicitly produces the behavior shown below, where the heap data does get copied."
   ]
  },
  {
   "cell_type": "markdown",
   "metadata": {},
   "source": [
    "<img src=\"ownership-03.jpg\" width=\"350\" height=\"350\"/>"
   ]
  },
  {
   "cell_type": "markdown",
   "metadata": {},
   "source": [
    "Types such as integers that have a known size at compile time are stored entirely on the stack, so copies of the actual values are quick to make. That means there’s no reason we would want to prevent a variable from being valid after we copied it to another variable, like in the following example:"
   ]
  },
  {
   "cell_type": "code",
   "execution_count": null,
   "metadata": {
    "vscode": {
     "languageId": "rust"
    }
   },
   "outputs": [],
   "source": [
    "let x = 5;\n",
    "let y = x;\n",
    "println!(\"x = {}, y = {}\", x, y);"
   ]
  },
  {
   "cell_type": "markdown",
   "metadata": {},
   "source": [
    "Rust has a special annotation called the **Copy** trait that we can place on types like integers that are stored on the stack. If a type has the Copy trait, an older variable is still usable after assignment."
   ]
  },
  {
   "cell_type": "markdown",
   "metadata": {},
   "source": [
    "> **trait** = set of methods that must be implemented for a type"
   ]
  },
  {
   "cell_type": "markdown",
   "metadata": {},
   "source": [
    "Here are some of the types that are *Copy*:\n",
    "\n",
    "* All the integer types, such as `u32`.\n",
    "* The Boolean type, `bool`, with values `true` and `false`.\n",
    "* All the floating point types, such as `f64`.\n",
    "* The character type, `char`.\n",
    "* Tuples, if they only contain types that are also Copy. For example, `(i32, i32)` is Copy, but `(i32, String)` is not.\n"
   ]
  },
  {
   "cell_type": "markdown",
   "metadata": {},
   "source": [
    "Ownership and functions\n",
    "---"
   ]
  },
  {
   "cell_type": "markdown",
   "metadata": {},
   "source": [
    "The semantics for passing a value to a function are similar to those for assigning a value to a variable. Passing a variable to a function will move or copy, just as assignment does. "
   ]
  },
  {
   "cell_type": "code",
   "execution_count": null,
   "metadata": {
    "vscode": {
     "languageId": "rust"
    }
   },
   "outputs": [],
   "source": [
    "fn main() {\n",
    "    let s = String::from(\"hello\");  // s comes into scope\n",
    "\n",
    "    takes_ownership(s);             // s's value moves into the function...\n",
    "                                    // ... and so is no longer valid here\n",
    "\n",
    "    let x = 5;                      // x comes into scope\n",
    "\n",
    "    makes_copy(x);                  // x would move into the function,\n",
    "                                    // but i32 is Copy, so it's okay to still\n",
    "                                    // use x afterward\n",
    "\n",
    "} // Here, x goes out of scope, then s. But because s's value was moved, nothing\n",
    "  // special happens.\n",
    "\n",
    "fn takes_ownership(some_string: String) { // some_string comes into scope\n",
    "    println!(\"{}\", some_string);\n",
    "} // Here, some_string goes out of scope and `drop` is called. The backing\n",
    "  // memory is freed.\n",
    "\n",
    "fn makes_copy(some_integer: i32) { // some_integer comes into scope\n",
    "    println!(\"{}\", some_integer);\n",
    "} // Here, some_integer goes out of scope. Nothing special happens.\n",
    "main();"
   ]
  },
  {
   "cell_type": "markdown",
   "metadata": {},
   "source": [
    "Return Values and Scope\n",
    "---\n",
    "Returning values can also transfer ownership."
   ]
  },
  {
   "cell_type": "code",
   "execution_count": null,
   "metadata": {
    "vscode": {
     "languageId": "rust"
    }
   },
   "outputs": [],
   "source": [
    "fn main() {\n",
    "    let s1 = gives_ownership();         // gives_ownership moves its return\n",
    "                                        // value into s1\n",
    "\n",
    "    let s2 = String::from(\"hello\");     // s2 comes into scope\n",
    "\n",
    "    let s3 = takes_and_gives_back(s2);  // s2 is moved into\n",
    "                                        // takes_and_gives_back, which also\n",
    "                                        // moves its return value into s3\n",
    "} // Here, s3 goes out of scope and is dropped. s2 goes out of scope but was\n",
    "  // moved, so nothing happens. s1 goes out of scope and is dropped.\n",
    "\n",
    "fn gives_ownership() -> String {         // gives_ownership will move its\n",
    "                                             // return value into the function\n",
    "                                             // that calls it\n",
    "\n",
    "    let some_string = String::from(\"hello\"); // some_string comes into scope\n",
    "\n",
    "    some_string                              // some_string is returned and\n",
    "                                             // moves out to the calling\n",
    "                                             // function\n",
    "}\n",
    "\n",
    "// takes_and_gives_back will take a String and return one\n",
    "fn takes_and_gives_back(a_string: String) -> String { // a_string comes into\n",
    "                                                      // scope\n",
    "\n",
    "    a_string  // a_string is returned and moves out to the calling function\n",
    "}"
   ]
  },
  {
   "cell_type": "markdown",
   "metadata": {},
   "source": [
    "Exercises\n",
    "==="
   ]
  },
  {
   "cell_type": "markdown",
   "metadata": {},
   "source": [
    "**Exercise 1**: Correct the code below so that it works without having to touch the function `into_degrees`."
   ]
  },
  {
   "cell_type": "code",
   "execution_count": null,
   "metadata": {
    "vscode": {
     "languageId": "rust"
    }
   },
   "outputs": [],
   "source": [
    "#[derive(Debug)]\n",
    "struct GeoCoordinate {\n",
    "    latitude: f64,\n",
    "    longitude: f64\n",
    "}\n",
    "\n",
    "impl GeoCoordinate {\n",
    "    fn into_degrees(self) -> Self {\n",
    "        GeoCoordinate {\n",
    "            latitude: self.latitude.to_degrees(),\n",
    "            longitude: self.longitude.to_degrees(),\n",
    "        }\n",
    "    }\n",
    "}\n",
    "\n",
    "fn main() {\n",
    "    let radians = GeoCoordinate { latitude: 1.0, longitude: 1.5 };\n",
    "    let degrees = radians.into_degrees();\n",
    "    println!(\"radians = {:?}, degrees = {:?}\", radians, degrees);\n",
    "}\n",
    "\n",
    "main();"
   ]
  },
  {
   "cell_type": "code",
   "execution_count": null,
   "metadata": {
    "vscode": {
     "languageId": "rust"
    }
   },
   "outputs": [],
   "source": [
    "#[derive(Debug, Copy, Clone)]\n",
    "struct GeoCoordinate {\n",
    "    latitude: f64,\n",
    "    longitude: f64\n",
    "}\n",
    "\n",
    "impl GeoCoordinate {\n",
    "    fn into_degrees(self) -> Self {\n",
    "        GeoCoordinate {\n",
    "            latitude: self.latitude.to_degrees(),\n",
    "            longitude: self.longitude.to_degrees(),\n",
    "        }\n",
    "    }\n",
    "}\n",
    "\n",
    "fn main() {\n",
    "    let radians = GeoCoordinate { latitude: 1.0, longitude: 1.5 };\n",
    "    let degrees = radians.into_degrees();\n",
    "    println!(\"radians = {:?}, degrees = {:?}\", radians, degrees);\n",
    "}\n",
    "\n",
    "main();"
   ]
  }
 ],
 "metadata": {
  "kernelspec": {
   "display_name": "Rust",
   "language": "rust",
   "name": "rust"
  },
  "language_info": {
   "codemirror_mode": "rust",
   "file_extension": ".rs",
   "mimetype": "text/rust",
   "name": "Rust",
   "pygment_lexer": "rust",
   "version": ""
  }
 },
 "nbformat": 4,
 "nbformat_minor": 2
}
